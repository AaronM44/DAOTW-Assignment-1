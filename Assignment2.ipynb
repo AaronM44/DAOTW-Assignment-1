{
  "nbformat": 4,
  "nbformat_minor": 0,
  "metadata": {
    "colab": {
      "provenance": [],
      "authorship_tag": "ABX9TyO6LGLMzE6fcSVIhsoGCswj",
      "include_colab_link": true
    },
    "kernelspec": {
      "name": "python3",
      "display_name": "Python 3"
    },
    "language_info": {
      "name": "python"
    }
  },
  "cells": [
    {
      "cell_type": "markdown",
      "metadata": {
        "id": "view-in-github",
        "colab_type": "text"
      },
      "source": [
        "<a href=\"https://colab.research.google.com/github/AaronM44/DAOTW-Assignment-1/blob/main/Assignment2.ipynb\" target=\"_parent\"><img src=\"https://colab.research.google.com/assets/colab-badge.svg\" alt=\"Open In Colab\"/></a>"
      ]
    },
    {
      "cell_type": "markdown",
      "source": [
        "## Import Packages"
      ],
      "metadata": {
        "id": "6IEiO4Pgn_YA"
      }
    },
    {
      "cell_type": "code",
      "execution_count": 2,
      "metadata": {
        "id": "jEt-r8iUUqSj"
      },
      "outputs": [],
      "source": [
        "import matplotlib.pyplot as plt\n",
        "import numpy as np\n",
        "import pandas as pd\n",
        "import seaborn as sns\n",
        "\n",
        "# Make NumPy printouts easier to read.\n",
        "np.set_printoptions(precision=3, suppress=True)"
      ]
    },
    {
      "cell_type": "code",
      "source": [
        "import tensorflow as tf\n",
        "\n",
        "from tensorflow import keras\n",
        "from tensorflow.keras import layers\n",
        "\n",
        "print(tf.__version__)"
      ],
      "metadata": {
        "id": "G3m-szJUkrZQ",
        "outputId": "e9cb6292-ae83-48d5-ce12-be18de155b98",
        "colab": {
          "base_uri": "https://localhost:8080/"
        }
      },
      "execution_count": 3,
      "outputs": [
        {
          "output_type": "stream",
          "name": "stdout",
          "text": [
            "2.9.2\n"
          ]
        }
      ]
    },
    {
      "cell_type": "markdown",
      "source": [
        "## Linear Regression"
      ],
      "metadata": {
        "id": "2GAGjGEok1aA"
      }
    },
    {
      "cell_type": "markdown",
      "source": [
        "### Simple Linear Regression"
      ],
      "metadata": {
        "id": "YSUeXUutCfx5"
      }
    },
    {
      "cell_type": "markdown",
      "source": [
        "#### Read Data"
      ],
      "metadata": {
        "id": "RF-FwTmVoDTT"
      }
    },
    {
      "cell_type": "markdown",
      "source": [
        "##### Training Data"
      ],
      "metadata": {
        "id": "7f9HAsc_lDDb"
      }
    },
    {
      "cell_type": "code",
      "source": [
        "url = \"https://raw.githubusercontent.com/AaronM44/DAOTW-Assignment-1/main/outputs/col_mod_1_train.csv\"\n",
        "\n",
        "raw_col_mod_train_1 = pd.read_csv(url)\n",
        "\n",
        "df_col_mod_train_1 = raw_col_mod_train_1.copy()\n",
        "\n",
        "df_col_mod_train_1 = df_col_mod_train_1.drop(df_col_mod_train_1.columns[[0, 1]], axis=1)\n",
        "\n",
        "df_col_mod_train_1.head()"
      ],
      "metadata": {
        "id": "PkWb9vgvmat0",
        "outputId": "b1a5e527-7176-4fcf-da8b-7d745559f356",
        "colab": {
          "base_uri": "https://localhost:8080/",
          "height": 206
        }
      },
      "execution_count": 4,
      "outputs": [
        {
          "output_type": "execute_result",
          "data": {
            "text/plain": [
              "   year  mo  day  temp  visib  num_collisions\n",
              "0  2017   2    1   5.5   10.0             428\n",
              "1  2014   4    1   8.1   10.0             597\n",
              "2  2018   1    1   1.7    9.9             720\n",
              "3  2019   4    3   8.6   10.0             621\n",
              "4  2016  12    2   5.4   10.0             711"
            ],
            "text/html": [
              "\n",
              "  <div id=\"df-3983f4b1-73b3-4fc2-a319-0b479536f2dd\">\n",
              "    <div class=\"colab-df-container\">\n",
              "      <div>\n",
              "<style scoped>\n",
              "    .dataframe tbody tr th:only-of-type {\n",
              "        vertical-align: middle;\n",
              "    }\n",
              "\n",
              "    .dataframe tbody tr th {\n",
              "        vertical-align: top;\n",
              "    }\n",
              "\n",
              "    .dataframe thead th {\n",
              "        text-align: right;\n",
              "    }\n",
              "</style>\n",
              "<table border=\"1\" class=\"dataframe\">\n",
              "  <thead>\n",
              "    <tr style=\"text-align: right;\">\n",
              "      <th></th>\n",
              "      <th>year</th>\n",
              "      <th>mo</th>\n",
              "      <th>day</th>\n",
              "      <th>temp</th>\n",
              "      <th>visib</th>\n",
              "      <th>num_collisions</th>\n",
              "    </tr>\n",
              "  </thead>\n",
              "  <tbody>\n",
              "    <tr>\n",
              "      <th>0</th>\n",
              "      <td>2017</td>\n",
              "      <td>2</td>\n",
              "      <td>1</td>\n",
              "      <td>5.5</td>\n",
              "      <td>10.0</td>\n",
              "      <td>428</td>\n",
              "    </tr>\n",
              "    <tr>\n",
              "      <th>1</th>\n",
              "      <td>2014</td>\n",
              "      <td>4</td>\n",
              "      <td>1</td>\n",
              "      <td>8.1</td>\n",
              "      <td>10.0</td>\n",
              "      <td>597</td>\n",
              "    </tr>\n",
              "    <tr>\n",
              "      <th>2</th>\n",
              "      <td>2018</td>\n",
              "      <td>1</td>\n",
              "      <td>1</td>\n",
              "      <td>1.7</td>\n",
              "      <td>9.9</td>\n",
              "      <td>720</td>\n",
              "    </tr>\n",
              "    <tr>\n",
              "      <th>3</th>\n",
              "      <td>2019</td>\n",
              "      <td>4</td>\n",
              "      <td>3</td>\n",
              "      <td>8.6</td>\n",
              "      <td>10.0</td>\n",
              "      <td>621</td>\n",
              "    </tr>\n",
              "    <tr>\n",
              "      <th>4</th>\n",
              "      <td>2016</td>\n",
              "      <td>12</td>\n",
              "      <td>2</td>\n",
              "      <td>5.4</td>\n",
              "      <td>10.0</td>\n",
              "      <td>711</td>\n",
              "    </tr>\n",
              "  </tbody>\n",
              "</table>\n",
              "</div>\n",
              "      <button class=\"colab-df-convert\" onclick=\"convertToInteractive('df-3983f4b1-73b3-4fc2-a319-0b479536f2dd')\"\n",
              "              title=\"Convert this dataframe to an interactive table.\"\n",
              "              style=\"display:none;\">\n",
              "        \n",
              "  <svg xmlns=\"http://www.w3.org/2000/svg\" height=\"24px\"viewBox=\"0 0 24 24\"\n",
              "       width=\"24px\">\n",
              "    <path d=\"M0 0h24v24H0V0z\" fill=\"none\"/>\n",
              "    <path d=\"M18.56 5.44l.94 2.06.94-2.06 2.06-.94-2.06-.94-.94-2.06-.94 2.06-2.06.94zm-11 1L8.5 8.5l.94-2.06 2.06-.94-2.06-.94L8.5 2.5l-.94 2.06-2.06.94zm10 10l.94 2.06.94-2.06 2.06-.94-2.06-.94-.94-2.06-.94 2.06-2.06.94z\"/><path d=\"M17.41 7.96l-1.37-1.37c-.4-.4-.92-.59-1.43-.59-.52 0-1.04.2-1.43.59L10.3 9.45l-7.72 7.72c-.78.78-.78 2.05 0 2.83L4 21.41c.39.39.9.59 1.41.59.51 0 1.02-.2 1.41-.59l7.78-7.78 2.81-2.81c.8-.78.8-2.07 0-2.86zM5.41 20L4 18.59l7.72-7.72 1.47 1.35L5.41 20z\"/>\n",
              "  </svg>\n",
              "      </button>\n",
              "      \n",
              "  <style>\n",
              "    .colab-df-container {\n",
              "      display:flex;\n",
              "      flex-wrap:wrap;\n",
              "      gap: 12px;\n",
              "    }\n",
              "\n",
              "    .colab-df-convert {\n",
              "      background-color: #E8F0FE;\n",
              "      border: none;\n",
              "      border-radius: 50%;\n",
              "      cursor: pointer;\n",
              "      display: none;\n",
              "      fill: #1967D2;\n",
              "      height: 32px;\n",
              "      padding: 0 0 0 0;\n",
              "      width: 32px;\n",
              "    }\n",
              "\n",
              "    .colab-df-convert:hover {\n",
              "      background-color: #E2EBFA;\n",
              "      box-shadow: 0px 1px 2px rgba(60, 64, 67, 0.3), 0px 1px 3px 1px rgba(60, 64, 67, 0.15);\n",
              "      fill: #174EA6;\n",
              "    }\n",
              "\n",
              "    [theme=dark] .colab-df-convert {\n",
              "      background-color: #3B4455;\n",
              "      fill: #D2E3FC;\n",
              "    }\n",
              "\n",
              "    [theme=dark] .colab-df-convert:hover {\n",
              "      background-color: #434B5C;\n",
              "      box-shadow: 0px 1px 3px 1px rgba(0, 0, 0, 0.15);\n",
              "      filter: drop-shadow(0px 1px 2px rgba(0, 0, 0, 0.3));\n",
              "      fill: #FFFFFF;\n",
              "    }\n",
              "  </style>\n",
              "\n",
              "      <script>\n",
              "        const buttonEl =\n",
              "          document.querySelector('#df-3983f4b1-73b3-4fc2-a319-0b479536f2dd button.colab-df-convert');\n",
              "        buttonEl.style.display =\n",
              "          google.colab.kernel.accessAllowed ? 'block' : 'none';\n",
              "\n",
              "        async function convertToInteractive(key) {\n",
              "          const element = document.querySelector('#df-3983f4b1-73b3-4fc2-a319-0b479536f2dd');\n",
              "          const dataTable =\n",
              "            await google.colab.kernel.invokeFunction('convertToInteractive',\n",
              "                                                     [key], {});\n",
              "          if (!dataTable) return;\n",
              "\n",
              "          const docLinkHtml = 'Like what you see? Visit the ' +\n",
              "            '<a target=\"_blank\" href=https://colab.research.google.com/notebooks/data_table.ipynb>data table notebook</a>'\n",
              "            + ' to learn more about interactive tables.';\n",
              "          element.innerHTML = '';\n",
              "          dataTable['output_type'] = 'display_data';\n",
              "          await google.colab.output.renderOutput(dataTable, element);\n",
              "          const docLink = document.createElement('div');\n",
              "          docLink.innerHTML = docLinkHtml;\n",
              "          element.appendChild(docLink);\n",
              "        }\n",
              "      </script>\n",
              "    </div>\n",
              "  </div>\n",
              "  "
            ]
          },
          "metadata": {},
          "execution_count": 4
        }
      ]
    },
    {
      "cell_type": "markdown",
      "source": [
        "##### Test Data"
      ],
      "metadata": {
        "id": "VLrWuk2glKDm"
      }
    },
    {
      "cell_type": "code",
      "source": [
        "url = \"https://raw.githubusercontent.com/AaronM44/DAOTW-Assignment-1/main/outputs/col_mod_1_test.csv\"\n",
        "\n",
        "raw_col_mod_test_1 = pd.read_csv(url)\n",
        "\n",
        "df_col_mod_test_1 = raw_col_mod_test_1.copy()\n",
        "\n",
        "df_col_mod_test_1 = df_col_mod_test_1.drop(df_col_mod_test_1.columns[[0, 1]], axis=1)\n",
        "\n",
        "df_col_mod_test_1.head()"
      ],
      "metadata": {
        "id": "k2TfJ4PslNFC",
        "outputId": "84ce7a61-638e-4e73-c1aa-f5c7121017be",
        "colab": {
          "base_uri": "https://localhost:8080/",
          "height": 206
        }
      },
      "execution_count": 5,
      "outputs": [
        {
          "output_type": "execute_result",
          "data": {
            "text/plain": [
              "   year  mo  day  temp  visib  num_collisions\n",
              "0  2013   1    4  -5.7   10.0             549\n",
              "1  2013   1    6   2.9   10.0             389\n",
              "2  2013   1    5   3.3   10.0             660\n",
              "3  2013   1    2   5.7    9.5             516\n",
              "4  2013   1    3   5.3    7.0             578"
            ],
            "text/html": [
              "\n",
              "  <div id=\"df-0733e77d-47ba-46f0-8852-226c4bdc82da\">\n",
              "    <div class=\"colab-df-container\">\n",
              "      <div>\n",
              "<style scoped>\n",
              "    .dataframe tbody tr th:only-of-type {\n",
              "        vertical-align: middle;\n",
              "    }\n",
              "\n",
              "    .dataframe tbody tr th {\n",
              "        vertical-align: top;\n",
              "    }\n",
              "\n",
              "    .dataframe thead th {\n",
              "        text-align: right;\n",
              "    }\n",
              "</style>\n",
              "<table border=\"1\" class=\"dataframe\">\n",
              "  <thead>\n",
              "    <tr style=\"text-align: right;\">\n",
              "      <th></th>\n",
              "      <th>year</th>\n",
              "      <th>mo</th>\n",
              "      <th>day</th>\n",
              "      <th>temp</th>\n",
              "      <th>visib</th>\n",
              "      <th>num_collisions</th>\n",
              "    </tr>\n",
              "  </thead>\n",
              "  <tbody>\n",
              "    <tr>\n",
              "      <th>0</th>\n",
              "      <td>2013</td>\n",
              "      <td>1</td>\n",
              "      <td>4</td>\n",
              "      <td>-5.7</td>\n",
              "      <td>10.0</td>\n",
              "      <td>549</td>\n",
              "    </tr>\n",
              "    <tr>\n",
              "      <th>1</th>\n",
              "      <td>2013</td>\n",
              "      <td>1</td>\n",
              "      <td>6</td>\n",
              "      <td>2.9</td>\n",
              "      <td>10.0</td>\n",
              "      <td>389</td>\n",
              "    </tr>\n",
              "    <tr>\n",
              "      <th>2</th>\n",
              "      <td>2013</td>\n",
              "      <td>1</td>\n",
              "      <td>5</td>\n",
              "      <td>3.3</td>\n",
              "      <td>10.0</td>\n",
              "      <td>660</td>\n",
              "    </tr>\n",
              "    <tr>\n",
              "      <th>3</th>\n",
              "      <td>2013</td>\n",
              "      <td>1</td>\n",
              "      <td>2</td>\n",
              "      <td>5.7</td>\n",
              "      <td>9.5</td>\n",
              "      <td>516</td>\n",
              "    </tr>\n",
              "    <tr>\n",
              "      <th>4</th>\n",
              "      <td>2013</td>\n",
              "      <td>1</td>\n",
              "      <td>3</td>\n",
              "      <td>5.3</td>\n",
              "      <td>7.0</td>\n",
              "      <td>578</td>\n",
              "    </tr>\n",
              "  </tbody>\n",
              "</table>\n",
              "</div>\n",
              "      <button class=\"colab-df-convert\" onclick=\"convertToInteractive('df-0733e77d-47ba-46f0-8852-226c4bdc82da')\"\n",
              "              title=\"Convert this dataframe to an interactive table.\"\n",
              "              style=\"display:none;\">\n",
              "        \n",
              "  <svg xmlns=\"http://www.w3.org/2000/svg\" height=\"24px\"viewBox=\"0 0 24 24\"\n",
              "       width=\"24px\">\n",
              "    <path d=\"M0 0h24v24H0V0z\" fill=\"none\"/>\n",
              "    <path d=\"M18.56 5.44l.94 2.06.94-2.06 2.06-.94-2.06-.94-.94-2.06-.94 2.06-2.06.94zm-11 1L8.5 8.5l.94-2.06 2.06-.94-2.06-.94L8.5 2.5l-.94 2.06-2.06.94zm10 10l.94 2.06.94-2.06 2.06-.94-2.06-.94-.94-2.06-.94 2.06-2.06.94z\"/><path d=\"M17.41 7.96l-1.37-1.37c-.4-.4-.92-.59-1.43-.59-.52 0-1.04.2-1.43.59L10.3 9.45l-7.72 7.72c-.78.78-.78 2.05 0 2.83L4 21.41c.39.39.9.59 1.41.59.51 0 1.02-.2 1.41-.59l7.78-7.78 2.81-2.81c.8-.78.8-2.07 0-2.86zM5.41 20L4 18.59l7.72-7.72 1.47 1.35L5.41 20z\"/>\n",
              "  </svg>\n",
              "      </button>\n",
              "      \n",
              "  <style>\n",
              "    .colab-df-container {\n",
              "      display:flex;\n",
              "      flex-wrap:wrap;\n",
              "      gap: 12px;\n",
              "    }\n",
              "\n",
              "    .colab-df-convert {\n",
              "      background-color: #E8F0FE;\n",
              "      border: none;\n",
              "      border-radius: 50%;\n",
              "      cursor: pointer;\n",
              "      display: none;\n",
              "      fill: #1967D2;\n",
              "      height: 32px;\n",
              "      padding: 0 0 0 0;\n",
              "      width: 32px;\n",
              "    }\n",
              "\n",
              "    .colab-df-convert:hover {\n",
              "      background-color: #E2EBFA;\n",
              "      box-shadow: 0px 1px 2px rgba(60, 64, 67, 0.3), 0px 1px 3px 1px rgba(60, 64, 67, 0.15);\n",
              "      fill: #174EA6;\n",
              "    }\n",
              "\n",
              "    [theme=dark] .colab-df-convert {\n",
              "      background-color: #3B4455;\n",
              "      fill: #D2E3FC;\n",
              "    }\n",
              "\n",
              "    [theme=dark] .colab-df-convert:hover {\n",
              "      background-color: #434B5C;\n",
              "      box-shadow: 0px 1px 3px 1px rgba(0, 0, 0, 0.15);\n",
              "      filter: drop-shadow(0px 1px 2px rgba(0, 0, 0, 0.3));\n",
              "      fill: #FFFFFF;\n",
              "    }\n",
              "  </style>\n",
              "\n",
              "      <script>\n",
              "        const buttonEl =\n",
              "          document.querySelector('#df-0733e77d-47ba-46f0-8852-226c4bdc82da button.colab-df-convert');\n",
              "        buttonEl.style.display =\n",
              "          google.colab.kernel.accessAllowed ? 'block' : 'none';\n",
              "\n",
              "        async function convertToInteractive(key) {\n",
              "          const element = document.querySelector('#df-0733e77d-47ba-46f0-8852-226c4bdc82da');\n",
              "          const dataTable =\n",
              "            await google.colab.kernel.invokeFunction('convertToInteractive',\n",
              "                                                     [key], {});\n",
              "          if (!dataTable) return;\n",
              "\n",
              "          const docLinkHtml = 'Like what you see? Visit the ' +\n",
              "            '<a target=\"_blank\" href=https://colab.research.google.com/notebooks/data_table.ipynb>data table notebook</a>'\n",
              "            + ' to learn more about interactive tables.';\n",
              "          element.innerHTML = '';\n",
              "          dataTable['output_type'] = 'display_data';\n",
              "          await google.colab.output.renderOutput(dataTable, element);\n",
              "          const docLink = document.createElement('div');\n",
              "          docLink.innerHTML = docLinkHtml;\n",
              "          element.appendChild(docLink);\n",
              "        }\n",
              "      </script>\n",
              "    </div>\n",
              "  </div>\n",
              "  "
            ]
          },
          "metadata": {},
          "execution_count": 5
        }
      ]
    },
    {
      "cell_type": "markdown",
      "source": [
        "#### Check for NAs"
      ],
      "metadata": {
        "id": "f2sAio8hoQsG"
      }
    },
    {
      "cell_type": "code",
      "source": [
        "df_col_mod_train_1.isna().sum()"
      ],
      "metadata": {
        "id": "qVPxT75ZoTH1",
        "outputId": "3ff95303-42fc-44d6-ee1e-bed1ac0c88b7",
        "colab": {
          "base_uri": "https://localhost:8080/"
        }
      },
      "execution_count": 6,
      "outputs": [
        {
          "output_type": "execute_result",
          "data": {
            "text/plain": [
              "year              0\n",
              "mo                0\n",
              "day               0\n",
              "temp              0\n",
              "visib             0\n",
              "num_collisions    0\n",
              "dtype: int64"
            ]
          },
          "metadata": {},
          "execution_count": 6
        }
      ]
    },
    {
      "cell_type": "markdown",
      "source": [
        "#### Overview of data"
      ],
      "metadata": {
        "id": "O-ktWXy_oki9"
      }
    },
    {
      "cell_type": "code",
      "source": [
        "df_col_mod_train_1.describe().transpose()"
      ],
      "metadata": {
        "id": "J9h_deoWomd3",
        "outputId": "cf760436-d2fe-4e4e-906a-75bc262b3557",
        "colab": {
          "base_uri": "https://localhost:8080/",
          "height": 238
        }
      },
      "execution_count": 7,
      "outputs": [
        {
          "output_type": "execute_result",
          "data": {
            "text/plain": [
              "                 count         mean        std     min       25%     50%  \\\n",
              "year            1766.0  2016.017554   2.019797  2013.0  2014.000  2016.0   \n",
              "mo              1766.0     6.505663   3.432674     1.0     4.000     7.0   \n",
              "day             1766.0     4.016421   1.996672     1.0     2.000     4.0   \n",
              "temp            1766.0    10.883126   7.838086   -12.6     4.700    11.2   \n",
              "visib           1766.0     8.307418   2.195294     0.2     7.025     9.4   \n",
              "num_collisions  1766.0   599.751416  95.446688   355.0   532.000   601.0   \n",
              "\n",
              "                    75%     max  \n",
              "year            2018.00  2019.0  \n",
              "mo                 9.00    12.0  \n",
              "day                6.00     7.0  \n",
              "temp              17.70    25.2  \n",
              "visib             10.00    10.0  \n",
              "num_collisions   665.75   845.0  "
            ],
            "text/html": [
              "\n",
              "  <div id=\"df-82c7c5cf-5af6-45e5-87fd-d3357d2fec3f\">\n",
              "    <div class=\"colab-df-container\">\n",
              "      <div>\n",
              "<style scoped>\n",
              "    .dataframe tbody tr th:only-of-type {\n",
              "        vertical-align: middle;\n",
              "    }\n",
              "\n",
              "    .dataframe tbody tr th {\n",
              "        vertical-align: top;\n",
              "    }\n",
              "\n",
              "    .dataframe thead th {\n",
              "        text-align: right;\n",
              "    }\n",
              "</style>\n",
              "<table border=\"1\" class=\"dataframe\">\n",
              "  <thead>\n",
              "    <tr style=\"text-align: right;\">\n",
              "      <th></th>\n",
              "      <th>count</th>\n",
              "      <th>mean</th>\n",
              "      <th>std</th>\n",
              "      <th>min</th>\n",
              "      <th>25%</th>\n",
              "      <th>50%</th>\n",
              "      <th>75%</th>\n",
              "      <th>max</th>\n",
              "    </tr>\n",
              "  </thead>\n",
              "  <tbody>\n",
              "    <tr>\n",
              "      <th>year</th>\n",
              "      <td>1766.0</td>\n",
              "      <td>2016.017554</td>\n",
              "      <td>2.019797</td>\n",
              "      <td>2013.0</td>\n",
              "      <td>2014.000</td>\n",
              "      <td>2016.0</td>\n",
              "      <td>2018.00</td>\n",
              "      <td>2019.0</td>\n",
              "    </tr>\n",
              "    <tr>\n",
              "      <th>mo</th>\n",
              "      <td>1766.0</td>\n",
              "      <td>6.505663</td>\n",
              "      <td>3.432674</td>\n",
              "      <td>1.0</td>\n",
              "      <td>4.000</td>\n",
              "      <td>7.0</td>\n",
              "      <td>9.00</td>\n",
              "      <td>12.0</td>\n",
              "    </tr>\n",
              "    <tr>\n",
              "      <th>day</th>\n",
              "      <td>1766.0</td>\n",
              "      <td>4.016421</td>\n",
              "      <td>1.996672</td>\n",
              "      <td>1.0</td>\n",
              "      <td>2.000</td>\n",
              "      <td>4.0</td>\n",
              "      <td>6.00</td>\n",
              "      <td>7.0</td>\n",
              "    </tr>\n",
              "    <tr>\n",
              "      <th>temp</th>\n",
              "      <td>1766.0</td>\n",
              "      <td>10.883126</td>\n",
              "      <td>7.838086</td>\n",
              "      <td>-12.6</td>\n",
              "      <td>4.700</td>\n",
              "      <td>11.2</td>\n",
              "      <td>17.70</td>\n",
              "      <td>25.2</td>\n",
              "    </tr>\n",
              "    <tr>\n",
              "      <th>visib</th>\n",
              "      <td>1766.0</td>\n",
              "      <td>8.307418</td>\n",
              "      <td>2.195294</td>\n",
              "      <td>0.2</td>\n",
              "      <td>7.025</td>\n",
              "      <td>9.4</td>\n",
              "      <td>10.00</td>\n",
              "      <td>10.0</td>\n",
              "    </tr>\n",
              "    <tr>\n",
              "      <th>num_collisions</th>\n",
              "      <td>1766.0</td>\n",
              "      <td>599.751416</td>\n",
              "      <td>95.446688</td>\n",
              "      <td>355.0</td>\n",
              "      <td>532.000</td>\n",
              "      <td>601.0</td>\n",
              "      <td>665.75</td>\n",
              "      <td>845.0</td>\n",
              "    </tr>\n",
              "  </tbody>\n",
              "</table>\n",
              "</div>\n",
              "      <button class=\"colab-df-convert\" onclick=\"convertToInteractive('df-82c7c5cf-5af6-45e5-87fd-d3357d2fec3f')\"\n",
              "              title=\"Convert this dataframe to an interactive table.\"\n",
              "              style=\"display:none;\">\n",
              "        \n",
              "  <svg xmlns=\"http://www.w3.org/2000/svg\" height=\"24px\"viewBox=\"0 0 24 24\"\n",
              "       width=\"24px\">\n",
              "    <path d=\"M0 0h24v24H0V0z\" fill=\"none\"/>\n",
              "    <path d=\"M18.56 5.44l.94 2.06.94-2.06 2.06-.94-2.06-.94-.94-2.06-.94 2.06-2.06.94zm-11 1L8.5 8.5l.94-2.06 2.06-.94-2.06-.94L8.5 2.5l-.94 2.06-2.06.94zm10 10l.94 2.06.94-2.06 2.06-.94-2.06-.94-.94-2.06-.94 2.06-2.06.94z\"/><path d=\"M17.41 7.96l-1.37-1.37c-.4-.4-.92-.59-1.43-.59-.52 0-1.04.2-1.43.59L10.3 9.45l-7.72 7.72c-.78.78-.78 2.05 0 2.83L4 21.41c.39.39.9.59 1.41.59.51 0 1.02-.2 1.41-.59l7.78-7.78 2.81-2.81c.8-.78.8-2.07 0-2.86zM5.41 20L4 18.59l7.72-7.72 1.47 1.35L5.41 20z\"/>\n",
              "  </svg>\n",
              "      </button>\n",
              "      \n",
              "  <style>\n",
              "    .colab-df-container {\n",
              "      display:flex;\n",
              "      flex-wrap:wrap;\n",
              "      gap: 12px;\n",
              "    }\n",
              "\n",
              "    .colab-df-convert {\n",
              "      background-color: #E8F0FE;\n",
              "      border: none;\n",
              "      border-radius: 50%;\n",
              "      cursor: pointer;\n",
              "      display: none;\n",
              "      fill: #1967D2;\n",
              "      height: 32px;\n",
              "      padding: 0 0 0 0;\n",
              "      width: 32px;\n",
              "    }\n",
              "\n",
              "    .colab-df-convert:hover {\n",
              "      background-color: #E2EBFA;\n",
              "      box-shadow: 0px 1px 2px rgba(60, 64, 67, 0.3), 0px 1px 3px 1px rgba(60, 64, 67, 0.15);\n",
              "      fill: #174EA6;\n",
              "    }\n",
              "\n",
              "    [theme=dark] .colab-df-convert {\n",
              "      background-color: #3B4455;\n",
              "      fill: #D2E3FC;\n",
              "    }\n",
              "\n",
              "    [theme=dark] .colab-df-convert:hover {\n",
              "      background-color: #434B5C;\n",
              "      box-shadow: 0px 1px 3px 1px rgba(0, 0, 0, 0.15);\n",
              "      filter: drop-shadow(0px 1px 2px rgba(0, 0, 0, 0.3));\n",
              "      fill: #FFFFFF;\n",
              "    }\n",
              "  </style>\n",
              "\n",
              "      <script>\n",
              "        const buttonEl =\n",
              "          document.querySelector('#df-82c7c5cf-5af6-45e5-87fd-d3357d2fec3f button.colab-df-convert');\n",
              "        buttonEl.style.display =\n",
              "          google.colab.kernel.accessAllowed ? 'block' : 'none';\n",
              "\n",
              "        async function convertToInteractive(key) {\n",
              "          const element = document.querySelector('#df-82c7c5cf-5af6-45e5-87fd-d3357d2fec3f');\n",
              "          const dataTable =\n",
              "            await google.colab.kernel.invokeFunction('convertToInteractive',\n",
              "                                                     [key], {});\n",
              "          if (!dataTable) return;\n",
              "\n",
              "          const docLinkHtml = 'Like what you see? Visit the ' +\n",
              "            '<a target=\"_blank\" href=https://colab.research.google.com/notebooks/data_table.ipynb>data table notebook</a>'\n",
              "            + ' to learn more about interactive tables.';\n",
              "          element.innerHTML = '';\n",
              "          dataTable['output_type'] = 'display_data';\n",
              "          await google.colab.output.renderOutput(dataTable, element);\n",
              "          const docLink = document.createElement('div');\n",
              "          docLink.innerHTML = docLinkHtml;\n",
              "          element.appendChild(docLink);\n",
              "        }\n",
              "      </script>\n",
              "    </div>\n",
              "  </div>\n",
              "  "
            ]
          },
          "metadata": {},
          "execution_count": 7
        }
      ]
    },
    {
      "cell_type": "markdown",
      "source": [
        "#### Separate Features and Labels"
      ],
      "metadata": {
        "id": "NL7CbkZXzkYu"
      }
    },
    {
      "cell_type": "code",
      "source": [
        "df_col_mod_train_1_feat = df_col_mod_train_1.copy()\n",
        "df_col_mod_test_1_feat = df_col_mod_test_1.copy()\n",
        "\n",
        "df_col_mod_train_1_lab = df_col_mod_train_1_feat.pop('num_collisions')\n",
        "df_col_mod_test_1_lab = df_col_mod_test_1_feat.pop('num_collisions')"
      ],
      "metadata": {
        "id": "86mf5g1BznAs"
      },
      "execution_count": 8,
      "outputs": []
    },
    {
      "cell_type": "markdown",
      "source": [
        "#### Create Model"
      ],
      "metadata": {
        "id": "C_MhOvuew5lK"
      }
    },
    {
      "cell_type": "markdown",
      "source": [
        "Starting with a single variable to get a baseline using temperature as the independent variable."
      ],
      "metadata": {
        "id": "rseRCxrPw-uR"
      }
    },
    {
      "cell_type": "markdown",
      "source": [
        "##### Create Normaliser Layer"
      ],
      "metadata": {
        "id": "T9m0_Df40jJ5"
      }
    },
    {
      "cell_type": "code",
      "source": [
        "normaliser = tf.keras.layers.Normalization(axis=-1)\n",
        "\n",
        "normaliser.adapt(np.array(df_col_mod_train_1_feat))\n",
        "\n",
        "print(normaliser.mean.numpy())"
      ],
      "metadata": {
        "id": "hfA7avROxHrK",
        "outputId": "d45935ce-5c88-414d-e7a2-6374eeb83116",
        "colab": {
          "base_uri": "https://localhost:8080/"
        }
      },
      "execution_count": 9,
      "outputs": [
        {
          "output_type": "stream",
          "name": "stdout",
          "text": [
            "[[2016.018    6.506    4.016   10.883    8.307]]\n"
          ]
        }
      ]
    },
    {
      "cell_type": "markdown",
      "source": [
        "##### Sequencer"
      ],
      "metadata": {
        "id": "i5egLnww1YKf"
      }
    },
    {
      "cell_type": "code",
      "source": [
        "temp = np.array(df_col_mod_train_1_feat['temp'])\n",
        "\n",
        "temp_normaliser = layers.Normalization(input_shape=[1,], axis=None)\n",
        "temp_normaliser.adapt(temp)"
      ],
      "metadata": {
        "id": "qnycLHF71Z5_"
      },
      "execution_count": 10,
      "outputs": []
    },
    {
      "cell_type": "code",
      "source": [
        "temp_model = tf.keras.Sequential([\n",
        "    temp_normaliser,\n",
        "    layers.Dense(units=1)\n",
        "])\n",
        "\n",
        "temp_model.summary()"
      ],
      "metadata": {
        "id": "wkSaRv_n1vBy",
        "outputId": "2fe81199-3a89-40f6-d2c5-1c7b24eebd32",
        "colab": {
          "base_uri": "https://localhost:8080/"
        }
      },
      "execution_count": 11,
      "outputs": [
        {
          "output_type": "stream",
          "name": "stdout",
          "text": [
            "Model: \"sequential\"\n",
            "_________________________________________________________________\n",
            " Layer (type)                Output Shape              Param #   \n",
            "=================================================================\n",
            " normalization_1 (Normalizat  (None, 1)                3         \n",
            " ion)                                                            \n",
            "                                                                 \n",
            " dense (Dense)               (None, 1)                 2         \n",
            "                                                                 \n",
            "=================================================================\n",
            "Total params: 5\n",
            "Trainable params: 2\n",
            "Non-trainable params: 3\n",
            "_________________________________________________________________\n"
          ]
        }
      ]
    },
    {
      "cell_type": "markdown",
      "source": [
        "First ten records"
      ],
      "metadata": {
        "id": "5o0sfwZ62JP6"
      }
    },
    {
      "cell_type": "code",
      "source": [
        "temp_model.predict(temp[:10])"
      ],
      "metadata": {
        "id": "GfihKVhN2KxR",
        "outputId": "35774bec-be6b-49be-8430-d1a0767d0784",
        "colab": {
          "base_uri": "https://localhost:8080/"
        }
      },
      "execution_count": 12,
      "outputs": [
        {
          "output_type": "stream",
          "name": "stdout",
          "text": [
            "1/1 [==============================] - 0s 292ms/step\n"
          ]
        },
        {
          "output_type": "execute_result",
          "data": {
            "text/plain": [
              "array([[ 0.344],\n",
              "       [ 0.178],\n",
              "       [ 0.587],\n",
              "       [ 0.146],\n",
              "       [ 0.351],\n",
              "       [ 0.063],\n",
              "       [ 0.799],\n",
              "       [ 0.05 ],\n",
              "       [ 0.639],\n",
              "       [-0.564]], dtype=float32)"
            ]
          },
          "metadata": {},
          "execution_count": 12
        }
      ]
    },
    {
      "cell_type": "markdown",
      "source": [
        "Configure training procedure"
      ],
      "metadata": {
        "id": "ZkgGeZVt2voH"
      }
    },
    {
      "cell_type": "code",
      "source": [
        "temp_model.compile(\n",
        "    optimizer = tf.keras.optimizers.Adam(learning_rate=0.1),\n",
        "    loss='mean_absolute_error')"
      ],
      "metadata": {
        "id": "eN_y1rV02yaP"
      },
      "execution_count": 13,
      "outputs": []
    },
    {
      "cell_type": "markdown",
      "source": [
        "Execute model for 100 epochs"
      ],
      "metadata": {
        "id": "ohL06xWg2_dH"
      }
    },
    {
      "cell_type": "code",
      "source": [
        "%%time\n",
        "history = temp_model.fit(\n",
        "    df_col_mod_train_1_feat['temp'],\n",
        "    df_col_mod_train_1_lab,\n",
        "    epochs=100,\n",
        "    # Suppress logging.\n",
        "    verbose=0,\n",
        "    # Calculate validation results on 20% of the training data.\n",
        "    validation_split = 0.2)"
      ],
      "metadata": {
        "id": "Bbazebeq3Bhb",
        "outputId": "ab3b039d-1389-4c5f-ce09-9d13969a5696",
        "colab": {
          "base_uri": "https://localhost:8080/"
        }
      },
      "execution_count": 14,
      "outputs": [
        {
          "output_type": "stream",
          "name": "stdout",
          "text": [
            "CPU times: user 12 s, sys: 484 ms, total: 12.5 s\n",
            "Wall time: 21.2 s\n"
          ]
        }
      ]
    },
    {
      "cell_type": "markdown",
      "source": [
        "Visualise progress"
      ],
      "metadata": {
        "id": "gpmbS2Pi3XeL"
      }
    },
    {
      "cell_type": "code",
      "source": [
        "hist = pd.DataFrame(history.history)\n",
        "hist['epoch'] = history.epoch\n",
        "hist.tail()"
      ],
      "metadata": {
        "id": "NeoQUIS-3ZLF",
        "outputId": "830a6eff-d0b5-4028-b5e0-6cbd998cccfe",
        "colab": {
          "base_uri": "https://localhost:8080/",
          "height": 206
        }
      },
      "execution_count": 15,
      "outputs": [
        {
          "output_type": "execute_result",
          "data": {
            "text/plain": [
              "          loss    val_loss  epoch\n",
              "95  175.500259  178.944229     95\n",
              "96  171.556580  174.951218     96\n",
              "97  167.620453  170.938217     97\n",
              "98  163.756805  166.966507     98\n",
              "99  159.906067  163.095642     99"
            ],
            "text/html": [
              "\n",
              "  <div id=\"df-18e3e958-c2f1-4a18-907a-469379d49680\">\n",
              "    <div class=\"colab-df-container\">\n",
              "      <div>\n",
              "<style scoped>\n",
              "    .dataframe tbody tr th:only-of-type {\n",
              "        vertical-align: middle;\n",
              "    }\n",
              "\n",
              "    .dataframe tbody tr th {\n",
              "        vertical-align: top;\n",
              "    }\n",
              "\n",
              "    .dataframe thead th {\n",
              "        text-align: right;\n",
              "    }\n",
              "</style>\n",
              "<table border=\"1\" class=\"dataframe\">\n",
              "  <thead>\n",
              "    <tr style=\"text-align: right;\">\n",
              "      <th></th>\n",
              "      <th>loss</th>\n",
              "      <th>val_loss</th>\n",
              "      <th>epoch</th>\n",
              "    </tr>\n",
              "  </thead>\n",
              "  <tbody>\n",
              "    <tr>\n",
              "      <th>95</th>\n",
              "      <td>175.500259</td>\n",
              "      <td>178.944229</td>\n",
              "      <td>95</td>\n",
              "    </tr>\n",
              "    <tr>\n",
              "      <th>96</th>\n",
              "      <td>171.556580</td>\n",
              "      <td>174.951218</td>\n",
              "      <td>96</td>\n",
              "    </tr>\n",
              "    <tr>\n",
              "      <th>97</th>\n",
              "      <td>167.620453</td>\n",
              "      <td>170.938217</td>\n",
              "      <td>97</td>\n",
              "    </tr>\n",
              "    <tr>\n",
              "      <th>98</th>\n",
              "      <td>163.756805</td>\n",
              "      <td>166.966507</td>\n",
              "      <td>98</td>\n",
              "    </tr>\n",
              "    <tr>\n",
              "      <th>99</th>\n",
              "      <td>159.906067</td>\n",
              "      <td>163.095642</td>\n",
              "      <td>99</td>\n",
              "    </tr>\n",
              "  </tbody>\n",
              "</table>\n",
              "</div>\n",
              "      <button class=\"colab-df-convert\" onclick=\"convertToInteractive('df-18e3e958-c2f1-4a18-907a-469379d49680')\"\n",
              "              title=\"Convert this dataframe to an interactive table.\"\n",
              "              style=\"display:none;\">\n",
              "        \n",
              "  <svg xmlns=\"http://www.w3.org/2000/svg\" height=\"24px\"viewBox=\"0 0 24 24\"\n",
              "       width=\"24px\">\n",
              "    <path d=\"M0 0h24v24H0V0z\" fill=\"none\"/>\n",
              "    <path d=\"M18.56 5.44l.94 2.06.94-2.06 2.06-.94-2.06-.94-.94-2.06-.94 2.06-2.06.94zm-11 1L8.5 8.5l.94-2.06 2.06-.94-2.06-.94L8.5 2.5l-.94 2.06-2.06.94zm10 10l.94 2.06.94-2.06 2.06-.94-2.06-.94-.94-2.06-.94 2.06-2.06.94z\"/><path d=\"M17.41 7.96l-1.37-1.37c-.4-.4-.92-.59-1.43-.59-.52 0-1.04.2-1.43.59L10.3 9.45l-7.72 7.72c-.78.78-.78 2.05 0 2.83L4 21.41c.39.39.9.59 1.41.59.51 0 1.02-.2 1.41-.59l7.78-7.78 2.81-2.81c.8-.78.8-2.07 0-2.86zM5.41 20L4 18.59l7.72-7.72 1.47 1.35L5.41 20z\"/>\n",
              "  </svg>\n",
              "      </button>\n",
              "      \n",
              "  <style>\n",
              "    .colab-df-container {\n",
              "      display:flex;\n",
              "      flex-wrap:wrap;\n",
              "      gap: 12px;\n",
              "    }\n",
              "\n",
              "    .colab-df-convert {\n",
              "      background-color: #E8F0FE;\n",
              "      border: none;\n",
              "      border-radius: 50%;\n",
              "      cursor: pointer;\n",
              "      display: none;\n",
              "      fill: #1967D2;\n",
              "      height: 32px;\n",
              "      padding: 0 0 0 0;\n",
              "      width: 32px;\n",
              "    }\n",
              "\n",
              "    .colab-df-convert:hover {\n",
              "      background-color: #E2EBFA;\n",
              "      box-shadow: 0px 1px 2px rgba(60, 64, 67, 0.3), 0px 1px 3px 1px rgba(60, 64, 67, 0.15);\n",
              "      fill: #174EA6;\n",
              "    }\n",
              "\n",
              "    [theme=dark] .colab-df-convert {\n",
              "      background-color: #3B4455;\n",
              "      fill: #D2E3FC;\n",
              "    }\n",
              "\n",
              "    [theme=dark] .colab-df-convert:hover {\n",
              "      background-color: #434B5C;\n",
              "      box-shadow: 0px 1px 3px 1px rgba(0, 0, 0, 0.15);\n",
              "      filter: drop-shadow(0px 1px 2px rgba(0, 0, 0, 0.3));\n",
              "      fill: #FFFFFF;\n",
              "    }\n",
              "  </style>\n",
              "\n",
              "      <script>\n",
              "        const buttonEl =\n",
              "          document.querySelector('#df-18e3e958-c2f1-4a18-907a-469379d49680 button.colab-df-convert');\n",
              "        buttonEl.style.display =\n",
              "          google.colab.kernel.accessAllowed ? 'block' : 'none';\n",
              "\n",
              "        async function convertToInteractive(key) {\n",
              "          const element = document.querySelector('#df-18e3e958-c2f1-4a18-907a-469379d49680');\n",
              "          const dataTable =\n",
              "            await google.colab.kernel.invokeFunction('convertToInteractive',\n",
              "                                                     [key], {});\n",
              "          if (!dataTable) return;\n",
              "\n",
              "          const docLinkHtml = 'Like what you see? Visit the ' +\n",
              "            '<a target=\"_blank\" href=https://colab.research.google.com/notebooks/data_table.ipynb>data table notebook</a>'\n",
              "            + ' to learn more about interactive tables.';\n",
              "          element.innerHTML = '';\n",
              "          dataTable['output_type'] = 'display_data';\n",
              "          await google.colab.output.renderOutput(dataTable, element);\n",
              "          const docLink = document.createElement('div');\n",
              "          docLink.innerHTML = docLinkHtml;\n",
              "          element.appendChild(docLink);\n",
              "        }\n",
              "      </script>\n",
              "    </div>\n",
              "  </div>\n",
              "  "
            ]
          },
          "metadata": {},
          "execution_count": 15
        }
      ]
    },
    {
      "cell_type": "markdown",
      "source": [
        "Plot history"
      ],
      "metadata": {
        "id": "iJb6C3oW3q1w"
      }
    },
    {
      "cell_type": "code",
      "source": [
        "def plot_loss(history):\n",
        "  plt.plot(history.history['loss'], label='loss')\n",
        "  plt.plot(history.history['val_loss'], label='val_loss')\n",
        "  plt.ylim([0, 1000])\n",
        "  plt.xlabel('Epoch')\n",
        "  plt.ylabel('Error [num_collisions]')\n",
        "  plt.legend()\n",
        "  plt.grid(True)"
      ],
      "metadata": {
        "id": "_SXkmLPB3sOR"
      },
      "execution_count": 16,
      "outputs": []
    },
    {
      "cell_type": "code",
      "source": [
        "plot_loss(history)"
      ],
      "metadata": {
        "id": "UGFTqSfP3382",
        "outputId": "8f85f718-892a-41b1-9ab8-45a626df1a77",
        "colab": {
          "base_uri": "https://localhost:8080/",
          "height": 283
        }
      },
      "execution_count": 17,
      "outputs": [
        {
          "output_type": "display_data",
          "data": {
            "text/plain": [
              "<Figure size 432x288 with 1 Axes>"
            ],
            "image/png": "[encoded data removed]"
          },
          "metadata": {
            "needs_background": "light"
          }
        }
      ]
    },
    {
      "cell_type": "markdown",
      "source": [
        "Collect test results"
      ],
      "metadata": {
        "id": "oX3vHejv7sMP"
      }
    },
    {
      "cell_type": "code",
      "source": [
        "test_results = {}\n",
        "\n",
        "test_results['temp_model'] = temp_model.evaluate(\n",
        "    df_col_mod_test_1_feat['temp'],\n",
        "    df_col_mod_test_1_lab, verbose=0)"
      ],
      "metadata": {
        "id": "cVzxn3fp7tnn"
      },
      "execution_count": 18,
      "outputs": []
    },
    {
      "cell_type": "code",
      "source": [
        "print(test_results)"
      ],
      "metadata": {
        "id": "fX6w44FittxV",
        "outputId": "e320349a-7a65-47e0-9410-f514eba2ffcc",
        "colab": {
          "base_uri": "https://localhost:8080/"
        }
      },
      "execution_count": 19,
      "outputs": [
        {
          "output_type": "stream",
          "name": "stdout",
          "text": [
            "{'temp_model': 155.27452087402344}\n"
          ]
        }
      ]
    },
    {
      "cell_type": "markdown",
      "source": [
        "View predictions as a function of the input"
      ],
      "metadata": {
        "id": "_f1F0QBf8CZE"
      }
    },
    {
      "cell_type": "code",
      "source": [
        "x = tf.linspace(0.0, 30, 31)\n",
        "y = temp_model.predict(x)"
      ],
      "metadata": {
        "id": "poNsKKij8ExJ",
        "outputId": "397a0f94-9c1b-48a8-d166-69bc1790a1c4",
        "colab": {
          "base_uri": "https://localhost:8080/"
        }
      },
      "execution_count": 20,
      "outputs": [
        {
          "output_type": "stream",
          "name": "stdout",
          "text": [
            "1/1 [==============================] - 0s 61ms/step\n"
          ]
        }
      ]
    },
    {
      "cell_type": "code",
      "source": [
        "def plot_temp(x, y):\n",
        "  plt.scatter(df_col_mod_train_1_feat['temp'], df_col_mod_train_1_lab, label='Data')\n",
        "  plt.plot(x, y, color='k', label='Predictions')\n",
        "  plt.xlabel('Temperature')\n",
        "  plt.ylabel('Num. Collisions')\n",
        "  plt.legend()"
      ],
      "metadata": {
        "id": "gDCmd-qJ8J_R"
      },
      "execution_count": 21,
      "outputs": []
    },
    {
      "cell_type": "code",
      "source": [
        "plot_temp(x, y)"
      ],
      "metadata": {
        "id": "OmsEeMmp8bAG",
        "outputId": "a67707b5-8c40-48cb-9ff0-650bceabe14e",
        "colab": {
          "base_uri": "https://localhost:8080/",
          "height": 279
        }
      },
      "execution_count": 22,
      "outputs": [
        {
          "output_type": "display_data",
          "data": {
            "text/plain": [
              "<Figure size 432x288 with 1 Axes>"
            ],
            "image/png": "[encoded data removed]"
          },
          "metadata": {
            "needs_background": "light"
          }
        }
      ]
    },
    {
      "cell_type": "markdown",
      "source": [
        "### Non-Standardised without One-Hot Encoding"
      ],
      "metadata": {
        "id": "den5vruFBHnx"
      }
    },
    {
      "cell_type": "markdown",
      "source": [
        "normaliser"
      ],
      "metadata": {
        "id": "PdcJixE0DfFw"
      }
    },
    {
      "cell_type": "code",
      "source": [
        "col_mod_1_normaliser = tf.keras.layers.Normalization(axis=-1)\n",
        "\n",
        "normaliser.adapt(np.array(df_col_mod_train_1_feat))\n",
        "\n",
        "print(normaliser.mean.numpy())"
      ],
      "metadata": {
        "id": "8Mak3BqyCJ6c",
        "outputId": "1fc0fa0f-4fe3-4f91-97cd-a49a380c1336",
        "colab": {
          "base_uri": "https://localhost:8080/"
        }
      },
      "execution_count": 23,
      "outputs": [
        {
          "output_type": "stream",
          "name": "stdout",
          "text": [
            "[[2016.018    6.506    4.016   10.883    8.307]]\n"
          ]
        }
      ]
    },
    {
      "cell_type": "markdown",
      "source": [
        "sequencer"
      ],
      "metadata": {
        "id": "FhR462nHDct7"
      }
    },
    {
      "cell_type": "code",
      "source": [
        "col_mod_1 = np.array(df_col_mod_train_1_feat)\n",
        "\n",
        "col_mod_1_normaliser = layers.Normalization(axis=-1)\n",
        "col_mod_1_normaliser.adapt(np.array(df_col_mod_train_1_feat))"
      ],
      "metadata": {
        "id": "u6FmJvkODePE"
      },
      "execution_count": 24,
      "outputs": []
    },
    {
      "cell_type": "code",
      "source": [
        "col_mod_1_model = tf.keras.Sequential([\n",
        "    col_mod_1_normaliser,\n",
        "    layers.Dense(units=1)\n",
        "])\n",
        "\n",
        "col_mod_1_model.summary()"
      ],
      "metadata": {
        "id": "A_Mw9RMfMgSI",
        "outputId": "50c9020d-e638-4cbe-d837-6abbf77a146e",
        "colab": {
          "base_uri": "https://localhost:8080/"
        }
      },
      "execution_count": 25,
      "outputs": [
        {
          "output_type": "stream",
          "name": "stdout",
          "text": [
            "Model: \"sequential_1\"\n",
            "_________________________________________________________________\n",
            " Layer (type)                Output Shape              Param #   \n",
            "=================================================================\n",
            " normalization_3 (Normalizat  (None, 5)                11        \n",
            " ion)                                                            \n",
            "                                                                 \n",
            " dense_1 (Dense)             (None, 1)                 6         \n",
            "                                                                 \n",
            "=================================================================\n",
            "Total params: 17\n",
            "Trainable params: 6\n",
            "Non-trainable params: 11\n",
            "_________________________________________________________________\n"
          ]
        }
      ]
    },
    {
      "cell_type": "markdown",
      "source": [],
      "metadata": {
        "id": "dDo6q57cHTVf"
      }
    },
    {
      "cell_type": "code",
      "source": [
        "col_mod_1_model.predict(col_mod_1)"
      ],
      "metadata": {
        "id": "vZOq9sA4NSTb",
        "outputId": "8b10b8e3-af49-4fad-fe73-da20ba86cfc3",
        "colab": {
          "base_uri": "https://localhost:8080/"
        }
      },
      "execution_count": 26,
      "outputs": [
        {
          "output_type": "stream",
          "name": "stdout",
          "text": [
            "56/56 [==============================] - 0s 1ms/step\n"
          ]
        },
        {
          "output_type": "execute_result",
          "data": {
            "text/plain": [
              "array([[-3.225],\n",
              "       [-1.935],\n",
              "       [-3.998],\n",
              "       ...,\n",
              "       [ 0.217],\n",
              "       [ 3.221],\n",
              "       [ 2.378]], dtype=float32)"
            ]
          },
          "metadata": {},
          "execution_count": 26
        }
      ]
    },
    {
      "cell_type": "code",
      "source": [
        "col_mod_1_model.layers[1].kernel"
      ],
      "metadata": {
        "id": "p2cmOCcRZjv7",
        "outputId": "3400e22e-6b06-4f3a-ffb1-a0b93c37b3bf",
        "colab": {
          "base_uri": "https://localhost:8080/"
        }
      },
      "execution_count": 27,
      "outputs": [
        {
          "output_type": "execute_result",
          "data": {
            "text/plain": [
              "<tf.Variable 'dense_1/kernel:0' shape=(5, 1) dtype=float32, numpy=\n",
              "array([[-0.339],\n",
              "       [ 0.989],\n",
              "       [ 0.994],\n",
              "       [ 0.632],\n",
              "       [ 0.225]], dtype=float32)>"
            ]
          },
          "metadata": {},
          "execution_count": 27
        }
      ]
    },
    {
      "cell_type": "code",
      "source": [
        "col_mod_1_model.compile(\n",
        "    optimizer = tf.keras.optimizers.Adam(learning_rate=0.1),\n",
        "    loss='mean_absolute_error')"
      ],
      "metadata": {
        "id": "xk6CffwsXOLl"
      },
      "execution_count": 28,
      "outputs": []
    },
    {
      "cell_type": "code",
      "source": [
        "%%time\n",
        "history = col_mod_1_model.fit(\n",
        "    df_col_mod_train_1_feat,\n",
        "    df_col_mod_train_1_lab,\n",
        "    epochs=100,\n",
        "    # Suppress logging.\n",
        "    verbose=0,\n",
        "    # Calculate validation results on 20% of the training data.\n",
        "    validation_split = 0.2)"
      ],
      "metadata": {
        "id": "aqYO5uudXV_6",
        "outputId": "c3e4c96b-d522-49c8-eea8-4aac2a6d2b2a",
        "colab": {
          "base_uri": "https://localhost:8080/"
        }
      },
      "execution_count": 29,
      "outputs": [
        {
          "output_type": "stream",
          "name": "stdout",
          "text": [
            "CPU times: user 9.2 s, sys: 555 ms, total: 9.75 s\n",
            "Wall time: 10.6 s\n"
          ]
        }
      ]
    },
    {
      "cell_type": "code",
      "source": [
        "plot_loss(history)"
      ],
      "metadata": {
        "id": "0RhIiZ1EZ_2Z",
        "outputId": "4fe103c9-718c-4777-980c-85d22020f3f1",
        "colab": {
          "base_uri": "https://localhost:8080/",
          "height": 283
        }
      },
      "execution_count": 30,
      "outputs": [
        {
          "output_type": "display_data",
          "data": {
            "text/plain": [
              "<Figure size 432x288 with 1 Axes>"
            ],
            "image/png": "[encoded data removed]"
          },
          "metadata": {
            "needs_background": "light"
          }
        }
      ]
    },
    {
      "cell_type": "code",
      "source": [
        "test_results['col_mod_1'] = col_mod_1_model.evaluate(\n",
        "    df_col_mod_test_1_feat,\n",
        "    df_col_mod_test_1_lab, verbose=0)"
      ],
      "metadata": {
        "id": "Pp5hGYazbH8U"
      },
      "execution_count": 31,
      "outputs": []
    },
    {
      "cell_type": "code",
      "source": [
        "print(test_results)"
      ],
      "metadata": {
        "id": "vkcKSYMVbXig",
        "outputId": "17f29db1-6fc3-40fa-a053-8022d3dd8c1c",
        "colab": {
          "base_uri": "https://localhost:8080/"
        }
      },
      "execution_count": 32,
      "outputs": [
        {
          "output_type": "stream",
          "name": "stdout",
          "text": [
            "{'temp_model': 155.27452087402344, 'col_mod_1': 154.217529296875}\n"
          ]
        }
      ]
    },
    {
      "cell_type": "markdown",
      "source": [
        "### Standardised with One-Hot Encoding"
      ],
      "metadata": {
        "id": "CfCgL_qAtNYQ"
      }
    },
    {
      "cell_type": "markdown",
      "source": [
        "#### Read Data"
      ],
      "metadata": {
        "id": "LrC1C6Cgtu0r"
      }
    },
    {
      "cell_type": "markdown",
      "source": [
        "##### Training Data"
      ],
      "metadata": {
        "id": "RjOyrB9Jt48h"
      }
    },
    {
      "cell_type": "code",
      "source": [
        "url = \"https://raw.githubusercontent.com/AaronM44/DAOTW-Assignment-1/main/outputs/std_col_mod_1_train.csv\"\n",
        "\n",
        "raw_std_col_mod_train_1 = pd.read_csv(url)\n",
        "\n",
        "df_std_col_mod_train_1 = raw_std_col_mod_train_1.copy()\n",
        "\n",
        "df_std_col_mod_train_1 = df_std_col_mod_train_1.drop(df_std_col_mod_train_1.columns[[0, 1]], axis=1)\n",
        "\n",
        "df_std_col_mod_train_1.head()"
      ],
      "metadata": {
        "id": "B_TLudUht6jH",
        "outputId": "997a63a3-a06d-49a6-e216-a47610b3a8c4",
        "colab": {
          "base_uri": "https://localhost:8080/",
          "height": 206
        }
      },
      "execution_count": 33,
      "outputs": [
        {
          "output_type": "execute_result",
          "data": {
            "text/plain": [
              "   year  mo  day      temp     visib  num_collisions\n",
              "0  2016  11    7 -0.026584  0.769518             518\n",
              "1  2013   1    6 -1.111048  0.406393             484\n",
              "2  2015   6    7  0.904779 -1.817748             535\n",
              "3  2014   9    5  0.394443  0.769518             648\n",
              "4  2013   4    7 -0.396577  0.587955             472"
            ],
            "text/html": [
              "\n",
              "  <div id=\"df-0b2da886-476d-4372-859b-00033a9bb59f\">\n",
              "    <div class=\"colab-df-container\">\n",
              "      <div>\n",
              "<style scoped>\n",
              "    .dataframe tbody tr th:only-of-type {\n",
              "        vertical-align: middle;\n",
              "    }\n",
              "\n",
              "    .dataframe tbody tr th {\n",
              "        vertical-align: top;\n",
              "    }\n",
              "\n",
              "    .dataframe thead th {\n",
              "        text-align: right;\n",
              "    }\n",
              "</style>\n",
              "<table border=\"1\" class=\"dataframe\">\n",
              "  <thead>\n",
              "    <tr style=\"text-align: right;\">\n",
              "      <th></th>\n",
              "      <th>year</th>\n",
              "      <th>mo</th>\n",
              "      <th>day</th>\n",
              "      <th>temp</th>\n",
              "      <th>visib</th>\n",
              "      <th>num_collisions</th>\n",
              "    </tr>\n",
              "  </thead>\n",
              "  <tbody>\n",
              "    <tr>\n",
              "      <th>0</th>\n",
              "      <td>2016</td>\n",
              "      <td>11</td>\n",
              "      <td>7</td>\n",
              "      <td>-0.026584</td>\n",
              "      <td>0.769518</td>\n",
              "      <td>518</td>\n",
              "    </tr>\n",
              "    <tr>\n",
              "      <th>1</th>\n",
              "      <td>2013</td>\n",
              "      <td>1</td>\n",
              "      <td>6</td>\n",
              "      <td>-1.111048</td>\n",
              "      <td>0.406393</td>\n",
              "      <td>484</td>\n",
              "    </tr>\n",
              "    <tr>\n",
              "      <th>2</th>\n",
              "      <td>2015</td>\n",
              "      <td>6</td>\n",
              "      <td>7</td>\n",
              "      <td>0.904779</td>\n",
              "      <td>-1.817748</td>\n",
              "      <td>535</td>\n",
              "    </tr>\n",
              "    <tr>\n",
              "      <th>3</th>\n",
              "      <td>2014</td>\n",
              "      <td>9</td>\n",
              "      <td>5</td>\n",
              "      <td>0.394443</td>\n",
              "      <td>0.769518</td>\n",
              "      <td>648</td>\n",
              "    </tr>\n",
              "    <tr>\n",
              "      <th>4</th>\n",
              "      <td>2013</td>\n",
              "      <td>4</td>\n",
              "      <td>7</td>\n",
              "      <td>-0.396577</td>\n",
              "      <td>0.587955</td>\n",
              "      <td>472</td>\n",
              "    </tr>\n",
              "  </tbody>\n",
              "</table>\n",
              "</div>\n",
              "      <button class=\"colab-df-convert\" onclick=\"convertToInteractive('df-0b2da886-476d-4372-859b-00033a9bb59f')\"\n",
              "              title=\"Convert this dataframe to an interactive table.\"\n",
              "              style=\"display:none;\">\n",
              "        \n",
              "  <svg xmlns=\"http://www.w3.org/2000/svg\" height=\"24px\"viewBox=\"0 0 24 24\"\n",
              "       width=\"24px\">\n",
              "    <path d=\"M0 0h24v24H0V0z\" fill=\"none\"/>\n",
              "    <path d=\"M18.56 5.44l.94 2.06.94-2.06 2.06-.94-2.06-.94-.94-2.06-.94 2.06-2.06.94zm-11 1L8.5 8.5l.94-2.06 2.06-.94-2.06-.94L8.5 2.5l-.94 2.06-2.06.94zm10 10l.94 2.06.94-2.06 2.06-.94-2.06-.94-.94-2.06-.94 2.06-2.06.94z\"/><path d=\"M17.41 7.96l-1.37-1.37c-.4-.4-.92-.59-1.43-.59-.52 0-1.04.2-1.43.59L10.3 9.45l-7.72 7.72c-.78.78-.78 2.05 0 2.83L4 21.41c.39.39.9.59 1.41.59.51 0 1.02-.2 1.41-.59l7.78-7.78 2.81-2.81c.8-.78.8-2.07 0-2.86zM5.41 20L4 18.59l7.72-7.72 1.47 1.35L5.41 20z\"/>\n",
              "  </svg>\n",
              "      </button>\n",
              "      \n",
              "  <style>\n",
              "    .colab-df-container {\n",
              "      display:flex;\n",
              "      flex-wrap:wrap;\n",
              "      gap: 12px;\n",
              "    }\n",
              "\n",
              "    .colab-df-convert {\n",
              "      background-color: #E8F0FE;\n",
              "      border: none;\n",
              "      border-radius: 50%;\n",
              "      cursor: pointer;\n",
              "      display: none;\n",
              "      fill: #1967D2;\n",
              "      height: 32px;\n",
              "      padding: 0 0 0 0;\n",
              "      width: 32px;\n",
              "    }\n",
              "\n",
              "    .colab-df-convert:hover {\n",
              "      background-color: #E2EBFA;\n",
              "      box-shadow: 0px 1px 2px rgba(60, 64, 67, 0.3), 0px 1px 3px 1px rgba(60, 64, 67, 0.15);\n",
              "      fill: #174EA6;\n",
              "    }\n",
              "\n",
              "    [theme=dark] .colab-df-convert {\n",
              "      background-color: #3B4455;\n",
              "      fill: #D2E3FC;\n",
              "    }\n",
              "\n",
              "    [theme=dark] .colab-df-convert:hover {\n",
              "      background-color: #434B5C;\n",
              "      box-shadow: 0px 1px 3px 1px rgba(0, 0, 0, 0.15);\n",
              "      filter: drop-shadow(0px 1px 2px rgba(0, 0, 0, 0.3));\n",
              "      fill: #FFFFFF;\n",
              "    }\n",
              "  </style>\n",
              "\n",
              "      <script>\n",
              "        const buttonEl =\n",
              "          document.querySelector('#df-0b2da886-476d-4372-859b-00033a9bb59f button.colab-df-convert');\n",
              "        buttonEl.style.display =\n",
              "          google.colab.kernel.accessAllowed ? 'block' : 'none';\n",
              "\n",
              "        async function convertToInteractive(key) {\n",
              "          const element = document.querySelector('#df-0b2da886-476d-4372-859b-00033a9bb59f');\n",
              "          const dataTable =\n",
              "            await google.colab.kernel.invokeFunction('convertToInteractive',\n",
              "                                                     [key], {});\n",
              "          if (!dataTable) return;\n",
              "\n",
              "          const docLinkHtml = 'Like what you see? Visit the ' +\n",
              "            '<a target=\"_blank\" href=https://colab.research.google.com/notebooks/data_table.ipynb>data table notebook</a>'\n",
              "            + ' to learn more about interactive tables.';\n",
              "          element.innerHTML = '';\n",
              "          dataTable['output_type'] = 'display_data';\n",
              "          await google.colab.output.renderOutput(dataTable, element);\n",
              "          const docLink = document.createElement('div');\n",
              "          docLink.innerHTML = docLinkHtml;\n",
              "          element.appendChild(docLink);\n",
              "        }\n",
              "      </script>\n",
              "    </div>\n",
              "  </div>\n",
              "  "
            ]
          },
          "metadata": {},
          "execution_count": 33
        }
      ]
    },
    {
      "cell_type": "markdown",
      "source": [
        "##### Test Data"
      ],
      "metadata": {
        "id": "602J0nfpuLgB"
      }
    },
    {
      "cell_type": "code",
      "source": [
        "url = \"https://raw.githubusercontent.com/AaronM44/DAOTW-Assignment-1/main/outputs/std_col_mod_1_test.csv\"\n",
        "\n",
        "raw_std_col_mod_test_1 = pd.read_csv(url)\n",
        "\n",
        "df_std_col_mod_test_1 = raw_std_col_mod_test_1.copy()\n",
        "\n",
        "df_std_col_mod_test_1 = df_std_col_mod_test_1.drop(df_std_col_mod_test_1.columns[[0, 1]], axis=1)\n",
        "\n",
        "df_std_col_mod_test_1.head()"
      ],
      "metadata": {
        "id": "PflGvLfmuQZS",
        "outputId": "ea5e4b22-fde3-45dc-e72a-c5dca6d6373d",
        "colab": {
          "base_uri": "https://localhost:8080/",
          "height": 206
        }
      },
      "execution_count": 34,
      "outputs": [
        {
          "output_type": "execute_result",
          "data": {
            "text/plain": [
              "   year  mo  day      temp     visib  num_collisions\n",
              "0  2013   1    4 -2.118962  0.769518             549\n",
              "1  2013   1    5 -1.378974  0.769518             505\n",
              "2  2013   1    3 -0.830363 -0.682982             487\n",
              "3  2013   1    5 -1.672417 -0.365248             561\n",
              "4  2013   1    1 -1.442766  0.406393             355"
            ],
            "text/html": [
              "\n",
              "  <div id=\"df-d2e4adff-791e-43ab-aa4d-e1cf3011fe78\">\n",
              "    <div class=\"colab-df-container\">\n",
              "      <div>\n",
              "<style scoped>\n",
              "    .dataframe tbody tr th:only-of-type {\n",
              "        vertical-align: middle;\n",
              "    }\n",
              "\n",
              "    .dataframe tbody tr th {\n",
              "        vertical-align: top;\n",
              "    }\n",
              "\n",
              "    .dataframe thead th {\n",
              "        text-align: right;\n",
              "    }\n",
              "</style>\n",
              "<table border=\"1\" class=\"dataframe\">\n",
              "  <thead>\n",
              "    <tr style=\"text-align: right;\">\n",
              "      <th></th>\n",
              "      <th>year</th>\n",
              "      <th>mo</th>\n",
              "      <th>day</th>\n",
              "      <th>temp</th>\n",
              "      <th>visib</th>\n",
              "      <th>num_collisions</th>\n",
              "    </tr>\n",
              "  </thead>\n",
              "  <tbody>\n",
              "    <tr>\n",
              "      <th>0</th>\n",
              "      <td>2013</td>\n",
              "      <td>1</td>\n",
              "      <td>4</td>\n",
              "      <td>-2.118962</td>\n",
              "      <td>0.769518</td>\n",
              "      <td>549</td>\n",
              "    </tr>\n",
              "    <tr>\n",
              "      <th>1</th>\n",
              "      <td>2013</td>\n",
              "      <td>1</td>\n",
              "      <td>5</td>\n",
              "      <td>-1.378974</td>\n",
              "      <td>0.769518</td>\n",
              "      <td>505</td>\n",
              "    </tr>\n",
              "    <tr>\n",
              "      <th>2</th>\n",
              "      <td>2013</td>\n",
              "      <td>1</td>\n",
              "      <td>3</td>\n",
              "      <td>-0.830363</td>\n",
              "      <td>-0.682982</td>\n",
              "      <td>487</td>\n",
              "    </tr>\n",
              "    <tr>\n",
              "      <th>3</th>\n",
              "      <td>2013</td>\n",
              "      <td>1</td>\n",
              "      <td>5</td>\n",
              "      <td>-1.672417</td>\n",
              "      <td>-0.365248</td>\n",
              "      <td>561</td>\n",
              "    </tr>\n",
              "    <tr>\n",
              "      <th>4</th>\n",
              "      <td>2013</td>\n",
              "      <td>1</td>\n",
              "      <td>1</td>\n",
              "      <td>-1.442766</td>\n",
              "      <td>0.406393</td>\n",
              "      <td>355</td>\n",
              "    </tr>\n",
              "  </tbody>\n",
              "</table>\n",
              "</div>\n",
              "      <button class=\"colab-df-convert\" onclick=\"convertToInteractive('df-d2e4adff-791e-43ab-aa4d-e1cf3011fe78')\"\n",
              "              title=\"Convert this dataframe to an interactive table.\"\n",
              "              style=\"display:none;\">\n",
              "        \n",
              "  <svg xmlns=\"http://www.w3.org/2000/svg\" height=\"24px\"viewBox=\"0 0 24 24\"\n",
              "       width=\"24px\">\n",
              "    <path d=\"M0 0h24v24H0V0z\" fill=\"none\"/>\n",
              "    <path d=\"M18.56 5.44l.94 2.06.94-2.06 2.06-.94-2.06-.94-.94-2.06-.94 2.06-2.06.94zm-11 1L8.5 8.5l.94-2.06 2.06-.94-2.06-.94L8.5 2.5l-.94 2.06-2.06.94zm10 10l.94 2.06.94-2.06 2.06-.94-2.06-.94-.94-2.06-.94 2.06-2.06.94z\"/><path d=\"M17.41 7.96l-1.37-1.37c-.4-.4-.92-.59-1.43-.59-.52 0-1.04.2-1.43.59L10.3 9.45l-7.72 7.72c-.78.78-.78 2.05 0 2.83L4 21.41c.39.39.9.59 1.41.59.51 0 1.02-.2 1.41-.59l7.78-7.78 2.81-2.81c.8-.78.8-2.07 0-2.86zM5.41 20L4 18.59l7.72-7.72 1.47 1.35L5.41 20z\"/>\n",
              "  </svg>\n",
              "      </button>\n",
              "      \n",
              "  <style>\n",
              "    .colab-df-container {\n",
              "      display:flex;\n",
              "      flex-wrap:wrap;\n",
              "      gap: 12px;\n",
              "    }\n",
              "\n",
              "    .colab-df-convert {\n",
              "      background-color: #E8F0FE;\n",
              "      border: none;\n",
              "      border-radius: 50%;\n",
              "      cursor: pointer;\n",
              "      display: none;\n",
              "      fill: #1967D2;\n",
              "      height: 32px;\n",
              "      padding: 0 0 0 0;\n",
              "      width: 32px;\n",
              "    }\n",
              "\n",
              "    .colab-df-convert:hover {\n",
              "      background-color: #E2EBFA;\n",
              "      box-shadow: 0px 1px 2px rgba(60, 64, 67, 0.3), 0px 1px 3px 1px rgba(60, 64, 67, 0.15);\n",
              "      fill: #174EA6;\n",
              "    }\n",
              "\n",
              "    [theme=dark] .colab-df-convert {\n",
              "      background-color: #3B4455;\n",
              "      fill: #D2E3FC;\n",
              "    }\n",
              "\n",
              "    [theme=dark] .colab-df-convert:hover {\n",
              "      background-color: #434B5C;\n",
              "      box-shadow: 0px 1px 3px 1px rgba(0, 0, 0, 0.15);\n",
              "      filter: drop-shadow(0px 1px 2px rgba(0, 0, 0, 0.3));\n",
              "      fill: #FFFFFF;\n",
              "    }\n",
              "  </style>\n",
              "\n",
              "      <script>\n",
              "        const buttonEl =\n",
              "          document.querySelector('#df-d2e4adff-791e-43ab-aa4d-e1cf3011fe78 button.colab-df-convert');\n",
              "        buttonEl.style.display =\n",
              "          google.colab.kernel.accessAllowed ? 'block' : 'none';\n",
              "\n",
              "        async function convertToInteractive(key) {\n",
              "          const element = document.querySelector('#df-d2e4adff-791e-43ab-aa4d-e1cf3011fe78');\n",
              "          const dataTable =\n",
              "            await google.colab.kernel.invokeFunction('convertToInteractive',\n",
              "                                                     [key], {});\n",
              "          if (!dataTable) return;\n",
              "\n",
              "          const docLinkHtml = 'Like what you see? Visit the ' +\n",
              "            '<a target=\"_blank\" href=https://colab.research.google.com/notebooks/data_table.ipynb>data table notebook</a>'\n",
              "            + ' to learn more about interactive tables.';\n",
              "          element.innerHTML = '';\n",
              "          dataTable['output_type'] = 'display_data';\n",
              "          await google.colab.output.renderOutput(dataTable, element);\n",
              "          const docLink = document.createElement('div');\n",
              "          docLink.innerHTML = docLinkHtml;\n",
              "          element.appendChild(docLink);\n",
              "        }\n",
              "      </script>\n",
              "    </div>\n",
              "  </div>\n",
              "  "
            ]
          },
          "metadata": {},
          "execution_count": 34
        }
      ]
    },
    {
      "cell_type": "markdown",
      "source": [
        "#### Check for NAs"
      ],
      "metadata": {
        "id": "Dh5XM2tuyM2C"
      }
    },
    {
      "cell_type": "code",
      "source": [
        "df_std_col_mod_train_1.isna().sum()"
      ],
      "metadata": {
        "id": "5LwIMjscyQud",
        "outputId": "f94d7852-8d39-41a2-e269-0a67db53281f",
        "colab": {
          "base_uri": "https://localhost:8080/"
        }
      },
      "execution_count": 35,
      "outputs": [
        {
          "output_type": "execute_result",
          "data": {
            "text/plain": [
              "year              0\n",
              "mo                0\n",
              "day               0\n",
              "temp              0\n",
              "visib             0\n",
              "num_collisions    0\n",
              "dtype: int64"
            ]
          },
          "metadata": {},
          "execution_count": 35
        }
      ]
    },
    {
      "cell_type": "markdown",
      "source": [
        "#### Overview of Data"
      ],
      "metadata": {
        "id": "rlwOV1CRyUOI"
      }
    },
    {
      "cell_type": "code",
      "source": [
        "df_std_col_mod_train_1.describe().transpose()"
      ],
      "metadata": {
        "id": "3ZhQb36NyaSu",
        "outputId": "a395f2e4-3ff3-47c5-f0c4-679fdfa225b0",
        "colab": {
          "base_uri": "https://localhost:8080/",
          "height": 238
        }
      },
      "execution_count": 36,
      "outputs": [
        {
          "output_type": "execute_result",
          "data": {
            "text/plain": [
              "                 count         mean        std          min          25%  \\\n",
              "year            1766.0  2015.989241   1.988465  2013.000000  2014.000000   \n",
              "mo              1766.0     6.513590   3.382774     1.000000     4.000000   \n",
              "day             1766.0     4.000566   1.995888     1.000000     2.000000   \n",
              "temp            1766.0     0.028546   1.002625    -2.999291    -0.728296   \n",
              "visib           1766.0     0.001784   0.997481    -3.678763    -0.546810   \n",
              "num_collisions  1766.0   597.920725  93.093504   355.000000   533.000000   \n",
              "\n",
              "                        50%          75%          max  \n",
              "year            2016.000000  2018.000000  2019.000000  \n",
              "mo                 7.000000     9.000000    12.000000  \n",
              "day                4.000000     6.000000     7.000000  \n",
              "temp               0.075483     0.927107     1.823384  \n",
              "visib              0.497174     0.769518     0.769518  \n",
              "num_collisions   603.000000   660.000000   841.000000  "
            ],
            "text/html": [
              "\n",
              "  <div id=\"df-43afc03a-2c3a-4b66-b00c-db61dee59f6b\">\n",
              "    <div class=\"colab-df-container\">\n",
              "      <div>\n",
              "<style scoped>\n",
              "    .dataframe tbody tr th:only-of-type {\n",
              "        vertical-align: middle;\n",
              "    }\n",
              "\n",
              "    .dataframe tbody tr th {\n",
              "        vertical-align: top;\n",
              "    }\n",
              "\n",
              "    .dataframe thead th {\n",
              "        text-align: right;\n",
              "    }\n",
              "</style>\n",
              "<table border=\"1\" class=\"dataframe\">\n",
              "  <thead>\n",
              "    <tr style=\"text-align: right;\">\n",
              "      <th></th>\n",
              "      <th>count</th>\n",
              "      <th>mean</th>\n",
              "      <th>std</th>\n",
              "      <th>min</th>\n",
              "      <th>25%</th>\n",
              "      <th>50%</th>\n",
              "      <th>75%</th>\n",
              "      <th>max</th>\n",
              "    </tr>\n",
              "  </thead>\n",
              "  <tbody>\n",
              "    <tr>\n",
              "      <th>year</th>\n",
              "      <td>1766.0</td>\n",
              "      <td>2015.989241</td>\n",
              "      <td>1.988465</td>\n",
              "      <td>2013.000000</td>\n",
              "      <td>2014.000000</td>\n",
              "      <td>2016.000000</td>\n",
              "      <td>2018.000000</td>\n",
              "      <td>2019.000000</td>\n",
              "    </tr>\n",
              "    <tr>\n",
              "      <th>mo</th>\n",
              "      <td>1766.0</td>\n",
              "      <td>6.513590</td>\n",
              "      <td>3.382774</td>\n",
              "      <td>1.000000</td>\n",
              "      <td>4.000000</td>\n",
              "      <td>7.000000</td>\n",
              "      <td>9.000000</td>\n",
              "      <td>12.000000</td>\n",
              "    </tr>\n",
              "    <tr>\n",
              "      <th>day</th>\n",
              "      <td>1766.0</td>\n",
              "      <td>4.000566</td>\n",
              "      <td>1.995888</td>\n",
              "      <td>1.000000</td>\n",
              "      <td>2.000000</td>\n",
              "      <td>4.000000</td>\n",
              "      <td>6.000000</td>\n",
              "      <td>7.000000</td>\n",
              "    </tr>\n",
              "    <tr>\n",
              "      <th>temp</th>\n",
              "      <td>1766.0</td>\n",
              "      <td>0.028546</td>\n",
              "      <td>1.002625</td>\n",
              "      <td>-2.999291</td>\n",
              "      <td>-0.728296</td>\n",
              "      <td>0.075483</td>\n",
              "      <td>0.927107</td>\n",
              "      <td>1.823384</td>\n",
              "    </tr>\n",
              "    <tr>\n",
              "      <th>visib</th>\n",
              "      <td>1766.0</td>\n",
              "      <td>0.001784</td>\n",
              "      <td>0.997481</td>\n",
              "      <td>-3.678763</td>\n",
              "      <td>-0.546810</td>\n",
              "      <td>0.497174</td>\n",
              "      <td>0.769518</td>\n",
              "      <td>0.769518</td>\n",
              "    </tr>\n",
              "    <tr>\n",
              "      <th>num_collisions</th>\n",
              "      <td>1766.0</td>\n",
              "      <td>597.920725</td>\n",
              "      <td>93.093504</td>\n",
              "      <td>355.000000</td>\n",
              "      <td>533.000000</td>\n",
              "      <td>603.000000</td>\n",
              "      <td>660.000000</td>\n",
              "      <td>841.000000</td>\n",
              "    </tr>\n",
              "  </tbody>\n",
              "</table>\n",
              "</div>\n",
              "      <button class=\"colab-df-convert\" onclick=\"convertToInteractive('df-43afc03a-2c3a-4b66-b00c-db61dee59f6b')\"\n",
              "              title=\"Convert this dataframe to an interactive table.\"\n",
              "              style=\"display:none;\">\n",
              "        \n",
              "  <svg xmlns=\"http://www.w3.org/2000/svg\" height=\"24px\"viewBox=\"0 0 24 24\"\n",
              "       width=\"24px\">\n",
              "    <path d=\"M0 0h24v24H0V0z\" fill=\"none\"/>\n",
              "    <path d=\"M18.56 5.44l.94 2.06.94-2.06 2.06-.94-2.06-.94-.94-2.06-.94 2.06-2.06.94zm-11 1L8.5 8.5l.94-2.06 2.06-.94-2.06-.94L8.5 2.5l-.94 2.06-2.06.94zm10 10l.94 2.06.94-2.06 2.06-.94-2.06-.94-.94-2.06-.94 2.06-2.06.94z\"/><path d=\"M17.41 7.96l-1.37-1.37c-.4-.4-.92-.59-1.43-.59-.52 0-1.04.2-1.43.59L10.3 9.45l-7.72 7.72c-.78.78-.78 2.05 0 2.83L4 21.41c.39.39.9.59 1.41.59.51 0 1.02-.2 1.41-.59l7.78-7.78 2.81-2.81c.8-.78.8-2.07 0-2.86zM5.41 20L4 18.59l7.72-7.72 1.47 1.35L5.41 20z\"/>\n",
              "  </svg>\n",
              "      </button>\n",
              "      \n",
              "  <style>\n",
              "    .colab-df-container {\n",
              "      display:flex;\n",
              "      flex-wrap:wrap;\n",
              "      gap: 12px;\n",
              "    }\n",
              "\n",
              "    .colab-df-convert {\n",
              "      background-color: #E8F0FE;\n",
              "      border: none;\n",
              "      border-radius: 50%;\n",
              "      cursor: pointer;\n",
              "      display: none;\n",
              "      fill: #1967D2;\n",
              "      height: 32px;\n",
              "      padding: 0 0 0 0;\n",
              "      width: 32px;\n",
              "    }\n",
              "\n",
              "    .colab-df-convert:hover {\n",
              "      background-color: #E2EBFA;\n",
              "      box-shadow: 0px 1px 2px rgba(60, 64, 67, 0.3), 0px 1px 3px 1px rgba(60, 64, 67, 0.15);\n",
              "      fill: #174EA6;\n",
              "    }\n",
              "\n",
              "    [theme=dark] .colab-df-convert {\n",
              "      background-color: #3B4455;\n",
              "      fill: #D2E3FC;\n",
              "    }\n",
              "\n",
              "    [theme=dark] .colab-df-convert:hover {\n",
              "      background-color: #434B5C;\n",
              "      box-shadow: 0px 1px 3px 1px rgba(0, 0, 0, 0.15);\n",
              "      filter: drop-shadow(0px 1px 2px rgba(0, 0, 0, 0.3));\n",
              "      fill: #FFFFFF;\n",
              "    }\n",
              "  </style>\n",
              "\n",
              "      <script>\n",
              "        const buttonEl =\n",
              "          document.querySelector('#df-43afc03a-2c3a-4b66-b00c-db61dee59f6b button.colab-df-convert');\n",
              "        buttonEl.style.display =\n",
              "          google.colab.kernel.accessAllowed ? 'block' : 'none';\n",
              "\n",
              "        async function convertToInteractive(key) {\n",
              "          const element = document.querySelector('#df-43afc03a-2c3a-4b66-b00c-db61dee59f6b');\n",
              "          const dataTable =\n",
              "            await google.colab.kernel.invokeFunction('convertToInteractive',\n",
              "                                                     [key], {});\n",
              "          if (!dataTable) return;\n",
              "\n",
              "          const docLinkHtml = 'Like what you see? Visit the ' +\n",
              "            '<a target=\"_blank\" href=https://colab.research.google.com/notebooks/data_table.ipynb>data table notebook</a>'\n",
              "            + ' to learn more about interactive tables.';\n",
              "          element.innerHTML = '';\n",
              "          dataTable['output_type'] = 'display_data';\n",
              "          await google.colab.output.renderOutput(dataTable, element);\n",
              "          const docLink = document.createElement('div');\n",
              "          docLink.innerHTML = docLinkHtml;\n",
              "          element.appendChild(docLink);\n",
              "        }\n",
              "      </script>\n",
              "    </div>\n",
              "  </div>\n",
              "  "
            ]
          },
          "metadata": {},
          "execution_count": 36
        }
      ]
    },
    {
      "cell_type": "markdown",
      "source": [
        "#### Separate Features and Labels"
      ],
      "metadata": {
        "id": "9vtq4aElylbw"
      }
    },
    {
      "cell_type": "code",
      "source": [
        "df_std_col_mod_train_1_feat = df_std_col_mod_train_1.copy()\n",
        "df_std_col_mod_test_1_feat = df_std_col_mod_test_1.copy()\n",
        "\n",
        "df_std_col_mod_train_1_lab = df_std_col_mod_train_1_feat.pop('num_collisions')\n",
        "df_std_col_mod_test_1_lab = df_std_col_mod_test_1_feat.pop('num_collisions')"
      ],
      "metadata": {
        "id": "bbaC6kuvyxUc"
      },
      "execution_count": 37,
      "outputs": []
    },
    {
      "cell_type": "markdown",
      "source": [
        "#### Model"
      ],
      "metadata": {
        "id": "OwXNPTLpzEzo"
      }
    },
    {
      "cell_type": "markdown",
      "source": [
        "##### Normaliser Layer"
      ],
      "metadata": {
        "id": "oiKW-dWqzGih"
      }
    },
    {
      "cell_type": "code",
      "source": [
        "normaliser = tf.keras.layers.Normalization(axis=-1)\n",
        "\n",
        "normaliser.adapt(np.array(df_std_col_mod_train_1_feat))\n",
        "\n",
        "print(normaliser.mean.numpy())"
      ],
      "metadata": {
        "id": "0UXIB9cizIlB",
        "outputId": "e24573fa-2d16-47a3-cbbf-30d5a396415e",
        "colab": {
          "base_uri": "https://localhost:8080/"
        }
      },
      "execution_count": 38,
      "outputs": [
        {
          "output_type": "stream",
          "name": "stdout",
          "text": [
            "[[2015.989    6.514    4.001    0.029    0.002]]\n"
          ]
        }
      ]
    },
    {
      "cell_type": "markdown",
      "source": [
        "##### Sequencer"
      ],
      "metadata": {
        "id": "U1cc6WqB2WWY"
      }
    },
    {
      "cell_type": "code",
      "source": [
        "std_col_mod_1 = np.array(df_std_col_mod_train_1_feat)\n",
        "\n",
        "std_col_mod_1_normaliser = layers.Normalization(axis=-1)\n",
        "std_col_mod_1_normaliser.adapt(np.array(df_std_col_mod_train_1_feat))"
      ],
      "metadata": {
        "id": "K-C4n-V62YNb"
      },
      "execution_count": 39,
      "outputs": []
    },
    {
      "cell_type": "code",
      "source": [
        "std_col_mod_1_model = tf.keras.Sequential([\n",
        "    std_col_mod_1_normaliser,\n",
        "    layers.Dense(units=1)\n",
        "])\n",
        "\n",
        "std_col_mod_1_model.summary()"
      ],
      "metadata": {
        "id": "rMzyvPeD26ql",
        "outputId": "91f40f84-5c03-4092-cc57-a79acea8b71b",
        "colab": {
          "base_uri": "https://localhost:8080/"
        }
      },
      "execution_count": 40,
      "outputs": [
        {
          "output_type": "stream",
          "name": "stdout",
          "text": [
            "Model: \"sequential_2\"\n",
            "_________________________________________________________________\n",
            " Layer (type)                Output Shape              Param #   \n",
            "=================================================================\n",
            " normalization_5 (Normalizat  (None, 5)                11        \n",
            " ion)                                                            \n",
            "                                                                 \n",
            " dense_2 (Dense)             (None, 1)                 6         \n",
            "                                                                 \n",
            "=================================================================\n",
            "Total params: 17\n",
            "Trainable params: 6\n",
            "Non-trainable params: 11\n",
            "_________________________________________________________________\n"
          ]
        }
      ]
    },
    {
      "cell_type": "code",
      "source": [
        "std_col_mod_1_model.predict(std_col_mod_1)"
      ],
      "metadata": {
        "id": "xEqC_2b73PE6",
        "outputId": "5daafbe1-79ff-4574-85aa-d70fb72fddc5",
        "colab": {
          "base_uri": "https://localhost:8080/"
        }
      },
      "execution_count": 41,
      "outputs": [
        {
          "output_type": "stream",
          "name": "stdout",
          "text": [
            "56/56 [==============================] - 0s 1ms/step\n"
          ]
        },
        {
          "output_type": "execute_result",
          "data": {
            "text/plain": [
              "array([[-1.843],\n",
              "       [-0.336],\n",
              "       [-1.335],\n",
              "       ...,\n",
              "       [ 0.978],\n",
              "       [ 0.491],\n",
              "       [-0.376]], dtype=float32)"
            ]
          },
          "metadata": {},
          "execution_count": 41
        }
      ]
    },
    {
      "cell_type": "code",
      "source": [
        "std_col_mod_1_model.layers[1].kernel"
      ],
      "metadata": {
        "id": "CsOs07Xk3ZwK",
        "outputId": "dfe9206c-1e04-46f0-92ed-f9d4f3aa952e",
        "colab": {
          "base_uri": "https://localhost:8080/"
        }
      },
      "execution_count": 42,
      "outputs": [
        {
          "output_type": "execute_result",
          "data": {
            "text/plain": [
              "<tf.Variable 'dense_2/kernel:0' shape=(5, 1) dtype=float32, numpy=\n",
              "array([[ 0.287],\n",
              "       [-0.09 ],\n",
              "       [-0.906],\n",
              "       [-0.945],\n",
              "       [-0.538]], dtype=float32)>"
            ]
          },
          "metadata": {},
          "execution_count": 42
        }
      ]
    },
    {
      "cell_type": "code",
      "source": [
        "std_col_mod_1_model.compile(\n",
        "    optimizer = tf.keras.optimizers.Adam(learning_rate=0.1),\n",
        "    loss='mean_absolute_error')"
      ],
      "metadata": {
        "id": "GNMEJZva3mjs"
      },
      "execution_count": 43,
      "outputs": []
    },
    {
      "cell_type": "code",
      "source": [
        "%%time\n",
        "history = std_col_mod_1_model.fit(\n",
        "    df_std_col_mod_train_1_feat,\n",
        "    df_std_col_mod_train_1_lab,\n",
        "    epochs=100,\n",
        "    # Suppress logging.\n",
        "    verbose=0,\n",
        "    # Calculate validation results on 20% of the training data.\n",
        "    validation_split = 0.2)"
      ],
      "metadata": {
        "id": "S9DJKKBf3xt_",
        "outputId": "b7811a60-d0ea-4370-d2ee-772a1d173e05",
        "colab": {
          "base_uri": "https://localhost:8080/"
        }
      },
      "execution_count": 44,
      "outputs": [
        {
          "output_type": "stream",
          "name": "stdout",
          "text": [
            "CPU times: user 9.16 s, sys: 482 ms, total: 9.64 s\n",
            "Wall time: 8.68 s\n"
          ]
        }
      ]
    },
    {
      "cell_type": "code",
      "source": [
        "plot_loss(history)"
      ],
      "metadata": {
        "id": "AcNif_5Z38jV",
        "outputId": "6d63eea1-5ee6-49d7-eb50-59fb4da3680e",
        "colab": {
          "base_uri": "https://localhost:8080/",
          "height": 283
        }
      },
      "execution_count": 45,
      "outputs": [
        {
          "output_type": "display_data",
          "data": {
            "text/plain": [
              "<Figure size 432x288 with 1 Axes>"
            ],
            "image/png": "[encoded data removed]"
          },
          "metadata": {
            "needs_background": "light"
          }
        }
      ]
    },
    {
      "cell_type": "code",
      "source": [
        "test_results['std_col_mod_1'] = std_col_mod_1_model.evaluate(\n",
        "    df_std_col_mod_test_1_feat,\n",
        "    df_std_col_mod_test_1_lab, verbose=0)"
      ],
      "metadata": {
        "id": "blh8W63j4Fhj"
      },
      "execution_count": 46,
      "outputs": []
    },
    {
      "cell_type": "code",
      "source": [
        "print(test_results)"
      ],
      "metadata": {
        "id": "KvKv6HPe4K8_",
        "outputId": "b7c1e748-33a7-4bb1-cc9b-ededc9dc8ddd",
        "colab": {
          "base_uri": "https://localhost:8080/"
        }
      },
      "execution_count": 47,
      "outputs": [
        {
          "output_type": "stream",
          "name": "stdout",
          "text": [
            "{'temp_model': 155.27452087402344, 'col_mod_1': 154.217529296875, 'std_col_mod_1': 161.0737762451172}\n"
          ]
        }
      ]
    },
    {
      "cell_type": "markdown",
      "source": [
        "### Normalised Data without One-Hot Encoding"
      ],
      "metadata": {
        "id": "2-e3B0ZR5ysz"
      }
    },
    {
      "cell_type": "markdown",
      "source": [],
      "metadata": {
        "id": "vVBJsZG858m7"
      }
    },
    {
      "cell_type": "markdown",
      "source": [
        "#### Read Data"
      ],
      "metadata": {
        "id": "5g4PVpg45-c6"
      }
    },
    {
      "cell_type": "markdown",
      "source": [
        "##### Training Data"
      ],
      "metadata": {
        "id": "WO1kS2rO6AXQ"
      }
    },
    {
      "cell_type": "code",
      "source": [
        "url = \"https://raw.githubusercontent.com/AaronM44/DAOTW-Assignment-1/main/outputs/norm_col_mod_1_train.csv\"\n",
        "\n",
        "raw_norm_col_mod_train_1 = pd.read_csv(url)\n",
        "\n",
        "df_norm_col_mod_train_1 = raw_norm_col_mod_train_1.copy()\n",
        "\n",
        "df_norm_col_mod_train_1 = df_norm_col_mod_train_1.drop(df_norm_col_mod_train_1.columns[[0, 1]], axis=1)\n",
        "\n",
        "df_norm_col_mod_train_1.head()"
      ],
      "metadata": {
        "id": "JhWmFOaH6Dzm",
        "outputId": "ef9b0f71-1936-4b6e-d21e-f554fe54dbb2",
        "colab": {
          "base_uri": "https://localhost:8080/",
          "height": 206
        }
      },
      "execution_count": 48,
      "outputs": [
        {
          "output_type": "execute_result",
          "data": {
            "text/plain": [
              "   year  mo  day      temp     visib  num_collisions\n",
              "0  2013  10    7  0.659631  1.000000             512\n",
              "1  2019   7    4  0.839050  0.622449             394\n",
              "2  2018   3    4  0.393140  0.653061             760\n",
              "3  2013   1    1  0.263852  0.877551             507\n",
              "4  2015   6    3  0.641161  1.000000             658"
            ],
            "text/html": [
              "\n",
              "  <div id=\"df-7271d782-3cf2-4243-b453-4d159ed60f22\">\n",
              "    <div class=\"colab-df-container\">\n",
              "      <div>\n",
              "<style scoped>\n",
              "    .dataframe tbody tr th:only-of-type {\n",
              "        vertical-align: middle;\n",
              "    }\n",
              "\n",
              "    .dataframe tbody tr th {\n",
              "        vertical-align: top;\n",
              "    }\n",
              "\n",
              "    .dataframe thead th {\n",
              "        text-align: right;\n",
              "    }\n",
              "</style>\n",
              "<table border=\"1\" class=\"dataframe\">\n",
              "  <thead>\n",
              "    <tr style=\"text-align: right;\">\n",
              "      <th></th>\n",
              "      <th>year</th>\n",
              "      <th>mo</th>\n",
              "      <th>day</th>\n",
              "      <th>temp</th>\n",
              "      <th>visib</th>\n",
              "      <th>num_collisions</th>\n",
              "    </tr>\n",
              "  </thead>\n",
              "  <tbody>\n",
              "    <tr>\n",
              "      <th>0</th>\n",
              "      <td>2013</td>\n",
              "      <td>10</td>\n",
              "      <td>7</td>\n",
              "      <td>0.659631</td>\n",
              "      <td>1.000000</td>\n",
              "      <td>512</td>\n",
              "    </tr>\n",
              "    <tr>\n",
              "      <th>1</th>\n",
              "      <td>2019</td>\n",
              "      <td>7</td>\n",
              "      <td>4</td>\n",
              "      <td>0.839050</td>\n",
              "      <td>0.622449</td>\n",
              "      <td>394</td>\n",
              "    </tr>\n",
              "    <tr>\n",
              "      <th>2</th>\n",
              "      <td>2018</td>\n",
              "      <td>3</td>\n",
              "      <td>4</td>\n",
              "      <td>0.393140</td>\n",
              "      <td>0.653061</td>\n",
              "      <td>760</td>\n",
              "    </tr>\n",
              "    <tr>\n",
              "      <th>3</th>\n",
              "      <td>2013</td>\n",
              "      <td>1</td>\n",
              "      <td>1</td>\n",
              "      <td>0.263852</td>\n",
              "      <td>0.877551</td>\n",
              "      <td>507</td>\n",
              "    </tr>\n",
              "    <tr>\n",
              "      <th>4</th>\n",
              "      <td>2015</td>\n",
              "      <td>6</td>\n",
              "      <td>3</td>\n",
              "      <td>0.641161</td>\n",
              "      <td>1.000000</td>\n",
              "      <td>658</td>\n",
              "    </tr>\n",
              "  </tbody>\n",
              "</table>\n",
              "</div>\n",
              "      <button class=\"colab-df-convert\" onclick=\"convertToInteractive('df-7271d782-3cf2-4243-b453-4d159ed60f22')\"\n",
              "              title=\"Convert this dataframe to an interactive table.\"\n",
              "              style=\"display:none;\">\n",
              "        \n",
              "  <svg xmlns=\"http://www.w3.org/2000/svg\" height=\"24px\"viewBox=\"0 0 24 24\"\n",
              "       width=\"24px\">\n",
              "    <path d=\"M0 0h24v24H0V0z\" fill=\"none\"/>\n",
              "    <path d=\"M18.56 5.44l.94 2.06.94-2.06 2.06-.94-2.06-.94-.94-2.06-.94 2.06-2.06.94zm-11 1L8.5 8.5l.94-2.06 2.06-.94-2.06-.94L8.5 2.5l-.94 2.06-2.06.94zm10 10l.94 2.06.94-2.06 2.06-.94-2.06-.94-.94-2.06-.94 2.06-2.06.94z\"/><path d=\"M17.41 7.96l-1.37-1.37c-.4-.4-.92-.59-1.43-.59-.52 0-1.04.2-1.43.59L10.3 9.45l-7.72 7.72c-.78.78-.78 2.05 0 2.83L4 21.41c.39.39.9.59 1.41.59.51 0 1.02-.2 1.41-.59l7.78-7.78 2.81-2.81c.8-.78.8-2.07 0-2.86zM5.41 20L4 18.59l7.72-7.72 1.47 1.35L5.41 20z\"/>\n",
              "  </svg>\n",
              "      </button>\n",
              "      \n",
              "  <style>\n",
              "    .colab-df-container {\n",
              "      display:flex;\n",
              "      flex-wrap:wrap;\n",
              "      gap: 12px;\n",
              "    }\n",
              "\n",
              "    .colab-df-convert {\n",
              "      background-color: #E8F0FE;\n",
              "      border: none;\n",
              "      border-radius: 50%;\n",
              "      cursor: pointer;\n",
              "      display: none;\n",
              "      fill: #1967D2;\n",
              "      height: 32px;\n",
              "      padding: 0 0 0 0;\n",
              "      width: 32px;\n",
              "    }\n",
              "\n",
              "    .colab-df-convert:hover {\n",
              "      background-color: #E2EBFA;\n",
              "      box-shadow: 0px 1px 2px rgba(60, 64, 67, 0.3), 0px 1px 3px 1px rgba(60, 64, 67, 0.15);\n",
              "      fill: #174EA6;\n",
              "    }\n",
              "\n",
              "    [theme=dark] .colab-df-convert {\n",
              "      background-color: #3B4455;\n",
              "      fill: #D2E3FC;\n",
              "    }\n",
              "\n",
              "    [theme=dark] .colab-df-convert:hover {\n",
              "      background-color: #434B5C;\n",
              "      box-shadow: 0px 1px 3px 1px rgba(0, 0, 0, 0.15);\n",
              "      filter: drop-shadow(0px 1px 2px rgba(0, 0, 0, 0.3));\n",
              "      fill: #FFFFFF;\n",
              "    }\n",
              "  </style>\n",
              "\n",
              "      <script>\n",
              "        const buttonEl =\n",
              "          document.querySelector('#df-7271d782-3cf2-4243-b453-4d159ed60f22 button.colab-df-convert');\n",
              "        buttonEl.style.display =\n",
              "          google.colab.kernel.accessAllowed ? 'block' : 'none';\n",
              "\n",
              "        async function convertToInteractive(key) {\n",
              "          const element = document.querySelector('#df-7271d782-3cf2-4243-b453-4d159ed60f22');\n",
              "          const dataTable =\n",
              "            await google.colab.kernel.invokeFunction('convertToInteractive',\n",
              "                                                     [key], {});\n",
              "          if (!dataTable) return;\n",
              "\n",
              "          const docLinkHtml = 'Like what you see? Visit the ' +\n",
              "            '<a target=\"_blank\" href=https://colab.research.google.com/notebooks/data_table.ipynb>data table notebook</a>'\n",
              "            + ' to learn more about interactive tables.';\n",
              "          element.innerHTML = '';\n",
              "          dataTable['output_type'] = 'display_data';\n",
              "          await google.colab.output.renderOutput(dataTable, element);\n",
              "          const docLink = document.createElement('div');\n",
              "          docLink.innerHTML = docLinkHtml;\n",
              "          element.appendChild(docLink);\n",
              "        }\n",
              "      </script>\n",
              "    </div>\n",
              "  </div>\n",
              "  "
            ]
          },
          "metadata": {},
          "execution_count": 48
        }
      ]
    },
    {
      "cell_type": "markdown",
      "source": [
        "##### Test Data"
      ],
      "metadata": {
        "id": "eorkU6y56Xxu"
      }
    },
    {
      "cell_type": "code",
      "source": [
        "url = \"https://raw.githubusercontent.com/AaronM44/DAOTW-Assignment-1/main/outputs/rnom_col_mod_1_test.csv\"\n",
        "\n",
        "raw_norm_col_mod_test_1 = pd.read_csv(url)\n",
        "\n",
        "df_norm_col_mod_test_1 = raw_norm_col_mod_test_1.copy()\n",
        "\n",
        "df_norm_col_mod_test_1 = df_norm_col_mod_test_1.drop(df_norm_col_mod_test_1.columns[[0, 1]], axis=1)\n",
        "\n",
        "df_norm_col_mod_test_1.head()"
      ],
      "metadata": {
        "id": "npwGWakr6ZbK",
        "outputId": "fafbcfa1-2b02-4eae-8929-548590a4fc38",
        "colab": {
          "base_uri": "https://localhost:8080/",
          "height": 206
        }
      },
      "execution_count": 49,
      "outputs": [
        {
          "output_type": "execute_result",
          "data": {
            "text/plain": [
              "   year  mo  day      temp     visib  num_collisions\n",
              "0  2013   1    1  0.554090  0.112245             542\n",
              "1  2013   1    2  0.248021  0.642857             544\n",
              "2  2013   1    4  0.073879  1.000000             554\n",
              "3  2013   1    2  0.382586  0.244898             542\n",
              "4  2013   1    4  0.546174  0.581633             592"
            ],
            "text/html": [
              "\n",
              "  <div id=\"df-03a61fab-9b37-455e-b5df-3424aecfad69\">\n",
              "    <div class=\"colab-df-container\">\n",
              "      <div>\n",
              "<style scoped>\n",
              "    .dataframe tbody tr th:only-of-type {\n",
              "        vertical-align: middle;\n",
              "    }\n",
              "\n",
              "    .dataframe tbody tr th {\n",
              "        vertical-align: top;\n",
              "    }\n",
              "\n",
              "    .dataframe thead th {\n",
              "        text-align: right;\n",
              "    }\n",
              "</style>\n",
              "<table border=\"1\" class=\"dataframe\">\n",
              "  <thead>\n",
              "    <tr style=\"text-align: right;\">\n",
              "      <th></th>\n",
              "      <th>year</th>\n",
              "      <th>mo</th>\n",
              "      <th>day</th>\n",
              "      <th>temp</th>\n",
              "      <th>visib</th>\n",
              "      <th>num_collisions</th>\n",
              "    </tr>\n",
              "  </thead>\n",
              "  <tbody>\n",
              "    <tr>\n",
              "      <th>0</th>\n",
              "      <td>2013</td>\n",
              "      <td>1</td>\n",
              "      <td>1</td>\n",
              "      <td>0.554090</td>\n",
              "      <td>0.112245</td>\n",
              "      <td>542</td>\n",
              "    </tr>\n",
              "    <tr>\n",
              "      <th>1</th>\n",
              "      <td>2013</td>\n",
              "      <td>1</td>\n",
              "      <td>2</td>\n",
              "      <td>0.248021</td>\n",
              "      <td>0.642857</td>\n",
              "      <td>544</td>\n",
              "    </tr>\n",
              "    <tr>\n",
              "      <th>2</th>\n",
              "      <td>2013</td>\n",
              "      <td>1</td>\n",
              "      <td>4</td>\n",
              "      <td>0.073879</td>\n",
              "      <td>1.000000</td>\n",
              "      <td>554</td>\n",
              "    </tr>\n",
              "    <tr>\n",
              "      <th>3</th>\n",
              "      <td>2013</td>\n",
              "      <td>1</td>\n",
              "      <td>2</td>\n",
              "      <td>0.382586</td>\n",
              "      <td>0.244898</td>\n",
              "      <td>542</td>\n",
              "    </tr>\n",
              "    <tr>\n",
              "      <th>4</th>\n",
              "      <td>2013</td>\n",
              "      <td>1</td>\n",
              "      <td>4</td>\n",
              "      <td>0.546174</td>\n",
              "      <td>0.581633</td>\n",
              "      <td>592</td>\n",
              "    </tr>\n",
              "  </tbody>\n",
              "</table>\n",
              "</div>\n",
              "      <button class=\"colab-df-convert\" onclick=\"convertToInteractive('df-03a61fab-9b37-455e-b5df-3424aecfad69')\"\n",
              "              title=\"Convert this dataframe to an interactive table.\"\n",
              "              style=\"display:none;\">\n",
              "        \n",
              "  <svg xmlns=\"http://www.w3.org/2000/svg\" height=\"24px\"viewBox=\"0 0 24 24\"\n",
              "       width=\"24px\">\n",
              "    <path d=\"M0 0h24v24H0V0z\" fill=\"none\"/>\n",
              "    <path d=\"M18.56 5.44l.94 2.06.94-2.06 2.06-.94-2.06-.94-.94-2.06-.94 2.06-2.06.94zm-11 1L8.5 8.5l.94-2.06 2.06-.94-2.06-.94L8.5 2.5l-.94 2.06-2.06.94zm10 10l.94 2.06.94-2.06 2.06-.94-2.06-.94-.94-2.06-.94 2.06-2.06.94z\"/><path d=\"M17.41 7.96l-1.37-1.37c-.4-.4-.92-.59-1.43-.59-.52 0-1.04.2-1.43.59L10.3 9.45l-7.72 7.72c-.78.78-.78 2.05 0 2.83L4 21.41c.39.39.9.59 1.41.59.51 0 1.02-.2 1.41-.59l7.78-7.78 2.81-2.81c.8-.78.8-2.07 0-2.86zM5.41 20L4 18.59l7.72-7.72 1.47 1.35L5.41 20z\"/>\n",
              "  </svg>\n",
              "      </button>\n",
              "      \n",
              "  <style>\n",
              "    .colab-df-container {\n",
              "      display:flex;\n",
              "      flex-wrap:wrap;\n",
              "      gap: 12px;\n",
              "    }\n",
              "\n",
              "    .colab-df-convert {\n",
              "      background-color: #E8F0FE;\n",
              "      border: none;\n",
              "      border-radius: 50%;\n",
              "      cursor: pointer;\n",
              "      display: none;\n",
              "      fill: #1967D2;\n",
              "      height: 32px;\n",
              "      padding: 0 0 0 0;\n",
              "      width: 32px;\n",
              "    }\n",
              "\n",
              "    .colab-df-convert:hover {\n",
              "      background-color: #E2EBFA;\n",
              "      box-shadow: 0px 1px 2px rgba(60, 64, 67, 0.3), 0px 1px 3px 1px rgba(60, 64, 67, 0.15);\n",
              "      fill: #174EA6;\n",
              "    }\n",
              "\n",
              "    [theme=dark] .colab-df-convert {\n",
              "      background-color: #3B4455;\n",
              "      fill: #D2E3FC;\n",
              "    }\n",
              "\n",
              "    [theme=dark] .colab-df-convert:hover {\n",
              "      background-color: #434B5C;\n",
              "      box-shadow: 0px 1px 3px 1px rgba(0, 0, 0, 0.15);\n",
              "      filter: drop-shadow(0px 1px 2px rgba(0, 0, 0, 0.3));\n",
              "      fill: #FFFFFF;\n",
              "    }\n",
              "  </style>\n",
              "\n",
              "      <script>\n",
              "        const buttonEl =\n",
              "          document.querySelector('#df-03a61fab-9b37-455e-b5df-3424aecfad69 button.colab-df-convert');\n",
              "        buttonEl.style.display =\n",
              "          google.colab.kernel.accessAllowed ? 'block' : 'none';\n",
              "\n",
              "        async function convertToInteractive(key) {\n",
              "          const element = document.querySelector('#df-03a61fab-9b37-455e-b5df-3424aecfad69');\n",
              "          const dataTable =\n",
              "            await google.colab.kernel.invokeFunction('convertToInteractive',\n",
              "                                                     [key], {});\n",
              "          if (!dataTable) return;\n",
              "\n",
              "          const docLinkHtml = 'Like what you see? Visit the ' +\n",
              "            '<a target=\"_blank\" href=https://colab.research.google.com/notebooks/data_table.ipynb>data table notebook</a>'\n",
              "            + ' to learn more about interactive tables.';\n",
              "          element.innerHTML = '';\n",
              "          dataTable['output_type'] = 'display_data';\n",
              "          await google.colab.output.renderOutput(dataTable, element);\n",
              "          const docLink = document.createElement('div');\n",
              "          docLink.innerHTML = docLinkHtml;\n",
              "          element.appendChild(docLink);\n",
              "        }\n",
              "      </script>\n",
              "    </div>\n",
              "  </div>\n",
              "  "
            ]
          },
          "metadata": {},
          "execution_count": 49
        }
      ]
    },
    {
      "cell_type": "markdown",
      "source": [
        "#### Check for NAs"
      ],
      "metadata": {
        "id": "jPOPm_Uq7Byz"
      }
    },
    {
      "cell_type": "code",
      "source": [
        "df_norm_col_mod_train_1.isna().sum()"
      ],
      "metadata": {
        "id": "KQ7C5O4E6_jl",
        "outputId": "cde7ffc5-f5c1-4d70-bcd0-d35d0f0c46e4",
        "colab": {
          "base_uri": "https://localhost:8080/"
        }
      },
      "execution_count": 50,
      "outputs": [
        {
          "output_type": "execute_result",
          "data": {
            "text/plain": [
              "year              0\n",
              "mo                0\n",
              "day               0\n",
              "temp              0\n",
              "visib             0\n",
              "num_collisions    0\n",
              "dtype: int64"
            ]
          },
          "metadata": {},
          "execution_count": 50
        }
      ]
    },
    {
      "cell_type": "markdown",
      "source": [
        "#### Overview of Data"
      ],
      "metadata": {
        "id": "GqRy9oL87IWn"
      }
    },
    {
      "cell_type": "code",
      "source": [
        "df_norm_col_mod_train_1.describe().transpose()"
      ],
      "metadata": {
        "id": "XZwUidhm7KRA",
        "outputId": "31516dd0-ef8d-4bdd-cd4f-68ed2c21c371",
        "colab": {
          "base_uri": "https://localhost:8080/",
          "height": 238
        }
      },
      "execution_count": 51,
      "outputs": [
        {
          "output_type": "execute_result",
          "data": {
            "text/plain": [
              "                 count         mean        std     min          25%  \\\n",
              "year            1766.0  2015.962061   2.021479  2013.0  2014.000000   \n",
              "mo              1766.0     6.456399   3.435042     1.0     3.000000   \n",
              "day             1766.0     4.005096   1.992757     1.0     2.000000   \n",
              "temp            1766.0     0.619183   0.206818     0.0     0.456464   \n",
              "visib           1766.0     0.827056   0.226572     0.0     0.704082   \n",
              "num_collisions  1766.0   597.340883  96.245180   355.0   528.000000   \n",
              "\n",
              "                        50%          75%     max  \n",
              "year            2016.000000  2018.000000  2019.0  \n",
              "mo                 6.000000     9.000000    12.0  \n",
              "day                4.000000     6.000000     7.0  \n",
              "temp               0.626649     0.799472     1.0  \n",
              "visib              0.938776     1.000000     1.0  \n",
              "num_collisions   599.000000   662.000000   845.0  "
            ],
            "text/html": [
              "\n",
              "  <div id=\"df-357c547c-3656-424e-a632-61f6a601ab74\">\n",
              "    <div class=\"colab-df-container\">\n",
              "      <div>\n",
              "<style scoped>\n",
              "    .dataframe tbody tr th:only-of-type {\n",
              "        vertical-align: middle;\n",
              "    }\n",
              "\n",
              "    .dataframe tbody tr th {\n",
              "        vertical-align: top;\n",
              "    }\n",
              "\n",
              "    .dataframe thead th {\n",
              "        text-align: right;\n",
              "    }\n",
              "</style>\n",
              "<table border=\"1\" class=\"dataframe\">\n",
              "  <thead>\n",
              "    <tr style=\"text-align: right;\">\n",
              "      <th></th>\n",
              "      <th>count</th>\n",
              "      <th>mean</th>\n",
              "      <th>std</th>\n",
              "      <th>min</th>\n",
              "      <th>25%</th>\n",
              "      <th>50%</th>\n",
              "      <th>75%</th>\n",
              "      <th>max</th>\n",
              "    </tr>\n",
              "  </thead>\n",
              "  <tbody>\n",
              "    <tr>\n",
              "      <th>year</th>\n",
              "      <td>1766.0</td>\n",
              "      <td>2015.962061</td>\n",
              "      <td>2.021479</td>\n",
              "      <td>2013.0</td>\n",
              "      <td>2014.000000</td>\n",
              "      <td>2016.000000</td>\n",
              "      <td>2018.000000</td>\n",
              "      <td>2019.0</td>\n",
              "    </tr>\n",
              "    <tr>\n",
              "      <th>mo</th>\n",
              "      <td>1766.0</td>\n",
              "      <td>6.456399</td>\n",
              "      <td>3.435042</td>\n",
              "      <td>1.0</td>\n",
              "      <td>3.000000</td>\n",
              "      <td>6.000000</td>\n",
              "      <td>9.000000</td>\n",
              "      <td>12.0</td>\n",
              "    </tr>\n",
              "    <tr>\n",
              "      <th>day</th>\n",
              "      <td>1766.0</td>\n",
              "      <td>4.005096</td>\n",
              "      <td>1.992757</td>\n",
              "      <td>1.0</td>\n",
              "      <td>2.000000</td>\n",
              "      <td>4.000000</td>\n",
              "      <td>6.000000</td>\n",
              "      <td>7.0</td>\n",
              "    </tr>\n",
              "    <tr>\n",
              "      <th>temp</th>\n",
              "      <td>1766.0</td>\n",
              "      <td>0.619183</td>\n",
              "      <td>0.206818</td>\n",
              "      <td>0.0</td>\n",
              "      <td>0.456464</td>\n",
              "      <td>0.626649</td>\n",
              "      <td>0.799472</td>\n",
              "      <td>1.0</td>\n",
              "    </tr>\n",
              "    <tr>\n",
              "      <th>visib</th>\n",
              "      <td>1766.0</td>\n",
              "      <td>0.827056</td>\n",
              "      <td>0.226572</td>\n",
              "      <td>0.0</td>\n",
              "      <td>0.704082</td>\n",
              "      <td>0.938776</td>\n",
              "      <td>1.000000</td>\n",
              "      <td>1.0</td>\n",
              "    </tr>\n",
              "    <tr>\n",
              "      <th>num_collisions</th>\n",
              "      <td>1766.0</td>\n",
              "      <td>597.340883</td>\n",
              "      <td>96.245180</td>\n",
              "      <td>355.0</td>\n",
              "      <td>528.000000</td>\n",
              "      <td>599.000000</td>\n",
              "      <td>662.000000</td>\n",
              "      <td>845.0</td>\n",
              "    </tr>\n",
              "  </tbody>\n",
              "</table>\n",
              "</div>\n",
              "      <button class=\"colab-df-convert\" onclick=\"convertToInteractive('df-357c547c-3656-424e-a632-61f6a601ab74')\"\n",
              "              title=\"Convert this dataframe to an interactive table.\"\n",
              "              style=\"display:none;\">\n",
              "        \n",
              "  <svg xmlns=\"http://www.w3.org/2000/svg\" height=\"24px\"viewBox=\"0 0 24 24\"\n",
              "       width=\"24px\">\n",
              "    <path d=\"M0 0h24v24H0V0z\" fill=\"none\"/>\n",
              "    <path d=\"M18.56 5.44l.94 2.06.94-2.06 2.06-.94-2.06-.94-.94-2.06-.94 2.06-2.06.94zm-11 1L8.5 8.5l.94-2.06 2.06-.94-2.06-.94L8.5 2.5l-.94 2.06-2.06.94zm10 10l.94 2.06.94-2.06 2.06-.94-2.06-.94-.94-2.06-.94 2.06-2.06.94z\"/><path d=\"M17.41 7.96l-1.37-1.37c-.4-.4-.92-.59-1.43-.59-.52 0-1.04.2-1.43.59L10.3 9.45l-7.72 7.72c-.78.78-.78 2.05 0 2.83L4 21.41c.39.39.9.59 1.41.59.51 0 1.02-.2 1.41-.59l7.78-7.78 2.81-2.81c.8-.78.8-2.07 0-2.86zM5.41 20L4 18.59l7.72-7.72 1.47 1.35L5.41 20z\"/>\n",
              "  </svg>\n",
              "      </button>\n",
              "      \n",
              "  <style>\n",
              "    .colab-df-container {\n",
              "      display:flex;\n",
              "      flex-wrap:wrap;\n",
              "      gap: 12px;\n",
              "    }\n",
              "\n",
              "    .colab-df-convert {\n",
              "      background-color: #E8F0FE;\n",
              "      border: none;\n",
              "      border-radius: 50%;\n",
              "      cursor: pointer;\n",
              "      display: none;\n",
              "      fill: #1967D2;\n",
              "      height: 32px;\n",
              "      padding: 0 0 0 0;\n",
              "      width: 32px;\n",
              "    }\n",
              "\n",
              "    .colab-df-convert:hover {\n",
              "      background-color: #E2EBFA;\n",
              "      box-shadow: 0px 1px 2px rgba(60, 64, 67, 0.3), 0px 1px 3px 1px rgba(60, 64, 67, 0.15);\n",
              "      fill: #174EA6;\n",
              "    }\n",
              "\n",
              "    [theme=dark] .colab-df-convert {\n",
              "      background-color: #3B4455;\n",
              "      fill: #D2E3FC;\n",
              "    }\n",
              "\n",
              "    [theme=dark] .colab-df-convert:hover {\n",
              "      background-color: #434B5C;\n",
              "      box-shadow: 0px 1px 3px 1px rgba(0, 0, 0, 0.15);\n",
              "      filter: drop-shadow(0px 1px 2px rgba(0, 0, 0, 0.3));\n",
              "      fill: #FFFFFF;\n",
              "    }\n",
              "  </style>\n",
              "\n",
              "      <script>\n",
              "        const buttonEl =\n",
              "          document.querySelector('#df-357c547c-3656-424e-a632-61f6a601ab74 button.colab-df-convert');\n",
              "        buttonEl.style.display =\n",
              "          google.colab.kernel.accessAllowed ? 'block' : 'none';\n",
              "\n",
              "        async function convertToInteractive(key) {\n",
              "          const element = document.querySelector('#df-357c547c-3656-424e-a632-61f6a601ab74');\n",
              "          const dataTable =\n",
              "            await google.colab.kernel.invokeFunction('convertToInteractive',\n",
              "                                                     [key], {});\n",
              "          if (!dataTable) return;\n",
              "\n",
              "          const docLinkHtml = 'Like what you see? Visit the ' +\n",
              "            '<a target=\"_blank\" href=https://colab.research.google.com/notebooks/data_table.ipynb>data table notebook</a>'\n",
              "            + ' to learn more about interactive tables.';\n",
              "          element.innerHTML = '';\n",
              "          dataTable['output_type'] = 'display_data';\n",
              "          await google.colab.output.renderOutput(dataTable, element);\n",
              "          const docLink = document.createElement('div');\n",
              "          docLink.innerHTML = docLinkHtml;\n",
              "          element.appendChild(docLink);\n",
              "        }\n",
              "      </script>\n",
              "    </div>\n",
              "  </div>\n",
              "  "
            ]
          },
          "metadata": {},
          "execution_count": 51
        }
      ]
    },
    {
      "cell_type": "markdown",
      "source": [
        "#### Separate Features and Labels"
      ],
      "metadata": {
        "id": "ALvfcN9p7RKI"
      }
    },
    {
      "cell_type": "code",
      "source": [
        "df_norm_col_mod_train_1_feat = df_norm_col_mod_train_1.copy()\n",
        "df_norm_col_mod_test_1_feat = df_norm_col_mod_test_1.copy()\n",
        "\n",
        "df_norm_col_mod_train_1_lab = df_norm_col_mod_train_1_feat.pop('num_collisions')\n",
        "df_norm_col_mod_test_1_lab = df_norm_col_mod_test_1_feat.pop('num_collisions')"
      ],
      "metadata": {
        "id": "9EwtyvdQ7Xfl"
      },
      "execution_count": 52,
      "outputs": []
    },
    {
      "cell_type": "markdown",
      "source": [
        "#### Model"
      ],
      "metadata": {
        "id": "2VV-aMMQ7lTN"
      }
    },
    {
      "cell_type": "markdown",
      "source": [
        "##### Normaliser Layer"
      ],
      "metadata": {
        "id": "kiL0ubND7m-B"
      }
    },
    {
      "cell_type": "code",
      "source": [
        "normaliser = tf.keras.layers.Normalization(axis=-1)\n",
        "\n",
        "normaliser.adapt(np.array(df_norm_col_mod_train_1_feat))\n",
        "\n",
        "print(normaliser.mean.numpy())"
      ],
      "metadata": {
        "id": "knJf_mlL7pEF",
        "outputId": "b3164ba0-4428-4af4-b4a2-cb646820cf85",
        "colab": {
          "base_uri": "https://localhost:8080/"
        }
      },
      "execution_count": 53,
      "outputs": [
        {
          "output_type": "stream",
          "name": "stdout",
          "text": [
            "[[2015.962    6.456    4.005    0.619    0.827]]\n"
          ]
        }
      ]
    },
    {
      "cell_type": "markdown",
      "source": [
        "##### Sequencer"
      ],
      "metadata": {
        "id": "d9Q8x1037xo0"
      }
    },
    {
      "cell_type": "code",
      "source": [
        "norm_col_mod_1 = np.array(df_norm_col_mod_train_1_feat)\n",
        "\n",
        "norm_col_mod_1_normaliser = layers.Normalization(axis=-1)\n",
        "norm_col_mod_1_normaliser.adapt(np.array(df_norm_col_mod_train_1_feat))"
      ],
      "metadata": {
        "id": "VQwPv02Q70BH"
      },
      "execution_count": 54,
      "outputs": []
    },
    {
      "cell_type": "code",
      "source": [
        "norm_col_mod_1_model = tf.keras.Sequential([\n",
        "    norm_col_mod_1_normaliser,\n",
        "    layers.Dense(units=1)\n",
        "])\n",
        "\n",
        "norm_col_mod_1_model.summary()"
      ],
      "metadata": {
        "id": "OjMa7b_n8C7z",
        "outputId": "4b3e441e-89cc-48a5-acca-a74bc82696d0",
        "colab": {
          "base_uri": "https://localhost:8080/"
        }
      },
      "execution_count": 55,
      "outputs": [
        {
          "output_type": "stream",
          "name": "stdout",
          "text": [
            "Model: \"sequential_3\"\n",
            "_________________________________________________________________\n",
            " Layer (type)                Output Shape              Param #   \n",
            "=================================================================\n",
            " normalization_7 (Normalizat  (None, 5)                11        \n",
            " ion)                                                            \n",
            "                                                                 \n",
            " dense_3 (Dense)             (None, 1)                 6         \n",
            "                                                                 \n",
            "=================================================================\n",
            "Total params: 17\n",
            "Trainable params: 6\n",
            "Non-trainable params: 11\n",
            "_________________________________________________________________\n"
          ]
        }
      ]
    },
    {
      "cell_type": "code",
      "source": [
        "norm_col_mod_1_model.predict(norm_col_mod_1)"
      ],
      "metadata": {
        "id": "oVP3UixF8NhJ",
        "outputId": "d0f2c79e-5c15-4a40-8fcb-7761cfaf9c35",
        "colab": {
          "base_uri": "https://localhost:8080/"
        }
      },
      "execution_count": 56,
      "outputs": [
        {
          "output_type": "stream",
          "name": "stdout",
          "text": [
            "56/56 [==============================] - 0s 1ms/step\n"
          ]
        },
        {
          "output_type": "execute_result",
          "data": {
            "text/plain": [
              "array([[-0.563],\n",
              "       [-0.984],\n",
              "       [ 0.33 ],\n",
              "       ...,\n",
              "       [-0.844],\n",
              "       [-0.295],\n",
              "       [-1.036]], dtype=float32)"
            ]
          },
          "metadata": {},
          "execution_count": 56
        }
      ]
    },
    {
      "cell_type": "code",
      "source": [
        "norm_col_mod_1_model.layers[1].kernel"
      ],
      "metadata": {
        "id": "T4NjaZaX8URR",
        "outputId": "a7fe9243-91a6-450c-f2d6-a32f833f0151",
        "colab": {
          "base_uri": "https://localhost:8080/"
        }
      },
      "execution_count": 57,
      "outputs": [
        {
          "output_type": "execute_result",
          "data": {
            "text/plain": [
              "<tf.Variable 'dense_3/kernel:0' shape=(5, 1) dtype=float32, numpy=\n",
              "array([[ 0.329],\n",
              "       [ 0.215],\n",
              "       [-0.506],\n",
              "       [-0.751],\n",
              "       [ 0.791]], dtype=float32)>"
            ]
          },
          "metadata": {},
          "execution_count": 57
        }
      ]
    },
    {
      "cell_type": "code",
      "source": [
        "norm_col_mod_1_model.compile(\n",
        "    optimizer = tf.keras.optimizers.Adam(learning_rate=0.1),\n",
        "    loss='mean_absolute_error')"
      ],
      "metadata": {
        "id": "1MPuAHg88cEb"
      },
      "execution_count": 58,
      "outputs": []
    },
    {
      "cell_type": "code",
      "source": [
        "%%time\n",
        "history = norm_col_mod_1_model.fit(\n",
        "    df_norm_col_mod_train_1_feat,\n",
        "    df_norm_col_mod_train_1_lab,\n",
        "    epochs=100,\n",
        "    # Suppress logging.\n",
        "    verbose=0,\n",
        "    # Calculate validation results on 20% of the training data.\n",
        "    validation_split = 0.2)"
      ],
      "metadata": {
        "id": "wSJQBqmS8hc9",
        "outputId": "5a81bf06-58c2-48bd-cc06-1c7e6113e32c",
        "colab": {
          "base_uri": "https://localhost:8080/"
        }
      },
      "execution_count": 59,
      "outputs": [
        {
          "output_type": "stream",
          "name": "stdout",
          "text": [
            "CPU times: user 9.4 s, sys: 548 ms, total: 9.95 s\n",
            "Wall time: 10.6 s\n"
          ]
        }
      ]
    },
    {
      "cell_type": "code",
      "source": [
        "plot_loss(history)"
      ],
      "metadata": {
        "id": "eSGU7A2W9OKZ",
        "outputId": "be633f8a-2b2d-41ed-d302-837fce51c98e",
        "colab": {
          "base_uri": "https://localhost:8080/",
          "height": 283
        }
      },
      "execution_count": 60,
      "outputs": [
        {
          "output_type": "display_data",
          "data": {
            "text/plain": [
              "<Figure size 432x288 with 1 Axes>"
            ],
            "image/png": "[encoded data removed]"
          },
          "metadata": {
            "needs_background": "light"
          }
        }
      ]
    },
    {
      "cell_type": "code",
      "source": [
        "test_results['norm_col_mod_1'] = norm_col_mod_1_model.evaluate(\n",
        "    df_norm_col_mod_test_1_feat,\n",
        "    df_norm_col_mod_test_1_lab, verbose=0)"
      ],
      "metadata": {
        "id": "-Qk36JGb9U4c"
      },
      "execution_count": 61,
      "outputs": []
    },
    {
      "cell_type": "code",
      "source": [
        "print(test_results)"
      ],
      "metadata": {
        "id": "5YYcojk59anc",
        "outputId": "f96645ff-ac9a-4b3a-fbc4-ab63765d073c",
        "colab": {
          "base_uri": "https://localhost:8080/"
        }
      },
      "execution_count": 62,
      "outputs": [
        {
          "output_type": "stream",
          "name": "stdout",
          "text": [
            "{'temp_model': 155.27452087402344, 'col_mod_1': 154.217529296875, 'std_col_mod_1': 161.0737762451172, 'norm_col_mod_1': 158.41468811035156}\n"
          ]
        }
      ]
    },
    {
      "cell_type": "markdown",
      "source": [
        "### Non-Standardised Data with One-Hot Encoding"
      ],
      "metadata": {
        "id": "XZVba4eu9ugk"
      }
    },
    {
      "cell_type": "markdown",
      "source": [
        "#### Read Data"
      ],
      "metadata": {
        "id": "kmjLc1Op90Pe"
      }
    },
    {
      "cell_type": "markdown",
      "source": [
        "##### Training Data"
      ],
      "metadata": {
        "id": "5PqHZ6S592TQ"
      }
    },
    {
      "cell_type": "code",
      "source": [
        "url = \"https://raw.githubusercontent.com/AaronM44/DAOTW-Assignment-1/main/outputs/col_mod_2_train.csv\"\n",
        "\n",
        "raw_col_mod_train_2 = pd.read_csv(url)\n",
        "\n",
        "df_col_mod_train_2 = raw_col_mod_train_2.copy()\n",
        "\n",
        "df_col_mod_train_2 = df_col_mod_train_2.drop(df_col_mod_train_2.columns[[0, 1]], axis=1)\n",
        "\n",
        "df_col_mod_train_2.head()"
      ],
      "metadata": {
        "id": "9eXAjXxU94FX",
        "outputId": "7d586fda-7188-447e-8dfa-fa2a0c7c0434",
        "colab": {
          "base_uri": "https://localhost:8080/",
          "height": 236
        }
      },
      "execution_count": 63,
      "outputs": [
        {
          "output_type": "execute_result",
          "data": {
            "text/plain": [
              "   year  jan  feb  mar  apr  may  jun  jul  aug  sep  ...  mon  tue  wed  thu  \\\n",
              "0  2017    0    0    0    1    0    0    0    0    0  ...    0    0    0    1   \n",
              "1  2017    0    0    0    0    0    0    0    0    0  ...    0    0    0    0   \n",
              "2  2014    0    0    0    0    0    0    0    0    0  ...    0    0    0    0   \n",
              "3  2018    0    0    0    0    0    0    0    0    0  ...    0    0    0    0   \n",
              "4  2016    0    0    0    0    1    0    0    0    0  ...    0    0    0    0   \n",
              "\n",
              "   fri  sat  sun  temp  visib  num_collisions  \n",
              "0    0    0    0   8.2    5.7             551  \n",
              "1    1    0    0  -6.1    4.9             462  \n",
              "2    0    0    1  11.2    6.5             666  \n",
              "3    1    0    0  18.0    8.0             529  \n",
              "4    0    0    1  15.2   10.0             652  \n",
              "\n",
              "[5 rows x 23 columns]"
            ],
            "text/html": [
              "\n",
              "  <div id=\"df-f059b069-148f-4fab-b693-09c7314aead9\">\n",
              "    <div class=\"colab-df-container\">\n",
              "      <div>\n",
              "<style scoped>\n",
              "    .dataframe tbody tr th:only-of-type {\n",
              "        vertical-align: middle;\n",
              "    }\n",
              "\n",
              "    .dataframe tbody tr th {\n",
              "        vertical-align: top;\n",
              "    }\n",
              "\n",
              "    .dataframe thead th {\n",
              "        text-align: right;\n",
              "    }\n",
              "</style>\n",
              "<table border=\"1\" class=\"dataframe\">\n",
              "  <thead>\n",
              "    <tr style=\"text-align: right;\">\n",
              "      <th></th>\n",
              "      <th>year</th>\n",
              "      <th>jan</th>\n",
              "      <th>feb</th>\n",
              "      <th>mar</th>\n",
              "      <th>apr</th>\n",
              "      <th>may</th>\n",
              "      <th>jun</th>\n",
              "      <th>jul</th>\n",
              "      <th>aug</th>\n",
              "      <th>sep</th>\n",
              "      <th>...</th>\n",
              "      <th>mon</th>\n",
              "      <th>tue</th>\n",
              "      <th>wed</th>\n",
              "      <th>thu</th>\n",
              "      <th>fri</th>\n",
              "      <th>sat</th>\n",
              "      <th>sun</th>\n",
              "      <th>temp</th>\n",
              "      <th>visib</th>\n",
              "      <th>num_collisions</th>\n",
              "    </tr>\n",
              "  </thead>\n",
              "  <tbody>\n",
              "    <tr>\n",
              "      <th>0</th>\n",
              "      <td>2017</td>\n",
              "      <td>0</td>\n",
              "      <td>0</td>\n",
              "      <td>0</td>\n",
              "      <td>1</td>\n",
              "      <td>0</td>\n",
              "      <td>0</td>\n",
              "      <td>0</td>\n",
              "      <td>0</td>\n",
              "      <td>0</td>\n",
              "      <td>...</td>\n",
              "      <td>0</td>\n",
              "      <td>0</td>\n",
              "      <td>0</td>\n",
              "      <td>1</td>\n",
              "      <td>0</td>\n",
              "      <td>0</td>\n",
              "      <td>0</td>\n",
              "      <td>8.2</td>\n",
              "      <td>5.7</td>\n",
              "      <td>551</td>\n",
              "    </tr>\n",
              "    <tr>\n",
              "      <th>1</th>\n",
              "      <td>2017</td>\n",
              "      <td>0</td>\n",
              "      <td>0</td>\n",
              "      <td>0</td>\n",
              "      <td>0</td>\n",
              "      <td>0</td>\n",
              "      <td>0</td>\n",
              "      <td>0</td>\n",
              "      <td>0</td>\n",
              "      <td>0</td>\n",
              "      <td>...</td>\n",
              "      <td>0</td>\n",
              "      <td>0</td>\n",
              "      <td>0</td>\n",
              "      <td>0</td>\n",
              "      <td>1</td>\n",
              "      <td>0</td>\n",
              "      <td>0</td>\n",
              "      <td>-6.1</td>\n",
              "      <td>4.9</td>\n",
              "      <td>462</td>\n",
              "    </tr>\n",
              "    <tr>\n",
              "      <th>2</th>\n",
              "      <td>2014</td>\n",
              "      <td>0</td>\n",
              "      <td>0</td>\n",
              "      <td>0</td>\n",
              "      <td>0</td>\n",
              "      <td>0</td>\n",
              "      <td>0</td>\n",
              "      <td>0</td>\n",
              "      <td>0</td>\n",
              "      <td>0</td>\n",
              "      <td>...</td>\n",
              "      <td>0</td>\n",
              "      <td>0</td>\n",
              "      <td>0</td>\n",
              "      <td>0</td>\n",
              "      <td>0</td>\n",
              "      <td>0</td>\n",
              "      <td>1</td>\n",
              "      <td>11.2</td>\n",
              "      <td>6.5</td>\n",
              "      <td>666</td>\n",
              "    </tr>\n",
              "    <tr>\n",
              "      <th>3</th>\n",
              "      <td>2018</td>\n",
              "      <td>0</td>\n",
              "      <td>0</td>\n",
              "      <td>0</td>\n",
              "      <td>0</td>\n",
              "      <td>0</td>\n",
              "      <td>0</td>\n",
              "      <td>0</td>\n",
              "      <td>0</td>\n",
              "      <td>0</td>\n",
              "      <td>...</td>\n",
              "      <td>0</td>\n",
              "      <td>0</td>\n",
              "      <td>0</td>\n",
              "      <td>0</td>\n",
              "      <td>1</td>\n",
              "      <td>0</td>\n",
              "      <td>0</td>\n",
              "      <td>18.0</td>\n",
              "      <td>8.0</td>\n",
              "      <td>529</td>\n",
              "    </tr>\n",
              "    <tr>\n",
              "      <th>4</th>\n",
              "      <td>2016</td>\n",
              "      <td>0</td>\n",
              "      <td>0</td>\n",
              "      <td>0</td>\n",
              "      <td>0</td>\n",
              "      <td>1</td>\n",
              "      <td>0</td>\n",
              "      <td>0</td>\n",
              "      <td>0</td>\n",
              "      <td>0</td>\n",
              "      <td>...</td>\n",
              "      <td>0</td>\n",
              "      <td>0</td>\n",
              "      <td>0</td>\n",
              "      <td>0</td>\n",
              "      <td>0</td>\n",
              "      <td>0</td>\n",
              "      <td>1</td>\n",
              "      <td>15.2</td>\n",
              "      <td>10.0</td>\n",
              "      <td>652</td>\n",
              "    </tr>\n",
              "  </tbody>\n",
              "</table>\n",
              "<p>5 rows × 23 columns</p>\n",
              "</div>\n",
              "      <button class=\"colab-df-convert\" onclick=\"convertToInteractive('df-f059b069-148f-4fab-b693-09c7314aead9')\"\n",
              "              title=\"Convert this dataframe to an interactive table.\"\n",
              "              style=\"display:none;\">\n",
              "        \n",
              "  <svg xmlns=\"http://www.w3.org/2000/svg\" height=\"24px\"viewBox=\"0 0 24 24\"\n",
              "       width=\"24px\">\n",
              "    <path d=\"M0 0h24v24H0V0z\" fill=\"none\"/>\n",
              "    <path d=\"M18.56 5.44l.94 2.06.94-2.06 2.06-.94-2.06-.94-.94-2.06-.94 2.06-2.06.94zm-11 1L8.5 8.5l.94-2.06 2.06-.94-2.06-.94L8.5 2.5l-.94 2.06-2.06.94zm10 10l.94 2.06.94-2.06 2.06-.94-2.06-.94-.94-2.06-.94 2.06-2.06.94z\"/><path d=\"M17.41 7.96l-1.37-1.37c-.4-.4-.92-.59-1.43-.59-.52 0-1.04.2-1.43.59L10.3 9.45l-7.72 7.72c-.78.78-.78 2.05 0 2.83L4 21.41c.39.39.9.59 1.41.59.51 0 1.02-.2 1.41-.59l7.78-7.78 2.81-2.81c.8-.78.8-2.07 0-2.86zM5.41 20L4 18.59l7.72-7.72 1.47 1.35L5.41 20z\"/>\n",
              "  </svg>\n",
              "      </button>\n",
              "      \n",
              "  <style>\n",
              "    .colab-df-container {\n",
              "      display:flex;\n",
              "      flex-wrap:wrap;\n",
              "      gap: 12px;\n",
              "    }\n",
              "\n",
              "    .colab-df-convert {\n",
              "      background-color: #E8F0FE;\n",
              "      border: none;\n",
              "      border-radius: 50%;\n",
              "      cursor: pointer;\n",
              "      display: none;\n",
              "      fill: #1967D2;\n",
              "      height: 32px;\n",
              "      padding: 0 0 0 0;\n",
              "      width: 32px;\n",
              "    }\n",
              "\n",
              "    .colab-df-convert:hover {\n",
              "      background-color: #E2EBFA;\n",
              "      box-shadow: 0px 1px 2px rgba(60, 64, 67, 0.3), 0px 1px 3px 1px rgba(60, 64, 67, 0.15);\n",
              "      fill: #174EA6;\n",
              "    }\n",
              "\n",
              "    [theme=dark] .colab-df-convert {\n",
              "      background-color: #3B4455;\n",
              "      fill: #D2E3FC;\n",
              "    }\n",
              "\n",
              "    [theme=dark] .colab-df-convert:hover {\n",
              "      background-color: #434B5C;\n",
              "      box-shadow: 0px 1px 3px 1px rgba(0, 0, 0, 0.15);\n",
              "      filter: drop-shadow(0px 1px 2px rgba(0, 0, 0, 0.3));\n",
              "      fill: #FFFFFF;\n",
              "    }\n",
              "  </style>\n",
              "\n",
              "      <script>\n",
              "        const buttonEl =\n",
              "          document.querySelector('#df-f059b069-148f-4fab-b693-09c7314aead9 button.colab-df-convert');\n",
              "        buttonEl.style.display =\n",
              "          google.colab.kernel.accessAllowed ? 'block' : 'none';\n",
              "\n",
              "        async function convertToInteractive(key) {\n",
              "          const element = document.querySelector('#df-f059b069-148f-4fab-b693-09c7314aead9');\n",
              "          const dataTable =\n",
              "            await google.colab.kernel.invokeFunction('convertToInteractive',\n",
              "                                                     [key], {});\n",
              "          if (!dataTable) return;\n",
              "\n",
              "          const docLinkHtml = 'Like what you see? Visit the ' +\n",
              "            '<a target=\"_blank\" href=https://colab.research.google.com/notebooks/data_table.ipynb>data table notebook</a>'\n",
              "            + ' to learn more about interactive tables.';\n",
              "          element.innerHTML = '';\n",
              "          dataTable['output_type'] = 'display_data';\n",
              "          await google.colab.output.renderOutput(dataTable, element);\n",
              "          const docLink = document.createElement('div');\n",
              "          docLink.innerHTML = docLinkHtml;\n",
              "          element.appendChild(docLink);\n",
              "        }\n",
              "      </script>\n",
              "    </div>\n",
              "  </div>\n",
              "  "
            ]
          },
          "metadata": {},
          "execution_count": 63
        }
      ]
    },
    {
      "cell_type": "markdown",
      "source": [
        "##### Test Data"
      ],
      "metadata": {
        "id": "M3RavYJi-Klt"
      }
    },
    {
      "cell_type": "code",
      "source": [
        "url = \"https://raw.githubusercontent.com/AaronM44/DAOTW-Assignment-1/main/outputs/col_mod_2_test.csv\"\n",
        "\n",
        "raw_col_mod_test_2 = pd.read_csv(url)\n",
        "\n",
        "df_col_mod_test_2 = raw_col_mod_test_2.copy()\n",
        "\n",
        "df_col_mod_test_2 = df_col_mod_test_2.drop(df_col_mod_test_2.columns[[0, 1]], axis=1)\n",
        "\n",
        "df_col_mod_test_2.head()"
      ],
      "metadata": {
        "id": "Q6Pdix5u-OEG",
        "outputId": "5a544e64-2757-42aa-90da-cca36f16a3b0",
        "colab": {
          "base_uri": "https://localhost:8080/",
          "height": 236
        }
      },
      "execution_count": 64,
      "outputs": [
        {
          "output_type": "execute_result",
          "data": {
            "text/plain": [
              "   year  jan  feb  mar  apr  may  jun  jul  aug  sep  ...  mon  tue  wed  thu  \\\n",
              "0  2013    1    0    0    0    0    0    0    0    0  ...    1    0    0    0   \n",
              "1  2013    1    0    0    0    0    0    0    0    0  ...    0    0    1    0   \n",
              "2  2013    1    0    0    0    0    0    0    0    0  ...    0    0    0    0   \n",
              "3  2013    1    0    0    0    0    0    0    0    0  ...    0    0    1    0   \n",
              "4  2013    1    0    0    0    0    0    0    0    0  ...    0    0    0    1   \n",
              "\n",
              "   fri  sat  sun  temp  visib  num_collisions  \n",
              "0    0    0    0  -2.5   10.0             480  \n",
              "1    0    0    0   0.1   10.0             505  \n",
              "2    0    0    1   2.2    8.8             521  \n",
              "3    0    0    0   3.3   10.0             660  \n",
              "4    0    0    0   5.9    7.1             475  \n",
              "\n",
              "[5 rows x 23 columns]"
            ],
            "text/html": [
              "\n",
              "  <div id=\"df-d962a8d2-d838-4945-9ae6-eafd52a09583\">\n",
              "    <div class=\"colab-df-container\">\n",
              "      <div>\n",
              "<style scoped>\n",
              "    .dataframe tbody tr th:only-of-type {\n",
              "        vertical-align: middle;\n",
              "    }\n",
              "\n",
              "    .dataframe tbody tr th {\n",
              "        vertical-align: top;\n",
              "    }\n",
              "\n",
              "    .dataframe thead th {\n",
              "        text-align: right;\n",
              "    }\n",
              "</style>\n",
              "<table border=\"1\" class=\"dataframe\">\n",
              "  <thead>\n",
              "    <tr style=\"text-align: right;\">\n",
              "      <th></th>\n",
              "      <th>year</th>\n",
              "      <th>jan</th>\n",
              "      <th>feb</th>\n",
              "      <th>mar</th>\n",
              "      <th>apr</th>\n",
              "      <th>may</th>\n",
              "      <th>jun</th>\n",
              "      <th>jul</th>\n",
              "      <th>aug</th>\n",
              "      <th>sep</th>\n",
              "      <th>...</th>\n",
              "      <th>mon</th>\n",
              "      <th>tue</th>\n",
              "      <th>wed</th>\n",
              "      <th>thu</th>\n",
              "      <th>fri</th>\n",
              "      <th>sat</th>\n",
              "      <th>sun</th>\n",
              "      <th>temp</th>\n",
              "      <th>visib</th>\n",
              "      <th>num_collisions</th>\n",
              "    </tr>\n",
              "  </thead>\n",
              "  <tbody>\n",
              "    <tr>\n",
              "      <th>0</th>\n",
              "      <td>2013</td>\n",
              "      <td>1</td>\n",
              "      <td>0</td>\n",
              "      <td>0</td>\n",
              "      <td>0</td>\n",
              "      <td>0</td>\n",
              "      <td>0</td>\n",
              "      <td>0</td>\n",
              "      <td>0</td>\n",
              "      <td>0</td>\n",
              "      <td>...</td>\n",
              "      <td>1</td>\n",
              "      <td>0</td>\n",
              "      <td>0</td>\n",
              "      <td>0</td>\n",
              "      <td>0</td>\n",
              "      <td>0</td>\n",
              "      <td>0</td>\n",
              "      <td>-2.5</td>\n",
              "      <td>10.0</td>\n",
              "      <td>480</td>\n",
              "    </tr>\n",
              "    <tr>\n",
              "      <th>1</th>\n",
              "      <td>2013</td>\n",
              "      <td>1</td>\n",
              "      <td>0</td>\n",
              "      <td>0</td>\n",
              "      <td>0</td>\n",
              "      <td>0</td>\n",
              "      <td>0</td>\n",
              "      <td>0</td>\n",
              "      <td>0</td>\n",
              "      <td>0</td>\n",
              "      <td>...</td>\n",
              "      <td>0</td>\n",
              "      <td>0</td>\n",
              "      <td>1</td>\n",
              "      <td>0</td>\n",
              "      <td>0</td>\n",
              "      <td>0</td>\n",
              "      <td>0</td>\n",
              "      <td>0.1</td>\n",
              "      <td>10.0</td>\n",
              "      <td>505</td>\n",
              "    </tr>\n",
              "    <tr>\n",
              "      <th>2</th>\n",
              "      <td>2013</td>\n",
              "      <td>1</td>\n",
              "      <td>0</td>\n",
              "      <td>0</td>\n",
              "      <td>0</td>\n",
              "      <td>0</td>\n",
              "      <td>0</td>\n",
              "      <td>0</td>\n",
              "      <td>0</td>\n",
              "      <td>0</td>\n",
              "      <td>...</td>\n",
              "      <td>0</td>\n",
              "      <td>0</td>\n",
              "      <td>0</td>\n",
              "      <td>0</td>\n",
              "      <td>0</td>\n",
              "      <td>0</td>\n",
              "      <td>1</td>\n",
              "      <td>2.2</td>\n",
              "      <td>8.8</td>\n",
              "      <td>521</td>\n",
              "    </tr>\n",
              "    <tr>\n",
              "      <th>3</th>\n",
              "      <td>2013</td>\n",
              "      <td>1</td>\n",
              "      <td>0</td>\n",
              "      <td>0</td>\n",
              "      <td>0</td>\n",
              "      <td>0</td>\n",
              "      <td>0</td>\n",
              "      <td>0</td>\n",
              "      <td>0</td>\n",
              "      <td>0</td>\n",
              "      <td>...</td>\n",
              "      <td>0</td>\n",
              "      <td>0</td>\n",
              "      <td>1</td>\n",
              "      <td>0</td>\n",
              "      <td>0</td>\n",
              "      <td>0</td>\n",
              "      <td>0</td>\n",
              "      <td>3.3</td>\n",
              "      <td>10.0</td>\n",
              "      <td>660</td>\n",
              "    </tr>\n",
              "    <tr>\n",
              "      <th>4</th>\n",
              "      <td>2013</td>\n",
              "      <td>1</td>\n",
              "      <td>0</td>\n",
              "      <td>0</td>\n",
              "      <td>0</td>\n",
              "      <td>0</td>\n",
              "      <td>0</td>\n",
              "      <td>0</td>\n",
              "      <td>0</td>\n",
              "      <td>0</td>\n",
              "      <td>...</td>\n",
              "      <td>0</td>\n",
              "      <td>0</td>\n",
              "      <td>0</td>\n",
              "      <td>1</td>\n",
              "      <td>0</td>\n",
              "      <td>0</td>\n",
              "      <td>0</td>\n",
              "      <td>5.9</td>\n",
              "      <td>7.1</td>\n",
              "      <td>475</td>\n",
              "    </tr>\n",
              "  </tbody>\n",
              "</table>\n",
              "<p>5 rows × 23 columns</p>\n",
              "</div>\n",
              "      <button class=\"colab-df-convert\" onclick=\"convertToInteractive('df-d962a8d2-d838-4945-9ae6-eafd52a09583')\"\n",
              "              title=\"Convert this dataframe to an interactive table.\"\n",
              "              style=\"display:none;\">\n",
              "        \n",
              "  <svg xmlns=\"http://www.w3.org/2000/svg\" height=\"24px\"viewBox=\"0 0 24 24\"\n",
              "       width=\"24px\">\n",
              "    <path d=\"M0 0h24v24H0V0z\" fill=\"none\"/>\n",
              "    <path d=\"M18.56 5.44l.94 2.06.94-2.06 2.06-.94-2.06-.94-.94-2.06-.94 2.06-2.06.94zm-11 1L8.5 8.5l.94-2.06 2.06-.94-2.06-.94L8.5 2.5l-.94 2.06-2.06.94zm10 10l.94 2.06.94-2.06 2.06-.94-2.06-.94-.94-2.06-.94 2.06-2.06.94z\"/><path d=\"M17.41 7.96l-1.37-1.37c-.4-.4-.92-.59-1.43-.59-.52 0-1.04.2-1.43.59L10.3 9.45l-7.72 7.72c-.78.78-.78 2.05 0 2.83L4 21.41c.39.39.9.59 1.41.59.51 0 1.02-.2 1.41-.59l7.78-7.78 2.81-2.81c.8-.78.8-2.07 0-2.86zM5.41 20L4 18.59l7.72-7.72 1.47 1.35L5.41 20z\"/>\n",
              "  </svg>\n",
              "      </button>\n",
              "      \n",
              "  <style>\n",
              "    .colab-df-container {\n",
              "      display:flex;\n",
              "      flex-wrap:wrap;\n",
              "      gap: 12px;\n",
              "    }\n",
              "\n",
              "    .colab-df-convert {\n",
              "      background-color: #E8F0FE;\n",
              "      border: none;\n",
              "      border-radius: 50%;\n",
              "      cursor: pointer;\n",
              "      display: none;\n",
              "      fill: #1967D2;\n",
              "      height: 32px;\n",
              "      padding: 0 0 0 0;\n",
              "      width: 32px;\n",
              "    }\n",
              "\n",
              "    .colab-df-convert:hover {\n",
              "      background-color: #E2EBFA;\n",
              "      box-shadow: 0px 1px 2px rgba(60, 64, 67, 0.3), 0px 1px 3px 1px rgba(60, 64, 67, 0.15);\n",
              "      fill: #174EA6;\n",
              "    }\n",
              "\n",
              "    [theme=dark] .colab-df-convert {\n",
              "      background-color: #3B4455;\n",
              "      fill: #D2E3FC;\n",
              "    }\n",
              "\n",
              "    [theme=dark] .colab-df-convert:hover {\n",
              "      background-color: #434B5C;\n",
              "      box-shadow: 0px 1px 3px 1px rgba(0, 0, 0, 0.15);\n",
              "      filter: drop-shadow(0px 1px 2px rgba(0, 0, 0, 0.3));\n",
              "      fill: #FFFFFF;\n",
              "    }\n",
              "  </style>\n",
              "\n",
              "      <script>\n",
              "        const buttonEl =\n",
              "          document.querySelector('#df-d962a8d2-d838-4945-9ae6-eafd52a09583 button.colab-df-convert');\n",
              "        buttonEl.style.display =\n",
              "          google.colab.kernel.accessAllowed ? 'block' : 'none';\n",
              "\n",
              "        async function convertToInteractive(key) {\n",
              "          const element = document.querySelector('#df-d962a8d2-d838-4945-9ae6-eafd52a09583');\n",
              "          const dataTable =\n",
              "            await google.colab.kernel.invokeFunction('convertToInteractive',\n",
              "                                                     [key], {});\n",
              "          if (!dataTable) return;\n",
              "\n",
              "          const docLinkHtml = 'Like what you see? Visit the ' +\n",
              "            '<a target=\"_blank\" href=https://colab.research.google.com/notebooks/data_table.ipynb>data table notebook</a>'\n",
              "            + ' to learn more about interactive tables.';\n",
              "          element.innerHTML = '';\n",
              "          dataTable['output_type'] = 'display_data';\n",
              "          await google.colab.output.renderOutput(dataTable, element);\n",
              "          const docLink = document.createElement('div');\n",
              "          docLink.innerHTML = docLinkHtml;\n",
              "          element.appendChild(docLink);\n",
              "        }\n",
              "      </script>\n",
              "    </div>\n",
              "  </div>\n",
              "  "
            ]
          },
          "metadata": {},
          "execution_count": 64
        }
      ]
    },
    {
      "cell_type": "markdown",
      "source": [
        "#### Check for NAs"
      ],
      "metadata": {
        "id": "QgQQF8RG-oFc"
      }
    },
    {
      "cell_type": "code",
      "source": [
        "df_col_mod_train_2.isna().sum()"
      ],
      "metadata": {
        "id": "yv79Rue7-qof",
        "outputId": "114907b0-365f-4248-ec01-d893fb4ae040",
        "colab": {
          "base_uri": "https://localhost:8080/"
        }
      },
      "execution_count": 65,
      "outputs": [
        {
          "output_type": "execute_result",
          "data": {
            "text/plain": [
              "year              0\n",
              "jan               0\n",
              "feb               0\n",
              "mar               0\n",
              "apr               0\n",
              "may               0\n",
              "jun               0\n",
              "jul               0\n",
              "aug               0\n",
              "sep               0\n",
              "oct               0\n",
              "nov               0\n",
              "dec               0\n",
              "mon               0\n",
              "tue               0\n",
              "wed               0\n",
              "thu               0\n",
              "fri               0\n",
              "sat               0\n",
              "sun               0\n",
              "temp              0\n",
              "visib             0\n",
              "num_collisions    0\n",
              "dtype: int64"
            ]
          },
          "metadata": {},
          "execution_count": 65
        }
      ]
    },
    {
      "cell_type": "markdown",
      "source": [
        "#### Overview of Data"
      ],
      "metadata": {
        "id": "j8xVKo1x-yoa"
      }
    },
    {
      "cell_type": "code",
      "source": [
        "df_col_mod_train_2.describe().transpose()"
      ],
      "metadata": {
        "id": "1fdJTwU5-1I1",
        "outputId": "90cb0841-7f03-47f4-bf1a-d43e69a677b5",
        "colab": {
          "base_uri": "https://localhost:8080/",
          "height": 771
        }
      },
      "execution_count": 66,
      "outputs": [
        {
          "output_type": "execute_result",
          "data": {
            "text/plain": [
              "                 count         mean        std     min      25%     50%  \\\n",
              "year            1766.0  2016.032843   2.003410  2013.0  2014.00  2016.0   \n",
              "jan             1766.0     0.082673   0.275465     0.0     0.00     0.0   \n",
              "feb             1766.0     0.080974   0.272872     0.0     0.00     0.0   \n",
              "mar             1766.0     0.082673   0.275465     0.0     0.00     0.0   \n",
              "apr             1766.0     0.087769   0.283039     0.0     0.00     0.0   \n",
              "may             1766.0     0.086636   0.281381     0.0     0.00     0.0   \n",
              "jun             1766.0     0.083805   0.277174     0.0     0.00     0.0   \n",
              "jul             1766.0     0.087203   0.282212     0.0     0.00     0.0   \n",
              "aug             1766.0     0.087769   0.283039     0.0     0.00     0.0   \n",
              "sep             1766.0     0.077576   0.267580     0.0     0.00     0.0   \n",
              "oct             1766.0     0.090034   0.286312     0.0     0.00     0.0   \n",
              "nov             1766.0     0.077576   0.267580     0.0     0.00     0.0   \n",
              "dec             1766.0     0.075311   0.263968     0.0     0.00     0.0   \n",
              "mon             1766.0     0.143262   0.350439     0.0     0.00     0.0   \n",
              "tue             1766.0     0.142695   0.349861     0.0     0.00     0.0   \n",
              "wed             1766.0     0.143262   0.350439     0.0     0.00     0.0   \n",
              "thu             1766.0     0.145527   0.352731     0.0     0.00     0.0   \n",
              "fri             1766.0     0.142129   0.349281     0.0     0.00     0.0   \n",
              "sat             1766.0     0.146093   0.353299     0.0     0.00     0.0   \n",
              "sun             1766.0     0.137033   0.343979     0.0     0.00     0.0   \n",
              "temp            1766.0    10.913703   7.820080   -12.5     4.80    11.2   \n",
              "visib           1766.0     8.303737   2.239192     0.2     7.10     9.4   \n",
              "num_collisions  1766.0   598.446206  94.435482   355.0   532.25   602.0   \n",
              "\n",
              "                   75%     max  \n",
              "year            2018.0  2019.0  \n",
              "jan                0.0     1.0  \n",
              "feb                0.0     1.0  \n",
              "mar                0.0     1.0  \n",
              "apr                0.0     1.0  \n",
              "may                0.0     1.0  \n",
              "jun                0.0     1.0  \n",
              "jul                0.0     1.0  \n",
              "aug                0.0     1.0  \n",
              "sep                0.0     1.0  \n",
              "oct                0.0     1.0  \n",
              "nov                0.0     1.0  \n",
              "dec                0.0     1.0  \n",
              "mon                0.0     1.0  \n",
              "tue                0.0     1.0  \n",
              "wed                0.0     1.0  \n",
              "thu                0.0     1.0  \n",
              "fri                0.0     1.0  \n",
              "sat                0.0     1.0  \n",
              "sun                0.0     1.0  \n",
              "temp              17.8    25.3  \n",
              "visib             10.0    10.0  \n",
              "num_collisions   666.0   845.0  "
            ],
            "text/html": [
              "\n",
              "  <div id=\"df-d8d261ca-d6cf-4fe4-aa30-03c07ce41e38\">\n",
              "    <div class=\"colab-df-container\">\n",
              "      <div>\n",
              "<style scoped>\n",
              "    .dataframe tbody tr th:only-of-type {\n",
              "        vertical-align: middle;\n",
              "    }\n",
              "\n",
              "    .dataframe tbody tr th {\n",
              "        vertical-align: top;\n",
              "    }\n",
              "\n",
              "    .dataframe thead th {\n",
              "        text-align: right;\n",
              "    }\n",
              "</style>\n",
              "<table border=\"1\" class=\"dataframe\">\n",
              "  <thead>\n",
              "    <tr style=\"text-align: right;\">\n",
              "      <th></th>\n",
              "      <th>count</th>\n",
              "      <th>mean</th>\n",
              "      <th>std</th>\n",
              "      <th>min</th>\n",
              "      <th>25%</th>\n",
              "      <th>50%</th>\n",
              "      <th>75%</th>\n",
              "      <th>max</th>\n",
              "    </tr>\n",
              "  </thead>\n",
              "  <tbody>\n",
              "    <tr>\n",
              "      <th>year</th>\n",
              "      <td>1766.0</td>\n",
              "      <td>2016.032843</td>\n",
              "      <td>2.003410</td>\n",
              "      <td>2013.0</td>\n",
              "      <td>2014.00</td>\n",
              "      <td>2016.0</td>\n",
              "      <td>2018.0</td>\n",
              "      <td>2019.0</td>\n",
              "    </tr>\n",
              "    <tr>\n",
              "      <th>jan</th>\n",
              "      <td>1766.0</td>\n",
              "      <td>0.082673</td>\n",
              "      <td>0.275465</td>\n",
              "      <td>0.0</td>\n",
              "      <td>0.00</td>\n",
              "      <td>0.0</td>\n",
              "      <td>0.0</td>\n",
              "      <td>1.0</td>\n",
              "    </tr>\n",
              "    <tr>\n",
              "      <th>feb</th>\n",
              "      <td>1766.0</td>\n",
              "      <td>0.080974</td>\n",
              "      <td>0.272872</td>\n",
              "      <td>0.0</td>\n",
              "      <td>0.00</td>\n",
              "      <td>0.0</td>\n",
              "      <td>0.0</td>\n",
              "      <td>1.0</td>\n",
              "    </tr>\n",
              "    <tr>\n",
              "      <th>mar</th>\n",
              "      <td>1766.0</td>\n",
              "      <td>0.082673</td>\n",
              "      <td>0.275465</td>\n",
              "      <td>0.0</td>\n",
              "      <td>0.00</td>\n",
              "      <td>0.0</td>\n",
              "      <td>0.0</td>\n",
              "      <td>1.0</td>\n",
              "    </tr>\n",
              "    <tr>\n",
              "      <th>apr</th>\n",
              "      <td>1766.0</td>\n",
              "      <td>0.087769</td>\n",
              "      <td>0.283039</td>\n",
              "      <td>0.0</td>\n",
              "      <td>0.00</td>\n",
              "      <td>0.0</td>\n",
              "      <td>0.0</td>\n",
              "      <td>1.0</td>\n",
              "    </tr>\n",
              "    <tr>\n",
              "      <th>may</th>\n",
              "      <td>1766.0</td>\n",
              "      <td>0.086636</td>\n",
              "      <td>0.281381</td>\n",
              "      <td>0.0</td>\n",
              "      <td>0.00</td>\n",
              "      <td>0.0</td>\n",
              "      <td>0.0</td>\n",
              "      <td>1.0</td>\n",
              "    </tr>\n",
              "    <tr>\n",
              "      <th>jun</th>\n",
              "      <td>1766.0</td>\n",
              "      <td>0.083805</td>\n",
              "      <td>0.277174</td>\n",
              "      <td>0.0</td>\n",
              "      <td>0.00</td>\n",
              "      <td>0.0</td>\n",
              "      <td>0.0</td>\n",
              "      <td>1.0</td>\n",
              "    </tr>\n",
              "    <tr>\n",
              "      <th>jul</th>\n",
              "      <td>1766.0</td>\n",
              "      <td>0.087203</td>\n",
              "      <td>0.282212</td>\n",
              "      <td>0.0</td>\n",
              "      <td>0.00</td>\n",
              "      <td>0.0</td>\n",
              "      <td>0.0</td>\n",
              "      <td>1.0</td>\n",
              "    </tr>\n",
              "    <tr>\n",
              "      <th>aug</th>\n",
              "      <td>1766.0</td>\n",
              "      <td>0.087769</td>\n",
              "      <td>0.283039</td>\n",
              "      <td>0.0</td>\n",
              "      <td>0.00</td>\n",
              "      <td>0.0</td>\n",
              "      <td>0.0</td>\n",
              "      <td>1.0</td>\n",
              "    </tr>\n",
              "    <tr>\n",
              "      <th>sep</th>\n",
              "      <td>1766.0</td>\n",
              "      <td>0.077576</td>\n",
              "      <td>0.267580</td>\n",
              "      <td>0.0</td>\n",
              "      <td>0.00</td>\n",
              "      <td>0.0</td>\n",
              "      <td>0.0</td>\n",
              "      <td>1.0</td>\n",
              "    </tr>\n",
              "    <tr>\n",
              "      <th>oct</th>\n",
              "      <td>1766.0</td>\n",
              "      <td>0.090034</td>\n",
              "      <td>0.286312</td>\n",
              "      <td>0.0</td>\n",
              "      <td>0.00</td>\n",
              "      <td>0.0</td>\n",
              "      <td>0.0</td>\n",
              "      <td>1.0</td>\n",
              "    </tr>\n",
              "    <tr>\n",
              "      <th>nov</th>\n",
              "      <td>1766.0</td>\n",
              "      <td>0.077576</td>\n",
              "      <td>0.267580</td>\n",
              "      <td>0.0</td>\n",
              "      <td>0.00</td>\n",
              "      <td>0.0</td>\n",
              "      <td>0.0</td>\n",
              "      <td>1.0</td>\n",
              "    </tr>\n",
              "    <tr>\n",
              "      <th>dec</th>\n",
              "      <td>1766.0</td>\n",
              "      <td>0.075311</td>\n",
              "      <td>0.263968</td>\n",
              "      <td>0.0</td>\n",
              "      <td>0.00</td>\n",
              "      <td>0.0</td>\n",
              "      <td>0.0</td>\n",
              "      <td>1.0</td>\n",
              "    </tr>\n",
              "    <tr>\n",
              "      <th>mon</th>\n",
              "      <td>1766.0</td>\n",
              "      <td>0.143262</td>\n",
              "      <td>0.350439</td>\n",
              "      <td>0.0</td>\n",
              "      <td>0.00</td>\n",
              "      <td>0.0</td>\n",
              "      <td>0.0</td>\n",
              "      <td>1.0</td>\n",
              "    </tr>\n",
              "    <tr>\n",
              "      <th>tue</th>\n",
              "      <td>1766.0</td>\n",
              "      <td>0.142695</td>\n",
              "      <td>0.349861</td>\n",
              "      <td>0.0</td>\n",
              "      <td>0.00</td>\n",
              "      <td>0.0</td>\n",
              "      <td>0.0</td>\n",
              "      <td>1.0</td>\n",
              "    </tr>\n",
              "    <tr>\n",
              "      <th>wed</th>\n",
              "      <td>1766.0</td>\n",
              "      <td>0.143262</td>\n",
              "      <td>0.350439</td>\n",
              "      <td>0.0</td>\n",
              "      <td>0.00</td>\n",
              "      <td>0.0</td>\n",
              "      <td>0.0</td>\n",
              "      <td>1.0</td>\n",
              "    </tr>\n",
              "    <tr>\n",
              "      <th>thu</th>\n",
              "      <td>1766.0</td>\n",
              "      <td>0.145527</td>\n",
              "      <td>0.352731</td>\n",
              "      <td>0.0</td>\n",
              "      <td>0.00</td>\n",
              "      <td>0.0</td>\n",
              "      <td>0.0</td>\n",
              "      <td>1.0</td>\n",
              "    </tr>\n",
              "    <tr>\n",
              "      <th>fri</th>\n",
              "      <td>1766.0</td>\n",
              "      <td>0.142129</td>\n",
              "      <td>0.349281</td>\n",
              "      <td>0.0</td>\n",
              "      <td>0.00</td>\n",
              "      <td>0.0</td>\n",
              "      <td>0.0</td>\n",
              "      <td>1.0</td>\n",
              "    </tr>\n",
              "    <tr>\n",
              "      <th>sat</th>\n",
              "      <td>1766.0</td>\n",
              "      <td>0.146093</td>\n",
              "      <td>0.353299</td>\n",
              "      <td>0.0</td>\n",
              "      <td>0.00</td>\n",
              "      <td>0.0</td>\n",
              "      <td>0.0</td>\n",
              "      <td>1.0</td>\n",
              "    </tr>\n",
              "    <tr>\n",
              "      <th>sun</th>\n",
              "      <td>1766.0</td>\n",
              "      <td>0.137033</td>\n",
              "      <td>0.343979</td>\n",
              "      <td>0.0</td>\n",
              "      <td>0.00</td>\n",
              "      <td>0.0</td>\n",
              "      <td>0.0</td>\n",
              "      <td>1.0</td>\n",
              "    </tr>\n",
              "    <tr>\n",
              "      <th>temp</th>\n",
              "      <td>1766.0</td>\n",
              "      <td>10.913703</td>\n",
              "      <td>7.820080</td>\n",
              "      <td>-12.5</td>\n",
              "      <td>4.80</td>\n",
              "      <td>11.2</td>\n",
              "      <td>17.8</td>\n",
              "      <td>25.3</td>\n",
              "    </tr>\n",
              "    <tr>\n",
              "      <th>visib</th>\n",
              "      <td>1766.0</td>\n",
              "      <td>8.303737</td>\n",
              "      <td>2.239192</td>\n",
              "      <td>0.2</td>\n",
              "      <td>7.10</td>\n",
              "      <td>9.4</td>\n",
              "      <td>10.0</td>\n",
              "      <td>10.0</td>\n",
              "    </tr>\n",
              "    <tr>\n",
              "      <th>num_collisions</th>\n",
              "      <td>1766.0</td>\n",
              "      <td>598.446206</td>\n",
              "      <td>94.435482</td>\n",
              "      <td>355.0</td>\n",
              "      <td>532.25</td>\n",
              "      <td>602.0</td>\n",
              "      <td>666.0</td>\n",
              "      <td>845.0</td>\n",
              "    </tr>\n",
              "  </tbody>\n",
              "</table>\n",
              "</div>\n",
              "      <button class=\"colab-df-convert\" onclick=\"convertToInteractive('df-d8d261ca-d6cf-4fe4-aa30-03c07ce41e38')\"\n",
              "              title=\"Convert this dataframe to an interactive table.\"\n",
              "              style=\"display:none;\">\n",
              "        \n",
              "  <svg xmlns=\"http://www.w3.org/2000/svg\" height=\"24px\"viewBox=\"0 0 24 24\"\n",
              "       width=\"24px\">\n",
              "    <path d=\"M0 0h24v24H0V0z\" fill=\"none\"/>\n",
              "    <path d=\"M18.56 5.44l.94 2.06.94-2.06 2.06-.94-2.06-.94-.94-2.06-.94 2.06-2.06.94zm-11 1L8.5 8.5l.94-2.06 2.06-.94-2.06-.94L8.5 2.5l-.94 2.06-2.06.94zm10 10l.94 2.06.94-2.06 2.06-.94-2.06-.94-.94-2.06-.94 2.06-2.06.94z\"/><path d=\"M17.41 7.96l-1.37-1.37c-.4-.4-.92-.59-1.43-.59-.52 0-1.04.2-1.43.59L10.3 9.45l-7.72 7.72c-.78.78-.78 2.05 0 2.83L4 21.41c.39.39.9.59 1.41.59.51 0 1.02-.2 1.41-.59l7.78-7.78 2.81-2.81c.8-.78.8-2.07 0-2.86zM5.41 20L4 18.59l7.72-7.72 1.47 1.35L5.41 20z\"/>\n",
              "  </svg>\n",
              "      </button>\n",
              "      \n",
              "  <style>\n",
              "    .colab-df-container {\n",
              "      display:flex;\n",
              "      flex-wrap:wrap;\n",
              "      gap: 12px;\n",
              "    }\n",
              "\n",
              "    .colab-df-convert {\n",
              "      background-color: #E8F0FE;\n",
              "      border: none;\n",
              "      border-radius: 50%;\n",
              "      cursor: pointer;\n",
              "      display: none;\n",
              "      fill: #1967D2;\n",
              "      height: 32px;\n",
              "      padding: 0 0 0 0;\n",
              "      width: 32px;\n",
              "    }\n",
              "\n",
              "    .colab-df-convert:hover {\n",
              "      background-color: #E2EBFA;\n",
              "      box-shadow: 0px 1px 2px rgba(60, 64, 67, 0.3), 0px 1px 3px 1px rgba(60, 64, 67, 0.15);\n",
              "      fill: #174EA6;\n",
              "    }\n",
              "\n",
              "    [theme=dark] .colab-df-convert {\n",
              "      background-color: #3B4455;\n",
              "      fill: #D2E3FC;\n",
              "    }\n",
              "\n",
              "    [theme=dark] .colab-df-convert:hover {\n",
              "      background-color: #434B5C;\n",
              "      box-shadow: 0px 1px 3px 1px rgba(0, 0, 0, 0.15);\n",
              "      filter: drop-shadow(0px 1px 2px rgba(0, 0, 0, 0.3));\n",
              "      fill: #FFFFFF;\n",
              "    }\n",
              "  </style>\n",
              "\n",
              "      <script>\n",
              "        const buttonEl =\n",
              "          document.querySelector('#df-d8d261ca-d6cf-4fe4-aa30-03c07ce41e38 button.colab-df-convert');\n",
              "        buttonEl.style.display =\n",
              "          google.colab.kernel.accessAllowed ? 'block' : 'none';\n",
              "\n",
              "        async function convertToInteractive(key) {\n",
              "          const element = document.querySelector('#df-d8d261ca-d6cf-4fe4-aa30-03c07ce41e38');\n",
              "          const dataTable =\n",
              "            await google.colab.kernel.invokeFunction('convertToInteractive',\n",
              "                                                     [key], {});\n",
              "          if (!dataTable) return;\n",
              "\n",
              "          const docLinkHtml = 'Like what you see? Visit the ' +\n",
              "            '<a target=\"_blank\" href=https://colab.research.google.com/notebooks/data_table.ipynb>data table notebook</a>'\n",
              "            + ' to learn more about interactive tables.';\n",
              "          element.innerHTML = '';\n",
              "          dataTable['output_type'] = 'display_data';\n",
              "          await google.colab.output.renderOutput(dataTable, element);\n",
              "          const docLink = document.createElement('div');\n",
              "          docLink.innerHTML = docLinkHtml;\n",
              "          element.appendChild(docLink);\n",
              "        }\n",
              "      </script>\n",
              "    </div>\n",
              "  </div>\n",
              "  "
            ]
          },
          "metadata": {},
          "execution_count": 66
        }
      ]
    },
    {
      "cell_type": "markdown",
      "source": [
        "#### Separate Features and Labels"
      ],
      "metadata": {
        "id": "gGu1zcSF-_80"
      }
    },
    {
      "cell_type": "code",
      "source": [
        "df_col_mod_train_2_feat = df_col_mod_train_2.copy()\n",
        "df_col_mod_test_2_feat = df_col_mod_test_2.copy()\n",
        "\n",
        "df_col_mod_train_2_lab = df_col_mod_train_2_feat.pop('num_collisions')\n",
        "df_col_mod_test_2_lab = df_col_mod_test_2_feat.pop('num_collisions')"
      ],
      "metadata": {
        "id": "TzD5cnvT_D3x"
      },
      "execution_count": 67,
      "outputs": []
    },
    {
      "cell_type": "markdown",
      "source": [
        "#### Model"
      ],
      "metadata": {
        "id": "Gwt_hZIp_Yoc"
      }
    },
    {
      "cell_type": "markdown",
      "source": [
        "##### Normaliser Layer"
      ],
      "metadata": {
        "id": "Zfz78HhI_aXZ"
      }
    },
    {
      "cell_type": "code",
      "source": [
        "normaliser = tf.keras.layers.Normalization(axis=-1)\n",
        "\n",
        "normaliser.adapt(np.array(df_col_mod_train_2_feat))\n",
        "\n",
        "print(normaliser.mean.numpy())"
      ],
      "metadata": {
        "id": "-yftaTKz_d8R",
        "outputId": "87e92c25-d716-40c8-fc0d-41c918c2ca7b",
        "colab": {
          "base_uri": "https://localhost:8080/"
        }
      },
      "execution_count": 68,
      "outputs": [
        {
          "output_type": "stream",
          "name": "stdout",
          "text": [
            "[[2016.033    0.083    0.081    0.083    0.088    0.087    0.084    0.087\n",
            "     0.088    0.078    0.09     0.078    0.075    0.143    0.143    0.143\n",
            "     0.146    0.142    0.146    0.137   10.914    8.304]]\n"
          ]
        }
      ]
    },
    {
      "cell_type": "markdown",
      "source": [
        "##### Sequencer"
      ],
      "metadata": {
        "id": "G7n0b_wRAHSF"
      }
    },
    {
      "cell_type": "code",
      "source": [
        "col_mod_2 = np.array(df_col_mod_train_2_feat)\n",
        "\n",
        "col_mod_2_normaliser = layers.Normalization(axis=-1)\n",
        "col_mod_2_normaliser.adapt(np.array(df_col_mod_train_2_feat))"
      ],
      "metadata": {
        "id": "_dW0gG_9AI3Y"
      },
      "execution_count": 69,
      "outputs": []
    },
    {
      "cell_type": "code",
      "source": [
        "col_mod_2_model = tf.keras.Sequential([\n",
        "    col_mod_2_normaliser,\n",
        "    layers.Dense(units=1)\n",
        "])\n",
        "\n",
        "col_mod_2_model.summary()"
      ],
      "metadata": {
        "id": "QL1EywyMAcIL",
        "outputId": "d4df16d0-11b9-4203-c2dd-ae079cd67023",
        "colab": {
          "base_uri": "https://localhost:8080/"
        }
      },
      "execution_count": 70,
      "outputs": [
        {
          "output_type": "stream",
          "name": "stdout",
          "text": [
            "Model: \"sequential_4\"\n",
            "_________________________________________________________________\n",
            " Layer (type)                Output Shape              Param #   \n",
            "=================================================================\n",
            " normalization_9 (Normalizat  (None, 22)               45        \n",
            " ion)                                                            \n",
            "                                                                 \n",
            " dense_4 (Dense)             (None, 1)                 23        \n",
            "                                                                 \n",
            "=================================================================\n",
            "Total params: 68\n",
            "Trainable params: 23\n",
            "Non-trainable params: 45\n",
            "_________________________________________________________________\n"
          ]
        }
      ]
    },
    {
      "cell_type": "code",
      "source": [
        "col_mod_2_model.predict(col_mod_2)"
      ],
      "metadata": {
        "id": "id1FLlNIAjz3",
        "outputId": "8eb847b4-06eb-47c4-a354-cfd98163c6e3",
        "colab": {
          "base_uri": "https://localhost:8080/"
        }
      },
      "execution_count": 71,
      "outputs": [
        {
          "output_type": "stream",
          "name": "stdout",
          "text": [
            "56/56 [==============================] - 0s 1ms/step\n"
          ]
        },
        {
          "output_type": "execute_result",
          "data": {
            "text/plain": [
              "array([[-1.825],\n",
              "       [ 0.874],\n",
              "       [ 2.559],\n",
              "       ...,\n",
              "       [-0.994],\n",
              "       [ 2.73 ],\n",
              "       [-0.726]], dtype=float32)"
            ]
          },
          "metadata": {},
          "execution_count": 71
        }
      ]
    },
    {
      "cell_type": "code",
      "source": [
        "col_mod_2_model.layers[1].kernel"
      ],
      "metadata": {
        "id": "OcP9BUsLA6eZ",
        "outputId": "bb25cf97-45dc-450c-e27f-5987f3650731",
        "colab": {
          "base_uri": "https://localhost:8080/"
        }
      },
      "execution_count": 72,
      "outputs": [
        {
          "output_type": "execute_result",
          "data": {
            "text/plain": [
              "<tf.Variable 'dense_4/kernel:0' shape=(22, 1) dtype=float32, numpy=\n",
              "array([[-0.399],\n",
              "       [-0.425],\n",
              "       [-0.459],\n",
              "       [ 0.206],\n",
              "       [-0.5  ],\n",
              "       [ 0.15 ],\n",
              "       [-0.066],\n",
              "       [ 0.097],\n",
              "       [-0.087],\n",
              "       [-0.26 ],\n",
              "       [-0.42 ],\n",
              "       [ 0.433],\n",
              "       [-0.175],\n",
              "       [-0.383],\n",
              "       [ 0.421],\n",
              "       [-0.056],\n",
              "       [ 0.057],\n",
              "       [ 0.399],\n",
              "       [-0.384],\n",
              "       [ 0.193],\n",
              "       [-0.426],\n",
              "       [ 0.464]], dtype=float32)>"
            ]
          },
          "metadata": {},
          "execution_count": 72
        }
      ]
    },
    {
      "cell_type": "code",
      "source": [
        "col_mod_2_model.compile(\n",
        "    optimizer = tf.keras.optimizers.Adam(learning_rate=0.1),\n",
        "    loss='mean_absolute_error')"
      ],
      "metadata": {
        "id": "aI_L2n4eBDVV"
      },
      "execution_count": 73,
      "outputs": []
    },
    {
      "cell_type": "code",
      "source": [
        "%%time\n",
        "history = col_mod_2_model.fit(\n",
        "    df_col_mod_train_2_feat,\n",
        "    df_col_mod_train_2_lab,\n",
        "    epochs=100,\n",
        "    # Suppress logging.\n",
        "    verbose=0,\n",
        "    # Calculate validation results on 20% of the training data.\n",
        "    validation_split = 0.2)"
      ],
      "metadata": {
        "id": "y5O3OaHqBeJq",
        "outputId": "a705fd42-73f4-4e61-8442-4b79dcfbe7b3",
        "colab": {
          "base_uri": "https://localhost:8080/"
        }
      },
      "execution_count": 74,
      "outputs": [
        {
          "output_type": "stream",
          "name": "stdout",
          "text": [
            "CPU times: user 9.08 s, sys: 488 ms, total: 9.57 s\n",
            "Wall time: 8.61 s\n"
          ]
        }
      ]
    },
    {
      "cell_type": "code",
      "source": [
        "plot_loss(history)"
      ],
      "metadata": {
        "id": "fB7DeBaFCjLo",
        "outputId": "f4be0b06-b973-42c7-c02c-e04d0fb6d56b",
        "colab": {
          "base_uri": "https://localhost:8080/",
          "height": 283
        }
      },
      "execution_count": 75,
      "outputs": [
        {
          "output_type": "display_data",
          "data": {
            "text/plain": [
              "<Figure size 432x288 with 1 Axes>"
            ],
            "image/png": "[encoded data removed]"
          },
          "metadata": {
            "needs_background": "light"
          }
        }
      ]
    },
    {
      "cell_type": "code",
      "source": [
        "test_results['col_mod_2'] = col_mod_2_model.evaluate(\n",
        "    df_col_mod_test_2_feat,\n",
        "    df_col_mod_test_2_lab, verbose=0)"
      ],
      "metadata": {
        "id": "xhzlJGnUC0ng"
      },
      "execution_count": 76,
      "outputs": []
    },
    {
      "cell_type": "code",
      "source": [
        "print(test_results)"
      ],
      "metadata": {
        "id": "WcD2pW7aDJQL",
        "outputId": "6f572e3a-1d92-4aad-fca1-7c7ad806c6a2",
        "colab": {
          "base_uri": "https://localhost:8080/"
        }
      },
      "execution_count": 77,
      "outputs": [
        {
          "output_type": "stream",
          "name": "stdout",
          "text": [
            "{'temp_model': 155.27452087402344, 'col_mod_1': 154.217529296875, 'std_col_mod_1': 161.0737762451172, 'norm_col_mod_1': 158.41468811035156, 'col_mod_2': 167.04177856445312}\n"
          ]
        }
      ]
    },
    {
      "cell_type": "markdown",
      "source": [
        "### Standardised Data with One-Hot Encoding"
      ],
      "metadata": {
        "id": "SKD5RCxEDaaG"
      }
    },
    {
      "cell_type": "markdown",
      "source": [
        "#### Read Data"
      ],
      "metadata": {
        "id": "syuAkfUCDkDl"
      }
    },
    {
      "cell_type": "markdown",
      "source": [
        "##### Training Data"
      ],
      "metadata": {
        "id": "jY739K4aDljI"
      }
    },
    {
      "cell_type": "code",
      "source": [
        "url = \"https://raw.githubusercontent.com/AaronM44/DAOTW-Assignment-1/main/outputs/std_col_mod_2_train.csv\"\n",
        "\n",
        "raw_std_col_mod_train_2 = pd.read_csv(url)\n",
        "\n",
        "df_std_col_mod_train_2 = raw_std_col_mod_train_2.copy()\n",
        "\n",
        "df_std_col_mod_train_2 = df_std_col_mod_train_2.drop(df_std_col_mod_train_2.columns[[0, 1]], axis=1)\n",
        "\n",
        "df_std_col_mod_train_2.head()"
      ],
      "metadata": {
        "id": "TJLn7N_LDneE",
        "outputId": "133c8934-ee1a-4458-d4aa-d0fb82d34df5",
        "colab": {
          "base_uri": "https://localhost:8080/",
          "height": 236
        }
      },
      "execution_count": 78,
      "outputs": [
        {
          "output_type": "execute_result",
          "data": {
            "text/plain": [
              "   year  jan  feb  mar  apr  may  jun  jul  aug  sep  ...  mon  tue  wed  thu  \\\n",
              "0  2017    0    0    0    0    0    0    1    0    0  ...    0    0    0    0   \n",
              "1  2016    0    0    0    1    0    0    0    0    0  ...    0    0    1    0   \n",
              "2  2014    0    0    0    1    0    0    0    0    0  ...    0    0    1    0   \n",
              "3  2019    0    0    0    0    0    0    0    0    1  ...    0    1    0    0   \n",
              "4  2013    0    0    0    1    0    0    0    0    0  ...    0    0    0    0   \n",
              "\n",
              "   fri  sat  sun      temp     visib  num_collisions  \n",
              "0    1    0    0  1.249256 -1.136888             515  \n",
              "1    0    0    0 -0.396577  0.769518             517  \n",
              "2    0    0    0 -0.830363  0.769518             622  \n",
              "3    0    0    0  0.981330 -0.955326             689  \n",
              "4    0    0    1 -0.141409  0.724127             598  \n",
              "\n",
              "[5 rows x 23 columns]"
            ],
            "text/html": [
              "\n",
              "  <div id=\"df-df8ac789-6fe2-4c38-a5b2-65649744d7de\">\n",
              "    <div class=\"colab-df-container\">\n",
              "      <div>\n",
              "<style scoped>\n",
              "    .dataframe tbody tr th:only-of-type {\n",
              "        vertical-align: middle;\n",
              "    }\n",
              "\n",
              "    .dataframe tbody tr th {\n",
              "        vertical-align: top;\n",
              "    }\n",
              "\n",
              "    .dataframe thead th {\n",
              "        text-align: right;\n",
              "    }\n",
              "</style>\n",
              "<table border=\"1\" class=\"dataframe\">\n",
              "  <thead>\n",
              "    <tr style=\"text-align: right;\">\n",
              "      <th></th>\n",
              "      <th>year</th>\n",
              "      <th>jan</th>\n",
              "      <th>feb</th>\n",
              "      <th>mar</th>\n",
              "      <th>apr</th>\n",
              "      <th>may</th>\n",
              "      <th>jun</th>\n",
              "      <th>jul</th>\n",
              "      <th>aug</th>\n",
              "      <th>sep</th>\n",
              "      <th>...</th>\n",
              "      <th>mon</th>\n",
              "      <th>tue</th>\n",
              "      <th>wed</th>\n",
              "      <th>thu</th>\n",
              "      <th>fri</th>\n",
              "      <th>sat</th>\n",
              "      <th>sun</th>\n",
              "      <th>temp</th>\n",
              "      <th>visib</th>\n",
              "      <th>num_collisions</th>\n",
              "    </tr>\n",
              "  </thead>\n",
              "  <tbody>\n",
              "    <tr>\n",
              "      <th>0</th>\n",
              "      <td>2017</td>\n",
              "      <td>0</td>\n",
              "      <td>0</td>\n",
              "      <td>0</td>\n",
              "      <td>0</td>\n",
              "      <td>0</td>\n",
              "      <td>0</td>\n",
              "      <td>1</td>\n",
              "      <td>0</td>\n",
              "      <td>0</td>\n",
              "      <td>...</td>\n",
              "      <td>0</td>\n",
              "      <td>0</td>\n",
              "      <td>0</td>\n",
              "      <td>0</td>\n",
              "      <td>1</td>\n",
              "      <td>0</td>\n",
              "      <td>0</td>\n",
              "      <td>1.249256</td>\n",
              "      <td>-1.136888</td>\n",
              "      <td>515</td>\n",
              "    </tr>\n",
              "    <tr>\n",
              "      <th>1</th>\n",
              "      <td>2016</td>\n",
              "      <td>0</td>\n",
              "      <td>0</td>\n",
              "      <td>0</td>\n",
              "      <td>1</td>\n",
              "      <td>0</td>\n",
              "      <td>0</td>\n",
              "      <td>0</td>\n",
              "      <td>0</td>\n",
              "      <td>0</td>\n",
              "      <td>...</td>\n",
              "      <td>0</td>\n",
              "      <td>0</td>\n",
              "      <td>1</td>\n",
              "      <td>0</td>\n",
              "      <td>0</td>\n",
              "      <td>0</td>\n",
              "      <td>0</td>\n",
              "      <td>-0.396577</td>\n",
              "      <td>0.769518</td>\n",
              "      <td>517</td>\n",
              "    </tr>\n",
              "    <tr>\n",
              "      <th>2</th>\n",
              "      <td>2014</td>\n",
              "      <td>0</td>\n",
              "      <td>0</td>\n",
              "      <td>0</td>\n",
              "      <td>1</td>\n",
              "      <td>0</td>\n",
              "      <td>0</td>\n",
              "      <td>0</td>\n",
              "      <td>0</td>\n",
              "      <td>0</td>\n",
              "      <td>...</td>\n",
              "      <td>0</td>\n",
              "      <td>0</td>\n",
              "      <td>1</td>\n",
              "      <td>0</td>\n",
              "      <td>0</td>\n",
              "      <td>0</td>\n",
              "      <td>0</td>\n",
              "      <td>-0.830363</td>\n",
              "      <td>0.769518</td>\n",
              "      <td>622</td>\n",
              "    </tr>\n",
              "    <tr>\n",
              "      <th>3</th>\n",
              "      <td>2019</td>\n",
              "      <td>0</td>\n",
              "      <td>0</td>\n",
              "      <td>0</td>\n",
              "      <td>0</td>\n",
              "      <td>0</td>\n",
              "      <td>0</td>\n",
              "      <td>0</td>\n",
              "      <td>0</td>\n",
              "      <td>1</td>\n",
              "      <td>...</td>\n",
              "      <td>0</td>\n",
              "      <td>1</td>\n",
              "      <td>0</td>\n",
              "      <td>0</td>\n",
              "      <td>0</td>\n",
              "      <td>0</td>\n",
              "      <td>0</td>\n",
              "      <td>0.981330</td>\n",
              "      <td>-0.955326</td>\n",
              "      <td>689</td>\n",
              "    </tr>\n",
              "    <tr>\n",
              "      <th>4</th>\n",
              "      <td>2013</td>\n",
              "      <td>0</td>\n",
              "      <td>0</td>\n",
              "      <td>0</td>\n",
              "      <td>1</td>\n",
              "      <td>0</td>\n",
              "      <td>0</td>\n",
              "      <td>0</td>\n",
              "      <td>0</td>\n",
              "      <td>0</td>\n",
              "      <td>...</td>\n",
              "      <td>0</td>\n",
              "      <td>0</td>\n",
              "      <td>0</td>\n",
              "      <td>0</td>\n",
              "      <td>0</td>\n",
              "      <td>0</td>\n",
              "      <td>1</td>\n",
              "      <td>-0.141409</td>\n",
              "      <td>0.724127</td>\n",
              "      <td>598</td>\n",
              "    </tr>\n",
              "  </tbody>\n",
              "</table>\n",
              "<p>5 rows × 23 columns</p>\n",
              "</div>\n",
              "      <button class=\"colab-df-convert\" onclick=\"convertToInteractive('df-df8ac789-6fe2-4c38-a5b2-65649744d7de')\"\n",
              "              title=\"Convert this dataframe to an interactive table.\"\n",
              "              style=\"display:none;\">\n",
              "        \n",
              "  <svg xmlns=\"http://www.w3.org/2000/svg\" height=\"24px\"viewBox=\"0 0 24 24\"\n",
              "       width=\"24px\">\n",
              "    <path d=\"M0 0h24v24H0V0z\" fill=\"none\"/>\n",
              "    <path d=\"M18.56 5.44l.94 2.06.94-2.06 2.06-.94-2.06-.94-.94-2.06-.94 2.06-2.06.94zm-11 1L8.5 8.5l.94-2.06 2.06-.94-2.06-.94L8.5 2.5l-.94 2.06-2.06.94zm10 10l.94 2.06.94-2.06 2.06-.94-2.06-.94-.94-2.06-.94 2.06-2.06.94z\"/><path d=\"M17.41 7.96l-1.37-1.37c-.4-.4-.92-.59-1.43-.59-.52 0-1.04.2-1.43.59L10.3 9.45l-7.72 7.72c-.78.78-.78 2.05 0 2.83L4 21.41c.39.39.9.59 1.41.59.51 0 1.02-.2 1.41-.59l7.78-7.78 2.81-2.81c.8-.78.8-2.07 0-2.86zM5.41 20L4 18.59l7.72-7.72 1.47 1.35L5.41 20z\"/>\n",
              "  </svg>\n",
              "      </button>\n",
              "      \n",
              "  <style>\n",
              "    .colab-df-container {\n",
              "      display:flex;\n",
              "      flex-wrap:wrap;\n",
              "      gap: 12px;\n",
              "    }\n",
              "\n",
              "    .colab-df-convert {\n",
              "      background-color: #E8F0FE;\n",
              "      border: none;\n",
              "      border-radius: 50%;\n",
              "      cursor: pointer;\n",
              "      display: none;\n",
              "      fill: #1967D2;\n",
              "      height: 32px;\n",
              "      padding: 0 0 0 0;\n",
              "      width: 32px;\n",
              "    }\n",
              "\n",
              "    .colab-df-convert:hover {\n",
              "      background-color: #E2EBFA;\n",
              "      box-shadow: 0px 1px 2px rgba(60, 64, 67, 0.3), 0px 1px 3px 1px rgba(60, 64, 67, 0.15);\n",
              "      fill: #174EA6;\n",
              "    }\n",
              "\n",
              "    [theme=dark] .colab-df-convert {\n",
              "      background-color: #3B4455;\n",
              "      fill: #D2E3FC;\n",
              "    }\n",
              "\n",
              "    [theme=dark] .colab-df-convert:hover {\n",
              "      background-color: #434B5C;\n",
              "      box-shadow: 0px 1px 3px 1px rgba(0, 0, 0, 0.15);\n",
              "      filter: drop-shadow(0px 1px 2px rgba(0, 0, 0, 0.3));\n",
              "      fill: #FFFFFF;\n",
              "    }\n",
              "  </style>\n",
              "\n",
              "      <script>\n",
              "        const buttonEl =\n",
              "          document.querySelector('#df-df8ac789-6fe2-4c38-a5b2-65649744d7de button.colab-df-convert');\n",
              "        buttonEl.style.display =\n",
              "          google.colab.kernel.accessAllowed ? 'block' : 'none';\n",
              "\n",
              "        async function convertToInteractive(key) {\n",
              "          const element = document.querySelector('#df-df8ac789-6fe2-4c38-a5b2-65649744d7de');\n",
              "          const dataTable =\n",
              "            await google.colab.kernel.invokeFunction('convertToInteractive',\n",
              "                                                     [key], {});\n",
              "          if (!dataTable) return;\n",
              "\n",
              "          const docLinkHtml = 'Like what you see? Visit the ' +\n",
              "            '<a target=\"_blank\" href=https://colab.research.google.com/notebooks/data_table.ipynb>data table notebook</a>'\n",
              "            + ' to learn more about interactive tables.';\n",
              "          element.innerHTML = '';\n",
              "          dataTable['output_type'] = 'display_data';\n",
              "          await google.colab.output.renderOutput(dataTable, element);\n",
              "          const docLink = document.createElement('div');\n",
              "          docLink.innerHTML = docLinkHtml;\n",
              "          element.appendChild(docLink);\n",
              "        }\n",
              "      </script>\n",
              "    </div>\n",
              "  </div>\n",
              "  "
            ]
          },
          "metadata": {},
          "execution_count": 78
        }
      ]
    },
    {
      "cell_type": "markdown",
      "source": [
        "##### Test Data"
      ],
      "metadata": {
        "id": "0GyoLynjEuI9"
      }
    },
    {
      "cell_type": "code",
      "source": [
        "url = \"https://raw.githubusercontent.com/AaronM44/DAOTW-Assignment-1/main/outputs/std_col_mod_2_test.csv\"\n",
        "\n",
        "raw_std_col_mod_test_2 = pd.read_csv(url)\n",
        "\n",
        "df_std_col_mod_test_2 = raw_std_col_mod_test_2.copy()\n",
        "\n",
        "df_std_col_mod_test_2 = df_std_col_mod_test_2.drop(df_std_col_mod_test_2.columns[[0, 1]], axis=1)\n",
        "\n",
        "df_std_col_mod_test_2.head()"
      ],
      "metadata": {
        "id": "5qKjkugDEwkI",
        "outputId": "70c79550-d3cb-4e68-fb3a-48df73e24054",
        "colab": {
          "base_uri": "https://localhost:8080/",
          "height": 236
        }
      },
      "execution_count": 79,
      "outputs": [
        {
          "output_type": "execute_result",
          "data": {
            "text/plain": [
              "   year  jan  feb  mar  apr  may  jun  jul  aug  sep  ...  mon  tue  wed  thu  \\\n",
              "0  2013    1    0    0    0    0    0    0    0    0  ...    0    1    0    0   \n",
              "1  2013    1    0    0    0    0    0    0    0    0  ...    0    0    0    1   \n",
              "2  2013    1    0    0    0    0    0    0    0    0  ...    0    0    0    0   \n",
              "3  2013    1    0    0    0    0    0    0    0    0  ...    0    0    0    1   \n",
              "4  2013    1    0    0    0    0    0    0    0    0  ...    0    0    0    0   \n",
              "\n",
              "   fri  sat  sun      temp     visib  num_collisions  \n",
              "0    0    0    0 -2.118962  0.769518             549  \n",
              "1    0    0    0 -1.021739  0.769518             389  \n",
              "2    1    0    0 -1.123806  0.678736             393  \n",
              "3    0    0    0 -0.638987 -0.546810             475  \n",
              "4    0    1    0 -0.664504  0.542565             516  \n",
              "\n",
              "[5 rows x 23 columns]"
            ],
            "text/html": [
              "\n",
              "  <div id=\"df-8fcc316e-104f-43b1-823b-c24304f05d4d\">\n",
              "    <div class=\"colab-df-container\">\n",
              "      <div>\n",
              "<style scoped>\n",
              "    .dataframe tbody tr th:only-of-type {\n",
              "        vertical-align: middle;\n",
              "    }\n",
              "\n",
              "    .dataframe tbody tr th {\n",
              "        vertical-align: top;\n",
              "    }\n",
              "\n",
              "    .dataframe thead th {\n",
              "        text-align: right;\n",
              "    }\n",
              "</style>\n",
              "<table border=\"1\" class=\"dataframe\">\n",
              "  <thead>\n",
              "    <tr style=\"text-align: right;\">\n",
              "      <th></th>\n",
              "      <th>year</th>\n",
              "      <th>jan</th>\n",
              "      <th>feb</th>\n",
              "      <th>mar</th>\n",
              "      <th>apr</th>\n",
              "      <th>may</th>\n",
              "      <th>jun</th>\n",
              "      <th>jul</th>\n",
              "      <th>aug</th>\n",
              "      <th>sep</th>\n",
              "      <th>...</th>\n",
              "      <th>mon</th>\n",
              "      <th>tue</th>\n",
              "      <th>wed</th>\n",
              "      <th>thu</th>\n",
              "      <th>fri</th>\n",
              "      <th>sat</th>\n",
              "      <th>sun</th>\n",
              "      <th>temp</th>\n",
              "      <th>visib</th>\n",
              "      <th>num_collisions</th>\n",
              "    </tr>\n",
              "  </thead>\n",
              "  <tbody>\n",
              "    <tr>\n",
              "      <th>0</th>\n",
              "      <td>2013</td>\n",
              "      <td>1</td>\n",
              "      <td>0</td>\n",
              "      <td>0</td>\n",
              "      <td>0</td>\n",
              "      <td>0</td>\n",
              "      <td>0</td>\n",
              "      <td>0</td>\n",
              "      <td>0</td>\n",
              "      <td>0</td>\n",
              "      <td>...</td>\n",
              "      <td>0</td>\n",
              "      <td>1</td>\n",
              "      <td>0</td>\n",
              "      <td>0</td>\n",
              "      <td>0</td>\n",
              "      <td>0</td>\n",
              "      <td>0</td>\n",
              "      <td>-2.118962</td>\n",
              "      <td>0.769518</td>\n",
              "      <td>549</td>\n",
              "    </tr>\n",
              "    <tr>\n",
              "      <th>1</th>\n",
              "      <td>2013</td>\n",
              "      <td>1</td>\n",
              "      <td>0</td>\n",
              "      <td>0</td>\n",
              "      <td>0</td>\n",
              "      <td>0</td>\n",
              "      <td>0</td>\n",
              "      <td>0</td>\n",
              "      <td>0</td>\n",
              "      <td>0</td>\n",
              "      <td>...</td>\n",
              "      <td>0</td>\n",
              "      <td>0</td>\n",
              "      <td>0</td>\n",
              "      <td>1</td>\n",
              "      <td>0</td>\n",
              "      <td>0</td>\n",
              "      <td>0</td>\n",
              "      <td>-1.021739</td>\n",
              "      <td>0.769518</td>\n",
              "      <td>389</td>\n",
              "    </tr>\n",
              "    <tr>\n",
              "      <th>2</th>\n",
              "      <td>2013</td>\n",
              "      <td>1</td>\n",
              "      <td>0</td>\n",
              "      <td>0</td>\n",
              "      <td>0</td>\n",
              "      <td>0</td>\n",
              "      <td>0</td>\n",
              "      <td>0</td>\n",
              "      <td>0</td>\n",
              "      <td>0</td>\n",
              "      <td>...</td>\n",
              "      <td>0</td>\n",
              "      <td>0</td>\n",
              "      <td>0</td>\n",
              "      <td>0</td>\n",
              "      <td>1</td>\n",
              "      <td>0</td>\n",
              "      <td>0</td>\n",
              "      <td>-1.123806</td>\n",
              "      <td>0.678736</td>\n",
              "      <td>393</td>\n",
              "    </tr>\n",
              "    <tr>\n",
              "      <th>3</th>\n",
              "      <td>2013</td>\n",
              "      <td>1</td>\n",
              "      <td>0</td>\n",
              "      <td>0</td>\n",
              "      <td>0</td>\n",
              "      <td>0</td>\n",
              "      <td>0</td>\n",
              "      <td>0</td>\n",
              "      <td>0</td>\n",
              "      <td>0</td>\n",
              "      <td>...</td>\n",
              "      <td>0</td>\n",
              "      <td>0</td>\n",
              "      <td>0</td>\n",
              "      <td>1</td>\n",
              "      <td>0</td>\n",
              "      <td>0</td>\n",
              "      <td>0</td>\n",
              "      <td>-0.638987</td>\n",
              "      <td>-0.546810</td>\n",
              "      <td>475</td>\n",
              "    </tr>\n",
              "    <tr>\n",
              "      <th>4</th>\n",
              "      <td>2013</td>\n",
              "      <td>1</td>\n",
              "      <td>0</td>\n",
              "      <td>0</td>\n",
              "      <td>0</td>\n",
              "      <td>0</td>\n",
              "      <td>0</td>\n",
              "      <td>0</td>\n",
              "      <td>0</td>\n",
              "      <td>0</td>\n",
              "      <td>...</td>\n",
              "      <td>0</td>\n",
              "      <td>0</td>\n",
              "      <td>0</td>\n",
              "      <td>0</td>\n",
              "      <td>0</td>\n",
              "      <td>1</td>\n",
              "      <td>0</td>\n",
              "      <td>-0.664504</td>\n",
              "      <td>0.542565</td>\n",
              "      <td>516</td>\n",
              "    </tr>\n",
              "  </tbody>\n",
              "</table>\n",
              "<p>5 rows × 23 columns</p>\n",
              "</div>\n",
              "      <button class=\"colab-df-convert\" onclick=\"convertToInteractive('df-8fcc316e-104f-43b1-823b-c24304f05d4d')\"\n",
              "              title=\"Convert this dataframe to an interactive table.\"\n",
              "              style=\"display:none;\">\n",
              "        \n",
              "  <svg xmlns=\"http://www.w3.org/2000/svg\" height=\"24px\"viewBox=\"0 0 24 24\"\n",
              "       width=\"24px\">\n",
              "    <path d=\"M0 0h24v24H0V0z\" fill=\"none\"/>\n",
              "    <path d=\"M18.56 5.44l.94 2.06.94-2.06 2.06-.94-2.06-.94-.94-2.06-.94 2.06-2.06.94zm-11 1L8.5 8.5l.94-2.06 2.06-.94-2.06-.94L8.5 2.5l-.94 2.06-2.06.94zm10 10l.94 2.06.94-2.06 2.06-.94-2.06-.94-.94-2.06-.94 2.06-2.06.94z\"/><path d=\"M17.41 7.96l-1.37-1.37c-.4-.4-.92-.59-1.43-.59-.52 0-1.04.2-1.43.59L10.3 9.45l-7.72 7.72c-.78.78-.78 2.05 0 2.83L4 21.41c.39.39.9.59 1.41.59.51 0 1.02-.2 1.41-.59l7.78-7.78 2.81-2.81c.8-.78.8-2.07 0-2.86zM5.41 20L4 18.59l7.72-7.72 1.47 1.35L5.41 20z\"/>\n",
              "  </svg>\n",
              "      </button>\n",
              "      \n",
              "  <style>\n",
              "    .colab-df-container {\n",
              "      display:flex;\n",
              "      flex-wrap:wrap;\n",
              "      gap: 12px;\n",
              "    }\n",
              "\n",
              "    .colab-df-convert {\n",
              "      background-color: #E8F0FE;\n",
              "      border: none;\n",
              "      border-radius: 50%;\n",
              "      cursor: pointer;\n",
              "      display: none;\n",
              "      fill: #1967D2;\n",
              "      height: 32px;\n",
              "      padding: 0 0 0 0;\n",
              "      width: 32px;\n",
              "    }\n",
              "\n",
              "    .colab-df-convert:hover {\n",
              "      background-color: #E2EBFA;\n",
              "      box-shadow: 0px 1px 2px rgba(60, 64, 67, 0.3), 0px 1px 3px 1px rgba(60, 64, 67, 0.15);\n",
              "      fill: #174EA6;\n",
              "    }\n",
              "\n",
              "    [theme=dark] .colab-df-convert {\n",
              "      background-color: #3B4455;\n",
              "      fill: #D2E3FC;\n",
              "    }\n",
              "\n",
              "    [theme=dark] .colab-df-convert:hover {\n",
              "      background-color: #434B5C;\n",
              "      box-shadow: 0px 1px 3px 1px rgba(0, 0, 0, 0.15);\n",
              "      filter: drop-shadow(0px 1px 2px rgba(0, 0, 0, 0.3));\n",
              "      fill: #FFFFFF;\n",
              "    }\n",
              "  </style>\n",
              "\n",
              "      <script>\n",
              "        const buttonEl =\n",
              "          document.querySelector('#df-8fcc316e-104f-43b1-823b-c24304f05d4d button.colab-df-convert');\n",
              "        buttonEl.style.display =\n",
              "          google.colab.kernel.accessAllowed ? 'block' : 'none';\n",
              "\n",
              "        async function convertToInteractive(key) {\n",
              "          const element = document.querySelector('#df-8fcc316e-104f-43b1-823b-c24304f05d4d');\n",
              "          const dataTable =\n",
              "            await google.colab.kernel.invokeFunction('convertToInteractive',\n",
              "                                                     [key], {});\n",
              "          if (!dataTable) return;\n",
              "\n",
              "          const docLinkHtml = 'Like what you see? Visit the ' +\n",
              "            '<a target=\"_blank\" href=https://colab.research.google.com/notebooks/data_table.ipynb>data table notebook</a>'\n",
              "            + ' to learn more about interactive tables.';\n",
              "          element.innerHTML = '';\n",
              "          dataTable['output_type'] = 'display_data';\n",
              "          await google.colab.output.renderOutput(dataTable, element);\n",
              "          const docLink = document.createElement('div');\n",
              "          docLink.innerHTML = docLinkHtml;\n",
              "          element.appendChild(docLink);\n",
              "        }\n",
              "      </script>\n",
              "    </div>\n",
              "  </div>\n",
              "  "
            ]
          },
          "metadata": {},
          "execution_count": 79
        }
      ]
    },
    {
      "cell_type": "markdown",
      "source": [
        "#### Check for NAs"
      ],
      "metadata": {
        "id": "LGeC3S2rFn9t"
      }
    },
    {
      "cell_type": "code",
      "source": [
        "df_std_col_mod_train_2.isna().sum()"
      ],
      "metadata": {
        "id": "oftjsM72FqRm",
        "outputId": "c5971238-9bdc-4479-f370-3a866093fc19",
        "colab": {
          "base_uri": "https://localhost:8080/"
        }
      },
      "execution_count": 80,
      "outputs": [
        {
          "output_type": "execute_result",
          "data": {
            "text/plain": [
              "year              0\n",
              "jan               0\n",
              "feb               0\n",
              "mar               0\n",
              "apr               0\n",
              "may               0\n",
              "jun               0\n",
              "jul               0\n",
              "aug               0\n",
              "sep               0\n",
              "oct               0\n",
              "nov               0\n",
              "dec               0\n",
              "mon               0\n",
              "tue               0\n",
              "wed               0\n",
              "thu               0\n",
              "fri               0\n",
              "sat               0\n",
              "sun               0\n",
              "temp              0\n",
              "visib             0\n",
              "num_collisions    0\n",
              "dtype: int64"
            ]
          },
          "metadata": {},
          "execution_count": 80
        }
      ]
    },
    {
      "cell_type": "markdown",
      "source": [
        "#### Overview of Data"
      ],
      "metadata": {
        "id": "3VO_xaoeFz4P"
      }
    },
    {
      "cell_type": "code",
      "source": [
        "df_std_col_mod_train_2.describe().transpose()"
      ],
      "metadata": {
        "id": "B6SNmJ1CF2nL",
        "outputId": "354fef81-3011-43dc-f205-27ee4ab88bb2",
        "colab": {
          "base_uri": "https://localhost:8080/",
          "height": 771
        }
      },
      "execution_count": 81,
      "outputs": [
        {
          "output_type": "execute_result",
          "data": {
            "text/plain": [
              "                 count         mean        std          min          25%  \\\n",
              "year            1766.0  2015.959230   2.028838  2013.000000  2014.000000   \n",
              "jan             1766.0     0.082673   0.275465     0.000000     0.000000   \n",
              "feb             1766.0     0.075878   0.264877     0.000000     0.000000   \n",
              "mar             1766.0     0.085504   0.279709     0.000000     0.000000   \n",
              "apr             1766.0     0.086070   0.280547     0.000000     0.000000   \n",
              "may             1766.0     0.087769   0.283039     0.000000     0.000000   \n",
              "jun             1766.0     0.078709   0.269360     0.000000     0.000000   \n",
              "jul             1766.0     0.088335   0.283862     0.000000     0.000000   \n",
              "aug             1766.0     0.090600   0.287121     0.000000     0.000000   \n",
              "sep             1766.0     0.077576   0.267580     0.000000     0.000000   \n",
              "oct             1766.0     0.080974   0.272872     0.000000     0.000000   \n",
              "nov             1766.0     0.082673   0.275465     0.000000     0.000000   \n",
              "dec             1766.0     0.083239   0.276321     0.000000     0.000000   \n",
              "mon             1766.0     0.148358   0.355555     0.000000     0.000000   \n",
              "tue             1766.0     0.146659   0.353866     0.000000     0.000000   \n",
              "wed             1766.0     0.140430   0.347531     0.000000     0.000000   \n",
              "thu             1766.0     0.142695   0.349861     0.000000     0.000000   \n",
              "fri             1766.0     0.134202   0.340965     0.000000     0.000000   \n",
              "sat             1766.0     0.139298   0.346355     0.000000     0.000000   \n",
              "sun             1766.0     0.148358   0.355555     0.000000     0.000000   \n",
              "temp            1766.0    -0.002115   0.997633    -2.999291    -0.766571   \n",
              "visib           1766.0    -0.001609   1.004510    -3.678763    -0.546810   \n",
              "num_collisions  1766.0   597.430917  93.028355   355.000000   530.250000   \n",
              "\n",
              "                        50%          75%          max  \n",
              "year            2016.000000  2018.000000  2019.000000  \n",
              "jan                0.000000     0.000000     1.000000  \n",
              "feb                0.000000     0.000000     1.000000  \n",
              "mar                0.000000     0.000000     1.000000  \n",
              "apr                0.000000     0.000000     1.000000  \n",
              "may                0.000000     0.000000     1.000000  \n",
              "jun                0.000000     0.000000     1.000000  \n",
              "jul                0.000000     0.000000     1.000000  \n",
              "aug                0.000000     0.000000     1.000000  \n",
              "sep                0.000000     0.000000     1.000000  \n",
              "oct                0.000000     0.000000     1.000000  \n",
              "nov                0.000000     0.000000     1.000000  \n",
              "dec                0.000000     0.000000     1.000000  \n",
              "mon                0.000000     0.000000     1.000000  \n",
              "tue                0.000000     0.000000     1.000000  \n",
              "wed                0.000000     0.000000     1.000000  \n",
              "thu                0.000000     0.000000     1.000000  \n",
              "fri                0.000000     0.000000     1.000000  \n",
              "sat                0.000000     0.000000     1.000000  \n",
              "sun                0.000000     0.000000     1.000000  \n",
              "temp              -0.001067     0.866504     1.836143  \n",
              "visib              0.497174     0.769518     0.769518  \n",
              "num_collisions   603.000000   661.000000   841.000000  "
            ],
            "text/html": [
              "\n",
              "  <div id=\"df-6c95e36a-7853-4ebf-b895-ca9ffbf21746\">\n",
              "    <div class=\"colab-df-container\">\n",
              "      <div>\n",
              "<style scoped>\n",
              "    .dataframe tbody tr th:only-of-type {\n",
              "        vertical-align: middle;\n",
              "    }\n",
              "\n",
              "    .dataframe tbody tr th {\n",
              "        vertical-align: top;\n",
              "    }\n",
              "\n",
              "    .dataframe thead th {\n",
              "        text-align: right;\n",
              "    }\n",
              "</style>\n",
              "<table border=\"1\" class=\"dataframe\">\n",
              "  <thead>\n",
              "    <tr style=\"text-align: right;\">\n",
              "      <th></th>\n",
              "      <th>count</th>\n",
              "      <th>mean</th>\n",
              "      <th>std</th>\n",
              "      <th>min</th>\n",
              "      <th>25%</th>\n",
              "      <th>50%</th>\n",
              "      <th>75%</th>\n",
              "      <th>max</th>\n",
              "    </tr>\n",
              "  </thead>\n",
              "  <tbody>\n",
              "    <tr>\n",
              "      <th>year</th>\n",
              "      <td>1766.0</td>\n",
              "      <td>2015.959230</td>\n",
              "      <td>2.028838</td>\n",
              "      <td>2013.000000</td>\n",
              "      <td>2014.000000</td>\n",
              "      <td>2016.000000</td>\n",
              "      <td>2018.000000</td>\n",
              "      <td>2019.000000</td>\n",
              "    </tr>\n",
              "    <tr>\n",
              "      <th>jan</th>\n",
              "      <td>1766.0</td>\n",
              "      <td>0.082673</td>\n",
              "      <td>0.275465</td>\n",
              "      <td>0.000000</td>\n",
              "      <td>0.000000</td>\n",
              "      <td>0.000000</td>\n",
              "      <td>0.000000</td>\n",
              "      <td>1.000000</td>\n",
              "    </tr>\n",
              "    <tr>\n",
              "      <th>feb</th>\n",
              "      <td>1766.0</td>\n",
              "      <td>0.075878</td>\n",
              "      <td>0.264877</td>\n",
              "      <td>0.000000</td>\n",
              "      <td>0.000000</td>\n",
              "      <td>0.000000</td>\n",
              "      <td>0.000000</td>\n",
              "      <td>1.000000</td>\n",
              "    </tr>\n",
              "    <tr>\n",
              "      <th>mar</th>\n",
              "      <td>1766.0</td>\n",
              "      <td>0.085504</td>\n",
              "      <td>0.279709</td>\n",
              "      <td>0.000000</td>\n",
              "      <td>0.000000</td>\n",
              "      <td>0.000000</td>\n",
              "      <td>0.000000</td>\n",
              "      <td>1.000000</td>\n",
              "    </tr>\n",
              "    <tr>\n",
              "      <th>apr</th>\n",
              "      <td>1766.0</td>\n",
              "      <td>0.086070</td>\n",
              "      <td>0.280547</td>\n",
              "      <td>0.000000</td>\n",
              "      <td>0.000000</td>\n",
              "      <td>0.000000</td>\n",
              "      <td>0.000000</td>\n",
              "      <td>1.000000</td>\n",
              "    </tr>\n",
              "    <tr>\n",
              "      <th>may</th>\n",
              "      <td>1766.0</td>\n",
              "      <td>0.087769</td>\n",
              "      <td>0.283039</td>\n",
              "      <td>0.000000</td>\n",
              "      <td>0.000000</td>\n",
              "      <td>0.000000</td>\n",
              "      <td>0.000000</td>\n",
              "      <td>1.000000</td>\n",
              "    </tr>\n",
              "    <tr>\n",
              "      <th>jun</th>\n",
              "      <td>1766.0</td>\n",
              "      <td>0.078709</td>\n",
              "      <td>0.269360</td>\n",
              "      <td>0.000000</td>\n",
              "      <td>0.000000</td>\n",
              "      <td>0.000000</td>\n",
              "      <td>0.000000</td>\n",
              "      <td>1.000000</td>\n",
              "    </tr>\n",
              "    <tr>\n",
              "      <th>jul</th>\n",
              "      <td>1766.0</td>\n",
              "      <td>0.088335</td>\n",
              "      <td>0.283862</td>\n",
              "      <td>0.000000</td>\n",
              "      <td>0.000000</td>\n",
              "      <td>0.000000</td>\n",
              "      <td>0.000000</td>\n",
              "      <td>1.000000</td>\n",
              "    </tr>\n",
              "    <tr>\n",
              "      <th>aug</th>\n",
              "      <td>1766.0</td>\n",
              "      <td>0.090600</td>\n",
              "      <td>0.287121</td>\n",
              "      <td>0.000000</td>\n",
              "      <td>0.000000</td>\n",
              "      <td>0.000000</td>\n",
              "      <td>0.000000</td>\n",
              "      <td>1.000000</td>\n",
              "    </tr>\n",
              "    <tr>\n",
              "      <th>sep</th>\n",
              "      <td>1766.0</td>\n",
              "      <td>0.077576</td>\n",
              "      <td>0.267580</td>\n",
              "      <td>0.000000</td>\n",
              "      <td>0.000000</td>\n",
              "      <td>0.000000</td>\n",
              "      <td>0.000000</td>\n",
              "      <td>1.000000</td>\n",
              "    </tr>\n",
              "    <tr>\n",
              "      <th>oct</th>\n",
              "      <td>1766.0</td>\n",
              "      <td>0.080974</td>\n",
              "      <td>0.272872</td>\n",
              "      <td>0.000000</td>\n",
              "      <td>0.000000</td>\n",
              "      <td>0.000000</td>\n",
              "      <td>0.000000</td>\n",
              "      <td>1.000000</td>\n",
              "    </tr>\n",
              "    <tr>\n",
              "      <th>nov</th>\n",
              "      <td>1766.0</td>\n",
              "      <td>0.082673</td>\n",
              "      <td>0.275465</td>\n",
              "      <td>0.000000</td>\n",
              "      <td>0.000000</td>\n",
              "      <td>0.000000</td>\n",
              "      <td>0.000000</td>\n",
              "      <td>1.000000</td>\n",
              "    </tr>\n",
              "    <tr>\n",
              "      <th>dec</th>\n",
              "      <td>1766.0</td>\n",
              "      <td>0.083239</td>\n",
              "      <td>0.276321</td>\n",
              "      <td>0.000000</td>\n",
              "      <td>0.000000</td>\n",
              "      <td>0.000000</td>\n",
              "      <td>0.000000</td>\n",
              "      <td>1.000000</td>\n",
              "    </tr>\n",
              "    <tr>\n",
              "      <th>mon</th>\n",
              "      <td>1766.0</td>\n",
              "      <td>0.148358</td>\n",
              "      <td>0.355555</td>\n",
              "      <td>0.000000</td>\n",
              "      <td>0.000000</td>\n",
              "      <td>0.000000</td>\n",
              "      <td>0.000000</td>\n",
              "      <td>1.000000</td>\n",
              "    </tr>\n",
              "    <tr>\n",
              "      <th>tue</th>\n",
              "      <td>1766.0</td>\n",
              "      <td>0.146659</td>\n",
              "      <td>0.353866</td>\n",
              "      <td>0.000000</td>\n",
              "      <td>0.000000</td>\n",
              "      <td>0.000000</td>\n",
              "      <td>0.000000</td>\n",
              "      <td>1.000000</td>\n",
              "    </tr>\n",
              "    <tr>\n",
              "      <th>wed</th>\n",
              "      <td>1766.0</td>\n",
              "      <td>0.140430</td>\n",
              "      <td>0.347531</td>\n",
              "      <td>0.000000</td>\n",
              "      <td>0.000000</td>\n",
              "      <td>0.000000</td>\n",
              "      <td>0.000000</td>\n",
              "      <td>1.000000</td>\n",
              "    </tr>\n",
              "    <tr>\n",
              "      <th>thu</th>\n",
              "      <td>1766.0</td>\n",
              "      <td>0.142695</td>\n",
              "      <td>0.349861</td>\n",
              "      <td>0.000000</td>\n",
              "      <td>0.000000</td>\n",
              "      <td>0.000000</td>\n",
              "      <td>0.000000</td>\n",
              "      <td>1.000000</td>\n",
              "    </tr>\n",
              "    <tr>\n",
              "      <th>fri</th>\n",
              "      <td>1766.0</td>\n",
              "      <td>0.134202</td>\n",
              "      <td>0.340965</td>\n",
              "      <td>0.000000</td>\n",
              "      <td>0.000000</td>\n",
              "      <td>0.000000</td>\n",
              "      <td>0.000000</td>\n",
              "      <td>1.000000</td>\n",
              "    </tr>\n",
              "    <tr>\n",
              "      <th>sat</th>\n",
              "      <td>1766.0</td>\n",
              "      <td>0.139298</td>\n",
              "      <td>0.346355</td>\n",
              "      <td>0.000000</td>\n",
              "      <td>0.000000</td>\n",
              "      <td>0.000000</td>\n",
              "      <td>0.000000</td>\n",
              "      <td>1.000000</td>\n",
              "    </tr>\n",
              "    <tr>\n",
              "      <th>sun</th>\n",
              "      <td>1766.0</td>\n",
              "      <td>0.148358</td>\n",
              "      <td>0.355555</td>\n",
              "      <td>0.000000</td>\n",
              "      <td>0.000000</td>\n",
              "      <td>0.000000</td>\n",
              "      <td>0.000000</td>\n",
              "      <td>1.000000</td>\n",
              "    </tr>\n",
              "    <tr>\n",
              "      <th>temp</th>\n",
              "      <td>1766.0</td>\n",
              "      <td>-0.002115</td>\n",
              "      <td>0.997633</td>\n",
              "      <td>-2.999291</td>\n",
              "      <td>-0.766571</td>\n",
              "      <td>-0.001067</td>\n",
              "      <td>0.866504</td>\n",
              "      <td>1.836143</td>\n",
              "    </tr>\n",
              "    <tr>\n",
              "      <th>visib</th>\n",
              "      <td>1766.0</td>\n",
              "      <td>-0.001609</td>\n",
              "      <td>1.004510</td>\n",
              "      <td>-3.678763</td>\n",
              "      <td>-0.546810</td>\n",
              "      <td>0.497174</td>\n",
              "      <td>0.769518</td>\n",
              "      <td>0.769518</td>\n",
              "    </tr>\n",
              "    <tr>\n",
              "      <th>num_collisions</th>\n",
              "      <td>1766.0</td>\n",
              "      <td>597.430917</td>\n",
              "      <td>93.028355</td>\n",
              "      <td>355.000000</td>\n",
              "      <td>530.250000</td>\n",
              "      <td>603.000000</td>\n",
              "      <td>661.000000</td>\n",
              "      <td>841.000000</td>\n",
              "    </tr>\n",
              "  </tbody>\n",
              "</table>\n",
              "</div>\n",
              "      <button class=\"colab-df-convert\" onclick=\"convertToInteractive('df-6c95e36a-7853-4ebf-b895-ca9ffbf21746')\"\n",
              "              title=\"Convert this dataframe to an interactive table.\"\n",
              "              style=\"display:none;\">\n",
              "        \n",
              "  <svg xmlns=\"http://www.w3.org/2000/svg\" height=\"24px\"viewBox=\"0 0 24 24\"\n",
              "       width=\"24px\">\n",
              "    <path d=\"M0 0h24v24H0V0z\" fill=\"none\"/>\n",
              "    <path d=\"M18.56 5.44l.94 2.06.94-2.06 2.06-.94-2.06-.94-.94-2.06-.94 2.06-2.06.94zm-11 1L8.5 8.5l.94-2.06 2.06-.94-2.06-.94L8.5 2.5l-.94 2.06-2.06.94zm10 10l.94 2.06.94-2.06 2.06-.94-2.06-.94-.94-2.06-.94 2.06-2.06.94z\"/><path d=\"M17.41 7.96l-1.37-1.37c-.4-.4-.92-.59-1.43-.59-.52 0-1.04.2-1.43.59L10.3 9.45l-7.72 7.72c-.78.78-.78 2.05 0 2.83L4 21.41c.39.39.9.59 1.41.59.51 0 1.02-.2 1.41-.59l7.78-7.78 2.81-2.81c.8-.78.8-2.07 0-2.86zM5.41 20L4 18.59l7.72-7.72 1.47 1.35L5.41 20z\"/>\n",
              "  </svg>\n",
              "      </button>\n",
              "      \n",
              "  <style>\n",
              "    .colab-df-container {\n",
              "      display:flex;\n",
              "      flex-wrap:wrap;\n",
              "      gap: 12px;\n",
              "    }\n",
              "\n",
              "    .colab-df-convert {\n",
              "      background-color: #E8F0FE;\n",
              "      border: none;\n",
              "      border-radius: 50%;\n",
              "      cursor: pointer;\n",
              "      display: none;\n",
              "      fill: #1967D2;\n",
              "      height: 32px;\n",
              "      padding: 0 0 0 0;\n",
              "      width: 32px;\n",
              "    }\n",
              "\n",
              "    .colab-df-convert:hover {\n",
              "      background-color: #E2EBFA;\n",
              "      box-shadow: 0px 1px 2px rgba(60, 64, 67, 0.3), 0px 1px 3px 1px rgba(60, 64, 67, 0.15);\n",
              "      fill: #174EA6;\n",
              "    }\n",
              "\n",
              "    [theme=dark] .colab-df-convert {\n",
              "      background-color: #3B4455;\n",
              "      fill: #D2E3FC;\n",
              "    }\n",
              "\n",
              "    [theme=dark] .colab-df-convert:hover {\n",
              "      background-color: #434B5C;\n",
              "      box-shadow: 0px 1px 3px 1px rgba(0, 0, 0, 0.15);\n",
              "      filter: drop-shadow(0px 1px 2px rgba(0, 0, 0, 0.3));\n",
              "      fill: #FFFFFF;\n",
              "    }\n",
              "  </style>\n",
              "\n",
              "      <script>\n",
              "        const buttonEl =\n",
              "          document.querySelector('#df-6c95e36a-7853-4ebf-b895-ca9ffbf21746 button.colab-df-convert');\n",
              "        buttonEl.style.display =\n",
              "          google.colab.kernel.accessAllowed ? 'block' : 'none';\n",
              "\n",
              "        async function convertToInteractive(key) {\n",
              "          const element = document.querySelector('#df-6c95e36a-7853-4ebf-b895-ca9ffbf21746');\n",
              "          const dataTable =\n",
              "            await google.colab.kernel.invokeFunction('convertToInteractive',\n",
              "                                                     [key], {});\n",
              "          if (!dataTable) return;\n",
              "\n",
              "          const docLinkHtml = 'Like what you see? Visit the ' +\n",
              "            '<a target=\"_blank\" href=https://colab.research.google.com/notebooks/data_table.ipynb>data table notebook</a>'\n",
              "            + ' to learn more about interactive tables.';\n",
              "          element.innerHTML = '';\n",
              "          dataTable['output_type'] = 'display_data';\n",
              "          await google.colab.output.renderOutput(dataTable, element);\n",
              "          const docLink = document.createElement('div');\n",
              "          docLink.innerHTML = docLinkHtml;\n",
              "          element.appendChild(docLink);\n",
              "        }\n",
              "      </script>\n",
              "    </div>\n",
              "  </div>\n",
              "  "
            ]
          },
          "metadata": {},
          "execution_count": 81
        }
      ]
    },
    {
      "cell_type": "markdown",
      "source": [
        "#### Separate Features and Labels"
      ],
      "metadata": {
        "id": "swJX5qIkGECb"
      }
    },
    {
      "cell_type": "code",
      "source": [
        "df_std_col_mod_train_2_feat = df_std_col_mod_train_2.copy()\n",
        "df_std_col_mod_test_2_feat = df_std_col_mod_test_2.copy()\n",
        "\n",
        "df_std_col_mod_train_2_lab = df_std_col_mod_train_2_feat.pop('num_collisions')\n",
        "df_std_col_mod_test_2_lab = df_std_col_mod_test_2_feat.pop('num_collisions')"
      ],
      "metadata": {
        "id": "_BO-TapeGH5_"
      },
      "execution_count": 82,
      "outputs": []
    },
    {
      "cell_type": "markdown",
      "source": [
        "#### Model"
      ],
      "metadata": {
        "id": "ZEKxpuzvHOfs"
      }
    },
    {
      "cell_type": "markdown",
      "source": [
        "##### Normaliser Layer"
      ],
      "metadata": {
        "id": "PGLRQzgaHQFt"
      }
    },
    {
      "cell_type": "code",
      "source": [
        "normaliser = tf.keras.layers.Normalization(axis=-1)\n",
        "\n",
        "normaliser.adapt(np.array(df_std_col_mod_train_2_feat))\n",
        "\n",
        "print(normaliser.mean.numpy())"
      ],
      "metadata": {
        "id": "1nYx_mc7HSNZ",
        "outputId": "79ac9423-fc98-4aaf-d7c3-e1981ccfd532",
        "colab": {
          "base_uri": "https://localhost:8080/"
        }
      },
      "execution_count": 83,
      "outputs": [
        {
          "output_type": "stream",
          "name": "stdout",
          "text": [
            "[[2015.959    0.083    0.076    0.086    0.086    0.088    0.079    0.088\n",
            "     0.091    0.078    0.081    0.083    0.083    0.148    0.147    0.14\n",
            "     0.143    0.134    0.139    0.148   -0.002   -0.002]]\n"
          ]
        }
      ]
    },
    {
      "cell_type": "markdown",
      "source": [
        "##### Sequencer"
      ],
      "metadata": {
        "id": "j23XIwIaHclt"
      }
    },
    {
      "cell_type": "code",
      "source": [
        "std_col_mod_2 = np.array(df_std_col_mod_train_2_feat)\n",
        "\n",
        "std_col_mod_2_normaliser = layers.Normalization(axis=-1)\n",
        "std_col_mod_2_normaliser.adapt(np.array(df_std_col_mod_train_2_feat))"
      ],
      "metadata": {
        "id": "vrmcCjpHHe9i"
      },
      "execution_count": 84,
      "outputs": []
    },
    {
      "cell_type": "code",
      "source": [
        "std_col_mod_2_model = tf.keras.Sequential([\n",
        "    std_col_mod_2_normaliser,\n",
        "    layers.Dense(units=1)\n",
        "])\n",
        "\n",
        "std_col_mod_2_model.summary()"
      ],
      "metadata": {
        "id": "0V-WVNDqHy0I",
        "outputId": "55cbc2ba-9ffa-473b-bdce-f103b7347b79",
        "colab": {
          "base_uri": "https://localhost:8080/"
        }
      },
      "execution_count": 85,
      "outputs": [
        {
          "output_type": "stream",
          "name": "stdout",
          "text": [
            "Model: \"sequential_5\"\n",
            "_________________________________________________________________\n",
            " Layer (type)                Output Shape              Param #   \n",
            "=================================================================\n",
            " normalization_11 (Normaliza  (None, 22)               45        \n",
            " tion)                                                           \n",
            "                                                                 \n",
            " dense_5 (Dense)             (None, 1)                 23        \n",
            "                                                                 \n",
            "=================================================================\n",
            "Total params: 68\n",
            "Trainable params: 23\n",
            "Non-trainable params: 45\n",
            "_________________________________________________________________\n"
          ]
        }
      ]
    },
    {
      "cell_type": "code",
      "source": [
        "std_col_mod_2_model.predict(std_col_mod_2)"
      ],
      "metadata": {
        "id": "BELpEsQdH-Cm",
        "outputId": "6a0242cf-0b26-4982-bc81-fd4a701ce26f",
        "colab": {
          "base_uri": "https://localhost:8080/"
        }
      },
      "execution_count": 86,
      "outputs": [
        {
          "output_type": "stream",
          "name": "stdout",
          "text": [
            "56/56 [==============================] - 0s 1ms/step\n"
          ]
        },
        {
          "output_type": "execute_result",
          "data": {
            "text/plain": [
              "array([[ 0.128],\n",
              "       [ 0.731],\n",
              "       [ 0.616],\n",
              "       ...,\n",
              "       [ 0.274],\n",
              "       [-0.637],\n",
              "       [-0.111]], dtype=float32)"
            ]
          },
          "metadata": {},
          "execution_count": 86
        }
      ]
    },
    {
      "cell_type": "code",
      "source": [
        "std_col_mod_2_model.layers[1].kernel"
      ],
      "metadata": {
        "id": "ujnqNVNmICLs",
        "outputId": "743bd9a1-6cb5-4ffb-d04f-f634d53b6a02",
        "colab": {
          "base_uri": "https://localhost:8080/"
        }
      },
      "execution_count": 87,
      "outputs": [
        {
          "output_type": "execute_result",
          "data": {
            "text/plain": [
              "<tf.Variable 'dense_5/kernel:0' shape=(22, 1) dtype=float32, numpy=\n",
              "array([[ 0.153],\n",
              "       [ 0.459],\n",
              "       [-0.491],\n",
              "       [ 0.191],\n",
              "       [ 0.119],\n",
              "       [-0.231],\n",
              "       [-0.137],\n",
              "       [ 0.106],\n",
              "       [-0.079],\n",
              "       [-0.003],\n",
              "       [-0.051],\n",
              "       [ 0.084],\n",
              "       [-0.108],\n",
              "       [ 0.002],\n",
              "       [-0.318],\n",
              "       [ 0.054],\n",
              "       [ 0.173],\n",
              "       [-0.227],\n",
              "       [-0.195],\n",
              "       [-0.017],\n",
              "       [-0.083],\n",
              "       [-0.176]], dtype=float32)>"
            ]
          },
          "metadata": {},
          "execution_count": 87
        }
      ]
    },
    {
      "cell_type": "code",
      "source": [
        "std_col_mod_2_model.compile(\n",
        "    optimizer = tf.keras.optimizers.Adam(learning_rate=0.1),\n",
        "    loss='mean_absolute_error')"
      ],
      "metadata": {
        "id": "FhBEAzrhILYP"
      },
      "execution_count": 88,
      "outputs": []
    },
    {
      "cell_type": "code",
      "source": [
        "%%time\n",
        "history = std_col_mod_2_model.fit(\n",
        "    df_std_col_mod_train_2_feat,\n",
        "    df_std_col_mod_train_2_lab,\n",
        "    epochs=100,\n",
        "    # Suppress logging.\n",
        "    verbose=0,\n",
        "    # Calculate validation results on 20% of the training data.\n",
        "    validation_split = 0.2)"
      ],
      "metadata": {
        "id": "BxyVrK-TIWkZ",
        "outputId": "699b4009-ac84-4eac-90bf-1aba00984d0c",
        "colab": {
          "base_uri": "https://localhost:8080/"
        }
      },
      "execution_count": 89,
      "outputs": [
        {
          "output_type": "stream",
          "name": "stdout",
          "text": [
            "CPU times: user 9.09 s, sys: 502 ms, total: 9.59 s\n",
            "Wall time: 8.58 s\n"
          ]
        }
      ]
    },
    {
      "cell_type": "code",
      "source": [
        "plot_loss(history)"
      ],
      "metadata": {
        "id": "hGEcwXFjInnO",
        "outputId": "b87a2266-d56f-41ca-f053-07c15c9bc8b5",
        "colab": {
          "base_uri": "https://localhost:8080/",
          "height": 283
        }
      },
      "execution_count": 90,
      "outputs": [
        {
          "output_type": "display_data",
          "data": {
            "text/plain": [
              "<Figure size 432x288 with 1 Axes>"
            ],
            "image/png": "[encoded data removed]"
          },
          "metadata": {
            "needs_background": "light"
          }
        }
      ]
    },
    {
      "cell_type": "code",
      "source": [
        "test_results['std_col_mod_2'] = std_col_mod_2_model.evaluate(\n",
        "    df_std_col_mod_test_2_feat,\n",
        "    df_std_col_mod_test_2_lab, verbose=0)"
      ],
      "metadata": {
        "id": "7_tKJsT-JAmj"
      },
      "execution_count": 91,
      "outputs": []
    },
    {
      "cell_type": "code",
      "source": [
        "print(test_results)"
      ],
      "metadata": {
        "id": "n12y6QUVJ06Z",
        "outputId": "d5fa64b7-dd54-4e75-8408-7c96b447c81e",
        "colab": {
          "base_uri": "https://localhost:8080/"
        }
      },
      "execution_count": 92,
      "outputs": [
        {
          "output_type": "stream",
          "name": "stdout",
          "text": [
            "{'temp_model': 155.27452087402344, 'col_mod_1': 154.217529296875, 'std_col_mod_1': 161.0737762451172, 'norm_col_mod_1': 158.41468811035156, 'col_mod_2': 167.04177856445312, 'std_col_mod_2': 165.54393005371094}\n"
          ]
        }
      ]
    },
    {
      "cell_type": "markdown",
      "source": [
        "### Normalised Data with One-Hot Encoding"
      ],
      "metadata": {
        "id": "jObF2JiKFDxR"
      }
    },
    {
      "cell_type": "markdown",
      "source": [
        "### Read Data"
      ],
      "metadata": {
        "id": "rJuPI28KFKDC"
      }
    },
    {
      "cell_type": "markdown",
      "source": [
        "##### Training Data"
      ],
      "metadata": {
        "id": "opUvlRfLFMc4"
      }
    },
    {
      "cell_type": "code",
      "source": [
        "url = \"https://raw.githubusercontent.com/AaronM44/DAOTW-Assignment-1/main/outputs/norm_col_mod_2_train.csv\"\n",
        "\n",
        "raw_norm_col_mod_train_2 = pd.read_csv(url)\n",
        "\n",
        "df_norm_col_mod_train_2 = raw_norm_col_mod_train_2.copy()\n",
        "\n",
        "df_norm_col_mod_train_2 = df_norm_col_mod_train_2.drop(df_norm_col_mod_train_2.columns[[0, 1]], axis=1)\n",
        "\n",
        "df_norm_col_mod_train_2.head()"
      ],
      "metadata": {
        "id": "kzj2bH7UFOLV",
        "outputId": "7dd98232-4b5e-4e56-f96a-622219184d44",
        "colab": {
          "base_uri": "https://localhost:8080/",
          "height": 236
        }
      },
      "execution_count": 93,
      "outputs": [
        {
          "output_type": "execute_result",
          "data": {
            "text/plain": [
              "   year  jan  feb  mar  apr  may  jun  jul  aug  sep  ...  mon  tue  wed  thu  \\\n",
              "0  2016    1    0    0    0    0    0    0    0    0  ...    0    0    0    0   \n",
              "1  2014    0    0    0    0    0    0    0    0    0  ...    0    0    1    0   \n",
              "2  2014    0    0    0    0    0    0    0    0    0  ...    0    0    1    0   \n",
              "3  2019    1    0    0    0    0    0    0    0    0  ...    0    0    0    0   \n",
              "4  2014    1    0    0    0    0    0    0    0    0  ...    0    0    1    0   \n",
              "\n",
              "   fri  sat  sun      temp     visib  num_collisions  \n",
              "0    0    1    0  0.269129  0.785714             640  \n",
              "1    0    0    0  0.614776  1.000000             668  \n",
              "2    0    0    0  0.503958  0.969388             654  \n",
              "3    0    1    0  0.559367  0.530612             430  \n",
              "4    0    0    0  0.356201  0.989796             560  \n",
              "\n",
              "[5 rows x 23 columns]"
            ],
            "text/html": [
              "\n",
              "  <div id=\"df-761526ae-eff3-42bb-82b0-c49395077797\">\n",
              "    <div class=\"colab-df-container\">\n",
              "      <div>\n",
              "<style scoped>\n",
              "    .dataframe tbody tr th:only-of-type {\n",
              "        vertical-align: middle;\n",
              "    }\n",
              "\n",
              "    .dataframe tbody tr th {\n",
              "        vertical-align: top;\n",
              "    }\n",
              "\n",
              "    .dataframe thead th {\n",
              "        text-align: right;\n",
              "    }\n",
              "</style>\n",
              "<table border=\"1\" class=\"dataframe\">\n",
              "  <thead>\n",
              "    <tr style=\"text-align: right;\">\n",
              "      <th></th>\n",
              "      <th>year</th>\n",
              "      <th>jan</th>\n",
              "      <th>feb</th>\n",
              "      <th>mar</th>\n",
              "      <th>apr</th>\n",
              "      <th>may</th>\n",
              "      <th>jun</th>\n",
              "      <th>jul</th>\n",
              "      <th>aug</th>\n",
              "      <th>sep</th>\n",
              "      <th>...</th>\n",
              "      <th>mon</th>\n",
              "      <th>tue</th>\n",
              "      <th>wed</th>\n",
              "      <th>thu</th>\n",
              "      <th>fri</th>\n",
              "      <th>sat</th>\n",
              "      <th>sun</th>\n",
              "      <th>temp</th>\n",
              "      <th>visib</th>\n",
              "      <th>num_collisions</th>\n",
              "    </tr>\n",
              "  </thead>\n",
              "  <tbody>\n",
              "    <tr>\n",
              "      <th>0</th>\n",
              "      <td>2016</td>\n",
              "      <td>1</td>\n",
              "      <td>0</td>\n",
              "      <td>0</td>\n",
              "      <td>0</td>\n",
              "      <td>0</td>\n",
              "      <td>0</td>\n",
              "      <td>0</td>\n",
              "      <td>0</td>\n",
              "      <td>0</td>\n",
              "      <td>...</td>\n",
              "      <td>0</td>\n",
              "      <td>0</td>\n",
              "      <td>0</td>\n",
              "      <td>0</td>\n",
              "      <td>0</td>\n",
              "      <td>1</td>\n",
              "      <td>0</td>\n",
              "      <td>0.269129</td>\n",
              "      <td>0.785714</td>\n",
              "      <td>640</td>\n",
              "    </tr>\n",
              "    <tr>\n",
              "      <th>1</th>\n",
              "      <td>2014</td>\n",
              "      <td>0</td>\n",
              "      <td>0</td>\n",
              "      <td>0</td>\n",
              "      <td>0</td>\n",
              "      <td>0</td>\n",
              "      <td>0</td>\n",
              "      <td>0</td>\n",
              "      <td>0</td>\n",
              "      <td>0</td>\n",
              "      <td>...</td>\n",
              "      <td>0</td>\n",
              "      <td>0</td>\n",
              "      <td>1</td>\n",
              "      <td>0</td>\n",
              "      <td>0</td>\n",
              "      <td>0</td>\n",
              "      <td>0</td>\n",
              "      <td>0.614776</td>\n",
              "      <td>1.000000</td>\n",
              "      <td>668</td>\n",
              "    </tr>\n",
              "    <tr>\n",
              "      <th>2</th>\n",
              "      <td>2014</td>\n",
              "      <td>0</td>\n",
              "      <td>0</td>\n",
              "      <td>0</td>\n",
              "      <td>0</td>\n",
              "      <td>0</td>\n",
              "      <td>0</td>\n",
              "      <td>0</td>\n",
              "      <td>0</td>\n",
              "      <td>0</td>\n",
              "      <td>...</td>\n",
              "      <td>0</td>\n",
              "      <td>0</td>\n",
              "      <td>1</td>\n",
              "      <td>0</td>\n",
              "      <td>0</td>\n",
              "      <td>0</td>\n",
              "      <td>0</td>\n",
              "      <td>0.503958</td>\n",
              "      <td>0.969388</td>\n",
              "      <td>654</td>\n",
              "    </tr>\n",
              "    <tr>\n",
              "      <th>3</th>\n",
              "      <td>2019</td>\n",
              "      <td>1</td>\n",
              "      <td>0</td>\n",
              "      <td>0</td>\n",
              "      <td>0</td>\n",
              "      <td>0</td>\n",
              "      <td>0</td>\n",
              "      <td>0</td>\n",
              "      <td>0</td>\n",
              "      <td>0</td>\n",
              "      <td>...</td>\n",
              "      <td>0</td>\n",
              "      <td>0</td>\n",
              "      <td>0</td>\n",
              "      <td>0</td>\n",
              "      <td>0</td>\n",
              "      <td>1</td>\n",
              "      <td>0</td>\n",
              "      <td>0.559367</td>\n",
              "      <td>0.530612</td>\n",
              "      <td>430</td>\n",
              "    </tr>\n",
              "    <tr>\n",
              "      <th>4</th>\n",
              "      <td>2014</td>\n",
              "      <td>1</td>\n",
              "      <td>0</td>\n",
              "      <td>0</td>\n",
              "      <td>0</td>\n",
              "      <td>0</td>\n",
              "      <td>0</td>\n",
              "      <td>0</td>\n",
              "      <td>0</td>\n",
              "      <td>0</td>\n",
              "      <td>...</td>\n",
              "      <td>0</td>\n",
              "      <td>0</td>\n",
              "      <td>1</td>\n",
              "      <td>0</td>\n",
              "      <td>0</td>\n",
              "      <td>0</td>\n",
              "      <td>0</td>\n",
              "      <td>0.356201</td>\n",
              "      <td>0.989796</td>\n",
              "      <td>560</td>\n",
              "    </tr>\n",
              "  </tbody>\n",
              "</table>\n",
              "<p>5 rows × 23 columns</p>\n",
              "</div>\n",
              "      <button class=\"colab-df-convert\" onclick=\"convertToInteractive('df-761526ae-eff3-42bb-82b0-c49395077797')\"\n",
              "              title=\"Convert this dataframe to an interactive table.\"\n",
              "              style=\"display:none;\">\n",
              "        \n",
              "  <svg xmlns=\"http://www.w3.org/2000/svg\" height=\"24px\"viewBox=\"0 0 24 24\"\n",
              "       width=\"24px\">\n",
              "    <path d=\"M0 0h24v24H0V0z\" fill=\"none\"/>\n",
              "    <path d=\"M18.56 5.44l.94 2.06.94-2.06 2.06-.94-2.06-.94-.94-2.06-.94 2.06-2.06.94zm-11 1L8.5 8.5l.94-2.06 2.06-.94-2.06-.94L8.5 2.5l-.94 2.06-2.06.94zm10 10l.94 2.06.94-2.06 2.06-.94-2.06-.94-.94-2.06-.94 2.06-2.06.94z\"/><path d=\"M17.41 7.96l-1.37-1.37c-.4-.4-.92-.59-1.43-.59-.52 0-1.04.2-1.43.59L10.3 9.45l-7.72 7.72c-.78.78-.78 2.05 0 2.83L4 21.41c.39.39.9.59 1.41.59.51 0 1.02-.2 1.41-.59l7.78-7.78 2.81-2.81c.8-.78.8-2.07 0-2.86zM5.41 20L4 18.59l7.72-7.72 1.47 1.35L5.41 20z\"/>\n",
              "  </svg>\n",
              "      </button>\n",
              "      \n",
              "  <style>\n",
              "    .colab-df-container {\n",
              "      display:flex;\n",
              "      flex-wrap:wrap;\n",
              "      gap: 12px;\n",
              "    }\n",
              "\n",
              "    .colab-df-convert {\n",
              "      background-color: #E8F0FE;\n",
              "      border: none;\n",
              "      border-radius: 50%;\n",
              "      cursor: pointer;\n",
              "      display: none;\n",
              "      fill: #1967D2;\n",
              "      height: 32px;\n",
              "      padding: 0 0 0 0;\n",
              "      width: 32px;\n",
              "    }\n",
              "\n",
              "    .colab-df-convert:hover {\n",
              "      background-color: #E2EBFA;\n",
              "      box-shadow: 0px 1px 2px rgba(60, 64, 67, 0.3), 0px 1px 3px 1px rgba(60, 64, 67, 0.15);\n",
              "      fill: #174EA6;\n",
              "    }\n",
              "\n",
              "    [theme=dark] .colab-df-convert {\n",
              "      background-color: #3B4455;\n",
              "      fill: #D2E3FC;\n",
              "    }\n",
              "\n",
              "    [theme=dark] .colab-df-convert:hover {\n",
              "      background-color: #434B5C;\n",
              "      box-shadow: 0px 1px 3px 1px rgba(0, 0, 0, 0.15);\n",
              "      filter: drop-shadow(0px 1px 2px rgba(0, 0, 0, 0.3));\n",
              "      fill: #FFFFFF;\n",
              "    }\n",
              "  </style>\n",
              "\n",
              "      <script>\n",
              "        const buttonEl =\n",
              "          document.querySelector('#df-761526ae-eff3-42bb-82b0-c49395077797 button.colab-df-convert');\n",
              "        buttonEl.style.display =\n",
              "          google.colab.kernel.accessAllowed ? 'block' : 'none';\n",
              "\n",
              "        async function convertToInteractive(key) {\n",
              "          const element = document.querySelector('#df-761526ae-eff3-42bb-82b0-c49395077797');\n",
              "          const dataTable =\n",
              "            await google.colab.kernel.invokeFunction('convertToInteractive',\n",
              "                                                     [key], {});\n",
              "          if (!dataTable) return;\n",
              "\n",
              "          const docLinkHtml = 'Like what you see? Visit the ' +\n",
              "            '<a target=\"_blank\" href=https://colab.research.google.com/notebooks/data_table.ipynb>data table notebook</a>'\n",
              "            + ' to learn more about interactive tables.';\n",
              "          element.innerHTML = '';\n",
              "          dataTable['output_type'] = 'display_data';\n",
              "          await google.colab.output.renderOutput(dataTable, element);\n",
              "          const docLink = document.createElement('div');\n",
              "          docLink.innerHTML = docLinkHtml;\n",
              "          element.appendChild(docLink);\n",
              "        }\n",
              "      </script>\n",
              "    </div>\n",
              "  </div>\n",
              "  "
            ]
          },
          "metadata": {},
          "execution_count": 93
        }
      ]
    },
    {
      "cell_type": "markdown",
      "source": [
        "##### Test Data"
      ],
      "metadata": {
        "id": "k5YPD1nDFcj9"
      }
    },
    {
      "cell_type": "code",
      "source": [
        "url = \"https://raw.githubusercontent.com/AaronM44/DAOTW-Assignment-1/main/outputs/norm_col_mod_2_test.csv\"\n",
        "\n",
        "raw_norm_col_mod_test_2 = pd.read_csv(url)\n",
        "\n",
        "df_norm_col_mod_test_2 = raw_norm_col_mod_test_2.copy()\n",
        "\n",
        "df_norm_col_mod_test_2 = df_norm_col_mod_test_2.drop(df_norm_col_mod_test_2.columns[[0, 1]], axis=1)\n",
        "\n",
        "df_norm_col_mod_test_2.head()"
      ],
      "metadata": {
        "id": "n_qtj00-Fd-0",
        "outputId": "7bacf764-58b6-4f1f-8578-5042ee394920",
        "colab": {
          "base_uri": "https://localhost:8080/",
          "height": 236
        }
      },
      "execution_count": 94,
      "outputs": [
        {
          "output_type": "execute_result",
          "data": {
            "text/plain": [
              "   year  jan  feb  mar  apr  may  jun  jul  aug  sep  ...  mon  tue  wed  thu  \\\n",
              "0  2013    1    0    0    0    0    0    0    0    0  ...    0    0    0    0   \n",
              "1  2013    1    0    0    0    0    0    0    0    0  ...    1    0    0    0   \n",
              "2  2013    1    0    0    0    0    0    0    0    0  ...    0    0    1    0   \n",
              "3  2013    1    0    0    0    0    0    0    0    0  ...    0    0    0    0   \n",
              "4  2013    1    0    0    0    0    0    0    0    0  ...    0    0    1    0   \n",
              "\n",
              "   fri  sat  sun      temp     visib  num_collisions  \n",
              "0    0    1    0  0.445910  0.979592             513  \n",
              "1    0    0    0  0.448549  0.673469             487  \n",
              "2    0    0    0  0.419525  1.000000             660  \n",
              "3    1    0    0  0.527704  0.418367             373  \n",
              "4    0    0    0  0.274406  0.744898             561  \n",
              "\n",
              "[5 rows x 23 columns]"
            ],
            "text/html": [
              "\n",
              "  <div id=\"df-c657d31f-47de-45bf-818e-2519edfbb964\">\n",
              "    <div class=\"colab-df-container\">\n",
              "      <div>\n",
              "<style scoped>\n",
              "    .dataframe tbody tr th:only-of-type {\n",
              "        vertical-align: middle;\n",
              "    }\n",
              "\n",
              "    .dataframe tbody tr th {\n",
              "        vertical-align: top;\n",
              "    }\n",
              "\n",
              "    .dataframe thead th {\n",
              "        text-align: right;\n",
              "    }\n",
              "</style>\n",
              "<table border=\"1\" class=\"dataframe\">\n",
              "  <thead>\n",
              "    <tr style=\"text-align: right;\">\n",
              "      <th></th>\n",
              "      <th>year</th>\n",
              "      <th>jan</th>\n",
              "      <th>feb</th>\n",
              "      <th>mar</th>\n",
              "      <th>apr</th>\n",
              "      <th>may</th>\n",
              "      <th>jun</th>\n",
              "      <th>jul</th>\n",
              "      <th>aug</th>\n",
              "      <th>sep</th>\n",
              "      <th>...</th>\n",
              "      <th>mon</th>\n",
              "      <th>tue</th>\n",
              "      <th>wed</th>\n",
              "      <th>thu</th>\n",
              "      <th>fri</th>\n",
              "      <th>sat</th>\n",
              "      <th>sun</th>\n",
              "      <th>temp</th>\n",
              "      <th>visib</th>\n",
              "      <th>num_collisions</th>\n",
              "    </tr>\n",
              "  </thead>\n",
              "  <tbody>\n",
              "    <tr>\n",
              "      <th>0</th>\n",
              "      <td>2013</td>\n",
              "      <td>1</td>\n",
              "      <td>0</td>\n",
              "      <td>0</td>\n",
              "      <td>0</td>\n",
              "      <td>0</td>\n",
              "      <td>0</td>\n",
              "      <td>0</td>\n",
              "      <td>0</td>\n",
              "      <td>0</td>\n",
              "      <td>...</td>\n",
              "      <td>0</td>\n",
              "      <td>0</td>\n",
              "      <td>0</td>\n",
              "      <td>0</td>\n",
              "      <td>0</td>\n",
              "      <td>1</td>\n",
              "      <td>0</td>\n",
              "      <td>0.445910</td>\n",
              "      <td>0.979592</td>\n",
              "      <td>513</td>\n",
              "    </tr>\n",
              "    <tr>\n",
              "      <th>1</th>\n",
              "      <td>2013</td>\n",
              "      <td>1</td>\n",
              "      <td>0</td>\n",
              "      <td>0</td>\n",
              "      <td>0</td>\n",
              "      <td>0</td>\n",
              "      <td>0</td>\n",
              "      <td>0</td>\n",
              "      <td>0</td>\n",
              "      <td>0</td>\n",
              "      <td>...</td>\n",
              "      <td>1</td>\n",
              "      <td>0</td>\n",
              "      <td>0</td>\n",
              "      <td>0</td>\n",
              "      <td>0</td>\n",
              "      <td>0</td>\n",
              "      <td>0</td>\n",
              "      <td>0.448549</td>\n",
              "      <td>0.673469</td>\n",
              "      <td>487</td>\n",
              "    </tr>\n",
              "    <tr>\n",
              "      <th>2</th>\n",
              "      <td>2013</td>\n",
              "      <td>1</td>\n",
              "      <td>0</td>\n",
              "      <td>0</td>\n",
              "      <td>0</td>\n",
              "      <td>0</td>\n",
              "      <td>0</td>\n",
              "      <td>0</td>\n",
              "      <td>0</td>\n",
              "      <td>0</td>\n",
              "      <td>...</td>\n",
              "      <td>0</td>\n",
              "      <td>0</td>\n",
              "      <td>1</td>\n",
              "      <td>0</td>\n",
              "      <td>0</td>\n",
              "      <td>0</td>\n",
              "      <td>0</td>\n",
              "      <td>0.419525</td>\n",
              "      <td>1.000000</td>\n",
              "      <td>660</td>\n",
              "    </tr>\n",
              "    <tr>\n",
              "      <th>3</th>\n",
              "      <td>2013</td>\n",
              "      <td>1</td>\n",
              "      <td>0</td>\n",
              "      <td>0</td>\n",
              "      <td>0</td>\n",
              "      <td>0</td>\n",
              "      <td>0</td>\n",
              "      <td>0</td>\n",
              "      <td>0</td>\n",
              "      <td>0</td>\n",
              "      <td>...</td>\n",
              "      <td>0</td>\n",
              "      <td>0</td>\n",
              "      <td>0</td>\n",
              "      <td>0</td>\n",
              "      <td>1</td>\n",
              "      <td>0</td>\n",
              "      <td>0</td>\n",
              "      <td>0.527704</td>\n",
              "      <td>0.418367</td>\n",
              "      <td>373</td>\n",
              "    </tr>\n",
              "    <tr>\n",
              "      <th>4</th>\n",
              "      <td>2013</td>\n",
              "      <td>1</td>\n",
              "      <td>0</td>\n",
              "      <td>0</td>\n",
              "      <td>0</td>\n",
              "      <td>0</td>\n",
              "      <td>0</td>\n",
              "      <td>0</td>\n",
              "      <td>0</td>\n",
              "      <td>0</td>\n",
              "      <td>...</td>\n",
              "      <td>0</td>\n",
              "      <td>0</td>\n",
              "      <td>1</td>\n",
              "      <td>0</td>\n",
              "      <td>0</td>\n",
              "      <td>0</td>\n",
              "      <td>0</td>\n",
              "      <td>0.274406</td>\n",
              "      <td>0.744898</td>\n",
              "      <td>561</td>\n",
              "    </tr>\n",
              "  </tbody>\n",
              "</table>\n",
              "<p>5 rows × 23 columns</p>\n",
              "</div>\n",
              "      <button class=\"colab-df-convert\" onclick=\"convertToInteractive('df-c657d31f-47de-45bf-818e-2519edfbb964')\"\n",
              "              title=\"Convert this dataframe to an interactive table.\"\n",
              "              style=\"display:none;\">\n",
              "        \n",
              "  <svg xmlns=\"http://www.w3.org/2000/svg\" height=\"24px\"viewBox=\"0 0 24 24\"\n",
              "       width=\"24px\">\n",
              "    <path d=\"M0 0h24v24H0V0z\" fill=\"none\"/>\n",
              "    <path d=\"M18.56 5.44l.94 2.06.94-2.06 2.06-.94-2.06-.94-.94-2.06-.94 2.06-2.06.94zm-11 1L8.5 8.5l.94-2.06 2.06-.94-2.06-.94L8.5 2.5l-.94 2.06-2.06.94zm10 10l.94 2.06.94-2.06 2.06-.94-2.06-.94-.94-2.06-.94 2.06-2.06.94z\"/><path d=\"M17.41 7.96l-1.37-1.37c-.4-.4-.92-.59-1.43-.59-.52 0-1.04.2-1.43.59L10.3 9.45l-7.72 7.72c-.78.78-.78 2.05 0 2.83L4 21.41c.39.39.9.59 1.41.59.51 0 1.02-.2 1.41-.59l7.78-7.78 2.81-2.81c.8-.78.8-2.07 0-2.86zM5.41 20L4 18.59l7.72-7.72 1.47 1.35L5.41 20z\"/>\n",
              "  </svg>\n",
              "      </button>\n",
              "      \n",
              "  <style>\n",
              "    .colab-df-container {\n",
              "      display:flex;\n",
              "      flex-wrap:wrap;\n",
              "      gap: 12px;\n",
              "    }\n",
              "\n",
              "    .colab-df-convert {\n",
              "      background-color: #E8F0FE;\n",
              "      border: none;\n",
              "      border-radius: 50%;\n",
              "      cursor: pointer;\n",
              "      display: none;\n",
              "      fill: #1967D2;\n",
              "      height: 32px;\n",
              "      padding: 0 0 0 0;\n",
              "      width: 32px;\n",
              "    }\n",
              "\n",
              "    .colab-df-convert:hover {\n",
              "      background-color: #E2EBFA;\n",
              "      box-shadow: 0px 1px 2px rgba(60, 64, 67, 0.3), 0px 1px 3px 1px rgba(60, 64, 67, 0.15);\n",
              "      fill: #174EA6;\n",
              "    }\n",
              "\n",
              "    [theme=dark] .colab-df-convert {\n",
              "      background-color: #3B4455;\n",
              "      fill: #D2E3FC;\n",
              "    }\n",
              "\n",
              "    [theme=dark] .colab-df-convert:hover {\n",
              "      background-color: #434B5C;\n",
              "      box-shadow: 0px 1px 3px 1px rgba(0, 0, 0, 0.15);\n",
              "      filter: drop-shadow(0px 1px 2px rgba(0, 0, 0, 0.3));\n",
              "      fill: #FFFFFF;\n",
              "    }\n",
              "  </style>\n",
              "\n",
              "      <script>\n",
              "        const buttonEl =\n",
              "          document.querySelector('#df-c657d31f-47de-45bf-818e-2519edfbb964 button.colab-df-convert');\n",
              "        buttonEl.style.display =\n",
              "          google.colab.kernel.accessAllowed ? 'block' : 'none';\n",
              "\n",
              "        async function convertToInteractive(key) {\n",
              "          const element = document.querySelector('#df-c657d31f-47de-45bf-818e-2519edfbb964');\n",
              "          const dataTable =\n",
              "            await google.colab.kernel.invokeFunction('convertToInteractive',\n",
              "                                                     [key], {});\n",
              "          if (!dataTable) return;\n",
              "\n",
              "          const docLinkHtml = 'Like what you see? Visit the ' +\n",
              "            '<a target=\"_blank\" href=https://colab.research.google.com/notebooks/data_table.ipynb>data table notebook</a>'\n",
              "            + ' to learn more about interactive tables.';\n",
              "          element.innerHTML = '';\n",
              "          dataTable['output_type'] = 'display_data';\n",
              "          await google.colab.output.renderOutput(dataTable, element);\n",
              "          const docLink = document.createElement('div');\n",
              "          docLink.innerHTML = docLinkHtml;\n",
              "          element.appendChild(docLink);\n",
              "        }\n",
              "      </script>\n",
              "    </div>\n",
              "  </div>\n",
              "  "
            ]
          },
          "metadata": {},
          "execution_count": 94
        }
      ]
    },
    {
      "cell_type": "markdown",
      "source": [
        "#### Check for NAs"
      ],
      "metadata": {
        "id": "c8UMGxC-FqvJ"
      }
    },
    {
      "cell_type": "code",
      "source": [
        "df_norm_col_mod_train_2.isna().sum()"
      ],
      "metadata": {
        "id": "bTUzrUBCFseZ",
        "outputId": "2162803e-9e6f-4bc2-cf16-3b9090f70695",
        "colab": {
          "base_uri": "https://localhost:8080/"
        }
      },
      "execution_count": 95,
      "outputs": [
        {
          "output_type": "execute_result",
          "data": {
            "text/plain": [
              "year              0\n",
              "jan               0\n",
              "feb               0\n",
              "mar               0\n",
              "apr               0\n",
              "may               0\n",
              "jun               0\n",
              "jul               0\n",
              "aug               0\n",
              "sep               0\n",
              "oct               0\n",
              "nov               0\n",
              "dec               0\n",
              "mon               0\n",
              "tue               0\n",
              "wed               0\n",
              "thu               0\n",
              "fri               0\n",
              "sat               0\n",
              "sun               0\n",
              "temp              0\n",
              "visib             0\n",
              "num_collisions    0\n",
              "dtype: int64"
            ]
          },
          "metadata": {},
          "execution_count": 95
        }
      ]
    },
    {
      "cell_type": "markdown",
      "source": [
        "#### Overview of Data"
      ],
      "metadata": {
        "id": "5cB4LA7sF0X4"
      }
    },
    {
      "cell_type": "code",
      "source": [
        "df_norm_col_mod_train_2.describe().transpose()"
      ],
      "metadata": {
        "id": "SBP5pxD_F2t4",
        "outputId": "b9893cf1-9c29-4f68-e10a-41b36b58b9aa",
        "colab": {
          "base_uri": "https://localhost:8080/",
          "height": 771
        }
      },
      "execution_count": 96,
      "outputs": [
        {
          "output_type": "execute_result",
          "data": {
            "text/plain": [
              "                 count         mean        std     min          25%  \\\n",
              "year            1766.0  2016.044168   2.005736  2013.0  2014.000000   \n",
              "jan             1766.0     0.085504   0.279709     0.0     0.000000   \n",
              "feb             1766.0     0.085504   0.279709     0.0     0.000000   \n",
              "mar             1766.0     0.083805   0.277174     0.0     0.000000   \n",
              "apr             1766.0     0.082106   0.274605     0.0     0.000000   \n",
              "may             1766.0     0.084371   0.278023     0.0     0.000000   \n",
              "jun             1766.0     0.082673   0.275465     0.0     0.000000   \n",
              "jul             1766.0     0.088901   0.284682     0.0     0.000000   \n",
              "aug             1766.0     0.087769   0.283039     0.0     0.000000   \n",
              "sep             1766.0     0.081540   0.273740     0.0     0.000000   \n",
              "oct             1766.0     0.083239   0.276321     0.0     0.000000   \n",
              "nov             1766.0     0.080974   0.272872     0.0     0.000000   \n",
              "dec             1766.0     0.073613   0.261214     0.0     0.000000   \n",
              "mon             1766.0     0.151189   0.358335     0.0     0.000000   \n",
              "tue             1766.0     0.140997   0.348117     0.0     0.000000   \n",
              "wed             1766.0     0.137033   0.343979     0.0     0.000000   \n",
              "thu             1766.0     0.139298   0.346355     0.0     0.000000   \n",
              "fri             1766.0     0.142129   0.349281     0.0     0.000000   \n",
              "sat             1766.0     0.143828   0.351014     0.0     0.000000   \n",
              "sun             1766.0     0.145527   0.352731     0.0     0.000000   \n",
              "temp            1766.0     0.619088   0.209391     0.0     0.451847   \n",
              "visib           1766.0     0.832603   0.220972     0.0     0.714286   \n",
              "num_collisions  1766.0   598.189694  95.654162   355.0   529.250000   \n",
              "\n",
              "                        50%          75%          max  \n",
              "year            2016.000000  2018.000000  2019.000000  \n",
              "jan                0.000000     0.000000     1.000000  \n",
              "feb                0.000000     0.000000     1.000000  \n",
              "mar                0.000000     0.000000     1.000000  \n",
              "apr                0.000000     0.000000     1.000000  \n",
              "may                0.000000     0.000000     1.000000  \n",
              "jun                0.000000     0.000000     1.000000  \n",
              "jul                0.000000     0.000000     1.000000  \n",
              "aug                0.000000     0.000000     1.000000  \n",
              "sep                0.000000     0.000000     1.000000  \n",
              "oct                0.000000     0.000000     1.000000  \n",
              "nov                0.000000     0.000000     1.000000  \n",
              "dec                0.000000     0.000000     1.000000  \n",
              "mon                0.000000     0.000000     1.000000  \n",
              "tue                0.000000     0.000000     1.000000  \n",
              "wed                0.000000     0.000000     1.000000  \n",
              "thu                0.000000     0.000000     1.000000  \n",
              "fri                0.000000     0.000000     1.000000  \n",
              "sat                0.000000     0.000000     1.000000  \n",
              "sun                0.000000     0.000000     1.000000  \n",
              "temp               0.627968     0.806728     0.997361  \n",
              "visib              0.938776     1.000000     1.000000  \n",
              "num_collisions   601.000000   663.000000   845.000000  "
            ],
            "text/html": [
              "\n",
              "  <div id=\"df-6198c0bf-28aa-4ee9-a8a1-c8da4d1660f5\">\n",
              "    <div class=\"colab-df-container\">\n",
              "      <div>\n",
              "<style scoped>\n",
              "    .dataframe tbody tr th:only-of-type {\n",
              "        vertical-align: middle;\n",
              "    }\n",
              "\n",
              "    .dataframe tbody tr th {\n",
              "        vertical-align: top;\n",
              "    }\n",
              "\n",
              "    .dataframe thead th {\n",
              "        text-align: right;\n",
              "    }\n",
              "</style>\n",
              "<table border=\"1\" class=\"dataframe\">\n",
              "  <thead>\n",
              "    <tr style=\"text-align: right;\">\n",
              "      <th></th>\n",
              "      <th>count</th>\n",
              "      <th>mean</th>\n",
              "      <th>std</th>\n",
              "      <th>min</th>\n",
              "      <th>25%</th>\n",
              "      <th>50%</th>\n",
              "      <th>75%</th>\n",
              "      <th>max</th>\n",
              "    </tr>\n",
              "  </thead>\n",
              "  <tbody>\n",
              "    <tr>\n",
              "      <th>year</th>\n",
              "      <td>1766.0</td>\n",
              "      <td>2016.044168</td>\n",
              "      <td>2.005736</td>\n",
              "      <td>2013.0</td>\n",
              "      <td>2014.000000</td>\n",
              "      <td>2016.000000</td>\n",
              "      <td>2018.000000</td>\n",
              "      <td>2019.000000</td>\n",
              "    </tr>\n",
              "    <tr>\n",
              "      <th>jan</th>\n",
              "      <td>1766.0</td>\n",
              "      <td>0.085504</td>\n",
              "      <td>0.279709</td>\n",
              "      <td>0.0</td>\n",
              "      <td>0.000000</td>\n",
              "      <td>0.000000</td>\n",
              "      <td>0.000000</td>\n",
              "      <td>1.000000</td>\n",
              "    </tr>\n",
              "    <tr>\n",
              "      <th>feb</th>\n",
              "      <td>1766.0</td>\n",
              "      <td>0.085504</td>\n",
              "      <td>0.279709</td>\n",
              "      <td>0.0</td>\n",
              "      <td>0.000000</td>\n",
              "      <td>0.000000</td>\n",
              "      <td>0.000000</td>\n",
              "      <td>1.000000</td>\n",
              "    </tr>\n",
              "    <tr>\n",
              "      <th>mar</th>\n",
              "      <td>1766.0</td>\n",
              "      <td>0.083805</td>\n",
              "      <td>0.277174</td>\n",
              "      <td>0.0</td>\n",
              "      <td>0.000000</td>\n",
              "      <td>0.000000</td>\n",
              "      <td>0.000000</td>\n",
              "      <td>1.000000</td>\n",
              "    </tr>\n",
              "    <tr>\n",
              "      <th>apr</th>\n",
              "      <td>1766.0</td>\n",
              "      <td>0.082106</td>\n",
              "      <td>0.274605</td>\n",
              "      <td>0.0</td>\n",
              "      <td>0.000000</td>\n",
              "      <td>0.000000</td>\n",
              "      <td>0.000000</td>\n",
              "      <td>1.000000</td>\n",
              "    </tr>\n",
              "    <tr>\n",
              "      <th>may</th>\n",
              "      <td>1766.0</td>\n",
              "      <td>0.084371</td>\n",
              "      <td>0.278023</td>\n",
              "      <td>0.0</td>\n",
              "      <td>0.000000</td>\n",
              "      <td>0.000000</td>\n",
              "      <td>0.000000</td>\n",
              "      <td>1.000000</td>\n",
              "    </tr>\n",
              "    <tr>\n",
              "      <th>jun</th>\n",
              "      <td>1766.0</td>\n",
              "      <td>0.082673</td>\n",
              "      <td>0.275465</td>\n",
              "      <td>0.0</td>\n",
              "      <td>0.000000</td>\n",
              "      <td>0.000000</td>\n",
              "      <td>0.000000</td>\n",
              "      <td>1.000000</td>\n",
              "    </tr>\n",
              "    <tr>\n",
              "      <th>jul</th>\n",
              "      <td>1766.0</td>\n",
              "      <td>0.088901</td>\n",
              "      <td>0.284682</td>\n",
              "      <td>0.0</td>\n",
              "      <td>0.000000</td>\n",
              "      <td>0.000000</td>\n",
              "      <td>0.000000</td>\n",
              "      <td>1.000000</td>\n",
              "    </tr>\n",
              "    <tr>\n",
              "      <th>aug</th>\n",
              "      <td>1766.0</td>\n",
              "      <td>0.087769</td>\n",
              "      <td>0.283039</td>\n",
              "      <td>0.0</td>\n",
              "      <td>0.000000</td>\n",
              "      <td>0.000000</td>\n",
              "      <td>0.000000</td>\n",
              "      <td>1.000000</td>\n",
              "    </tr>\n",
              "    <tr>\n",
              "      <th>sep</th>\n",
              "      <td>1766.0</td>\n",
              "      <td>0.081540</td>\n",
              "      <td>0.273740</td>\n",
              "      <td>0.0</td>\n",
              "      <td>0.000000</td>\n",
              "      <td>0.000000</td>\n",
              "      <td>0.000000</td>\n",
              "      <td>1.000000</td>\n",
              "    </tr>\n",
              "    <tr>\n",
              "      <th>oct</th>\n",
              "      <td>1766.0</td>\n",
              "      <td>0.083239</td>\n",
              "      <td>0.276321</td>\n",
              "      <td>0.0</td>\n",
              "      <td>0.000000</td>\n",
              "      <td>0.000000</td>\n",
              "      <td>0.000000</td>\n",
              "      <td>1.000000</td>\n",
              "    </tr>\n",
              "    <tr>\n",
              "      <th>nov</th>\n",
              "      <td>1766.0</td>\n",
              "      <td>0.080974</td>\n",
              "      <td>0.272872</td>\n",
              "      <td>0.0</td>\n",
              "      <td>0.000000</td>\n",
              "      <td>0.000000</td>\n",
              "      <td>0.000000</td>\n",
              "      <td>1.000000</td>\n",
              "    </tr>\n",
              "    <tr>\n",
              "      <th>dec</th>\n",
              "      <td>1766.0</td>\n",
              "      <td>0.073613</td>\n",
              "      <td>0.261214</td>\n",
              "      <td>0.0</td>\n",
              "      <td>0.000000</td>\n",
              "      <td>0.000000</td>\n",
              "      <td>0.000000</td>\n",
              "      <td>1.000000</td>\n",
              "    </tr>\n",
              "    <tr>\n",
              "      <th>mon</th>\n",
              "      <td>1766.0</td>\n",
              "      <td>0.151189</td>\n",
              "      <td>0.358335</td>\n",
              "      <td>0.0</td>\n",
              "      <td>0.000000</td>\n",
              "      <td>0.000000</td>\n",
              "      <td>0.000000</td>\n",
              "      <td>1.000000</td>\n",
              "    </tr>\n",
              "    <tr>\n",
              "      <th>tue</th>\n",
              "      <td>1766.0</td>\n",
              "      <td>0.140997</td>\n",
              "      <td>0.348117</td>\n",
              "      <td>0.0</td>\n",
              "      <td>0.000000</td>\n",
              "      <td>0.000000</td>\n",
              "      <td>0.000000</td>\n",
              "      <td>1.000000</td>\n",
              "    </tr>\n",
              "    <tr>\n",
              "      <th>wed</th>\n",
              "      <td>1766.0</td>\n",
              "      <td>0.137033</td>\n",
              "      <td>0.343979</td>\n",
              "      <td>0.0</td>\n",
              "      <td>0.000000</td>\n",
              "      <td>0.000000</td>\n",
              "      <td>0.000000</td>\n",
              "      <td>1.000000</td>\n",
              "    </tr>\n",
              "    <tr>\n",
              "      <th>thu</th>\n",
              "      <td>1766.0</td>\n",
              "      <td>0.139298</td>\n",
              "      <td>0.346355</td>\n",
              "      <td>0.0</td>\n",
              "      <td>0.000000</td>\n",
              "      <td>0.000000</td>\n",
              "      <td>0.000000</td>\n",
              "      <td>1.000000</td>\n",
              "    </tr>\n",
              "    <tr>\n",
              "      <th>fri</th>\n",
              "      <td>1766.0</td>\n",
              "      <td>0.142129</td>\n",
              "      <td>0.349281</td>\n",
              "      <td>0.0</td>\n",
              "      <td>0.000000</td>\n",
              "      <td>0.000000</td>\n",
              "      <td>0.000000</td>\n",
              "      <td>1.000000</td>\n",
              "    </tr>\n",
              "    <tr>\n",
              "      <th>sat</th>\n",
              "      <td>1766.0</td>\n",
              "      <td>0.143828</td>\n",
              "      <td>0.351014</td>\n",
              "      <td>0.0</td>\n",
              "      <td>0.000000</td>\n",
              "      <td>0.000000</td>\n",
              "      <td>0.000000</td>\n",
              "      <td>1.000000</td>\n",
              "    </tr>\n",
              "    <tr>\n",
              "      <th>sun</th>\n",
              "      <td>1766.0</td>\n",
              "      <td>0.145527</td>\n",
              "      <td>0.352731</td>\n",
              "      <td>0.0</td>\n",
              "      <td>0.000000</td>\n",
              "      <td>0.000000</td>\n",
              "      <td>0.000000</td>\n",
              "      <td>1.000000</td>\n",
              "    </tr>\n",
              "    <tr>\n",
              "      <th>temp</th>\n",
              "      <td>1766.0</td>\n",
              "      <td>0.619088</td>\n",
              "      <td>0.209391</td>\n",
              "      <td>0.0</td>\n",
              "      <td>0.451847</td>\n",
              "      <td>0.627968</td>\n",
              "      <td>0.806728</td>\n",
              "      <td>0.997361</td>\n",
              "    </tr>\n",
              "    <tr>\n",
              "      <th>visib</th>\n",
              "      <td>1766.0</td>\n",
              "      <td>0.832603</td>\n",
              "      <td>0.220972</td>\n",
              "      <td>0.0</td>\n",
              "      <td>0.714286</td>\n",
              "      <td>0.938776</td>\n",
              "      <td>1.000000</td>\n",
              "      <td>1.000000</td>\n",
              "    </tr>\n",
              "    <tr>\n",
              "      <th>num_collisions</th>\n",
              "      <td>1766.0</td>\n",
              "      <td>598.189694</td>\n",
              "      <td>95.654162</td>\n",
              "      <td>355.0</td>\n",
              "      <td>529.250000</td>\n",
              "      <td>601.000000</td>\n",
              "      <td>663.000000</td>\n",
              "      <td>845.000000</td>\n",
              "    </tr>\n",
              "  </tbody>\n",
              "</table>\n",
              "</div>\n",
              "      <button class=\"colab-df-convert\" onclick=\"convertToInteractive('df-6198c0bf-28aa-4ee9-a8a1-c8da4d1660f5')\"\n",
              "              title=\"Convert this dataframe to an interactive table.\"\n",
              "              style=\"display:none;\">\n",
              "        \n",
              "  <svg xmlns=\"http://www.w3.org/2000/svg\" height=\"24px\"viewBox=\"0 0 24 24\"\n",
              "       width=\"24px\">\n",
              "    <path d=\"M0 0h24v24H0V0z\" fill=\"none\"/>\n",
              "    <path d=\"M18.56 5.44l.94 2.06.94-2.06 2.06-.94-2.06-.94-.94-2.06-.94 2.06-2.06.94zm-11 1L8.5 8.5l.94-2.06 2.06-.94-2.06-.94L8.5 2.5l-.94 2.06-2.06.94zm10 10l.94 2.06.94-2.06 2.06-.94-2.06-.94-.94-2.06-.94 2.06-2.06.94z\"/><path d=\"M17.41 7.96l-1.37-1.37c-.4-.4-.92-.59-1.43-.59-.52 0-1.04.2-1.43.59L10.3 9.45l-7.72 7.72c-.78.78-.78 2.05 0 2.83L4 21.41c.39.39.9.59 1.41.59.51 0 1.02-.2 1.41-.59l7.78-7.78 2.81-2.81c.8-.78.8-2.07 0-2.86zM5.41 20L4 18.59l7.72-7.72 1.47 1.35L5.41 20z\"/>\n",
              "  </svg>\n",
              "      </button>\n",
              "      \n",
              "  <style>\n",
              "    .colab-df-container {\n",
              "      display:flex;\n",
              "      flex-wrap:wrap;\n",
              "      gap: 12px;\n",
              "    }\n",
              "\n",
              "    .colab-df-convert {\n",
              "      background-color: #E8F0FE;\n",
              "      border: none;\n",
              "      border-radius: 50%;\n",
              "      cursor: pointer;\n",
              "      display: none;\n",
              "      fill: #1967D2;\n",
              "      height: 32px;\n",
              "      padding: 0 0 0 0;\n",
              "      width: 32px;\n",
              "    }\n",
              "\n",
              "    .colab-df-convert:hover {\n",
              "      background-color: #E2EBFA;\n",
              "      box-shadow: 0px 1px 2px rgba(60, 64, 67, 0.3), 0px 1px 3px 1px rgba(60, 64, 67, 0.15);\n",
              "      fill: #174EA6;\n",
              "    }\n",
              "\n",
              "    [theme=dark] .colab-df-convert {\n",
              "      background-color: #3B4455;\n",
              "      fill: #D2E3FC;\n",
              "    }\n",
              "\n",
              "    [theme=dark] .colab-df-convert:hover {\n",
              "      background-color: #434B5C;\n",
              "      box-shadow: 0px 1px 3px 1px rgba(0, 0, 0, 0.15);\n",
              "      filter: drop-shadow(0px 1px 2px rgba(0, 0, 0, 0.3));\n",
              "      fill: #FFFFFF;\n",
              "    }\n",
              "  </style>\n",
              "\n",
              "      <script>\n",
              "        const buttonEl =\n",
              "          document.querySelector('#df-6198c0bf-28aa-4ee9-a8a1-c8da4d1660f5 button.colab-df-convert');\n",
              "        buttonEl.style.display =\n",
              "          google.colab.kernel.accessAllowed ? 'block' : 'none';\n",
              "\n",
              "        async function convertToInteractive(key) {\n",
              "          const element = document.querySelector('#df-6198c0bf-28aa-4ee9-a8a1-c8da4d1660f5');\n",
              "          const dataTable =\n",
              "            await google.colab.kernel.invokeFunction('convertToInteractive',\n",
              "                                                     [key], {});\n",
              "          if (!dataTable) return;\n",
              "\n",
              "          const docLinkHtml = 'Like what you see? Visit the ' +\n",
              "            '<a target=\"_blank\" href=https://colab.research.google.com/notebooks/data_table.ipynb>data table notebook</a>'\n",
              "            + ' to learn more about interactive tables.';\n",
              "          element.innerHTML = '';\n",
              "          dataTable['output_type'] = 'display_data';\n",
              "          await google.colab.output.renderOutput(dataTable, element);\n",
              "          const docLink = document.createElement('div');\n",
              "          docLink.innerHTML = docLinkHtml;\n",
              "          element.appendChild(docLink);\n",
              "        }\n",
              "      </script>\n",
              "    </div>\n",
              "  </div>\n",
              "  "
            ]
          },
          "metadata": {},
          "execution_count": 96
        }
      ]
    },
    {
      "cell_type": "markdown",
      "source": [
        "#### Separate Features and Labels"
      ],
      "metadata": {
        "id": "aXyTSzmkF9Jm"
      }
    },
    {
      "cell_type": "code",
      "source": [
        "df_norm_col_mod_train_2_feat = df_norm_col_mod_train_2.copy()\n",
        "df_norm_col_mod_test_2_feat = df_norm_col_mod_test_2.copy()\n",
        "\n",
        "df_norm_col_mod_train_2_lab = df_norm_col_mod_train_2_feat.pop('num_collisions')\n",
        "df_norm_col_mod_test_2_lab = df_norm_col_mod_test_2_feat.pop('num_collisions')"
      ],
      "metadata": {
        "id": "WV_el8ihF8rY"
      },
      "execution_count": 97,
      "outputs": []
    },
    {
      "cell_type": "markdown",
      "source": [
        "#### Model"
      ],
      "metadata": {
        "id": "ivdYKC46GXB1"
      }
    },
    {
      "cell_type": "markdown",
      "source": [
        "##### Normaliser Layer"
      ],
      "metadata": {
        "id": "CQy5cUORGYNV"
      }
    },
    {
      "cell_type": "code",
      "source": [
        "normaliser = tf.keras.layers.Normalization(axis=-1)\n",
        "\n",
        "normaliser.adapt(np.array(df_norm_col_mod_train_2_feat))\n",
        "\n",
        "print(normaliser.mean.numpy())"
      ],
      "metadata": {
        "id": "e6gooDAiGZrj",
        "outputId": "cf9c6e8a-982e-4b73-e050-aa3a815a65fd",
        "colab": {
          "base_uri": "https://localhost:8080/"
        }
      },
      "execution_count": 98,
      "outputs": [
        {
          "output_type": "stream",
          "name": "stdout",
          "text": [
            "[[2016.044    0.086    0.086    0.084    0.082    0.084    0.083    0.089\n",
            "     0.088    0.082    0.083    0.081    0.074    0.151    0.141    0.137\n",
            "     0.139    0.142    0.144    0.146    0.619    0.833]]\n"
          ]
        }
      ]
    },
    {
      "cell_type": "markdown",
      "source": [
        "##### Sequencer"
      ],
      "metadata": {
        "id": "eMB-yDLmGfNz"
      }
    },
    {
      "cell_type": "code",
      "source": [
        "norm_col_mod_2 = np.array(df_std_col_mod_train_2_feat)\n",
        "norm_col_mod_2_normaliser = layers.Normalization(axis=-1)\n",
        "norm_col_mod_2_normaliser.adapt(np.array(df_norm_col_mod_train_2_feat))"
      ],
      "metadata": {
        "id": "-8aCUnknGgcq"
      },
      "execution_count": 99,
      "outputs": []
    },
    {
      "cell_type": "code",
      "source": [
        "norm_col_mod_2_model = tf.keras.Sequential([\n",
        "    norm_col_mod_2_normaliser,\n",
        "    layers.Dense(units=1)\n",
        "])\n",
        "\n",
        "norm_col_mod_2_model.summary()"
      ],
      "metadata": {
        "id": "00zd1fQzGrNN",
        "outputId": "c67a77bd-e200-4c8f-ca80-0a662dda12d6",
        "colab": {
          "base_uri": "https://localhost:8080/"
        }
      },
      "execution_count": 100,
      "outputs": [
        {
          "output_type": "stream",
          "name": "stdout",
          "text": [
            "Model: \"sequential_6\"\n",
            "_________________________________________________________________\n",
            " Layer (type)                Output Shape              Param #   \n",
            "=================================================================\n",
            " normalization_13 (Normaliza  (None, 22)               45        \n",
            " tion)                                                           \n",
            "                                                                 \n",
            " dense_6 (Dense)             (None, 1)                 23        \n",
            "                                                                 \n",
            "=================================================================\n",
            "Total params: 68\n",
            "Trainable params: 23\n",
            "Non-trainable params: 45\n",
            "_________________________________________________________________\n"
          ]
        }
      ]
    },
    {
      "cell_type": "code",
      "source": [
        "norm_col_mod_2_model.predict(norm_col_mod_2)"
      ],
      "metadata": {
        "id": "sill2jsZGv9D",
        "outputId": "8c3d27cb-73f7-4463-ec1f-e706c5d7020d",
        "colab": {
          "base_uri": "https://localhost:8080/"
        }
      },
      "execution_count": 101,
      "outputs": [
        {
          "output_type": "stream",
          "name": "stdout",
          "text": [
            "56/56 [==============================] - 0s 1ms/step\n"
          ]
        },
        {
          "output_type": "execute_result",
          "data": {
            "text/plain": [
              "array([[ 1.514],\n",
              "       [-2.614],\n",
              "       [-3.785],\n",
              "       ...,\n",
              "       [ 4.751],\n",
              "       [-0.359],\n",
              "       [-4.172]], dtype=float32)"
            ]
          },
          "metadata": {},
          "execution_count": 101
        }
      ]
    },
    {
      "cell_type": "code",
      "source": [
        "norm_col_mod_2_model.layers[1].kernel"
      ],
      "metadata": {
        "id": "6-nCYzau_fm3",
        "outputId": "ef6fabb2-e60e-4e86-e038-7da2d9fc46ea",
        "colab": {
          "base_uri": "https://localhost:8080/"
        }
      },
      "execution_count": 102,
      "outputs": [
        {
          "output_type": "execute_result",
          "data": {
            "text/plain": [
              "<tf.Variable 'dense_6/kernel:0' shape=(22, 1) dtype=float32, numpy=\n",
              "array([[ 0.351],\n",
              "       [-0.009],\n",
              "       [-0.498],\n",
              "       [-0.23 ],\n",
              "       [-0.095],\n",
              "       [-0.084],\n",
              "       [-0.142],\n",
              "       [-0.474],\n",
              "       [ 0.361],\n",
              "       [-0.286],\n",
              "       [ 0.461],\n",
              "       [ 0.217],\n",
              "       [-0.045],\n",
              "       [ 0.417],\n",
              "       [ 0.441],\n",
              "       [-0.247],\n",
              "       [ 0.331],\n",
              "       [-0.473],\n",
              "       [-0.196],\n",
              "       [-0.366],\n",
              "       [ 0.396],\n",
              "       [-0.324]], dtype=float32)>"
            ]
          },
          "metadata": {},
          "execution_count": 102
        }
      ]
    },
    {
      "cell_type": "code",
      "source": [
        "norm_col_mod_2_model.compile(\n",
        "    optimizer = tf.keras.optimizers.Adam(learning_rate=0.1),\n",
        "    loss='mean_absolute_error')"
      ],
      "metadata": {
        "id": "WujHrDXeAQ2r"
      },
      "execution_count": 103,
      "outputs": []
    },
    {
      "cell_type": "code",
      "source": [
        "%%time\n",
        "history = norm_col_mod_2_model.fit(\n",
        "    df_norm_col_mod_train_2_feat,\n",
        "    df_norm_col_mod_train_2_lab,\n",
        "    epochs=100,\n",
        "    # Suppress logging.\n",
        "    verbose=0,\n",
        "    # Calculate validation results on 20% of the training data.\n",
        "    validation_split = 0.2)"
      ],
      "metadata": {
        "id": "AQSmYu5xAb26",
        "outputId": "8219339f-cfe2-4f46-f9f8-50766f7c110a",
        "colab": {
          "base_uri": "https://localhost:8080/"
        }
      },
      "execution_count": 104,
      "outputs": [
        {
          "output_type": "stream",
          "name": "stdout",
          "text": [
            "CPU times: user 9.67 s, sys: 495 ms, total: 10.2 s\n",
            "Wall time: 10.9 s\n"
          ]
        }
      ]
    },
    {
      "cell_type": "code",
      "source": [
        "plot_loss(history)"
      ],
      "metadata": {
        "id": "37vbq94jAuJJ",
        "outputId": "eaa9e4e2-3db2-4f33-bb49-8890bf49fb51",
        "colab": {
          "base_uri": "https://localhost:8080/",
          "height": 283
        }
      },
      "execution_count": 105,
      "outputs": [
        {
          "output_type": "display_data",
          "data": {
            "text/plain": [
              "<Figure size 432x288 with 1 Axes>"
            ],
            "image/png": "[encoded data removed]"
          },
          "metadata": {
            "needs_background": "light"
          }
        }
      ]
    },
    {
      "cell_type": "code",
      "source": [
        "test_results['norm_col_mod_2'] = norm_col_mod_2_model.evaluate(\n",
        "    df_norm_col_mod_test_2_feat,\n",
        "    df_norm_col_mod_test_2_lab, verbose=0)"
      ],
      "metadata": {
        "id": "JwzpAPeGAzPe"
      },
      "execution_count": 106,
      "outputs": []
    },
    {
      "cell_type": "code",
      "source": [
        "print(test_results)"
      ],
      "metadata": {
        "id": "L12DNM2eBEgo",
        "outputId": "c2102b81-7d04-4da4-e624-42cd46c13d66",
        "colab": {
          "base_uri": "https://localhost:8080/"
        }
      },
      "execution_count": 107,
      "outputs": [
        {
          "output_type": "stream",
          "name": "stdout",
          "text": [
            "{'temp_model': 155.27452087402344, 'col_mod_1': 154.217529296875, 'std_col_mod_1': 161.0737762451172, 'norm_col_mod_1': 158.41468811035156, 'col_mod_2': 167.04177856445312, 'std_col_mod_2': 165.54393005371094, 'norm_col_mod_2': 157.43344116210938}\n"
          ]
        }
      ]
    },
    {
      "cell_type": "markdown",
      "source": [
        "## Deep Neural Networks"
      ],
      "metadata": {
        "id": "o-yeqm4VBLKP"
      }
    },
    {
      "cell_type": "markdown",
      "source": [
        "### Build and Compile Function"
      ],
      "metadata": {
        "id": "6t7lkksBFQ9F"
      }
    },
    {
      "cell_type": "code",
      "source": [
        "def build_and_compile_model(norm):\n",
        "  model = keras.Sequential([\n",
        "      norm,\n",
        "      layers.Dense(64, activation='relu'),\n",
        "      layers.Dense(64, activation='relu'),\n",
        "      layers.Dense(1)\n",
        "  ])\n",
        "\n",
        "  model.compile(loss='mean_absolute_error',\n",
        "                optimizer=tf.keras.optimizers.Adam(0.001))\n",
        "  return model"
      ],
      "metadata": {
        "id": "oTzgP9VXFUJK"
      },
      "execution_count": 108,
      "outputs": []
    },
    {
      "cell_type": "markdown",
      "source": [
        "### DNN 1"
      ],
      "metadata": {
        "id": "8f9CXnM4FbBU"
      }
    },
    {
      "cell_type": "markdown",
      "source": [
        "#### Read Data"
      ],
      "metadata": {
        "id": "H6vgGVjOG2do"
      }
    },
    {
      "cell_type": "markdown",
      "source": [
        "##### Training Data"
      ],
      "metadata": {
        "id": "pS48clMhG4Vs"
      }
    },
    {
      "cell_type": "code",
      "source": [
        "url = \"https://raw.githubusercontent.com/AaronM44/DAOTW-Assignment-1/main/outputs/std_col_dnn_1_train.csv\"\n",
        "\n",
        "raw_std_col_dnn_1_train = pd.read_csv(url)\n",
        "\n",
        "df_std_col_dnn_1_train = raw_std_col_dnn_1_train.copy()\n",
        "\n",
        "df_std_col_dnn_1_train = df_std_col_dnn_1_train.drop(df_std_col_dnn_1_train.columns[[0, 1]], axis=1)\n",
        "\n",
        "df_std_col_dnn_1_train.head()"
      ],
      "metadata": {
        "id": "T0SQcbEoG6tQ",
        "outputId": "e4643974-f528-481f-85c1-bc21a2bd2933",
        "colab": {
          "base_uri": "https://localhost:8080/",
          "height": 236
        }
      },
      "execution_count": 109,
      "outputs": [
        {
          "output_type": "execute_result",
          "data": {
            "text/plain": [
              "   year  jan  feb  mar  apr  may  jun  jul  aug  sep  ...  tue  wed  thu  fri  \\\n",
              "0  2016    1    0    0    0    0    0    0    0    0  ...    0    0    0    0   \n",
              "1  2016    0    0    0    0    0    0    0    1    0  ...    0    0    0    0   \n",
              "2  2014    0    0    0    0    0    0    1    0    0  ...    0    0    1    0   \n",
              "3  2013    0    0    0    0    0    0    1    0    0  ...    0    0    0    0   \n",
              "4  2013    0    0    0    0    0    0    1    0    0  ...    1    0    0    0   \n",
              "\n",
              "   sat  sun      temp     visib      wdsp  num_collisions  \n",
              "0    1    0 -0.664504  0.361002  0.110375             734  \n",
              "1    0    0  1.759592  0.043268  0.959699             658  \n",
              "2    0    0  0.943055  0.769518 -1.339692             480  \n",
              "3    0    1  1.070639 -1.908529 -0.055347             633  \n",
              "4    0    0  1.427874 -1.545404 -0.283215             550  \n",
              "\n",
              "[5 rows x 24 columns]"
            ],
            "text/html": [
              "\n",
              "  <div id=\"df-88e41018-8c47-498e-a456-f9386e093253\">\n",
              "    <div class=\"colab-df-container\">\n",
              "      <div>\n",
              "<style scoped>\n",
              "    .dataframe tbody tr th:only-of-type {\n",
              "        vertical-align: middle;\n",
              "    }\n",
              "\n",
              "    .dataframe tbody tr th {\n",
              "        vertical-align: top;\n",
              "    }\n",
              "\n",
              "    .dataframe thead th {\n",
              "        text-align: right;\n",
              "    }\n",
              "</style>\n",
              "<table border=\"1\" class=\"dataframe\">\n",
              "  <thead>\n",
              "    <tr style=\"text-align: right;\">\n",
              "      <th></th>\n",
              "      <th>year</th>\n",
              "      <th>jan</th>\n",
              "      <th>feb</th>\n",
              "      <th>mar</th>\n",
              "      <th>apr</th>\n",
              "      <th>may</th>\n",
              "      <th>jun</th>\n",
              "      <th>jul</th>\n",
              "      <th>aug</th>\n",
              "      <th>sep</th>\n",
              "      <th>...</th>\n",
              "      <th>tue</th>\n",
              "      <th>wed</th>\n",
              "      <th>thu</th>\n",
              "      <th>fri</th>\n",
              "      <th>sat</th>\n",
              "      <th>sun</th>\n",
              "      <th>temp</th>\n",
              "      <th>visib</th>\n",
              "      <th>wdsp</th>\n",
              "      <th>num_collisions</th>\n",
              "    </tr>\n",
              "  </thead>\n",
              "  <tbody>\n",
              "    <tr>\n",
              "      <th>0</th>\n",
              "      <td>2016</td>\n",
              "      <td>1</td>\n",
              "      <td>0</td>\n",
              "      <td>0</td>\n",
              "      <td>0</td>\n",
              "      <td>0</td>\n",
              "      <td>0</td>\n",
              "      <td>0</td>\n",
              "      <td>0</td>\n",
              "      <td>0</td>\n",
              "      <td>...</td>\n",
              "      <td>0</td>\n",
              "      <td>0</td>\n",
              "      <td>0</td>\n",
              "      <td>0</td>\n",
              "      <td>1</td>\n",
              "      <td>0</td>\n",
              "      <td>-0.664504</td>\n",
              "      <td>0.361002</td>\n",
              "      <td>0.110375</td>\n",
              "      <td>734</td>\n",
              "    </tr>\n",
              "    <tr>\n",
              "      <th>1</th>\n",
              "      <td>2016</td>\n",
              "      <td>0</td>\n",
              "      <td>0</td>\n",
              "      <td>0</td>\n",
              "      <td>0</td>\n",
              "      <td>0</td>\n",
              "      <td>0</td>\n",
              "      <td>0</td>\n",
              "      <td>1</td>\n",
              "      <td>0</td>\n",
              "      <td>...</td>\n",
              "      <td>0</td>\n",
              "      <td>0</td>\n",
              "      <td>0</td>\n",
              "      <td>0</td>\n",
              "      <td>0</td>\n",
              "      <td>0</td>\n",
              "      <td>1.759592</td>\n",
              "      <td>0.043268</td>\n",
              "      <td>0.959699</td>\n",
              "      <td>658</td>\n",
              "    </tr>\n",
              "    <tr>\n",
              "      <th>2</th>\n",
              "      <td>2014</td>\n",
              "      <td>0</td>\n",
              "      <td>0</td>\n",
              "      <td>0</td>\n",
              "      <td>0</td>\n",
              "      <td>0</td>\n",
              "      <td>0</td>\n",
              "      <td>1</td>\n",
              "      <td>0</td>\n",
              "      <td>0</td>\n",
              "      <td>...</td>\n",
              "      <td>0</td>\n",
              "      <td>0</td>\n",
              "      <td>1</td>\n",
              "      <td>0</td>\n",
              "      <td>0</td>\n",
              "      <td>0</td>\n",
              "      <td>0.943055</td>\n",
              "      <td>0.769518</td>\n",
              "      <td>-1.339692</td>\n",
              "      <td>480</td>\n",
              "    </tr>\n",
              "    <tr>\n",
              "      <th>3</th>\n",
              "      <td>2013</td>\n",
              "      <td>0</td>\n",
              "      <td>0</td>\n",
              "      <td>0</td>\n",
              "      <td>0</td>\n",
              "      <td>0</td>\n",
              "      <td>0</td>\n",
              "      <td>1</td>\n",
              "      <td>0</td>\n",
              "      <td>0</td>\n",
              "      <td>...</td>\n",
              "      <td>0</td>\n",
              "      <td>0</td>\n",
              "      <td>0</td>\n",
              "      <td>0</td>\n",
              "      <td>0</td>\n",
              "      <td>1</td>\n",
              "      <td>1.070639</td>\n",
              "      <td>-1.908529</td>\n",
              "      <td>-0.055347</td>\n",
              "      <td>633</td>\n",
              "    </tr>\n",
              "    <tr>\n",
              "      <th>4</th>\n",
              "      <td>2013</td>\n",
              "      <td>0</td>\n",
              "      <td>0</td>\n",
              "      <td>0</td>\n",
              "      <td>0</td>\n",
              "      <td>0</td>\n",
              "      <td>0</td>\n",
              "      <td>1</td>\n",
              "      <td>0</td>\n",
              "      <td>0</td>\n",
              "      <td>...</td>\n",
              "      <td>1</td>\n",
              "      <td>0</td>\n",
              "      <td>0</td>\n",
              "      <td>0</td>\n",
              "      <td>0</td>\n",
              "      <td>0</td>\n",
              "      <td>1.427874</td>\n",
              "      <td>-1.545404</td>\n",
              "      <td>-0.283215</td>\n",
              "      <td>550</td>\n",
              "    </tr>\n",
              "  </tbody>\n",
              "</table>\n",
              "<p>5 rows × 24 columns</p>\n",
              "</div>\n",
              "      <button class=\"colab-df-convert\" onclick=\"convertToInteractive('df-88e41018-8c47-498e-a456-f9386e093253')\"\n",
              "              title=\"Convert this dataframe to an interactive table.\"\n",
              "              style=\"display:none;\">\n",
              "        \n",
              "  <svg xmlns=\"http://www.w3.org/2000/svg\" height=\"24px\"viewBox=\"0 0 24 24\"\n",
              "       width=\"24px\">\n",
              "    <path d=\"M0 0h24v24H0V0z\" fill=\"none\"/>\n",
              "    <path d=\"M18.56 5.44l.94 2.06.94-2.06 2.06-.94-2.06-.94-.94-2.06-.94 2.06-2.06.94zm-11 1L8.5 8.5l.94-2.06 2.06-.94-2.06-.94L8.5 2.5l-.94 2.06-2.06.94zm10 10l.94 2.06.94-2.06 2.06-.94-2.06-.94-.94-2.06-.94 2.06-2.06.94z\"/><path d=\"M17.41 7.96l-1.37-1.37c-.4-.4-.92-.59-1.43-.59-.52 0-1.04.2-1.43.59L10.3 9.45l-7.72 7.72c-.78.78-.78 2.05 0 2.83L4 21.41c.39.39.9.59 1.41.59.51 0 1.02-.2 1.41-.59l7.78-7.78 2.81-2.81c.8-.78.8-2.07 0-2.86zM5.41 20L4 18.59l7.72-7.72 1.47 1.35L5.41 20z\"/>\n",
              "  </svg>\n",
              "      </button>\n",
              "      \n",
              "  <style>\n",
              "    .colab-df-container {\n",
              "      display:flex;\n",
              "      flex-wrap:wrap;\n",
              "      gap: 12px;\n",
              "    }\n",
              "\n",
              "    .colab-df-convert {\n",
              "      background-color: #E8F0FE;\n",
              "      border: none;\n",
              "      border-radius: 50%;\n",
              "      cursor: pointer;\n",
              "      display: none;\n",
              "      fill: #1967D2;\n",
              "      height: 32px;\n",
              "      padding: 0 0 0 0;\n",
              "      width: 32px;\n",
              "    }\n",
              "\n",
              "    .colab-df-convert:hover {\n",
              "      background-color: #E2EBFA;\n",
              "      box-shadow: 0px 1px 2px rgba(60, 64, 67, 0.3), 0px 1px 3px 1px rgba(60, 64, 67, 0.15);\n",
              "      fill: #174EA6;\n",
              "    }\n",
              "\n",
              "    [theme=dark] .colab-df-convert {\n",
              "      background-color: #3B4455;\n",
              "      fill: #D2E3FC;\n",
              "    }\n",
              "\n",
              "    [theme=dark] .colab-df-convert:hover {\n",
              "      background-color: #434B5C;\n",
              "      box-shadow: 0px 1px 3px 1px rgba(0, 0, 0, 0.15);\n",
              "      filter: drop-shadow(0px 1px 2px rgba(0, 0, 0, 0.3));\n",
              "      fill: #FFFFFF;\n",
              "    }\n",
              "  </style>\n",
              "\n",
              "      <script>\n",
              "        const buttonEl =\n",
              "          document.querySelector('#df-88e41018-8c47-498e-a456-f9386e093253 button.colab-df-convert');\n",
              "        buttonEl.style.display =\n",
              "          google.colab.kernel.accessAllowed ? 'block' : 'none';\n",
              "\n",
              "        async function convertToInteractive(key) {\n",
              "          const element = document.querySelector('#df-88e41018-8c47-498e-a456-f9386e093253');\n",
              "          const dataTable =\n",
              "            await google.colab.kernel.invokeFunction('convertToInteractive',\n",
              "                                                     [key], {});\n",
              "          if (!dataTable) return;\n",
              "\n",
              "          const docLinkHtml = 'Like what you see? Visit the ' +\n",
              "            '<a target=\"_blank\" href=https://colab.research.google.com/notebooks/data_table.ipynb>data table notebook</a>'\n",
              "            + ' to learn more about interactive tables.';\n",
              "          element.innerHTML = '';\n",
              "          dataTable['output_type'] = 'display_data';\n",
              "          await google.colab.output.renderOutput(dataTable, element);\n",
              "          const docLink = document.createElement('div');\n",
              "          docLink.innerHTML = docLinkHtml;\n",
              "          element.appendChild(docLink);\n",
              "        }\n",
              "      </script>\n",
              "    </div>\n",
              "  </div>\n",
              "  "
            ]
          },
          "metadata": {},
          "execution_count": 109
        }
      ]
    },
    {
      "cell_type": "markdown",
      "source": [
        "##### Test Data"
      ],
      "metadata": {
        "id": "tVy7m5erHegr"
      }
    },
    {
      "cell_type": "code",
      "source": [
        "url = \"https://raw.githubusercontent.com/AaronM44/DAOTW-Assignment-1/main/outputs/std_col_dnn_1_test.csv\"\n",
        "\n",
        "raw_std_col_dnn_1_test = pd.read_csv(url)\n",
        "\n",
        "df_std_col_dnn_1_test = raw_std_col_dnn_1_test.copy()\n",
        "\n",
        "df_std_col_dnn_1_test = df_std_col_dnn_1_test.drop(df_std_col_dnn_1_test.columns[[0, 1]], axis=1)\n",
        "\n",
        "df_std_col_dnn_1_test.head()"
      ],
      "metadata": {
        "id": "0lRiEpMyHgj6",
        "outputId": "cb711f73-f4e8-4daa-ba74-7fa035e03396",
        "colab": {
          "base_uri": "https://localhost:8080/",
          "height": 236
        }
      },
      "execution_count": 110,
      "outputs": [
        {
          "output_type": "execute_result",
          "data": {
            "text/plain": [
              "   year  jan  feb  mar  apr  may  jun  jul  aug  sep  ...  tue  wed  thu  fri  \\\n",
              "0  2013    1    0    0    0    0    0    0    0    0  ...    0    0    0    0   \n",
              "1  2013    1    0    0    0    0    0    0    0    0  ...    0    0    0    1   \n",
              "2  2013    1    0    0    0    0    0    0    0    0  ...    0    0    0    0   \n",
              "3  2013    1    0    0    0    0    0    0    0    0  ...    0    0    0    0   \n",
              "4  2013    1    0    0    0    0    0    0    0    0  ...    0    0    0    0   \n",
              "\n",
              "   sat  sun      temp     visib      wdsp  num_collisions  \n",
              "0    1    0 -0.970705  0.769518  1.042560             381  \n",
              "1    0    0 -1.123806  0.678736 -1.132539             393  \n",
              "2    0    1 -1.111048  0.224830 -0.511082             521  \n",
              "3    1    0 -0.843121  0.678736 -0.055347             513  \n",
              "4    1    0 -0.664504  0.542565 -0.635374             516  \n",
              "\n",
              "[5 rows x 24 columns]"
            ],
            "text/html": [
              "\n",
              "  <div id=\"df-a64164b3-9870-49bd-9575-ad114ab96466\">\n",
              "    <div class=\"colab-df-container\">\n",
              "      <div>\n",
              "<style scoped>\n",
              "    .dataframe tbody tr th:only-of-type {\n",
              "        vertical-align: middle;\n",
              "    }\n",
              "\n",
              "    .dataframe tbody tr th {\n",
              "        vertical-align: top;\n",
              "    }\n",
              "\n",
              "    .dataframe thead th {\n",
              "        text-align: right;\n",
              "    }\n",
              "</style>\n",
              "<table border=\"1\" class=\"dataframe\">\n",
              "  <thead>\n",
              "    <tr style=\"text-align: right;\">\n",
              "      <th></th>\n",
              "      <th>year</th>\n",
              "      <th>jan</th>\n",
              "      <th>feb</th>\n",
              "      <th>mar</th>\n",
              "      <th>apr</th>\n",
              "      <th>may</th>\n",
              "      <th>jun</th>\n",
              "      <th>jul</th>\n",
              "      <th>aug</th>\n",
              "      <th>sep</th>\n",
              "      <th>...</th>\n",
              "      <th>tue</th>\n",
              "      <th>wed</th>\n",
              "      <th>thu</th>\n",
              "      <th>fri</th>\n",
              "      <th>sat</th>\n",
              "      <th>sun</th>\n",
              "      <th>temp</th>\n",
              "      <th>visib</th>\n",
              "      <th>wdsp</th>\n",
              "      <th>num_collisions</th>\n",
              "    </tr>\n",
              "  </thead>\n",
              "  <tbody>\n",
              "    <tr>\n",
              "      <th>0</th>\n",
              "      <td>2013</td>\n",
              "      <td>1</td>\n",
              "      <td>0</td>\n",
              "      <td>0</td>\n",
              "      <td>0</td>\n",
              "      <td>0</td>\n",
              "      <td>0</td>\n",
              "      <td>0</td>\n",
              "      <td>0</td>\n",
              "      <td>0</td>\n",
              "      <td>...</td>\n",
              "      <td>0</td>\n",
              "      <td>0</td>\n",
              "      <td>0</td>\n",
              "      <td>0</td>\n",
              "      <td>1</td>\n",
              "      <td>0</td>\n",
              "      <td>-0.970705</td>\n",
              "      <td>0.769518</td>\n",
              "      <td>1.042560</td>\n",
              "      <td>381</td>\n",
              "    </tr>\n",
              "    <tr>\n",
              "      <th>1</th>\n",
              "      <td>2013</td>\n",
              "      <td>1</td>\n",
              "      <td>0</td>\n",
              "      <td>0</td>\n",
              "      <td>0</td>\n",
              "      <td>0</td>\n",
              "      <td>0</td>\n",
              "      <td>0</td>\n",
              "      <td>0</td>\n",
              "      <td>0</td>\n",
              "      <td>...</td>\n",
              "      <td>0</td>\n",
              "      <td>0</td>\n",
              "      <td>0</td>\n",
              "      <td>1</td>\n",
              "      <td>0</td>\n",
              "      <td>0</td>\n",
              "      <td>-1.123806</td>\n",
              "      <td>0.678736</td>\n",
              "      <td>-1.132539</td>\n",
              "      <td>393</td>\n",
              "    </tr>\n",
              "    <tr>\n",
              "      <th>2</th>\n",
              "      <td>2013</td>\n",
              "      <td>1</td>\n",
              "      <td>0</td>\n",
              "      <td>0</td>\n",
              "      <td>0</td>\n",
              "      <td>0</td>\n",
              "      <td>0</td>\n",
              "      <td>0</td>\n",
              "      <td>0</td>\n",
              "      <td>0</td>\n",
              "      <td>...</td>\n",
              "      <td>0</td>\n",
              "      <td>0</td>\n",
              "      <td>0</td>\n",
              "      <td>0</td>\n",
              "      <td>0</td>\n",
              "      <td>1</td>\n",
              "      <td>-1.111048</td>\n",
              "      <td>0.224830</td>\n",
              "      <td>-0.511082</td>\n",
              "      <td>521</td>\n",
              "    </tr>\n",
              "    <tr>\n",
              "      <th>3</th>\n",
              "      <td>2013</td>\n",
              "      <td>1</td>\n",
              "      <td>0</td>\n",
              "      <td>0</td>\n",
              "      <td>0</td>\n",
              "      <td>0</td>\n",
              "      <td>0</td>\n",
              "      <td>0</td>\n",
              "      <td>0</td>\n",
              "      <td>0</td>\n",
              "      <td>...</td>\n",
              "      <td>0</td>\n",
              "      <td>0</td>\n",
              "      <td>0</td>\n",
              "      <td>0</td>\n",
              "      <td>1</td>\n",
              "      <td>0</td>\n",
              "      <td>-0.843121</td>\n",
              "      <td>0.678736</td>\n",
              "      <td>-0.055347</td>\n",
              "      <td>513</td>\n",
              "    </tr>\n",
              "    <tr>\n",
              "      <th>4</th>\n",
              "      <td>2013</td>\n",
              "      <td>1</td>\n",
              "      <td>0</td>\n",
              "      <td>0</td>\n",
              "      <td>0</td>\n",
              "      <td>0</td>\n",
              "      <td>0</td>\n",
              "      <td>0</td>\n",
              "      <td>0</td>\n",
              "      <td>0</td>\n",
              "      <td>...</td>\n",
              "      <td>0</td>\n",
              "      <td>0</td>\n",
              "      <td>0</td>\n",
              "      <td>0</td>\n",
              "      <td>1</td>\n",
              "      <td>0</td>\n",
              "      <td>-0.664504</td>\n",
              "      <td>0.542565</td>\n",
              "      <td>-0.635374</td>\n",
              "      <td>516</td>\n",
              "    </tr>\n",
              "  </tbody>\n",
              "</table>\n",
              "<p>5 rows × 24 columns</p>\n",
              "</div>\n",
              "      <button class=\"colab-df-convert\" onclick=\"convertToInteractive('df-a64164b3-9870-49bd-9575-ad114ab96466')\"\n",
              "              title=\"Convert this dataframe to an interactive table.\"\n",
              "              style=\"display:none;\">\n",
              "        \n",
              "  <svg xmlns=\"http://www.w3.org/2000/svg\" height=\"24px\"viewBox=\"0 0 24 24\"\n",
              "       width=\"24px\">\n",
              "    <path d=\"M0 0h24v24H0V0z\" fill=\"none\"/>\n",
              "    <path d=\"M18.56 5.44l.94 2.06.94-2.06 2.06-.94-2.06-.94-.94-2.06-.94 2.06-2.06.94zm-11 1L8.5 8.5l.94-2.06 2.06-.94-2.06-.94L8.5 2.5l-.94 2.06-2.06.94zm10 10l.94 2.06.94-2.06 2.06-.94-2.06-.94-.94-2.06-.94 2.06-2.06.94z\"/><path d=\"M17.41 7.96l-1.37-1.37c-.4-.4-.92-.59-1.43-.59-.52 0-1.04.2-1.43.59L10.3 9.45l-7.72 7.72c-.78.78-.78 2.05 0 2.83L4 21.41c.39.39.9.59 1.41.59.51 0 1.02-.2 1.41-.59l7.78-7.78 2.81-2.81c.8-.78.8-2.07 0-2.86zM5.41 20L4 18.59l7.72-7.72 1.47 1.35L5.41 20z\"/>\n",
              "  </svg>\n",
              "      </button>\n",
              "      \n",
              "  <style>\n",
              "    .colab-df-container {\n",
              "      display:flex;\n",
              "      flex-wrap:wrap;\n",
              "      gap: 12px;\n",
              "    }\n",
              "\n",
              "    .colab-df-convert {\n",
              "      background-color: #E8F0FE;\n",
              "      border: none;\n",
              "      border-radius: 50%;\n",
              "      cursor: pointer;\n",
              "      display: none;\n",
              "      fill: #1967D2;\n",
              "      height: 32px;\n",
              "      padding: 0 0 0 0;\n",
              "      width: 32px;\n",
              "    }\n",
              "\n",
              "    .colab-df-convert:hover {\n",
              "      background-color: #E2EBFA;\n",
              "      box-shadow: 0px 1px 2px rgba(60, 64, 67, 0.3), 0px 1px 3px 1px rgba(60, 64, 67, 0.15);\n",
              "      fill: #174EA6;\n",
              "    }\n",
              "\n",
              "    [theme=dark] .colab-df-convert {\n",
              "      background-color: #3B4455;\n",
              "      fill: #D2E3FC;\n",
              "    }\n",
              "\n",
              "    [theme=dark] .colab-df-convert:hover {\n",
              "      background-color: #434B5C;\n",
              "      box-shadow: 0px 1px 3px 1px rgba(0, 0, 0, 0.15);\n",
              "      filter: drop-shadow(0px 1px 2px rgba(0, 0, 0, 0.3));\n",
              "      fill: #FFFFFF;\n",
              "    }\n",
              "  </style>\n",
              "\n",
              "      <script>\n",
              "        const buttonEl =\n",
              "          document.querySelector('#df-a64164b3-9870-49bd-9575-ad114ab96466 button.colab-df-convert');\n",
              "        buttonEl.style.display =\n",
              "          google.colab.kernel.accessAllowed ? 'block' : 'none';\n",
              "\n",
              "        async function convertToInteractive(key) {\n",
              "          const element = document.querySelector('#df-a64164b3-9870-49bd-9575-ad114ab96466');\n",
              "          const dataTable =\n",
              "            await google.colab.kernel.invokeFunction('convertToInteractive',\n",
              "                                                     [key], {});\n",
              "          if (!dataTable) return;\n",
              "\n",
              "          const docLinkHtml = 'Like what you see? Visit the ' +\n",
              "            '<a target=\"_blank\" href=https://colab.research.google.com/notebooks/data_table.ipynb>data table notebook</a>'\n",
              "            + ' to learn more about interactive tables.';\n",
              "          element.innerHTML = '';\n",
              "          dataTable['output_type'] = 'display_data';\n",
              "          await google.colab.output.renderOutput(dataTable, element);\n",
              "          const docLink = document.createElement('div');\n",
              "          docLink.innerHTML = docLinkHtml;\n",
              "          element.appendChild(docLink);\n",
              "        }\n",
              "      </script>\n",
              "    </div>\n",
              "  </div>\n",
              "  "
            ]
          },
          "metadata": {},
          "execution_count": 110
        }
      ]
    },
    {
      "cell_type": "markdown",
      "source": [
        "#### Check for NAs"
      ],
      "metadata": {
        "id": "y1UNUBvyHubs"
      }
    },
    {
      "cell_type": "code",
      "source": [
        "df_std_col_dnn_1_train.isna().sum()"
      ],
      "metadata": {
        "id": "zHl9q9N_HwnN",
        "outputId": "934a4e15-3d5e-413c-d79f-2d30fc0e1bd6",
        "colab": {
          "base_uri": "https://localhost:8080/"
        }
      },
      "execution_count": 111,
      "outputs": [
        {
          "output_type": "execute_result",
          "data": {
            "text/plain": [
              "year              0\n",
              "jan               0\n",
              "feb               0\n",
              "mar               0\n",
              "apr               0\n",
              "may               0\n",
              "jun               0\n",
              "jul               0\n",
              "aug               0\n",
              "sep               0\n",
              "oct               0\n",
              "nov               0\n",
              "dec               0\n",
              "mon               0\n",
              "tue               0\n",
              "wed               0\n",
              "thu               0\n",
              "fri               0\n",
              "sat               0\n",
              "sun               0\n",
              "temp              0\n",
              "visib             0\n",
              "wdsp              0\n",
              "num_collisions    0\n",
              "dtype: int64"
            ]
          },
          "metadata": {},
          "execution_count": 111
        }
      ]
    },
    {
      "cell_type": "markdown",
      "source": [
        "#### Overview Data"
      ],
      "metadata": {
        "id": "xFzQerKXIGEr"
      }
    },
    {
      "cell_type": "code",
      "source": [
        "df_std_col_dnn_1_train.describe().transpose()"
      ],
      "metadata": {
        "id": "AQz0gKOJIIcx",
        "outputId": "b64a2786-8d8b-4ad1-f22b-5208f5c45931",
        "colab": {
          "base_uri": "https://localhost:8080/",
          "height": 802
        }
      },
      "execution_count": 128,
      "outputs": [
        {
          "output_type": "execute_result",
          "data": {
            "text/plain": [
              "                 count         mean        std          min          25%  \\\n",
              "year            1766.0  2015.976784   2.006229  2013.000000  2014.000000   \n",
              "jan             1766.0     0.088335   0.283862     0.000000     0.000000   \n",
              "feb             1766.0     0.068516   0.252702     0.000000     0.000000   \n",
              "mar             1766.0     0.083805   0.277174     0.000000     0.000000   \n",
              "apr             1766.0     0.090600   0.287121     0.000000     0.000000   \n",
              "may             1766.0     0.078143   0.268472     0.000000     0.000000   \n",
              "jun             1766.0     0.088335   0.283862     0.000000     0.000000   \n",
              "jul             1766.0     0.083239   0.276321     0.000000     0.000000   \n",
              "aug             1766.0     0.087769   0.283039     0.000000     0.000000   \n",
              "sep             1766.0     0.079841   0.271124     0.000000     0.000000   \n",
              "oct             1766.0     0.083805   0.277174     0.000000     0.000000   \n",
              "nov             1766.0     0.081540   0.273740     0.000000     0.000000   \n",
              "dec             1766.0     0.086070   0.280547     0.000000     0.000000   \n",
              "mon             1766.0     0.145527   0.352731     0.000000     0.000000   \n",
              "tue             1766.0     0.142695   0.349861     0.000000     0.000000   \n",
              "wed             1766.0     0.147225   0.354431     0.000000     0.000000   \n",
              "thu             1766.0     0.146659   0.353866     0.000000     0.000000   \n",
              "fri             1766.0     0.144960   0.352161     0.000000     0.000000   \n",
              "sat             1766.0     0.134202   0.340965     0.000000     0.000000   \n",
              "sun             1766.0     0.138732   0.345764     0.000000     0.000000   \n",
              "temp            1766.0    -0.010061   1.010118    -2.986533    -0.792088   \n",
              "visib           1766.0    -0.020577   1.022838    -3.678763    -0.592201   \n",
              "wdsp            1766.0     0.019971   0.999324    -1.878288    -0.697520   \n",
              "num_collisions  1766.0   599.031144  92.936133   355.000000   535.250000   \n",
              "\n",
              "                        50%          75%          max  \n",
              "year            2016.000000  2018.000000  2019.000000  \n",
              "jan                0.000000     0.000000     1.000000  \n",
              "feb                0.000000     0.000000     1.000000  \n",
              "mar                0.000000     0.000000     1.000000  \n",
              "apr                0.000000     0.000000     1.000000  \n",
              "may                0.000000     0.000000     1.000000  \n",
              "jun                0.000000     0.000000     1.000000  \n",
              "jul                0.000000     0.000000     1.000000  \n",
              "aug                0.000000     0.000000     1.000000  \n",
              "sep                0.000000     0.000000     1.000000  \n",
              "oct                0.000000     0.000000     1.000000  \n",
              "nov                0.000000     0.000000     1.000000  \n",
              "dec                0.000000     0.000000     1.000000  \n",
              "mon                0.000000     0.000000     1.000000  \n",
              "tue                0.000000     0.000000     1.000000  \n",
              "wed                0.000000     0.000000     1.000000  \n",
              "thu                0.000000     0.000000     1.000000  \n",
              "fri                0.000000     0.000000     1.000000  \n",
              "sat                0.000000     0.000000     1.000000  \n",
              "sun                0.000000     0.000000     1.000000  \n",
              "temp               0.024450     0.879263     1.836143  \n",
              "visib              0.497174     0.769518     0.769518  \n",
              "wdsp              -0.138208     0.566110     5.268467  \n",
              "num_collisions   601.000000   661.000000   845.000000  "
            ],
            "text/html": [
              "\n",
              "  <div id=\"df-511addcd-28da-4229-a617-270124f7917d\">\n",
              "    <div class=\"colab-df-container\">\n",
              "      <div>\n",
              "<style scoped>\n",
              "    .dataframe tbody tr th:only-of-type {\n",
              "        vertical-align: middle;\n",
              "    }\n",
              "\n",
              "    .dataframe tbody tr th {\n",
              "        vertical-align: top;\n",
              "    }\n",
              "\n",
              "    .dataframe thead th {\n",
              "        text-align: right;\n",
              "    }\n",
              "</style>\n",
              "<table border=\"1\" class=\"dataframe\">\n",
              "  <thead>\n",
              "    <tr style=\"text-align: right;\">\n",
              "      <th></th>\n",
              "      <th>count</th>\n",
              "      <th>mean</th>\n",
              "      <th>std</th>\n",
              "      <th>min</th>\n",
              "      <th>25%</th>\n",
              "      <th>50%</th>\n",
              "      <th>75%</th>\n",
              "      <th>max</th>\n",
              "    </tr>\n",
              "  </thead>\n",
              "  <tbody>\n",
              "    <tr>\n",
              "      <th>year</th>\n",
              "      <td>1766.0</td>\n",
              "      <td>2015.976784</td>\n",
              "      <td>2.006229</td>\n",
              "      <td>2013.000000</td>\n",
              "      <td>2014.000000</td>\n",
              "      <td>2016.000000</td>\n",
              "      <td>2018.000000</td>\n",
              "      <td>2019.000000</td>\n",
              "    </tr>\n",
              "    <tr>\n",
              "      <th>jan</th>\n",
              "      <td>1766.0</td>\n",
              "      <td>0.088335</td>\n",
              "      <td>0.283862</td>\n",
              "      <td>0.000000</td>\n",
              "      <td>0.000000</td>\n",
              "      <td>0.000000</td>\n",
              "      <td>0.000000</td>\n",
              "      <td>1.000000</td>\n",
              "    </tr>\n",
              "    <tr>\n",
              "      <th>feb</th>\n",
              "      <td>1766.0</td>\n",
              "      <td>0.068516</td>\n",
              "      <td>0.252702</td>\n",
              "      <td>0.000000</td>\n",
              "      <td>0.000000</td>\n",
              "      <td>0.000000</td>\n",
              "      <td>0.000000</td>\n",
              "      <td>1.000000</td>\n",
              "    </tr>\n",
              "    <tr>\n",
              "      <th>mar</th>\n",
              "      <td>1766.0</td>\n",
              "      <td>0.083805</td>\n",
              "      <td>0.277174</td>\n",
              "      <td>0.000000</td>\n",
              "      <td>0.000000</td>\n",
              "      <td>0.000000</td>\n",
              "      <td>0.000000</td>\n",
              "      <td>1.000000</td>\n",
              "    </tr>\n",
              "    <tr>\n",
              "      <th>apr</th>\n",
              "      <td>1766.0</td>\n",
              "      <td>0.090600</td>\n",
              "      <td>0.287121</td>\n",
              "      <td>0.000000</td>\n",
              "      <td>0.000000</td>\n",
              "      <td>0.000000</td>\n",
              "      <td>0.000000</td>\n",
              "      <td>1.000000</td>\n",
              "    </tr>\n",
              "    <tr>\n",
              "      <th>may</th>\n",
              "      <td>1766.0</td>\n",
              "      <td>0.078143</td>\n",
              "      <td>0.268472</td>\n",
              "      <td>0.000000</td>\n",
              "      <td>0.000000</td>\n",
              "      <td>0.000000</td>\n",
              "      <td>0.000000</td>\n",
              "      <td>1.000000</td>\n",
              "    </tr>\n",
              "    <tr>\n",
              "      <th>jun</th>\n",
              "      <td>1766.0</td>\n",
              "      <td>0.088335</td>\n",
              "      <td>0.283862</td>\n",
              "      <td>0.000000</td>\n",
              "      <td>0.000000</td>\n",
              "      <td>0.000000</td>\n",
              "      <td>0.000000</td>\n",
              "      <td>1.000000</td>\n",
              "    </tr>\n",
              "    <tr>\n",
              "      <th>jul</th>\n",
              "      <td>1766.0</td>\n",
              "      <td>0.083239</td>\n",
              "      <td>0.276321</td>\n",
              "      <td>0.000000</td>\n",
              "      <td>0.000000</td>\n",
              "      <td>0.000000</td>\n",
              "      <td>0.000000</td>\n",
              "      <td>1.000000</td>\n",
              "    </tr>\n",
              "    <tr>\n",
              "      <th>aug</th>\n",
              "      <td>1766.0</td>\n",
              "      <td>0.087769</td>\n",
              "      <td>0.283039</td>\n",
              "      <td>0.000000</td>\n",
              "      <td>0.000000</td>\n",
              "      <td>0.000000</td>\n",
              "      <td>0.000000</td>\n",
              "      <td>1.000000</td>\n",
              "    </tr>\n",
              "    <tr>\n",
              "      <th>sep</th>\n",
              "      <td>1766.0</td>\n",
              "      <td>0.079841</td>\n",
              "      <td>0.271124</td>\n",
              "      <td>0.000000</td>\n",
              "      <td>0.000000</td>\n",
              "      <td>0.000000</td>\n",
              "      <td>0.000000</td>\n",
              "      <td>1.000000</td>\n",
              "    </tr>\n",
              "    <tr>\n",
              "      <th>oct</th>\n",
              "      <td>1766.0</td>\n",
              "      <td>0.083805</td>\n",
              "      <td>0.277174</td>\n",
              "      <td>0.000000</td>\n",
              "      <td>0.000000</td>\n",
              "      <td>0.000000</td>\n",
              "      <td>0.000000</td>\n",
              "      <td>1.000000</td>\n",
              "    </tr>\n",
              "    <tr>\n",
              "      <th>nov</th>\n",
              "      <td>1766.0</td>\n",
              "      <td>0.081540</td>\n",
              "      <td>0.273740</td>\n",
              "      <td>0.000000</td>\n",
              "      <td>0.000000</td>\n",
              "      <td>0.000000</td>\n",
              "      <td>0.000000</td>\n",
              "      <td>1.000000</td>\n",
              "    </tr>\n",
              "    <tr>\n",
              "      <th>dec</th>\n",
              "      <td>1766.0</td>\n",
              "      <td>0.086070</td>\n",
              "      <td>0.280547</td>\n",
              "      <td>0.000000</td>\n",
              "      <td>0.000000</td>\n",
              "      <td>0.000000</td>\n",
              "      <td>0.000000</td>\n",
              "      <td>1.000000</td>\n",
              "    </tr>\n",
              "    <tr>\n",
              "      <th>mon</th>\n",
              "      <td>1766.0</td>\n",
              "      <td>0.145527</td>\n",
              "      <td>0.352731</td>\n",
              "      <td>0.000000</td>\n",
              "      <td>0.000000</td>\n",
              "      <td>0.000000</td>\n",
              "      <td>0.000000</td>\n",
              "      <td>1.000000</td>\n",
              "    </tr>\n",
              "    <tr>\n",
              "      <th>tue</th>\n",
              "      <td>1766.0</td>\n",
              "      <td>0.142695</td>\n",
              "      <td>0.349861</td>\n",
              "      <td>0.000000</td>\n",
              "      <td>0.000000</td>\n",
              "      <td>0.000000</td>\n",
              "      <td>0.000000</td>\n",
              "      <td>1.000000</td>\n",
              "    </tr>\n",
              "    <tr>\n",
              "      <th>wed</th>\n",
              "      <td>1766.0</td>\n",
              "      <td>0.147225</td>\n",
              "      <td>0.354431</td>\n",
              "      <td>0.000000</td>\n",
              "      <td>0.000000</td>\n",
              "      <td>0.000000</td>\n",
              "      <td>0.000000</td>\n",
              "      <td>1.000000</td>\n",
              "    </tr>\n",
              "    <tr>\n",
              "      <th>thu</th>\n",
              "      <td>1766.0</td>\n",
              "      <td>0.146659</td>\n",
              "      <td>0.353866</td>\n",
              "      <td>0.000000</td>\n",
              "      <td>0.000000</td>\n",
              "      <td>0.000000</td>\n",
              "      <td>0.000000</td>\n",
              "      <td>1.000000</td>\n",
              "    </tr>\n",
              "    <tr>\n",
              "      <th>fri</th>\n",
              "      <td>1766.0</td>\n",
              "      <td>0.144960</td>\n",
              "      <td>0.352161</td>\n",
              "      <td>0.000000</td>\n",
              "      <td>0.000000</td>\n",
              "      <td>0.000000</td>\n",
              "      <td>0.000000</td>\n",
              "      <td>1.000000</td>\n",
              "    </tr>\n",
              "    <tr>\n",
              "      <th>sat</th>\n",
              "      <td>1766.0</td>\n",
              "      <td>0.134202</td>\n",
              "      <td>0.340965</td>\n",
              "      <td>0.000000</td>\n",
              "      <td>0.000000</td>\n",
              "      <td>0.000000</td>\n",
              "      <td>0.000000</td>\n",
              "      <td>1.000000</td>\n",
              "    </tr>\n",
              "    <tr>\n",
              "      <th>sun</th>\n",
              "      <td>1766.0</td>\n",
              "      <td>0.138732</td>\n",
              "      <td>0.345764</td>\n",
              "      <td>0.000000</td>\n",
              "      <td>0.000000</td>\n",
              "      <td>0.000000</td>\n",
              "      <td>0.000000</td>\n",
              "      <td>1.000000</td>\n",
              "    </tr>\n",
              "    <tr>\n",
              "      <th>temp</th>\n",
              "      <td>1766.0</td>\n",
              "      <td>-0.010061</td>\n",
              "      <td>1.010118</td>\n",
              "      <td>-2.986533</td>\n",
              "      <td>-0.792088</td>\n",
              "      <td>0.024450</td>\n",
              "      <td>0.879263</td>\n",
              "      <td>1.836143</td>\n",
              "    </tr>\n",
              "    <tr>\n",
              "      <th>visib</th>\n",
              "      <td>1766.0</td>\n",
              "      <td>-0.020577</td>\n",
              "      <td>1.022838</td>\n",
              "      <td>-3.678763</td>\n",
              "      <td>-0.592201</td>\n",
              "      <td>0.497174</td>\n",
              "      <td>0.769518</td>\n",
              "      <td>0.769518</td>\n",
              "    </tr>\n",
              "    <tr>\n",
              "      <th>wdsp</th>\n",
              "      <td>1766.0</td>\n",
              "      <td>0.019971</td>\n",
              "      <td>0.999324</td>\n",
              "      <td>-1.878288</td>\n",
              "      <td>-0.697520</td>\n",
              "      <td>-0.138208</td>\n",
              "      <td>0.566110</td>\n",
              "      <td>5.268467</td>\n",
              "    </tr>\n",
              "    <tr>\n",
              "      <th>num_collisions</th>\n",
              "      <td>1766.0</td>\n",
              "      <td>599.031144</td>\n",
              "      <td>92.936133</td>\n",
              "      <td>355.000000</td>\n",
              "      <td>535.250000</td>\n",
              "      <td>601.000000</td>\n",
              "      <td>661.000000</td>\n",
              "      <td>845.000000</td>\n",
              "    </tr>\n",
              "  </tbody>\n",
              "</table>\n",
              "</div>\n",
              "      <button class=\"colab-df-convert\" onclick=\"convertToInteractive('df-511addcd-28da-4229-a617-270124f7917d')\"\n",
              "              title=\"Convert this dataframe to an interactive table.\"\n",
              "              style=\"display:none;\">\n",
              "        \n",
              "  <svg xmlns=\"http://www.w3.org/2000/svg\" height=\"24px\"viewBox=\"0 0 24 24\"\n",
              "       width=\"24px\">\n",
              "    <path d=\"M0 0h24v24H0V0z\" fill=\"none\"/>\n",
              "    <path d=\"M18.56 5.44l.94 2.06.94-2.06 2.06-.94-2.06-.94-.94-2.06-.94 2.06-2.06.94zm-11 1L8.5 8.5l.94-2.06 2.06-.94-2.06-.94L8.5 2.5l-.94 2.06-2.06.94zm10 10l.94 2.06.94-2.06 2.06-.94-2.06-.94-.94-2.06-.94 2.06-2.06.94z\"/><path d=\"M17.41 7.96l-1.37-1.37c-.4-.4-.92-.59-1.43-.59-.52 0-1.04.2-1.43.59L10.3 9.45l-7.72 7.72c-.78.78-.78 2.05 0 2.83L4 21.41c.39.39.9.59 1.41.59.51 0 1.02-.2 1.41-.59l7.78-7.78 2.81-2.81c.8-.78.8-2.07 0-2.86zM5.41 20L4 18.59l7.72-7.72 1.47 1.35L5.41 20z\"/>\n",
              "  </svg>\n",
              "      </button>\n",
              "      \n",
              "  <style>\n",
              "    .colab-df-container {\n",
              "      display:flex;\n",
              "      flex-wrap:wrap;\n",
              "      gap: 12px;\n",
              "    }\n",
              "\n",
              "    .colab-df-convert {\n",
              "      background-color: #E8F0FE;\n",
              "      border: none;\n",
              "      border-radius: 50%;\n",
              "      cursor: pointer;\n",
              "      display: none;\n",
              "      fill: #1967D2;\n",
              "      height: 32px;\n",
              "      padding: 0 0 0 0;\n",
              "      width: 32px;\n",
              "    }\n",
              "\n",
              "    .colab-df-convert:hover {\n",
              "      background-color: #E2EBFA;\n",
              "      box-shadow: 0px 1px 2px rgba(60, 64, 67, 0.3), 0px 1px 3px 1px rgba(60, 64, 67, 0.15);\n",
              "      fill: #174EA6;\n",
              "    }\n",
              "\n",
              "    [theme=dark] .colab-df-convert {\n",
              "      background-color: #3B4455;\n",
              "      fill: #D2E3FC;\n",
              "    }\n",
              "\n",
              "    [theme=dark] .colab-df-convert:hover {\n",
              "      background-color: #434B5C;\n",
              "      box-shadow: 0px 1px 3px 1px rgba(0, 0, 0, 0.15);\n",
              "      filter: drop-shadow(0px 1px 2px rgba(0, 0, 0, 0.3));\n",
              "      fill: #FFFFFF;\n",
              "    }\n",
              "  </style>\n",
              "\n",
              "      <script>\n",
              "        const buttonEl =\n",
              "          document.querySelector('#df-511addcd-28da-4229-a617-270124f7917d button.colab-df-convert');\n",
              "        buttonEl.style.display =\n",
              "          google.colab.kernel.accessAllowed ? 'block' : 'none';\n",
              "\n",
              "        async function convertToInteractive(key) {\n",
              "          const element = document.querySelector('#df-511addcd-28da-4229-a617-270124f7917d');\n",
              "          const dataTable =\n",
              "            await google.colab.kernel.invokeFunction('convertToInteractive',\n",
              "                                                     [key], {});\n",
              "          if (!dataTable) return;\n",
              "\n",
              "          const docLinkHtml = 'Like what you see? Visit the ' +\n",
              "            '<a target=\"_blank\" href=https://colab.research.google.com/notebooks/data_table.ipynb>data table notebook</a>'\n",
              "            + ' to learn more about interactive tables.';\n",
              "          element.innerHTML = '';\n",
              "          dataTable['output_type'] = 'display_data';\n",
              "          await google.colab.output.renderOutput(dataTable, element);\n",
              "          const docLink = document.createElement('div');\n",
              "          docLink.innerHTML = docLinkHtml;\n",
              "          element.appendChild(docLink);\n",
              "        }\n",
              "      </script>\n",
              "    </div>\n",
              "  </div>\n",
              "  "
            ]
          },
          "metadata": {},
          "execution_count": 128
        }
      ]
    },
    {
      "cell_type": "markdown",
      "source": [
        "#### Separate Features and Labels"
      ],
      "metadata": {
        "id": "-lkAsgWlJaur"
      }
    },
    {
      "cell_type": "code",
      "source": [
        "df_std_col_dnn_1_train_feat = df_std_col_dnn_1_train.copy()\n",
        "df_std_col_dnn_1_test_feat = df_std_col_dnn_1_test.copy()\n",
        "\n",
        "df_std_col_dnn_1_train_lab = df_std_col_dnn_1_train_feat.pop('num_collisions')\n",
        "df_std_col_dnn_1_test_lab = df_std_col_dnn_1_test_feat.pop('num_collisions')"
      ],
      "metadata": {
        "id": "t4ceJ6z5JdmC"
      },
      "execution_count": 114,
      "outputs": []
    },
    {
      "cell_type": "markdown",
      "source": [
        "#### Model"
      ],
      "metadata": {
        "id": "rGmLIDjOK_MS"
      }
    },
    {
      "cell_type": "markdown",
      "source": [
        "##### Normaliser Layer"
      ],
      "metadata": {
        "id": "qbRZd9rMNdwV"
      }
    },
    {
      "cell_type": "code",
      "source": [
        "normaliser = tf.keras.layers.Normalization(axis=-1)\n",
        "\n",
        "normaliser.adapt(np.array(df_std_col_dnn_1_train_feat))\n",
        "\n",
        "print(normaliser.mean.numpy())"
      ],
      "metadata": {
        "id": "nwbqIq3VNf5l",
        "outputId": "2baa6179-b73c-4d72-ae03-bea5b1217d36",
        "colab": {
          "base_uri": "https://localhost:8080/"
        }
      },
      "execution_count": 115,
      "outputs": [
        {
          "output_type": "stream",
          "name": "stdout",
          "text": [
            "[[2015.976    0.088    0.069    0.084    0.091    0.078    0.088    0.083\n",
            "     0.088    0.08     0.084    0.082    0.086    0.146    0.143    0.147\n",
            "     0.147    0.145    0.134    0.139   -0.01    -0.021    0.02 ]]\n"
          ]
        }
      ]
    },
    {
      "cell_type": "markdown",
      "source": [
        "##### Sequencer"
      ],
      "metadata": {
        "id": "o2b2IiBENwEd"
      }
    },
    {
      "cell_type": "code",
      "source": [
        "std_col_dnn_1 = np.array(df_std_col_dnn_1_train_feat)\n",
        "std_col_dnn_1_normaliser = layers.Normalization(axis=-1)\n",
        "std_col_dnn_1_normaliser.adapt(np.array(df_std_col_dnn_1_train_feat))"
      ],
      "metadata": {
        "id": "3NgKFT87Nxtq"
      },
      "execution_count": 116,
      "outputs": []
    },
    {
      "cell_type": "code",
      "source": [
        "std_col_dnn_1_model = build_and_compile_model(std_col_dnn_1_normaliser)\n",
        "\n",
        "std_col_dnn_1_model.summary()"
      ],
      "metadata": {
        "id": "v27ywZclQIAD",
        "outputId": "d0062195-8b20-4055-be0a-33538d04a2fc",
        "colab": {
          "base_uri": "https://localhost:8080/"
        }
      },
      "execution_count": 119,
      "outputs": [
        {
          "output_type": "stream",
          "name": "stdout",
          "text": [
            "Model: \"sequential_8\"\n",
            "_________________________________________________________________\n",
            " Layer (type)                Output Shape              Param #   \n",
            "=================================================================\n",
            " normalization_15 (Normaliza  (None, 23)               47        \n",
            " tion)                                                           \n",
            "                                                                 \n",
            " dense_10 (Dense)            (None, 64)                1536      \n",
            "                                                                 \n",
            " dense_11 (Dense)            (None, 64)                4160      \n",
            "                                                                 \n",
            " dense_12 (Dense)            (None, 1)                 65        \n",
            "                                                                 \n",
            "=================================================================\n",
            "Total params: 5,808\n",
            "Trainable params: 5,761\n",
            "Non-trainable params: 47\n",
            "_________________________________________________________________\n"
          ]
        }
      ]
    },
    {
      "cell_type": "code",
      "source": [
        "%%time\n",
        "history = std_col_dnn_1_model.fit(\n",
        "    df_std_col_dnn_1_train_feat,\n",
        "    df_std_col_dnn_1_train_lab,\n",
        "    validation_split=0.2,\n",
        "    verbose=0, epochs=100)"
      ],
      "metadata": {
        "id": "_H27SjyiQxyS",
        "outputId": "26513a07-29c7-4700-e47b-605046be601f",
        "colab": {
          "base_uri": "https://localhost:8080/"
        }
      },
      "execution_count": 121,
      "outputs": [
        {
          "output_type": "stream",
          "name": "stdout",
          "text": [
            "CPU times: user 12.4 s, sys: 766 ms, total: 13.2 s\n",
            "Wall time: 21.3 s\n"
          ]
        }
      ]
    },
    {
      "cell_type": "code",
      "source": [
        "plot_loss(history)"
      ],
      "metadata": {
        "id": "w6B8TkjDRmqF",
        "outputId": "32663a0f-b636-4f3d-86cb-a348343578b2",
        "colab": {
          "base_uri": "https://localhost:8080/",
          "height": 283
        }
      },
      "execution_count": 122,
      "outputs": [
        {
          "output_type": "display_data",
          "data": {
            "text/plain": [
              "<Figure size 432x288 with 1 Axes>"
            ],
            "image/png": "[encoded data removed]"
          },
          "metadata": {
            "needs_background": "light"
          }
        }
      ]
    },
    {
      "cell_type": "code",
      "source": [
        "test_results['std_col_dnn_1'] = std_col_dnn_1_model.evaluate(\n",
        "    df_std_col_dnn_1_test_feat, \n",
        "    df_std_col_dnn_1_test_feat, verbose=0)"
      ],
      "metadata": {
        "id": "cPRQKPg8RtPv"
      },
      "execution_count": 123,
      "outputs": []
    },
    {
      "cell_type": "code",
      "source": [
        "print(test_results)"
      ],
      "metadata": {
        "id": "h8w_1p4ESJ1G",
        "outputId": "1078eba3-cadf-4955-dd55-1c3be1517f5b",
        "colab": {
          "base_uri": "https://localhost:8080/"
        }
      },
      "execution_count": 124,
      "outputs": [
        {
          "output_type": "stream",
          "name": "stdout",
          "text": [
            "{'temp_model': 155.27452087402344, 'col_mod_1': 154.217529296875, 'std_col_mod_1': 161.0737762451172, 'norm_col_mod_1': 158.41468811035156, 'col_mod_2': 167.04177856445312, 'std_col_mod_2': 165.54393005371094, 'norm_col_mod_2': 157.43344116210938, 'std_col_dnn_1': 640.9733276367188}\n"
          ]
        }
      ]
    },
    {
      "cell_type": "markdown",
      "source": [
        "### DNN 2"
      ],
      "metadata": {
        "id": "bSeYfphOTxQl"
      }
    },
    {
      "cell_type": "markdown",
      "source": [
        "#### Read Data"
      ],
      "metadata": {
        "id": "CjkueWAsT4r1"
      }
    },
    {
      "cell_type": "markdown",
      "source": [
        "##### Training Data"
      ],
      "metadata": {
        "id": "w9Zu8ZZqT7Rb"
      }
    },
    {
      "cell_type": "code",
      "source": [
        "url = \"https://raw.githubusercontent.com/AaronM44/DAOTW-Assignment-1/main/outputs/std_col_dnn_2_train.csv\"\n",
        "\n",
        "raw_std_col_dnn_2_train = pd.read_csv(url)\n",
        "\n",
        "df_std_col_dnn_2_train = raw_std_col_dnn_2_train.copy()\n",
        "\n",
        "df_std_col_dnn_2_train = df_std_col_dnn_2_train.drop(df_std_col_dnn_2_train.columns[[0, 1]], axis=1)\n",
        "\n",
        "df_std_col_dnn_2_train.head()"
      ],
      "metadata": {
        "id": "Xrhi_KvdUD62",
        "outputId": "ccc0bf5c-cd1d-4a55-8c57-1ffcd67e149a",
        "colab": {
          "base_uri": "https://localhost:8080/",
          "height": 236
        }
      },
      "execution_count": 125,
      "outputs": [
        {
          "output_type": "execute_result",
          "data": {
            "text/plain": [
              "   year  jan  feb  mar  apr  may  jun  jul  aug  sep  ...  thu  fri  sat  sun  \\\n",
              "0  2016    0    0    0    0    0    0    0    0    0  ...    0    0    1    0   \n",
              "1  2018    1    0    0    0    0    0    0    0    0  ...    0    0    0    0   \n",
              "2  2017    0    0    0    0    0    0    1    0    0  ...    0    0    0    0   \n",
              "3  2019    1    0    0    0    0    0    0    0    0  ...    0    0    0    0   \n",
              "4  2016    0    0    0    0    0    0    0    1    0  ...    0    0    0    0   \n",
              "\n",
              "       temp     visib      wdsp       slp      dewp  num_collisions  \n",
              "0  0.624095  0.633346  0.421103  0.888240  0.579826             523  \n",
              "1 -1.863794  0.769518  0.897553  2.404444 -2.201736             677  \n",
              "2  1.695800 -1.182279 -0.676804 -0.838915  1.492857             733  \n",
              "3 -0.511403 -1.227670  0.648971 -2.526516 -0.280123             514  \n",
              "4  1.555458 -1.636185  0.110375  0.229021  1.620257             672  \n",
              "\n",
              "[5 rows x 26 columns]"
            ],
            "text/html": [
              "\n",
              "  <div id=\"df-eb3137eb-f9e3-4e8a-8363-da9f787b734f\">\n",
              "    <div class=\"colab-df-container\">\n",
              "      <div>\n",
              "<style scoped>\n",
              "    .dataframe tbody tr th:only-of-type {\n",
              "        vertical-align: middle;\n",
              "    }\n",
              "\n",
              "    .dataframe tbody tr th {\n",
              "        vertical-align: top;\n",
              "    }\n",
              "\n",
              "    .dataframe thead th {\n",
              "        text-align: right;\n",
              "    }\n",
              "</style>\n",
              "<table border=\"1\" class=\"dataframe\">\n",
              "  <thead>\n",
              "    <tr style=\"text-align: right;\">\n",
              "      <th></th>\n",
              "      <th>year</th>\n",
              "      <th>jan</th>\n",
              "      <th>feb</th>\n",
              "      <th>mar</th>\n",
              "      <th>apr</th>\n",
              "      <th>may</th>\n",
              "      <th>jun</th>\n",
              "      <th>jul</th>\n",
              "      <th>aug</th>\n",
              "      <th>sep</th>\n",
              "      <th>...</th>\n",
              "      <th>thu</th>\n",
              "      <th>fri</th>\n",
              "      <th>sat</th>\n",
              "      <th>sun</th>\n",
              "      <th>temp</th>\n",
              "      <th>visib</th>\n",
              "      <th>wdsp</th>\n",
              "      <th>slp</th>\n",
              "      <th>dewp</th>\n",
              "      <th>num_collisions</th>\n",
              "    </tr>\n",
              "  </thead>\n",
              "  <tbody>\n",
              "    <tr>\n",
              "      <th>0</th>\n",
              "      <td>2016</td>\n",
              "      <td>0</td>\n",
              "      <td>0</td>\n",
              "      <td>0</td>\n",
              "      <td>0</td>\n",
              "      <td>0</td>\n",
              "      <td>0</td>\n",
              "      <td>0</td>\n",
              "      <td>0</td>\n",
              "      <td>0</td>\n",
              "      <td>...</td>\n",
              "      <td>0</td>\n",
              "      <td>0</td>\n",
              "      <td>1</td>\n",
              "      <td>0</td>\n",
              "      <td>0.624095</td>\n",
              "      <td>0.633346</td>\n",
              "      <td>0.421103</td>\n",
              "      <td>0.888240</td>\n",
              "      <td>0.579826</td>\n",
              "      <td>523</td>\n",
              "    </tr>\n",
              "    <tr>\n",
              "      <th>1</th>\n",
              "      <td>2018</td>\n",
              "      <td>1</td>\n",
              "      <td>0</td>\n",
              "      <td>0</td>\n",
              "      <td>0</td>\n",
              "      <td>0</td>\n",
              "      <td>0</td>\n",
              "      <td>0</td>\n",
              "      <td>0</td>\n",
              "      <td>0</td>\n",
              "      <td>...</td>\n",
              "      <td>0</td>\n",
              "      <td>0</td>\n",
              "      <td>0</td>\n",
              "      <td>0</td>\n",
              "      <td>-1.863794</td>\n",
              "      <td>0.769518</td>\n",
              "      <td>0.897553</td>\n",
              "      <td>2.404444</td>\n",
              "      <td>-2.201736</td>\n",
              "      <td>677</td>\n",
              "    </tr>\n",
              "    <tr>\n",
              "      <th>2</th>\n",
              "      <td>2017</td>\n",
              "      <td>0</td>\n",
              "      <td>0</td>\n",
              "      <td>0</td>\n",
              "      <td>0</td>\n",
              "      <td>0</td>\n",
              "      <td>0</td>\n",
              "      <td>1</td>\n",
              "      <td>0</td>\n",
              "      <td>0</td>\n",
              "      <td>...</td>\n",
              "      <td>0</td>\n",
              "      <td>0</td>\n",
              "      <td>0</td>\n",
              "      <td>0</td>\n",
              "      <td>1.695800</td>\n",
              "      <td>-1.182279</td>\n",
              "      <td>-0.676804</td>\n",
              "      <td>-0.838915</td>\n",
              "      <td>1.492857</td>\n",
              "      <td>733</td>\n",
              "    </tr>\n",
              "    <tr>\n",
              "      <th>3</th>\n",
              "      <td>2019</td>\n",
              "      <td>1</td>\n",
              "      <td>0</td>\n",
              "      <td>0</td>\n",
              "      <td>0</td>\n",
              "      <td>0</td>\n",
              "      <td>0</td>\n",
              "      <td>0</td>\n",
              "      <td>0</td>\n",
              "      <td>0</td>\n",
              "      <td>...</td>\n",
              "      <td>0</td>\n",
              "      <td>0</td>\n",
              "      <td>0</td>\n",
              "      <td>0</td>\n",
              "      <td>-0.511403</td>\n",
              "      <td>-1.227670</td>\n",
              "      <td>0.648971</td>\n",
              "      <td>-2.526516</td>\n",
              "      <td>-0.280123</td>\n",
              "      <td>514</td>\n",
              "    </tr>\n",
              "    <tr>\n",
              "      <th>4</th>\n",
              "      <td>2016</td>\n",
              "      <td>0</td>\n",
              "      <td>0</td>\n",
              "      <td>0</td>\n",
              "      <td>0</td>\n",
              "      <td>0</td>\n",
              "      <td>0</td>\n",
              "      <td>0</td>\n",
              "      <td>1</td>\n",
              "      <td>0</td>\n",
              "      <td>...</td>\n",
              "      <td>0</td>\n",
              "      <td>0</td>\n",
              "      <td>0</td>\n",
              "      <td>0</td>\n",
              "      <td>1.555458</td>\n",
              "      <td>-1.636185</td>\n",
              "      <td>0.110375</td>\n",
              "      <td>0.229021</td>\n",
              "      <td>1.620257</td>\n",
              "      <td>672</td>\n",
              "    </tr>\n",
              "  </tbody>\n",
              "</table>\n",
              "<p>5 rows × 26 columns</p>\n",
              "</div>\n",
              "      <button class=\"colab-df-convert\" onclick=\"convertToInteractive('df-eb3137eb-f9e3-4e8a-8363-da9f787b734f')\"\n",
              "              title=\"Convert this dataframe to an interactive table.\"\n",
              "              style=\"display:none;\">\n",
              "        \n",
              "  <svg xmlns=\"http://www.w3.org/2000/svg\" height=\"24px\"viewBox=\"0 0 24 24\"\n",
              "       width=\"24px\">\n",
              "    <path d=\"M0 0h24v24H0V0z\" fill=\"none\"/>\n",
              "    <path d=\"M18.56 5.44l.94 2.06.94-2.06 2.06-.94-2.06-.94-.94-2.06-.94 2.06-2.06.94zm-11 1L8.5 8.5l.94-2.06 2.06-.94-2.06-.94L8.5 2.5l-.94 2.06-2.06.94zm10 10l.94 2.06.94-2.06 2.06-.94-2.06-.94-.94-2.06-.94 2.06-2.06.94z\"/><path d=\"M17.41 7.96l-1.37-1.37c-.4-.4-.92-.59-1.43-.59-.52 0-1.04.2-1.43.59L10.3 9.45l-7.72 7.72c-.78.78-.78 2.05 0 2.83L4 21.41c.39.39.9.59 1.41.59.51 0 1.02-.2 1.41-.59l7.78-7.78 2.81-2.81c.8-.78.8-2.07 0-2.86zM5.41 20L4 18.59l7.72-7.72 1.47 1.35L5.41 20z\"/>\n",
              "  </svg>\n",
              "      </button>\n",
              "      \n",
              "  <style>\n",
              "    .colab-df-container {\n",
              "      display:flex;\n",
              "      flex-wrap:wrap;\n",
              "      gap: 12px;\n",
              "    }\n",
              "\n",
              "    .colab-df-convert {\n",
              "      background-color: #E8F0FE;\n",
              "      border: none;\n",
              "      border-radius: 50%;\n",
              "      cursor: pointer;\n",
              "      display: none;\n",
              "      fill: #1967D2;\n",
              "      height: 32px;\n",
              "      padding: 0 0 0 0;\n",
              "      width: 32px;\n",
              "    }\n",
              "\n",
              "    .colab-df-convert:hover {\n",
              "      background-color: #E2EBFA;\n",
              "      box-shadow: 0px 1px 2px rgba(60, 64, 67, 0.3), 0px 1px 3px 1px rgba(60, 64, 67, 0.15);\n",
              "      fill: #174EA6;\n",
              "    }\n",
              "\n",
              "    [theme=dark] .colab-df-convert {\n",
              "      background-color: #3B4455;\n",
              "      fill: #D2E3FC;\n",
              "    }\n",
              "\n",
              "    [theme=dark] .colab-df-convert:hover {\n",
              "      background-color: #434B5C;\n",
              "      box-shadow: 0px 1px 3px 1px rgba(0, 0, 0, 0.15);\n",
              "      filter: drop-shadow(0px 1px 2px rgba(0, 0, 0, 0.3));\n",
              "      fill: #FFFFFF;\n",
              "    }\n",
              "  </style>\n",
              "\n",
              "      <script>\n",
              "        const buttonEl =\n",
              "          document.querySelector('#df-eb3137eb-f9e3-4e8a-8363-da9f787b734f button.colab-df-convert');\n",
              "        buttonEl.style.display =\n",
              "          google.colab.kernel.accessAllowed ? 'block' : 'none';\n",
              "\n",
              "        async function convertToInteractive(key) {\n",
              "          const element = document.querySelector('#df-eb3137eb-f9e3-4e8a-8363-da9f787b734f');\n",
              "          const dataTable =\n",
              "            await google.colab.kernel.invokeFunction('convertToInteractive',\n",
              "                                                     [key], {});\n",
              "          if (!dataTable) return;\n",
              "\n",
              "          const docLinkHtml = 'Like what you see? Visit the ' +\n",
              "            '<a target=\"_blank\" href=https://colab.research.google.com/notebooks/data_table.ipynb>data table notebook</a>'\n",
              "            + ' to learn more about interactive tables.';\n",
              "          element.innerHTML = '';\n",
              "          dataTable['output_type'] = 'display_data';\n",
              "          await google.colab.output.renderOutput(dataTable, element);\n",
              "          const docLink = document.createElement('div');\n",
              "          docLink.innerHTML = docLinkHtml;\n",
              "          element.appendChild(docLink);\n",
              "        }\n",
              "      </script>\n",
              "    </div>\n",
              "  </div>\n",
              "  "
            ]
          },
          "metadata": {},
          "execution_count": 125
        }
      ]
    },
    {
      "cell_type": "markdown",
      "source": [
        "##### Test Data"
      ],
      "metadata": {
        "id": "zYgamL3iUcgM"
      }
    },
    {
      "cell_type": "code",
      "source": [
        "url = \"https://raw.githubusercontent.com/AaronM44/DAOTW-Assignment-1/main/outputs/std_col_dnn_2_test.csv\"\n",
        "\n",
        "raw_std_col_dnn_2_test = pd.read_csv(url)\n",
        "\n",
        "df_std_col_dnn_2_test = raw_std_col_dnn_2_test.copy()\n",
        "\n",
        "df_std_col_dnn_2_test = df_std_col_dnn_2_test.drop(df_std_col_dnn_2_test.columns[[0, 1]], axis=1)\n",
        "\n",
        "df_std_col_dnn_2_test.head()"
      ],
      "metadata": {
        "id": "QujpKo3UUe9R",
        "outputId": "31739682-335a-490b-f667-ce38f9ff1a83",
        "colab": {
          "base_uri": "https://localhost:8080/",
          "height": 236
        }
      },
      "execution_count": 126,
      "outputs": [
        {
          "output_type": "execute_result",
          "data": {
            "text/plain": [
              "   year  jan  feb  mar  apr  may  jun  jul  aug  sep  ...  thu  fri  sat  sun  \\\n",
              "0  2013    1    0    0    0    0    0    0    0    0  ...    0    0    0    0   \n",
              "1  2013    1    0    0    0    0    0    0    0    0  ...    0    0    0    0   \n",
              "2  2013    1    0    0    0    0    0    0    0    0  ...    0    0    0    0   \n",
              "3  2013    1    0    0    0    0    0    0    0    0  ...    0    1    0    0   \n",
              "4  2013    1    0    0    0    0    0    0    0    0  ...    0    0    0    0   \n",
              "\n",
              "       temp     visib      wdsp       slp      dewp  num_collisions  \n",
              "0 -1.710693  0.769518  0.421103 -0.443383 -1.904470             480  \n",
              "1 -2.118962  0.769518 -0.200354  0.176283 -2.148653             549  \n",
              "2 -1.378974  0.769518  0.151805 -0.206064 -1.373638             505  \n",
              "3 -1.123806  0.678736 -1.132539  0.387233 -0.768489             393  \n",
              "4 -0.830363 -0.682982 -1.277546  1.244218 -0.396906             487  \n",
              "\n",
              "[5 rows x 26 columns]"
            ],
            "text/html": [
              "\n",
              "  <div id=\"df-90d67692-9eb4-4571-b05c-78f6207ef856\">\n",
              "    <div class=\"colab-df-container\">\n",
              "      <div>\n",
              "<style scoped>\n",
              "    .dataframe tbody tr th:only-of-type {\n",
              "        vertical-align: middle;\n",
              "    }\n",
              "\n",
              "    .dataframe tbody tr th {\n",
              "        vertical-align: top;\n",
              "    }\n",
              "\n",
              "    .dataframe thead th {\n",
              "        text-align: right;\n",
              "    }\n",
              "</style>\n",
              "<table border=\"1\" class=\"dataframe\">\n",
              "  <thead>\n",
              "    <tr style=\"text-align: right;\">\n",
              "      <th></th>\n",
              "      <th>year</th>\n",
              "      <th>jan</th>\n",
              "      <th>feb</th>\n",
              "      <th>mar</th>\n",
              "      <th>apr</th>\n",
              "      <th>may</th>\n",
              "      <th>jun</th>\n",
              "      <th>jul</th>\n",
              "      <th>aug</th>\n",
              "      <th>sep</th>\n",
              "      <th>...</th>\n",
              "      <th>thu</th>\n",
              "      <th>fri</th>\n",
              "      <th>sat</th>\n",
              "      <th>sun</th>\n",
              "      <th>temp</th>\n",
              "      <th>visib</th>\n",
              "      <th>wdsp</th>\n",
              "      <th>slp</th>\n",
              "      <th>dewp</th>\n",
              "      <th>num_collisions</th>\n",
              "    </tr>\n",
              "  </thead>\n",
              "  <tbody>\n",
              "    <tr>\n",
              "      <th>0</th>\n",
              "      <td>2013</td>\n",
              "      <td>1</td>\n",
              "      <td>0</td>\n",
              "      <td>0</td>\n",
              "      <td>0</td>\n",
              "      <td>0</td>\n",
              "      <td>0</td>\n",
              "      <td>0</td>\n",
              "      <td>0</td>\n",
              "      <td>0</td>\n",
              "      <td>...</td>\n",
              "      <td>0</td>\n",
              "      <td>0</td>\n",
              "      <td>0</td>\n",
              "      <td>0</td>\n",
              "      <td>-1.710693</td>\n",
              "      <td>0.769518</td>\n",
              "      <td>0.421103</td>\n",
              "      <td>-0.443383</td>\n",
              "      <td>-1.904470</td>\n",
              "      <td>480</td>\n",
              "    </tr>\n",
              "    <tr>\n",
              "      <th>1</th>\n",
              "      <td>2013</td>\n",
              "      <td>1</td>\n",
              "      <td>0</td>\n",
              "      <td>0</td>\n",
              "      <td>0</td>\n",
              "      <td>0</td>\n",
              "      <td>0</td>\n",
              "      <td>0</td>\n",
              "      <td>0</td>\n",
              "      <td>0</td>\n",
              "      <td>...</td>\n",
              "      <td>0</td>\n",
              "      <td>0</td>\n",
              "      <td>0</td>\n",
              "      <td>0</td>\n",
              "      <td>-2.118962</td>\n",
              "      <td>0.769518</td>\n",
              "      <td>-0.200354</td>\n",
              "      <td>0.176283</td>\n",
              "      <td>-2.148653</td>\n",
              "      <td>549</td>\n",
              "    </tr>\n",
              "    <tr>\n",
              "      <th>2</th>\n",
              "      <td>2013</td>\n",
              "      <td>1</td>\n",
              "      <td>0</td>\n",
              "      <td>0</td>\n",
              "      <td>0</td>\n",
              "      <td>0</td>\n",
              "      <td>0</td>\n",
              "      <td>0</td>\n",
              "      <td>0</td>\n",
              "      <td>0</td>\n",
              "      <td>...</td>\n",
              "      <td>0</td>\n",
              "      <td>0</td>\n",
              "      <td>0</td>\n",
              "      <td>0</td>\n",
              "      <td>-1.378974</td>\n",
              "      <td>0.769518</td>\n",
              "      <td>0.151805</td>\n",
              "      <td>-0.206064</td>\n",
              "      <td>-1.373638</td>\n",
              "      <td>505</td>\n",
              "    </tr>\n",
              "    <tr>\n",
              "      <th>3</th>\n",
              "      <td>2013</td>\n",
              "      <td>1</td>\n",
              "      <td>0</td>\n",
              "      <td>0</td>\n",
              "      <td>0</td>\n",
              "      <td>0</td>\n",
              "      <td>0</td>\n",
              "      <td>0</td>\n",
              "      <td>0</td>\n",
              "      <td>0</td>\n",
              "      <td>...</td>\n",
              "      <td>0</td>\n",
              "      <td>1</td>\n",
              "      <td>0</td>\n",
              "      <td>0</td>\n",
              "      <td>-1.123806</td>\n",
              "      <td>0.678736</td>\n",
              "      <td>-1.132539</td>\n",
              "      <td>0.387233</td>\n",
              "      <td>-0.768489</td>\n",
              "      <td>393</td>\n",
              "    </tr>\n",
              "    <tr>\n",
              "      <th>4</th>\n",
              "      <td>2013</td>\n",
              "      <td>1</td>\n",
              "      <td>0</td>\n",
              "      <td>0</td>\n",
              "      <td>0</td>\n",
              "      <td>0</td>\n",
              "      <td>0</td>\n",
              "      <td>0</td>\n",
              "      <td>0</td>\n",
              "      <td>0</td>\n",
              "      <td>...</td>\n",
              "      <td>0</td>\n",
              "      <td>0</td>\n",
              "      <td>0</td>\n",
              "      <td>0</td>\n",
              "      <td>-0.830363</td>\n",
              "      <td>-0.682982</td>\n",
              "      <td>-1.277546</td>\n",
              "      <td>1.244218</td>\n",
              "      <td>-0.396906</td>\n",
              "      <td>487</td>\n",
              "    </tr>\n",
              "  </tbody>\n",
              "</table>\n",
              "<p>5 rows × 26 columns</p>\n",
              "</div>\n",
              "      <button class=\"colab-df-convert\" onclick=\"convertToInteractive('df-90d67692-9eb4-4571-b05c-78f6207ef856')\"\n",
              "              title=\"Convert this dataframe to an interactive table.\"\n",
              "              style=\"display:none;\">\n",
              "        \n",
              "  <svg xmlns=\"http://www.w3.org/2000/svg\" height=\"24px\"viewBox=\"0 0 24 24\"\n",
              "       width=\"24px\">\n",
              "    <path d=\"M0 0h24v24H0V0z\" fill=\"none\"/>\n",
              "    <path d=\"M18.56 5.44l.94 2.06.94-2.06 2.06-.94-2.06-.94-.94-2.06-.94 2.06-2.06.94zm-11 1L8.5 8.5l.94-2.06 2.06-.94-2.06-.94L8.5 2.5l-.94 2.06-2.06.94zm10 10l.94 2.06.94-2.06 2.06-.94-2.06-.94-.94-2.06-.94 2.06-2.06.94z\"/><path d=\"M17.41 7.96l-1.37-1.37c-.4-.4-.92-.59-1.43-.59-.52 0-1.04.2-1.43.59L10.3 9.45l-7.72 7.72c-.78.78-.78 2.05 0 2.83L4 21.41c.39.39.9.59 1.41.59.51 0 1.02-.2 1.41-.59l7.78-7.78 2.81-2.81c.8-.78.8-2.07 0-2.86zM5.41 20L4 18.59l7.72-7.72 1.47 1.35L5.41 20z\"/>\n",
              "  </svg>\n",
              "      </button>\n",
              "      \n",
              "  <style>\n",
              "    .colab-df-container {\n",
              "      display:flex;\n",
              "      flex-wrap:wrap;\n",
              "      gap: 12px;\n",
              "    }\n",
              "\n",
              "    .colab-df-convert {\n",
              "      background-color: #E8F0FE;\n",
              "      border: none;\n",
              "      border-radius: 50%;\n",
              "      cursor: pointer;\n",
              "      display: none;\n",
              "      fill: #1967D2;\n",
              "      height: 32px;\n",
              "      padding: 0 0 0 0;\n",
              "      width: 32px;\n",
              "    }\n",
              "\n",
              "    .colab-df-convert:hover {\n",
              "      background-color: #E2EBFA;\n",
              "      box-shadow: 0px 1px 2px rgba(60, 64, 67, 0.3), 0px 1px 3px 1px rgba(60, 64, 67, 0.15);\n",
              "      fill: #174EA6;\n",
              "    }\n",
              "\n",
              "    [theme=dark] .colab-df-convert {\n",
              "      background-color: #3B4455;\n",
              "      fill: #D2E3FC;\n",
              "    }\n",
              "\n",
              "    [theme=dark] .colab-df-convert:hover {\n",
              "      background-color: #434B5C;\n",
              "      box-shadow: 0px 1px 3px 1px rgba(0, 0, 0, 0.15);\n",
              "      filter: drop-shadow(0px 1px 2px rgba(0, 0, 0, 0.3));\n",
              "      fill: #FFFFFF;\n",
              "    }\n",
              "  </style>\n",
              "\n",
              "      <script>\n",
              "        const buttonEl =\n",
              "          document.querySelector('#df-90d67692-9eb4-4571-b05c-78f6207ef856 button.colab-df-convert');\n",
              "        buttonEl.style.display =\n",
              "          google.colab.kernel.accessAllowed ? 'block' : 'none';\n",
              "\n",
              "        async function convertToInteractive(key) {\n",
              "          const element = document.querySelector('#df-90d67692-9eb4-4571-b05c-78f6207ef856');\n",
              "          const dataTable =\n",
              "            await google.colab.kernel.invokeFunction('convertToInteractive',\n",
              "                                                     [key], {});\n",
              "          if (!dataTable) return;\n",
              "\n",
              "          const docLinkHtml = 'Like what you see? Visit the ' +\n",
              "            '<a target=\"_blank\" href=https://colab.research.google.com/notebooks/data_table.ipynb>data table notebook</a>'\n",
              "            + ' to learn more about interactive tables.';\n",
              "          element.innerHTML = '';\n",
              "          dataTable['output_type'] = 'display_data';\n",
              "          await google.colab.output.renderOutput(dataTable, element);\n",
              "          const docLink = document.createElement('div');\n",
              "          docLink.innerHTML = docLinkHtml;\n",
              "          element.appendChild(docLink);\n",
              "        }\n",
              "      </script>\n",
              "    </div>\n",
              "  </div>\n",
              "  "
            ]
          },
          "metadata": {},
          "execution_count": 126
        }
      ]
    },
    {
      "cell_type": "markdown",
      "source": [
        "#### Check for NAs"
      ],
      "metadata": {
        "id": "G57rg3c-U2dc"
      }
    },
    {
      "cell_type": "code",
      "source": [
        "df_std_col_dnn_2_train.isna().sum()"
      ],
      "metadata": {
        "id": "irb5OGY3U4oq",
        "outputId": "c3b8c6cc-f289-4486-9618-87123267ff9b",
        "colab": {
          "base_uri": "https://localhost:8080/"
        }
      },
      "execution_count": 129,
      "outputs": [
        {
          "output_type": "execute_result",
          "data": {
            "text/plain": [
              "year              0\n",
              "jan               0\n",
              "feb               0\n",
              "mar               0\n",
              "apr               0\n",
              "may               0\n",
              "jun               0\n",
              "jul               0\n",
              "aug               0\n",
              "sep               0\n",
              "oct               0\n",
              "nov               0\n",
              "dec               0\n",
              "mon               0\n",
              "tue               0\n",
              "wed               0\n",
              "thu               0\n",
              "fri               0\n",
              "sat               0\n",
              "sun               0\n",
              "temp              0\n",
              "visib             0\n",
              "wdsp              0\n",
              "slp               0\n",
              "dewp              0\n",
              "num_collisions    0\n",
              "dtype: int64"
            ]
          },
          "metadata": {},
          "execution_count": 129
        }
      ]
    },
    {
      "cell_type": "markdown",
      "source": [
        "#### Overview of Data"
      ],
      "metadata": {
        "id": "Km2U9r-xVQeO"
      }
    },
    {
      "cell_type": "code",
      "source": [
        "df_std_col_dnn_2_train.describe().transpose()"
      ],
      "metadata": {
        "id": "qVyb2uzAVSTp",
        "outputId": "412f3777-77a1-46d4-e2cf-853ac3731ac5",
        "colab": {
          "base_uri": "https://localhost:8080/",
          "height": 865
        }
      },
      "execution_count": 130,
      "outputs": [
        {
          "output_type": "execute_result",
          "data": {
            "text/plain": [
              "                 count         mean        std          min          25%  \\\n",
              "year            1766.0  2015.983012   1.996809  2013.000000  2014.000000   \n",
              "jan             1766.0     0.082673   0.275465     0.000000     0.000000   \n",
              "feb             1766.0     0.070781   0.256532     0.000000     0.000000   \n",
              "mar             1766.0     0.087769   0.283039     0.000000     0.000000   \n",
              "apr             1766.0     0.078143   0.268472     0.000000     0.000000   \n",
              "may             1766.0     0.083805   0.277174     0.000000     0.000000   \n",
              "jun             1766.0     0.080408   0.272000     0.000000     0.000000   \n",
              "jul             1766.0     0.090600   0.287121     0.000000     0.000000   \n",
              "aug             1766.0     0.087203   0.282212     0.000000     0.000000   \n",
              "sep             1766.0     0.084938   0.278868     0.000000     0.000000   \n",
              "oct             1766.0     0.091166   0.287927     0.000000     0.000000   \n",
              "nov             1766.0     0.083805   0.277174     0.000000     0.000000   \n",
              "dec             1766.0     0.078709   0.269360     0.000000     0.000000   \n",
              "mon             1766.0     0.143828   0.351014     0.000000     0.000000   \n",
              "tue             1766.0     0.145527   0.352731     0.000000     0.000000   \n",
              "wed             1766.0     0.135334   0.342177     0.000000     0.000000   \n",
              "thu             1766.0     0.144394   0.351588     0.000000     0.000000   \n",
              "fri             1766.0     0.135900   0.342780     0.000000     0.000000   \n",
              "sat             1766.0     0.146659   0.353866     0.000000     0.000000   \n",
              "sun             1766.0     0.148358   0.355555     0.000000     0.000000   \n",
              "temp            1766.0     0.007660   0.996904    -2.999291    -0.779329   \n",
              "visib           1766.0     0.014764   0.985785    -3.678763    -0.546810   \n",
              "wdsp            1766.0    -0.004603   0.994146    -1.878288    -0.697520   \n",
              "slp             1766.0     0.020706   0.984669    -3.475792    -0.575227   \n",
              "dewp            1766.0     0.005691   1.001052    -2.881202    -0.715406   \n",
              "num_collisions  1766.0   599.720838  93.405684   355.000000   534.000000   \n",
              "\n",
              "                        50%          75%          max  \n",
              "year            2016.000000  2018.000000  2019.000000  \n",
              "jan                0.000000     0.000000     1.000000  \n",
              "feb                0.000000     0.000000     1.000000  \n",
              "mar                0.000000     0.000000     1.000000  \n",
              "apr                0.000000     0.000000     1.000000  \n",
              "may                0.000000     0.000000     1.000000  \n",
              "jun                0.000000     0.000000     1.000000  \n",
              "jul                0.000000     0.000000     1.000000  \n",
              "aug                0.000000     0.000000     1.000000  \n",
              "sep                0.000000     0.000000     1.000000  \n",
              "oct                0.000000     0.000000     1.000000  \n",
              "nov                0.000000     0.000000     1.000000  \n",
              "dec                0.000000     0.000000     1.000000  \n",
              "mon                0.000000     0.000000     1.000000  \n",
              "tue                0.000000     0.000000     1.000000  \n",
              "wed                0.000000     0.000000     1.000000  \n",
              "thu                0.000000     0.000000     1.000000  \n",
              "fri                0.000000     0.000000     1.000000  \n",
              "sat                0.000000     0.000000     1.000000  \n",
              "sun                0.000000     0.000000     1.000000  \n",
              "temp               0.049967     0.892021     1.836143  \n",
              "visib              0.497174     0.769518     0.769518  \n",
              "wdsp              -0.138208     0.566110     5.869209  \n",
              "slp                0.011478     0.664105     2.945004  \n",
              "dewp               0.091460     0.845242     1.705190  \n",
              "num_collisions   603.000000   662.000000   845.000000  "
            ],
            "text/html": [
              "\n",
              "  <div id=\"df-84f3564a-cf53-41e6-b258-d132fbaed2b7\">\n",
              "    <div class=\"colab-df-container\">\n",
              "      <div>\n",
              "<style scoped>\n",
              "    .dataframe tbody tr th:only-of-type {\n",
              "        vertical-align: middle;\n",
              "    }\n",
              "\n",
              "    .dataframe tbody tr th {\n",
              "        vertical-align: top;\n",
              "    }\n",
              "\n",
              "    .dataframe thead th {\n",
              "        text-align: right;\n",
              "    }\n",
              "</style>\n",
              "<table border=\"1\" class=\"dataframe\">\n",
              "  <thead>\n",
              "    <tr style=\"text-align: right;\">\n",
              "      <th></th>\n",
              "      <th>count</th>\n",
              "      <th>mean</th>\n",
              "      <th>std</th>\n",
              "      <th>min</th>\n",
              "      <th>25%</th>\n",
              "      <th>50%</th>\n",
              "      <th>75%</th>\n",
              "      <th>max</th>\n",
              "    </tr>\n",
              "  </thead>\n",
              "  <tbody>\n",
              "    <tr>\n",
              "      <th>year</th>\n",
              "      <td>1766.0</td>\n",
              "      <td>2015.983012</td>\n",
              "      <td>1.996809</td>\n",
              "      <td>2013.000000</td>\n",
              "      <td>2014.000000</td>\n",
              "      <td>2016.000000</td>\n",
              "      <td>2018.000000</td>\n",
              "      <td>2019.000000</td>\n",
              "    </tr>\n",
              "    <tr>\n",
              "      <th>jan</th>\n",
              "      <td>1766.0</td>\n",
              "      <td>0.082673</td>\n",
              "      <td>0.275465</td>\n",
              "      <td>0.000000</td>\n",
              "      <td>0.000000</td>\n",
              "      <td>0.000000</td>\n",
              "      <td>0.000000</td>\n",
              "      <td>1.000000</td>\n",
              "    </tr>\n",
              "    <tr>\n",
              "      <th>feb</th>\n",
              "      <td>1766.0</td>\n",
              "      <td>0.070781</td>\n",
              "      <td>0.256532</td>\n",
              "      <td>0.000000</td>\n",
              "      <td>0.000000</td>\n",
              "      <td>0.000000</td>\n",
              "      <td>0.000000</td>\n",
              "      <td>1.000000</td>\n",
              "    </tr>\n",
              "    <tr>\n",
              "      <th>mar</th>\n",
              "      <td>1766.0</td>\n",
              "      <td>0.087769</td>\n",
              "      <td>0.283039</td>\n",
              "      <td>0.000000</td>\n",
              "      <td>0.000000</td>\n",
              "      <td>0.000000</td>\n",
              "      <td>0.000000</td>\n",
              "      <td>1.000000</td>\n",
              "    </tr>\n",
              "    <tr>\n",
              "      <th>apr</th>\n",
              "      <td>1766.0</td>\n",
              "      <td>0.078143</td>\n",
              "      <td>0.268472</td>\n",
              "      <td>0.000000</td>\n",
              "      <td>0.000000</td>\n",
              "      <td>0.000000</td>\n",
              "      <td>0.000000</td>\n",
              "      <td>1.000000</td>\n",
              "    </tr>\n",
              "    <tr>\n",
              "      <th>may</th>\n",
              "      <td>1766.0</td>\n",
              "      <td>0.083805</td>\n",
              "      <td>0.277174</td>\n",
              "      <td>0.000000</td>\n",
              "      <td>0.000000</td>\n",
              "      <td>0.000000</td>\n",
              "      <td>0.000000</td>\n",
              "      <td>1.000000</td>\n",
              "    </tr>\n",
              "    <tr>\n",
              "      <th>jun</th>\n",
              "      <td>1766.0</td>\n",
              "      <td>0.080408</td>\n",
              "      <td>0.272000</td>\n",
              "      <td>0.000000</td>\n",
              "      <td>0.000000</td>\n",
              "      <td>0.000000</td>\n",
              "      <td>0.000000</td>\n",
              "      <td>1.000000</td>\n",
              "    </tr>\n",
              "    <tr>\n",
              "      <th>jul</th>\n",
              "      <td>1766.0</td>\n",
              "      <td>0.090600</td>\n",
              "      <td>0.287121</td>\n",
              "      <td>0.000000</td>\n",
              "      <td>0.000000</td>\n",
              "      <td>0.000000</td>\n",
              "      <td>0.000000</td>\n",
              "      <td>1.000000</td>\n",
              "    </tr>\n",
              "    <tr>\n",
              "      <th>aug</th>\n",
              "      <td>1766.0</td>\n",
              "      <td>0.087203</td>\n",
              "      <td>0.282212</td>\n",
              "      <td>0.000000</td>\n",
              "      <td>0.000000</td>\n",
              "      <td>0.000000</td>\n",
              "      <td>0.000000</td>\n",
              "      <td>1.000000</td>\n",
              "    </tr>\n",
              "    <tr>\n",
              "      <th>sep</th>\n",
              "      <td>1766.0</td>\n",
              "      <td>0.084938</td>\n",
              "      <td>0.278868</td>\n",
              "      <td>0.000000</td>\n",
              "      <td>0.000000</td>\n",
              "      <td>0.000000</td>\n",
              "      <td>0.000000</td>\n",
              "      <td>1.000000</td>\n",
              "    </tr>\n",
              "    <tr>\n",
              "      <th>oct</th>\n",
              "      <td>1766.0</td>\n",
              "      <td>0.091166</td>\n",
              "      <td>0.287927</td>\n",
              "      <td>0.000000</td>\n",
              "      <td>0.000000</td>\n",
              "      <td>0.000000</td>\n",
              "      <td>0.000000</td>\n",
              "      <td>1.000000</td>\n",
              "    </tr>\n",
              "    <tr>\n",
              "      <th>nov</th>\n",
              "      <td>1766.0</td>\n",
              "      <td>0.083805</td>\n",
              "      <td>0.277174</td>\n",
              "      <td>0.000000</td>\n",
              "      <td>0.000000</td>\n",
              "      <td>0.000000</td>\n",
              "      <td>0.000000</td>\n",
              "      <td>1.000000</td>\n",
              "    </tr>\n",
              "    <tr>\n",
              "      <th>dec</th>\n",
              "      <td>1766.0</td>\n",
              "      <td>0.078709</td>\n",
              "      <td>0.269360</td>\n",
              "      <td>0.000000</td>\n",
              "      <td>0.000000</td>\n",
              "      <td>0.000000</td>\n",
              "      <td>0.000000</td>\n",
              "      <td>1.000000</td>\n",
              "    </tr>\n",
              "    <tr>\n",
              "      <th>mon</th>\n",
              "      <td>1766.0</td>\n",
              "      <td>0.143828</td>\n",
              "      <td>0.351014</td>\n",
              "      <td>0.000000</td>\n",
              "      <td>0.000000</td>\n",
              "      <td>0.000000</td>\n",
              "      <td>0.000000</td>\n",
              "      <td>1.000000</td>\n",
              "    </tr>\n",
              "    <tr>\n",
              "      <th>tue</th>\n",
              "      <td>1766.0</td>\n",
              "      <td>0.145527</td>\n",
              "      <td>0.352731</td>\n",
              "      <td>0.000000</td>\n",
              "      <td>0.000000</td>\n",
              "      <td>0.000000</td>\n",
              "      <td>0.000000</td>\n",
              "      <td>1.000000</td>\n",
              "    </tr>\n",
              "    <tr>\n",
              "      <th>wed</th>\n",
              "      <td>1766.0</td>\n",
              "      <td>0.135334</td>\n",
              "      <td>0.342177</td>\n",
              "      <td>0.000000</td>\n",
              "      <td>0.000000</td>\n",
              "      <td>0.000000</td>\n",
              "      <td>0.000000</td>\n",
              "      <td>1.000000</td>\n",
              "    </tr>\n",
              "    <tr>\n",
              "      <th>thu</th>\n",
              "      <td>1766.0</td>\n",
              "      <td>0.144394</td>\n",
              "      <td>0.351588</td>\n",
              "      <td>0.000000</td>\n",
              "      <td>0.000000</td>\n",
              "      <td>0.000000</td>\n",
              "      <td>0.000000</td>\n",
              "      <td>1.000000</td>\n",
              "    </tr>\n",
              "    <tr>\n",
              "      <th>fri</th>\n",
              "      <td>1766.0</td>\n",
              "      <td>0.135900</td>\n",
              "      <td>0.342780</td>\n",
              "      <td>0.000000</td>\n",
              "      <td>0.000000</td>\n",
              "      <td>0.000000</td>\n",
              "      <td>0.000000</td>\n",
              "      <td>1.000000</td>\n",
              "    </tr>\n",
              "    <tr>\n",
              "      <th>sat</th>\n",
              "      <td>1766.0</td>\n",
              "      <td>0.146659</td>\n",
              "      <td>0.353866</td>\n",
              "      <td>0.000000</td>\n",
              "      <td>0.000000</td>\n",
              "      <td>0.000000</td>\n",
              "      <td>0.000000</td>\n",
              "      <td>1.000000</td>\n",
              "    </tr>\n",
              "    <tr>\n",
              "      <th>sun</th>\n",
              "      <td>1766.0</td>\n",
              "      <td>0.148358</td>\n",
              "      <td>0.355555</td>\n",
              "      <td>0.000000</td>\n",
              "      <td>0.000000</td>\n",
              "      <td>0.000000</td>\n",
              "      <td>0.000000</td>\n",
              "      <td>1.000000</td>\n",
              "    </tr>\n",
              "    <tr>\n",
              "      <th>temp</th>\n",
              "      <td>1766.0</td>\n",
              "      <td>0.007660</td>\n",
              "      <td>0.996904</td>\n",
              "      <td>-2.999291</td>\n",
              "      <td>-0.779329</td>\n",
              "      <td>0.049967</td>\n",
              "      <td>0.892021</td>\n",
              "      <td>1.836143</td>\n",
              "    </tr>\n",
              "    <tr>\n",
              "      <th>visib</th>\n",
              "      <td>1766.0</td>\n",
              "      <td>0.014764</td>\n",
              "      <td>0.985785</td>\n",
              "      <td>-3.678763</td>\n",
              "      <td>-0.546810</td>\n",
              "      <td>0.497174</td>\n",
              "      <td>0.769518</td>\n",
              "      <td>0.769518</td>\n",
              "    </tr>\n",
              "    <tr>\n",
              "      <th>wdsp</th>\n",
              "      <td>1766.0</td>\n",
              "      <td>-0.004603</td>\n",
              "      <td>0.994146</td>\n",
              "      <td>-1.878288</td>\n",
              "      <td>-0.697520</td>\n",
              "      <td>-0.138208</td>\n",
              "      <td>0.566110</td>\n",
              "      <td>5.869209</td>\n",
              "    </tr>\n",
              "    <tr>\n",
              "      <th>slp</th>\n",
              "      <td>1766.0</td>\n",
              "      <td>0.020706</td>\n",
              "      <td>0.984669</td>\n",
              "      <td>-3.475792</td>\n",
              "      <td>-0.575227</td>\n",
              "      <td>0.011478</td>\n",
              "      <td>0.664105</td>\n",
              "      <td>2.945004</td>\n",
              "    </tr>\n",
              "    <tr>\n",
              "      <th>dewp</th>\n",
              "      <td>1766.0</td>\n",
              "      <td>0.005691</td>\n",
              "      <td>1.001052</td>\n",
              "      <td>-2.881202</td>\n",
              "      <td>-0.715406</td>\n",
              "      <td>0.091460</td>\n",
              "      <td>0.845242</td>\n",
              "      <td>1.705190</td>\n",
              "    </tr>\n",
              "    <tr>\n",
              "      <th>num_collisions</th>\n",
              "      <td>1766.0</td>\n",
              "      <td>599.720838</td>\n",
              "      <td>93.405684</td>\n",
              "      <td>355.000000</td>\n",
              "      <td>534.000000</td>\n",
              "      <td>603.000000</td>\n",
              "      <td>662.000000</td>\n",
              "      <td>845.000000</td>\n",
              "    </tr>\n",
              "  </tbody>\n",
              "</table>\n",
              "</div>\n",
              "      <button class=\"colab-df-convert\" onclick=\"convertToInteractive('df-84f3564a-cf53-41e6-b258-d132fbaed2b7')\"\n",
              "              title=\"Convert this dataframe to an interactive table.\"\n",
              "              style=\"display:none;\">\n",
              "        \n",
              "  <svg xmlns=\"http://www.w3.org/2000/svg\" height=\"24px\"viewBox=\"0 0 24 24\"\n",
              "       width=\"24px\">\n",
              "    <path d=\"M0 0h24v24H0V0z\" fill=\"none\"/>\n",
              "    <path d=\"M18.56 5.44l.94 2.06.94-2.06 2.06-.94-2.06-.94-.94-2.06-.94 2.06-2.06.94zm-11 1L8.5 8.5l.94-2.06 2.06-.94-2.06-.94L8.5 2.5l-.94 2.06-2.06.94zm10 10l.94 2.06.94-2.06 2.06-.94-2.06-.94-.94-2.06-.94 2.06-2.06.94z\"/><path d=\"M17.41 7.96l-1.37-1.37c-.4-.4-.92-.59-1.43-.59-.52 0-1.04.2-1.43.59L10.3 9.45l-7.72 7.72c-.78.78-.78 2.05 0 2.83L4 21.41c.39.39.9.59 1.41.59.51 0 1.02-.2 1.41-.59l7.78-7.78 2.81-2.81c.8-.78.8-2.07 0-2.86zM5.41 20L4 18.59l7.72-7.72 1.47 1.35L5.41 20z\"/>\n",
              "  </svg>\n",
              "      </button>\n",
              "      \n",
              "  <style>\n",
              "    .colab-df-container {\n",
              "      display:flex;\n",
              "      flex-wrap:wrap;\n",
              "      gap: 12px;\n",
              "    }\n",
              "\n",
              "    .colab-df-convert {\n",
              "      background-color: #E8F0FE;\n",
              "      border: none;\n",
              "      border-radius: 50%;\n",
              "      cursor: pointer;\n",
              "      display: none;\n",
              "      fill: #1967D2;\n",
              "      height: 32px;\n",
              "      padding: 0 0 0 0;\n",
              "      width: 32px;\n",
              "    }\n",
              "\n",
              "    .colab-df-convert:hover {\n",
              "      background-color: #E2EBFA;\n",
              "      box-shadow: 0px 1px 2px rgba(60, 64, 67, 0.3), 0px 1px 3px 1px rgba(60, 64, 67, 0.15);\n",
              "      fill: #174EA6;\n",
              "    }\n",
              "\n",
              "    [theme=dark] .colab-df-convert {\n",
              "      background-color: #3B4455;\n",
              "      fill: #D2E3FC;\n",
              "    }\n",
              "\n",
              "    [theme=dark] .colab-df-convert:hover {\n",
              "      background-color: #434B5C;\n",
              "      box-shadow: 0px 1px 3px 1px rgba(0, 0, 0, 0.15);\n",
              "      filter: drop-shadow(0px 1px 2px rgba(0, 0, 0, 0.3));\n",
              "      fill: #FFFFFF;\n",
              "    }\n",
              "  </style>\n",
              "\n",
              "      <script>\n",
              "        const buttonEl =\n",
              "          document.querySelector('#df-84f3564a-cf53-41e6-b258-d132fbaed2b7 button.colab-df-convert');\n",
              "        buttonEl.style.display =\n",
              "          google.colab.kernel.accessAllowed ? 'block' : 'none';\n",
              "\n",
              "        async function convertToInteractive(key) {\n",
              "          const element = document.querySelector('#df-84f3564a-cf53-41e6-b258-d132fbaed2b7');\n",
              "          const dataTable =\n",
              "            await google.colab.kernel.invokeFunction('convertToInteractive',\n",
              "                                                     [key], {});\n",
              "          if (!dataTable) return;\n",
              "\n",
              "          const docLinkHtml = 'Like what you see? Visit the ' +\n",
              "            '<a target=\"_blank\" href=https://colab.research.google.com/notebooks/data_table.ipynb>data table notebook</a>'\n",
              "            + ' to learn more about interactive tables.';\n",
              "          element.innerHTML = '';\n",
              "          dataTable['output_type'] = 'display_data';\n",
              "          await google.colab.output.renderOutput(dataTable, element);\n",
              "          const docLink = document.createElement('div');\n",
              "          docLink.innerHTML = docLinkHtml;\n",
              "          element.appendChild(docLink);\n",
              "        }\n",
              "      </script>\n",
              "    </div>\n",
              "  </div>\n",
              "  "
            ]
          },
          "metadata": {},
          "execution_count": 130
        }
      ]
    }
  ]
}