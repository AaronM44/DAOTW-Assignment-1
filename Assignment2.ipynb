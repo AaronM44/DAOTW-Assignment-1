{
  "nbformat": 4,
  "nbformat_minor": 0,
  "metadata": {
    "colab": {
      "provenance": [],
      "authorship_tag": "ABX9TyPdaQ0mvVmbLkuT2N069GQ7",
      "include_colab_link": true
    },
    "kernelspec": {
      "name": "python3",
      "display_name": "Python 3"
    },
    "language_info": {
      "name": "python"
    }
  },
  "cells": [
    {
      "cell_type": "markdown",
      "metadata": {
        "id": "view-in-github",
        "colab_type": "text"
      },
      "source": [
        "<a href=\"https://colab.research.google.com/github/AaronM44/DAOTW-Assignment-1/blob/main/Assignment2.ipynb\" target=\"_parent\"><img src=\"https://colab.research.google.com/assets/colab-badge.svg\" alt=\"Open In Colab\"/></a>"
      ]
    },
    {
      "cell_type": "markdown",
      "source": [
        "# DAOTW Assignment 2\n",
        "\n",
        "--- "
      ],
      "metadata": {
        "id": "U2Wx6Xhvs-I8"
      }
    },
    {
      "cell_type": "markdown",
      "source": [
        "## Introduction"
      ],
      "metadata": {
        "id": "B4oLR81lqNyJ"
      }
    },
    {
      "cell_type": "markdown",
      "source": [
        "We have been asked to investigate the relationship between weather and the number of traffic collisions on any given day. We will then be required to create both linear regression and deep neural network models that can be used to accurately predict the number of collisions on a particular day.\n",
        "\n",
        "In part one we created a collated dataset in BigQuery from the NYPD Collisions data and the NOAA weather data for New York City between 2012 and 2020. Exploratory data analysis was then performed in order to understand which variables were best correlated with the number of collisions on a particular day. The data was then prepared for modelling by handling rows with NAs, performing one-hot encoding where appropriate and splitting data into training and testing sets ready for this exercise. These data sets were then exported and stored in GitHub.\n",
        "\n",
        "In this second part, we'll create multiple regression models, both linear and deep neural networks using the datasets prepared in part one. We will evaluate which model is best using the Mean Absolute Error metric, plots of predicted values versus actual values and the distribution of errors. "
      ],
      "metadata": {
        "id": "2hFYJZmdrJgI"
      }
    },
    {
      "cell_type": "markdown",
      "source": [
        "## Import Packages"
      ],
      "metadata": {
        "id": "6IEiO4Pgn_YA"
      }
    },
    {
      "cell_type": "code",
      "execution_count": 694,
      "metadata": {
        "id": "jEt-r8iUUqSj"
      },
      "outputs": [],
      "source": [
        "import matplotlib.pyplot as plt\n",
        "import numpy as np\n",
        "import pandas as pd\n",
        "import seaborn as sns\n",
        "\n",
        "# Make NumPy printouts easier to read.\n",
        "np.set_printoptions(precision=3, suppress=True)"
      ]
    },
    {
      "cell_type": "code",
      "source": [
        "import tensorflow as tf\n",
        "\n",
        "from tensorflow import keras\n",
        "from tensorflow.keras import layers\n",
        "from keras import callbacks\n",
        "\n",
        "print(tf.__version__)"
      ],
      "metadata": {
        "colab": {
          "base_uri": "https://localhost:8080/"
        },
        "id": "G3m-szJUkrZQ",
        "outputId": "88850049-5536-4066-adf5-2e2f2a4992c4"
      },
      "execution_count": 695,
      "outputs": [
        {
          "output_type": "stream",
          "name": "stdout",
          "text": [
            "2.9.2\n"
          ]
        }
      ]
    },
    {
      "cell_type": "markdown",
      "source": [
        "## Data Preparation"
      ],
      "metadata": {
        "id": "v_o9TAUYORKY"
      }
    },
    {
      "cell_type": "markdown",
      "source": [
        "Most of the preparation had already been done in Assignment 1. All NAs had been dealt with accordingly based on the column data. Each dataset created in the previous assignment had been split into training and testing sets at a 70/30 ratio. The split was created using a random sample of 70% for the training set with the remaining 30% being used for testing.\n",
        "\n",
        "The datasets created had been either normalised or standardised in the prior assignment and therefore I had to go back and rework these as Keras already provides a normalisation layer. \n",
        "\n",
        "I was interested in seeing the difference, if any, between normalising the features on a scale from 0 to 1 using Min-Max Normalisation or standardising the features using the Z-Score method where values have a mean of zero and a standard deviation of 1. However, I could not figure out how this was done in Tensorflow."
      ],
      "metadata": {
        "id": "BFvsivE5QLgG"
      }
    },
    {
      "cell_type": "markdown",
      "source": [
        "## Methodology"
      ],
      "metadata": {
        "id": "wKhwvL6mom3Y"
      }
    },
    {
      "cell_type": "markdown",
      "source": [
        "The following method was used to create each model. One slight variation between the linear regression models and deep neural networks was the use of a function to build and compile the deep neural networks. This was done as each model used the same configuration of layers.\n",
        "\n",
        "The datasets were read in from the GitHub repository. These were outputs from the previous assignment and were already split into training and testing sets.\n",
        "\n",
        "As stated in the Data Preparation section we had already dealt with NAs previously but a count was performed nonetheless in order to double check.\n",
        "\n",
        "An overview of the datasets was printed out as a second check to make sure it matched expectations based on the previous assignment.\n",
        "\n",
        "A copy of the datasets were created to separate out the features and labels. The reason for creating a copy was because if any issues occured it would be easier to compare against an original version of the data.\n",
        "\n",
        "The first step in creating each model was to create a normaliser layer in order to standardise the input weights. This was done using the built-in function within Keras.\n",
        "\n",
        "A sequential model was then created with the normaliser layer and a Dense layer. The deep neural networks additionally contained two hidden layers with 64 units using the ReLu activation function. Mean absolute error was used as the loss function for each model. The model was then compiled and run for 100 epochs originally with a 20% validation split. \n",
        "\n",
        "A plot showing the training loss and validation loss over time was created to visualise how the model converges.\n",
        "\n",
        "The number of epochs were then adjusted in order to try and improve the performance of the model. The loss plots for the linear regression models showed that after 100 epochs the loss was still decreasing so increasing the number of epochs here increased the performance of these models significantly. The opposite was true for the deep neural network models which reached a point of convergence after around 5-20 epochs in most cases. For these models, a reduction in number of epochs was appropriate in order to avoid overfitting. This resulted in a slight performance increase.\n",
        "\n",
        "The tweaking of epochs led me to do a bit of research on finding the optimal number and through this I learned that we can implement a built-in function of Keras called early stopping callbacks which will stop training after the validation loss starts to increase (Chen 2020). The number of epochs for each model was then set to 200 as this was higher than necessary for each model. This callback function was then applied to each of the models.\n",
        "\n",
        "The model evaluation results were then saved to a dictionary so they could be compared in the evaluation section at the end.\n",
        "\n",
        "\n",
        "\n"
      ],
      "metadata": {
        "id": "MatY_Vpgoqoi"
      }
    },
    {
      "cell_type": "markdown",
      "source": [
        "## Linear Regression"
      ],
      "metadata": {
        "id": "2GAGjGEok1aA"
      }
    },
    {
      "cell_type": "markdown",
      "source": [
        "### Simple Linear Regression (Temperature)"
      ],
      "metadata": {
        "id": "t_4-RufioEvw"
      }
    },
    {
      "cell_type": "markdown",
      "source": [
        "In order to get a baseline a simple linear regression model was created using temperature as the independent variable."
      ],
      "metadata": {
        "id": "3hi8j37fDxbh"
      }
    },
    {
      "cell_type": "markdown",
      "source": [
        "#### Read Data"
      ],
      "metadata": {
        "id": "RF-FwTmVoDTT"
      }
    },
    {
      "cell_type": "markdown",
      "source": [
        "##### Training Data"
      ],
      "metadata": {
        "id": "7f9HAsc_lDDb"
      }
    },
    {
      "cell_type": "code",
      "source": [
        "url = \"https://raw.githubusercontent.com/AaronM44/DAOTW-Assignment-1/main/outputs/col_mod_1_train.csv\"\n",
        "\n",
        "raw_col_mod_train_1 = pd.read_csv(url)\n",
        "\n",
        "df_col_mod_train_1 = raw_col_mod_train_1.copy()\n",
        "\n",
        "df_col_mod_train_1 = df_col_mod_train_1.drop(df_col_mod_train_1.columns[[0, 1]], axis=1)\n",
        "\n",
        "df_col_mod_train_1.head()"
      ],
      "metadata": {
        "colab": {
          "base_uri": "https://localhost:8080/",
          "height": 206
        },
        "id": "PkWb9vgvmat0",
        "outputId": "29ed6f1b-28ab-4d98-d52a-ccaa0706dabc"
      },
      "execution_count": 696,
      "outputs": [
        {
          "output_type": "execute_result",
          "data": {
            "text/plain": [
              "   year  mo  day  temp  visib  num_collisions\n",
              "0  2017   2    1   5.5   10.0             428\n",
              "1  2014   4    1   8.1   10.0             597\n",
              "2  2018   1    1   1.7    9.9             720\n",
              "3  2019   4    3   8.6   10.0             621\n",
              "4  2016  12    2   5.4   10.0             711"
            ],
            "text/html": [
              "\n",
              "  <div id=\"df-212c7a4c-ddce-4e36-860b-85c3544783f8\">\n",
              "    <div class=\"colab-df-container\">\n",
              "      <div>\n",
              "<style scoped>\n",
              "    .dataframe tbody tr th:only-of-type {\n",
              "        vertical-align: middle;\n",
              "    }\n",
              "\n",
              "    .dataframe tbody tr th {\n",
              "        vertical-align: top;\n",
              "    }\n",
              "\n",
              "    .dataframe thead th {\n",
              "        text-align: right;\n",
              "    }\n",
              "</style>\n",
              "<table border=\"1\" class=\"dataframe\">\n",
              "  <thead>\n",
              "    <tr style=\"text-align: right;\">\n",
              "      <th></th>\n",
              "      <th>year</th>\n",
              "      <th>mo</th>\n",
              "      <th>day</th>\n",
              "      <th>temp</th>\n",
              "      <th>visib</th>\n",
              "      <th>num_collisions</th>\n",
              "    </tr>\n",
              "  </thead>\n",
              "  <tbody>\n",
              "    <tr>\n",
              "      <th>0</th>\n",
              "      <td>2017</td>\n",
              "      <td>2</td>\n",
              "      <td>1</td>\n",
              "      <td>5.5</td>\n",
              "      <td>10.0</td>\n",
              "      <td>428</td>\n",
              "    </tr>\n",
              "    <tr>\n",
              "      <th>1</th>\n",
              "      <td>2014</td>\n",
              "      <td>4</td>\n",
              "      <td>1</td>\n",
              "      <td>8.1</td>\n",
              "      <td>10.0</td>\n",
              "      <td>597</td>\n",
              "    </tr>\n",
              "    <tr>\n",
              "      <th>2</th>\n",
              "      <td>2018</td>\n",
              "      <td>1</td>\n",
              "      <td>1</td>\n",
              "      <td>1.7</td>\n",
              "      <td>9.9</td>\n",
              "      <td>720</td>\n",
              "    </tr>\n",
              "    <tr>\n",
              "      <th>3</th>\n",
              "      <td>2019</td>\n",
              "      <td>4</td>\n",
              "      <td>3</td>\n",
              "      <td>8.6</td>\n",
              "      <td>10.0</td>\n",
              "      <td>621</td>\n",
              "    </tr>\n",
              "    <tr>\n",
              "      <th>4</th>\n",
              "      <td>2016</td>\n",
              "      <td>12</td>\n",
              "      <td>2</td>\n",
              "      <td>5.4</td>\n",
              "      <td>10.0</td>\n",
              "      <td>711</td>\n",
              "    </tr>\n",
              "  </tbody>\n",
              "</table>\n",
              "</div>\n",
              "      <button class=\"colab-df-convert\" onclick=\"convertToInteractive('df-212c7a4c-ddce-4e36-860b-85c3544783f8')\"\n",
              "              title=\"Convert this dataframe to an interactive table.\"\n",
              "              style=\"display:none;\">\n",
              "        \n",
              "  <svg xmlns=\"http://www.w3.org/2000/svg\" height=\"24px\"viewBox=\"0 0 24 24\"\n",
              "       width=\"24px\">\n",
              "    <path d=\"M0 0h24v24H0V0z\" fill=\"none\"/>\n",
              "    <path d=\"M18.56 5.44l.94 2.06.94-2.06 2.06-.94-2.06-.94-.94-2.06-.94 2.06-2.06.94zm-11 1L8.5 8.5l.94-2.06 2.06-.94-2.06-.94L8.5 2.5l-.94 2.06-2.06.94zm10 10l.94 2.06.94-2.06 2.06-.94-2.06-.94-.94-2.06-.94 2.06-2.06.94z\"/><path d=\"M17.41 7.96l-1.37-1.37c-.4-.4-.92-.59-1.43-.59-.52 0-1.04.2-1.43.59L10.3 9.45l-7.72 7.72c-.78.78-.78 2.05 0 2.83L4 21.41c.39.39.9.59 1.41.59.51 0 1.02-.2 1.41-.59l7.78-7.78 2.81-2.81c.8-.78.8-2.07 0-2.86zM5.41 20L4 18.59l7.72-7.72 1.47 1.35L5.41 20z\"/>\n",
              "  </svg>\n",
              "      </button>\n",
              "      \n",
              "  <style>\n",
              "    .colab-df-container {\n",
              "      display:flex;\n",
              "      flex-wrap:wrap;\n",
              "      gap: 12px;\n",
              "    }\n",
              "\n",
              "    .colab-df-convert {\n",
              "      background-color: #E8F0FE;\n",
              "      border: none;\n",
              "      border-radius: 50%;\n",
              "      cursor: pointer;\n",
              "      display: none;\n",
              "      fill: #1967D2;\n",
              "      height: 32px;\n",
              "      padding: 0 0 0 0;\n",
              "      width: 32px;\n",
              "    }\n",
              "\n",
              "    .colab-df-convert:hover {\n",
              "      background-color: #E2EBFA;\n",
              "      box-shadow: 0px 1px 2px rgba(60, 64, 67, 0.3), 0px 1px 3px 1px rgba(60, 64, 67, 0.15);\n",
              "      fill: #174EA6;\n",
              "    }\n",
              "\n",
              "    [theme=dark] .colab-df-convert {\n",
              "      background-color: #3B4455;\n",
              "      fill: #D2E3FC;\n",
              "    }\n",
              "\n",
              "    [theme=dark] .colab-df-convert:hover {\n",
              "      background-color: #434B5C;\n",
              "      box-shadow: 0px 1px 3px 1px rgba(0, 0, 0, 0.15);\n",
              "      filter: drop-shadow(0px 1px 2px rgba(0, 0, 0, 0.3));\n",
              "      fill: #FFFFFF;\n",
              "    }\n",
              "  </style>\n",
              "\n",
              "      <script>\n",
              "        const buttonEl =\n",
              "          document.querySelector('#df-212c7a4c-ddce-4e36-860b-85c3544783f8 button.colab-df-convert');\n",
              "        buttonEl.style.display =\n",
              "          google.colab.kernel.accessAllowed ? 'block' : 'none';\n",
              "\n",
              "        async function convertToInteractive(key) {\n",
              "          const element = document.querySelector('#df-212c7a4c-ddce-4e36-860b-85c3544783f8');\n",
              "          const dataTable =\n",
              "            await google.colab.kernel.invokeFunction('convertToInteractive',\n",
              "                                                     [key], {});\n",
              "          if (!dataTable) return;\n",
              "\n",
              "          const docLinkHtml = 'Like what you see? Visit the ' +\n",
              "            '<a target=\"_blank\" href=https://colab.research.google.com/notebooks/data_table.ipynb>data table notebook</a>'\n",
              "            + ' to learn more about interactive tables.';\n",
              "          element.innerHTML = '';\n",
              "          dataTable['output_type'] = 'display_data';\n",
              "          await google.colab.output.renderOutput(dataTable, element);\n",
              "          const docLink = document.createElement('div');\n",
              "          docLink.innerHTML = docLinkHtml;\n",
              "          element.appendChild(docLink);\n",
              "        }\n",
              "      </script>\n",
              "    </div>\n",
              "  </div>\n",
              "  "
            ]
          },
          "metadata": {},
          "execution_count": 696
        }
      ]
    },
    {
      "cell_type": "markdown",
      "source": [
        "##### Test Data"
      ],
      "metadata": {
        "id": "VLrWuk2glKDm"
      }
    },
    {
      "cell_type": "code",
      "source": [
        "url = \"https://raw.githubusercontent.com/AaronM44/DAOTW-Assignment-1/main/outputs/col_mod_1_test.csv\"\n",
        "\n",
        "raw_col_mod_test_1 = pd.read_csv(url)\n",
        "\n",
        "df_col_mod_test_1 = raw_col_mod_test_1.copy()\n",
        "\n",
        "df_col_mod_test_1 = df_col_mod_test_1.drop(df_col_mod_test_1.columns[[0, 1]], axis=1)\n",
        "\n",
        "df_col_mod_test_1.head()"
      ],
      "metadata": {
        "colab": {
          "base_uri": "https://localhost:8080/",
          "height": 206
        },
        "id": "k2TfJ4PslNFC",
        "outputId": "bdf71cd7-1899-41c9-eaef-02522f58ba11"
      },
      "execution_count": 697,
      "outputs": [
        {
          "output_type": "execute_result",
          "data": {
            "text/plain": [
              "   year  mo  day  temp  visib  num_collisions\n",
              "0  2013   1    4  -5.7   10.0             549\n",
              "1  2013   1    6   2.9   10.0             389\n",
              "2  2013   1    5   3.3   10.0             660\n",
              "3  2013   1    2   5.7    9.5             516\n",
              "4  2013   1    3   5.3    7.0             578"
            ],
            "text/html": [
              "\n",
              "  <div id=\"df-e1730dd6-067f-4945-9407-0d034c5e9c3d\">\n",
              "    <div class=\"colab-df-container\">\n",
              "      <div>\n",
              "<style scoped>\n",
              "    .dataframe tbody tr th:only-of-type {\n",
              "        vertical-align: middle;\n",
              "    }\n",
              "\n",
              "    .dataframe tbody tr th {\n",
              "        vertical-align: top;\n",
              "    }\n",
              "\n",
              "    .dataframe thead th {\n",
              "        text-align: right;\n",
              "    }\n",
              "</style>\n",
              "<table border=\"1\" class=\"dataframe\">\n",
              "  <thead>\n",
              "    <tr style=\"text-align: right;\">\n",
              "      <th></th>\n",
              "      <th>year</th>\n",
              "      <th>mo</th>\n",
              "      <th>day</th>\n",
              "      <th>temp</th>\n",
              "      <th>visib</th>\n",
              "      <th>num_collisions</th>\n",
              "    </tr>\n",
              "  </thead>\n",
              "  <tbody>\n",
              "    <tr>\n",
              "      <th>0</th>\n",
              "      <td>2013</td>\n",
              "      <td>1</td>\n",
              "      <td>4</td>\n",
              "      <td>-5.7</td>\n",
              "      <td>10.0</td>\n",
              "      <td>549</td>\n",
              "    </tr>\n",
              "    <tr>\n",
              "      <th>1</th>\n",
              "      <td>2013</td>\n",
              "      <td>1</td>\n",
              "      <td>6</td>\n",
              "      <td>2.9</td>\n",
              "      <td>10.0</td>\n",
              "      <td>389</td>\n",
              "    </tr>\n",
              "    <tr>\n",
              "      <th>2</th>\n",
              "      <td>2013</td>\n",
              "      <td>1</td>\n",
              "      <td>5</td>\n",
              "      <td>3.3</td>\n",
              "      <td>10.0</td>\n",
              "      <td>660</td>\n",
              "    </tr>\n",
              "    <tr>\n",
              "      <th>3</th>\n",
              "      <td>2013</td>\n",
              "      <td>1</td>\n",
              "      <td>2</td>\n",
              "      <td>5.7</td>\n",
              "      <td>9.5</td>\n",
              "      <td>516</td>\n",
              "    </tr>\n",
              "    <tr>\n",
              "      <th>4</th>\n",
              "      <td>2013</td>\n",
              "      <td>1</td>\n",
              "      <td>3</td>\n",
              "      <td>5.3</td>\n",
              "      <td>7.0</td>\n",
              "      <td>578</td>\n",
              "    </tr>\n",
              "  </tbody>\n",
              "</table>\n",
              "</div>\n",
              "      <button class=\"colab-df-convert\" onclick=\"convertToInteractive('df-e1730dd6-067f-4945-9407-0d034c5e9c3d')\"\n",
              "              title=\"Convert this dataframe to an interactive table.\"\n",
              "              style=\"display:none;\">\n",
              "        \n",
              "  <svg xmlns=\"http://www.w3.org/2000/svg\" height=\"24px\"viewBox=\"0 0 24 24\"\n",
              "       width=\"24px\">\n",
              "    <path d=\"M0 0h24v24H0V0z\" fill=\"none\"/>\n",
              "    <path d=\"M18.56 5.44l.94 2.06.94-2.06 2.06-.94-2.06-.94-.94-2.06-.94 2.06-2.06.94zm-11 1L8.5 8.5l.94-2.06 2.06-.94-2.06-.94L8.5 2.5l-.94 2.06-2.06.94zm10 10l.94 2.06.94-2.06 2.06-.94-2.06-.94-.94-2.06-.94 2.06-2.06.94z\"/><path d=\"M17.41 7.96l-1.37-1.37c-.4-.4-.92-.59-1.43-.59-.52 0-1.04.2-1.43.59L10.3 9.45l-7.72 7.72c-.78.78-.78 2.05 0 2.83L4 21.41c.39.39.9.59 1.41.59.51 0 1.02-.2 1.41-.59l7.78-7.78 2.81-2.81c.8-.78.8-2.07 0-2.86zM5.41 20L4 18.59l7.72-7.72 1.47 1.35L5.41 20z\"/>\n",
              "  </svg>\n",
              "      </button>\n",
              "      \n",
              "  <style>\n",
              "    .colab-df-container {\n",
              "      display:flex;\n",
              "      flex-wrap:wrap;\n",
              "      gap: 12px;\n",
              "    }\n",
              "\n",
              "    .colab-df-convert {\n",
              "      background-color: #E8F0FE;\n",
              "      border: none;\n",
              "      border-radius: 50%;\n",
              "      cursor: pointer;\n",
              "      display: none;\n",
              "      fill: #1967D2;\n",
              "      height: 32px;\n",
              "      padding: 0 0 0 0;\n",
              "      width: 32px;\n",
              "    }\n",
              "\n",
              "    .colab-df-convert:hover {\n",
              "      background-color: #E2EBFA;\n",
              "      box-shadow: 0px 1px 2px rgba(60, 64, 67, 0.3), 0px 1px 3px 1px rgba(60, 64, 67, 0.15);\n",
              "      fill: #174EA6;\n",
              "    }\n",
              "\n",
              "    [theme=dark] .colab-df-convert {\n",
              "      background-color: #3B4455;\n",
              "      fill: #D2E3FC;\n",
              "    }\n",
              "\n",
              "    [theme=dark] .colab-df-convert:hover {\n",
              "      background-color: #434B5C;\n",
              "      box-shadow: 0px 1px 3px 1px rgba(0, 0, 0, 0.15);\n",
              "      filter: drop-shadow(0px 1px 2px rgba(0, 0, 0, 0.3));\n",
              "      fill: #FFFFFF;\n",
              "    }\n",
              "  </style>\n",
              "\n",
              "      <script>\n",
              "        const buttonEl =\n",
              "          document.querySelector('#df-e1730dd6-067f-4945-9407-0d034c5e9c3d button.colab-df-convert');\n",
              "        buttonEl.style.display =\n",
              "          google.colab.kernel.accessAllowed ? 'block' : 'none';\n",
              "\n",
              "        async function convertToInteractive(key) {\n",
              "          const element = document.querySelector('#df-e1730dd6-067f-4945-9407-0d034c5e9c3d');\n",
              "          const dataTable =\n",
              "            await google.colab.kernel.invokeFunction('convertToInteractive',\n",
              "                                                     [key], {});\n",
              "          if (!dataTable) return;\n",
              "\n",
              "          const docLinkHtml = 'Like what you see? Visit the ' +\n",
              "            '<a target=\"_blank\" href=https://colab.research.google.com/notebooks/data_table.ipynb>data table notebook</a>'\n",
              "            + ' to learn more about interactive tables.';\n",
              "          element.innerHTML = '';\n",
              "          dataTable['output_type'] = 'display_data';\n",
              "          await google.colab.output.renderOutput(dataTable, element);\n",
              "          const docLink = document.createElement('div');\n",
              "          docLink.innerHTML = docLinkHtml;\n",
              "          element.appendChild(docLink);\n",
              "        }\n",
              "      </script>\n",
              "    </div>\n",
              "  </div>\n",
              "  "
            ]
          },
          "metadata": {},
          "execution_count": 697
        }
      ]
    },
    {
      "cell_type": "markdown",
      "source": [
        "#### Check for NAs"
      ],
      "metadata": {
        "id": "f2sAio8hoQsG"
      }
    },
    {
      "cell_type": "code",
      "source": [
        "df_col_mod_train_1.isna().sum()"
      ],
      "metadata": {
        "colab": {
          "base_uri": "https://localhost:8080/"
        },
        "id": "qVPxT75ZoTH1",
        "outputId": "3a37a35a-d360-424c-cd2b-2f54b9db50fb"
      },
      "execution_count": 698,
      "outputs": [
        {
          "output_type": "execute_result",
          "data": {
            "text/plain": [
              "year              0\n",
              "mo                0\n",
              "day               0\n",
              "temp              0\n",
              "visib             0\n",
              "num_collisions    0\n",
              "dtype: int64"
            ]
          },
          "metadata": {},
          "execution_count": 698
        }
      ]
    },
    {
      "cell_type": "markdown",
      "source": [
        "#### Overview of data"
      ],
      "metadata": {
        "id": "O-ktWXy_oki9"
      }
    },
    {
      "cell_type": "code",
      "source": [
        "df_col_mod_train_1.describe().transpose()"
      ],
      "metadata": {
        "colab": {
          "base_uri": "https://localhost:8080/",
          "height": 238
        },
        "id": "J9h_deoWomd3",
        "outputId": "a91458ff-b6f6-4ecd-82aa-b0813e5ff1de"
      },
      "execution_count": 699,
      "outputs": [
        {
          "output_type": "execute_result",
          "data": {
            "text/plain": [
              "                 count         mean        std     min       25%     50%  \\\n",
              "year            1766.0  2016.017554   2.019797  2013.0  2014.000  2016.0   \n",
              "mo              1766.0     6.505663   3.432674     1.0     4.000     7.0   \n",
              "day             1766.0     4.016421   1.996672     1.0     2.000     4.0   \n",
              "temp            1766.0    10.883126   7.838086   -12.6     4.700    11.2   \n",
              "visib           1766.0     8.307418   2.195294     0.2     7.025     9.4   \n",
              "num_collisions  1766.0   599.751416  95.446688   355.0   532.000   601.0   \n",
              "\n",
              "                    75%     max  \n",
              "year            2018.00  2019.0  \n",
              "mo                 9.00    12.0  \n",
              "day                6.00     7.0  \n",
              "temp              17.70    25.2  \n",
              "visib             10.00    10.0  \n",
              "num_collisions   665.75   845.0  "
            ],
            "text/html": [
              "\n",
              "  <div id=\"df-12b68def-08d8-4cd1-a49c-d2c397b0d09a\">\n",
              "    <div class=\"colab-df-container\">\n",
              "      <div>\n",
              "<style scoped>\n",
              "    .dataframe tbody tr th:only-of-type {\n",
              "        vertical-align: middle;\n",
              "    }\n",
              "\n",
              "    .dataframe tbody tr th {\n",
              "        vertical-align: top;\n",
              "    }\n",
              "\n",
              "    .dataframe thead th {\n",
              "        text-align: right;\n",
              "    }\n",
              "</style>\n",
              "<table border=\"1\" class=\"dataframe\">\n",
              "  <thead>\n",
              "    <tr style=\"text-align: right;\">\n",
              "      <th></th>\n",
              "      <th>count</th>\n",
              "      <th>mean</th>\n",
              "      <th>std</th>\n",
              "      <th>min</th>\n",
              "      <th>25%</th>\n",
              "      <th>50%</th>\n",
              "      <th>75%</th>\n",
              "      <th>max</th>\n",
              "    </tr>\n",
              "  </thead>\n",
              "  <tbody>\n",
              "    <tr>\n",
              "      <th>year</th>\n",
              "      <td>1766.0</td>\n",
              "      <td>2016.017554</td>\n",
              "      <td>2.019797</td>\n",
              "      <td>2013.0</td>\n",
              "      <td>2014.000</td>\n",
              "      <td>2016.0</td>\n",
              "      <td>2018.00</td>\n",
              "      <td>2019.0</td>\n",
              "    </tr>\n",
              "    <tr>\n",
              "      <th>mo</th>\n",
              "      <td>1766.0</td>\n",
              "      <td>6.505663</td>\n",
              "      <td>3.432674</td>\n",
              "      <td>1.0</td>\n",
              "      <td>4.000</td>\n",
              "      <td>7.0</td>\n",
              "      <td>9.00</td>\n",
              "      <td>12.0</td>\n",
              "    </tr>\n",
              "    <tr>\n",
              "      <th>day</th>\n",
              "      <td>1766.0</td>\n",
              "      <td>4.016421</td>\n",
              "      <td>1.996672</td>\n",
              "      <td>1.0</td>\n",
              "      <td>2.000</td>\n",
              "      <td>4.0</td>\n",
              "      <td>6.00</td>\n",
              "      <td>7.0</td>\n",
              "    </tr>\n",
              "    <tr>\n",
              "      <th>temp</th>\n",
              "      <td>1766.0</td>\n",
              "      <td>10.883126</td>\n",
              "      <td>7.838086</td>\n",
              "      <td>-12.6</td>\n",
              "      <td>4.700</td>\n",
              "      <td>11.2</td>\n",
              "      <td>17.70</td>\n",
              "      <td>25.2</td>\n",
              "    </tr>\n",
              "    <tr>\n",
              "      <th>visib</th>\n",
              "      <td>1766.0</td>\n",
              "      <td>8.307418</td>\n",
              "      <td>2.195294</td>\n",
              "      <td>0.2</td>\n",
              "      <td>7.025</td>\n",
              "      <td>9.4</td>\n",
              "      <td>10.00</td>\n",
              "      <td>10.0</td>\n",
              "    </tr>\n",
              "    <tr>\n",
              "      <th>num_collisions</th>\n",
              "      <td>1766.0</td>\n",
              "      <td>599.751416</td>\n",
              "      <td>95.446688</td>\n",
              "      <td>355.0</td>\n",
              "      <td>532.000</td>\n",
              "      <td>601.0</td>\n",
              "      <td>665.75</td>\n",
              "      <td>845.0</td>\n",
              "    </tr>\n",
              "  </tbody>\n",
              "</table>\n",
              "</div>\n",
              "      <button class=\"colab-df-convert\" onclick=\"convertToInteractive('df-12b68def-08d8-4cd1-a49c-d2c397b0d09a')\"\n",
              "              title=\"Convert this dataframe to an interactive table.\"\n",
              "              style=\"display:none;\">\n",
              "        \n",
              "  <svg xmlns=\"http://www.w3.org/2000/svg\" height=\"24px\"viewBox=\"0 0 24 24\"\n",
              "       width=\"24px\">\n",
              "    <path d=\"M0 0h24v24H0V0z\" fill=\"none\"/>\n",
              "    <path d=\"M18.56 5.44l.94 2.06.94-2.06 2.06-.94-2.06-.94-.94-2.06-.94 2.06-2.06.94zm-11 1L8.5 8.5l.94-2.06 2.06-.94-2.06-.94L8.5 2.5l-.94 2.06-2.06.94zm10 10l.94 2.06.94-2.06 2.06-.94-2.06-.94-.94-2.06-.94 2.06-2.06.94z\"/><path d=\"M17.41 7.96l-1.37-1.37c-.4-.4-.92-.59-1.43-.59-.52 0-1.04.2-1.43.59L10.3 9.45l-7.72 7.72c-.78.78-.78 2.05 0 2.83L4 21.41c.39.39.9.59 1.41.59.51 0 1.02-.2 1.41-.59l7.78-7.78 2.81-2.81c.8-.78.8-2.07 0-2.86zM5.41 20L4 18.59l7.72-7.72 1.47 1.35L5.41 20z\"/>\n",
              "  </svg>\n",
              "      </button>\n",
              "      \n",
              "  <style>\n",
              "    .colab-df-container {\n",
              "      display:flex;\n",
              "      flex-wrap:wrap;\n",
              "      gap: 12px;\n",
              "    }\n",
              "\n",
              "    .colab-df-convert {\n",
              "      background-color: #E8F0FE;\n",
              "      border: none;\n",
              "      border-radius: 50%;\n",
              "      cursor: pointer;\n",
              "      display: none;\n",
              "      fill: #1967D2;\n",
              "      height: 32px;\n",
              "      padding: 0 0 0 0;\n",
              "      width: 32px;\n",
              "    }\n",
              "\n",
              "    .colab-df-convert:hover {\n",
              "      background-color: #E2EBFA;\n",
              "      box-shadow: 0px 1px 2px rgba(60, 64, 67, 0.3), 0px 1px 3px 1px rgba(60, 64, 67, 0.15);\n",
              "      fill: #174EA6;\n",
              "    }\n",
              "\n",
              "    [theme=dark] .colab-df-convert {\n",
              "      background-color: #3B4455;\n",
              "      fill: #D2E3FC;\n",
              "    }\n",
              "\n",
              "    [theme=dark] .colab-df-convert:hover {\n",
              "      background-color: #434B5C;\n",
              "      box-shadow: 0px 1px 3px 1px rgba(0, 0, 0, 0.15);\n",
              "      filter: drop-shadow(0px 1px 2px rgba(0, 0, 0, 0.3));\n",
              "      fill: #FFFFFF;\n",
              "    }\n",
              "  </style>\n",
              "\n",
              "      <script>\n",
              "        const buttonEl =\n",
              "          document.querySelector('#df-12b68def-08d8-4cd1-a49c-d2c397b0d09a button.colab-df-convert');\n",
              "        buttonEl.style.display =\n",
              "          google.colab.kernel.accessAllowed ? 'block' : 'none';\n",
              "\n",
              "        async function convertToInteractive(key) {\n",
              "          const element = document.querySelector('#df-12b68def-08d8-4cd1-a49c-d2c397b0d09a');\n",
              "          const dataTable =\n",
              "            await google.colab.kernel.invokeFunction('convertToInteractive',\n",
              "                                                     [key], {});\n",
              "          if (!dataTable) return;\n",
              "\n",
              "          const docLinkHtml = 'Like what you see? Visit the ' +\n",
              "            '<a target=\"_blank\" href=https://colab.research.google.com/notebooks/data_table.ipynb>data table notebook</a>'\n",
              "            + ' to learn more about interactive tables.';\n",
              "          element.innerHTML = '';\n",
              "          dataTable['output_type'] = 'display_data';\n",
              "          await google.colab.output.renderOutput(dataTable, element);\n",
              "          const docLink = document.createElement('div');\n",
              "          docLink.innerHTML = docLinkHtml;\n",
              "          element.appendChild(docLink);\n",
              "        }\n",
              "      </script>\n",
              "    </div>\n",
              "  </div>\n",
              "  "
            ]
          },
          "metadata": {},
          "execution_count": 699
        }
      ]
    },
    {
      "cell_type": "markdown",
      "source": [
        "#### Separate Features and Labels"
      ],
      "metadata": {
        "id": "NL7CbkZXzkYu"
      }
    },
    {
      "cell_type": "code",
      "source": [
        "df_col_mod_train_1_feat = df_col_mod_train_1.copy()\n",
        "df_col_mod_test_1_feat = df_col_mod_test_1.copy()\n",
        "\n",
        "df_col_mod_train_1_lab = df_col_mod_train_1_feat.pop('num_collisions')\n",
        "df_col_mod_test_1_lab = df_col_mod_test_1_feat.pop('num_collisions')"
      ],
      "metadata": {
        "id": "86mf5g1BznAs"
      },
      "execution_count": 700,
      "outputs": []
    },
    {
      "cell_type": "markdown",
      "source": [
        "#### Create Model"
      ],
      "metadata": {
        "id": "C_MhOvuew5lK"
      }
    },
    {
      "cell_type": "markdown",
      "source": [
        "##### Create Normaliser Layer"
      ],
      "metadata": {
        "id": "T9m0_Df40jJ5"
      }
    },
    {
      "cell_type": "code",
      "source": [
        "normaliser = tf.keras.layers.Normalization(axis=-1)\n",
        "\n",
        "normaliser.adapt(np.array(df_col_mod_train_1_feat))\n",
        "\n",
        "print(normaliser.mean.numpy())"
      ],
      "metadata": {
        "colab": {
          "base_uri": "https://localhost:8080/"
        },
        "id": "hfA7avROxHrK",
        "outputId": "b89a759d-30b4-4bfc-aed4-1a90efc09b56"
      },
      "execution_count": 701,
      "outputs": [
        {
          "output_type": "stream",
          "name": "stdout",
          "text": [
            "[[2016.018    6.506    4.016   10.883    8.307]]\n"
          ]
        }
      ]
    },
    {
      "cell_type": "markdown",
      "source": [
        "##### Create Sequential Model"
      ],
      "metadata": {
        "id": "i5egLnww1YKf"
      }
    },
    {
      "cell_type": "code",
      "source": [
        "temp = np.array(df_col_mod_train_1_feat['temp'])\n",
        "\n",
        "temp_normaliser = layers.Normalization(input_shape=[1,], axis=None)\n",
        "temp_normaliser.adapt(temp)"
      ],
      "metadata": {
        "id": "qnycLHF71Z5_"
      },
      "execution_count": 702,
      "outputs": []
    },
    {
      "cell_type": "code",
      "source": [
        "temp_model = tf.keras.Sequential([\n",
        "    temp_normaliser,\n",
        "    layers.Dense(units=1)\n",
        "])\n",
        "\n",
        "temp_model.summary()"
      ],
      "metadata": {
        "colab": {
          "base_uri": "https://localhost:8080/"
        },
        "id": "wkSaRv_n1vBy",
        "outputId": "27673d40-130b-4a17-ace9-d4ad024c5e1b"
      },
      "execution_count": 703,
      "outputs": [
        {
          "output_type": "stream",
          "name": "stdout",
          "text": [
            "Model: \"sequential_45\"\n",
            "_________________________________________________________________\n",
            " Layer (type)                Output Shape              Param #   \n",
            "=================================================================\n",
            " normalization_91 (Normaliza  (None, 1)                3         \n",
            " tion)                                                           \n",
            "                                                                 \n",
            " dense_87 (Dense)            (None, 1)                 2         \n",
            "                                                                 \n",
            "=================================================================\n",
            "Total params: 5\n",
            "Trainable params: 2\n",
            "Non-trainable params: 3\n",
            "_________________________________________________________________\n"
          ]
        }
      ]
    },
    {
      "cell_type": "code",
      "source": [
        "temp_model.predict(temp)"
      ],
      "metadata": {
        "colab": {
          "base_uri": "https://localhost:8080/"
        },
        "id": "GfihKVhN2KxR",
        "outputId": "d231fe80-5d55-44a1-e3f0-ab3a9934fc92"
      },
      "execution_count": 704,
      "outputs": [
        {
          "output_type": "stream",
          "name": "stdout",
          "text": [
            "56/56 [==============================] - 0s 2ms/step\n"
          ]
        },
        {
          "output_type": "execute_result",
          "data": {
            "text/plain": [
              "array([[ 0.986],\n",
              "       [ 0.51 ],\n",
              "       [ 1.681],\n",
              "       ...,\n",
              "       [-1.413],\n",
              "       [-0.095],\n",
              "       [-1.779]], dtype=float32)"
            ]
          },
          "metadata": {},
          "execution_count": 704
        }
      ]
    },
    {
      "cell_type": "markdown",
      "source": [
        "##### Configure Training Procedure"
      ],
      "metadata": {
        "id": "ZkgGeZVt2voH"
      }
    },
    {
      "cell_type": "code",
      "source": [
        "temp_model.compile(\n",
        "    optimizer = tf.keras.optimizers.Adam(learning_rate=0.1),\n",
        "    loss='mean_absolute_error')"
      ],
      "metadata": {
        "id": "eN_y1rV02yaP"
      },
      "execution_count": 705,
      "outputs": []
    },
    {
      "cell_type": "markdown",
      "source": [
        "##### Create Callback"
      ],
      "metadata": {
        "id": "3-L8OWOr9cw9"
      }
    },
    {
      "cell_type": "code",
      "source": [
        "earlystopping = callbacks.EarlyStopping(monitor =\"val_loss\", \n",
        "                                        mode =\"min\", patience = 5, \n",
        "                                        restore_best_weights = True)"
      ],
      "metadata": {
        "id": "_OD9a9iV8DfU"
      },
      "execution_count": 706,
      "outputs": []
    },
    {
      "cell_type": "markdown",
      "source": [
        "##### Execute Model"
      ],
      "metadata": {
        "id": "ohL06xWg2_dH"
      }
    },
    {
      "cell_type": "code",
      "source": [
        "%%time\n",
        "history = temp_model.fit(\n",
        "    df_col_mod_train_1_feat['temp'],\n",
        "    df_col_mod_train_1_lab,\n",
        "    epochs=200,\n",
        "    # Suppress logging.\n",
        "    verbose=0,\n",
        "    # Calculate validation results on 20% of the training data.\n",
        "    validation_split = 0.2,\n",
        "    callbacks = [earlystopping])"
      ],
      "metadata": {
        "colab": {
          "base_uri": "https://localhost:8080/"
        },
        "id": "Bbazebeq3Bhb",
        "outputId": "e9a32764-f22d-4289-8ef5-4769b85aa6d0"
      },
      "execution_count": 707,
      "outputs": [
        {
          "output_type": "stream",
          "name": "stdout",
          "text": [
            "CPU times: user 18.5 s, sys: 1.11 s, total: 19.6 s\n",
            "Wall time: 18.1 s\n"
          ]
        }
      ]
    },
    {
      "cell_type": "markdown",
      "source": [
        "##### Plot Loss"
      ],
      "metadata": {
        "id": "LNMelNC29usj"
      }
    },
    {
      "cell_type": "code",
      "source": [
        "def plot_loss(history):\n",
        "  plt.plot(history.history['loss'], label='loss')\n",
        "  plt.plot(history.history['val_loss'], label='val_loss')\n",
        "  plt.ylim([0, 1000])\n",
        "  plt.xlabel('Epoch')\n",
        "  plt.ylabel('Error [num_collisions]')\n",
        "  plt.legend()\n",
        "  plt.grid(True)"
      ],
      "metadata": {
        "id": "_SXkmLPB3sOR"
      },
      "execution_count": 708,
      "outputs": []
    },
    {
      "cell_type": "code",
      "source": [
        "plot_loss(history)"
      ],
      "metadata": {
        "colab": {
          "base_uri": "https://localhost:8080/",
          "height": 283
        },
        "id": "UGFTqSfP3382",
        "outputId": "4e1eecd4-cb22-4ebd-9aef-1722df5043d7"
      },
      "execution_count": 709,
      "outputs": [
        {
          "output_type": "display_data",
          "data": {
            "text/plain": [
              "<Figure size 432x288 with 1 Axes>"
            ],
            "image/png": "[encoded data removed]"
          },
          "metadata": {
            "needs_background": "light"
          }
        }
      ]
    },
    {
      "cell_type": "markdown",
      "source": [
        "##### Collect Results"
      ],
      "metadata": {
        "id": "oX3vHejv7sMP"
      }
    },
    {
      "cell_type": "code",
      "source": [
        "test_results = {}\n",
        "\n",
        "test_results['temp_model'] = temp_model.evaluate(\n",
        "    df_col_mod_test_1_feat['temp'],\n",
        "    df_col_mod_test_1_lab, verbose=0)"
      ],
      "metadata": {
        "id": "cVzxn3fp7tnn"
      },
      "execution_count": 710,
      "outputs": []
    },
    {
      "cell_type": "code",
      "source": [
        "for model in test_results:\n",
        "  print(\"Key : {} , Value : {}\".format(model, test_results[model]))"
      ],
      "metadata": {
        "colab": {
          "base_uri": "https://localhost:8080/"
        },
        "id": "fX6w44FittxV",
        "outputId": "72a878e6-4f7b-4232-fde9-43bddf04d9f2"
      },
      "execution_count": 711,
      "outputs": [
        {
          "output_type": "stream",
          "name": "stdout",
          "text": [
            "Key : temp_model , Value : 73.28533172607422\n"
          ]
        }
      ]
    },
    {
      "cell_type": "markdown",
      "source": [
        "##### View Predictions"
      ],
      "metadata": {
        "id": "_f1F0QBf8CZE"
      }
    },
    {
      "cell_type": "markdown",
      "source": [
        "For the simple regression model we can plot the independent/dependent variable on a scatter chart to get an idea of how the model performed. "
      ],
      "metadata": {
        "id": "Q1wmILdNO5VC"
      }
    },
    {
      "cell_type": "code",
      "source": [
        "x = tf.linspace(0.0, 30, 31)\n",
        "y = temp_model.predict(x)"
      ],
      "metadata": {
        "colab": {
          "base_uri": "https://localhost:8080/"
        },
        "id": "poNsKKij8ExJ",
        "outputId": "4c59278e-3290-43ce-b996-d6c39c21bfae"
      },
      "execution_count": 712,
      "outputs": [
        {
          "output_type": "stream",
          "name": "stdout",
          "text": [
            "1/1 [==============================] - 0s 58ms/step\n"
          ]
        }
      ]
    },
    {
      "cell_type": "code",
      "source": [
        "def plot_temp(x, y):\n",
        "  plt.scatter(df_col_mod_train_1_feat['temp'], df_col_mod_train_1_lab, label='Data')\n",
        "  plt.plot(x, y, color='k', label='Predictions')\n",
        "  plt.xlabel('Temperature')\n",
        "  plt.ylabel('Num. Collisions')\n",
        "  plt.legend()"
      ],
      "metadata": {
        "id": "gDCmd-qJ8J_R"
      },
      "execution_count": 713,
      "outputs": []
    },
    {
      "cell_type": "code",
      "source": [
        "plot_temp(x, y)"
      ],
      "metadata": {
        "colab": {
          "base_uri": "https://localhost:8080/",
          "height": 279
        },
        "id": "OmsEeMmp8bAG",
        "outputId": "eb6186b6-fe47-4d63-e779-ca772521c737"
      },
      "execution_count": 714,
      "outputs": [
        {
          "output_type": "display_data",
          "data": {
            "text/plain": [
              "<Figure size 432x288 with 1 Axes>"
            ],
            "image/png": "[encoded data removed]"
          },
          "metadata": {
            "needs_background": "light"
          }
        }
      ]
    },
    {
      "cell_type": "markdown",
      "source": [
        "Temperature by itself is not a very good predictor for the number of collisions but we do see a general trend indicating an increase in collisions as temperature increases so the prediction line here is as expected."
      ],
      "metadata": {
        "id": "pyxaXUYyPJGE"
      }
    },
    {
      "cell_type": "markdown",
      "source": [
        "### Without One-Hot Encoding"
      ],
      "metadata": {
        "id": "den5vruFBHnx"
      }
    },
    {
      "cell_type": "markdown",
      "source": [
        "For the first multiple linear regression model we can use the same dataset as the simple model just with all of the variables included."
      ],
      "metadata": {
        "id": "YbkWjv18ak8a"
      }
    },
    {
      "cell_type": "markdown",
      "source": [
        "Predictors:\n",
        "\n",
        "* Year\n",
        "* Month\n",
        "* Day of Week\n",
        "* Temperature\n",
        "* Visibility\n",
        "\n"
      ],
      "metadata": {
        "id": "OqpbGl4lESaR"
      }
    },
    {
      "cell_type": "markdown",
      "source": [
        "#### Create Model"
      ],
      "metadata": {
        "id": "VEwUh0_dY4RS"
      }
    },
    {
      "cell_type": "markdown",
      "source": [
        "##### Normaliser Layer"
      ],
      "metadata": {
        "id": "PdcJixE0DfFw"
      }
    },
    {
      "cell_type": "code",
      "source": [
        "col_mod_1_normaliser = tf.keras.layers.Normalization(axis=-1)\n",
        "\n",
        "normaliser.adapt(np.array(df_col_mod_train_1_feat))\n",
        "\n",
        "print(normaliser.mean.numpy())"
      ],
      "metadata": {
        "colab": {
          "base_uri": "https://localhost:8080/"
        },
        "id": "8Mak3BqyCJ6c",
        "outputId": "1ba6ecdc-fe20-4e42-cf6f-a49b540d6e60"
      },
      "execution_count": 715,
      "outputs": [
        {
          "output_type": "stream",
          "name": "stdout",
          "text": [
            "[[2016.018    6.506    4.016   10.883    8.307]]\n"
          ]
        }
      ]
    },
    {
      "cell_type": "markdown",
      "source": [
        "##### Create Sequential Model"
      ],
      "metadata": {
        "id": "FhR462nHDct7"
      }
    },
    {
      "cell_type": "code",
      "source": [
        "col_mod_1 = np.array(df_col_mod_train_1_feat)\n",
        "\n",
        "col_mod_1_normaliser = layers.Normalization(axis=-1)\n",
        "col_mod_1_normaliser.adapt(np.array(df_col_mod_train_1_feat))"
      ],
      "metadata": {
        "id": "u6FmJvkODePE"
      },
      "execution_count": 716,
      "outputs": []
    },
    {
      "cell_type": "code",
      "source": [
        "col_mod_1_model = tf.keras.Sequential([\n",
        "    col_mod_1_normaliser,\n",
        "    layers.Dense(units=1)\n",
        "])\n",
        "\n",
        "col_mod_1_model.summary()"
      ],
      "metadata": {
        "colab": {
          "base_uri": "https://localhost:8080/"
        },
        "id": "A_Mw9RMfMgSI",
        "outputId": "8f68d8f9-bd9b-4f2d-d719-e1f685a552b7"
      },
      "execution_count": 717,
      "outputs": [
        {
          "output_type": "stream",
          "name": "stdout",
          "text": [
            "Model: \"sequential_46\"\n",
            "_________________________________________________________________\n",
            " Layer (type)                Output Shape              Param #   \n",
            "=================================================================\n",
            " normalization_93 (Normaliza  (None, 5)                11        \n",
            " tion)                                                           \n",
            "                                                                 \n",
            " dense_88 (Dense)            (None, 1)                 6         \n",
            "                                                                 \n",
            "=================================================================\n",
            "Total params: 17\n",
            "Trainable params: 6\n",
            "Non-trainable params: 11\n",
            "_________________________________________________________________\n"
          ]
        }
      ]
    },
    {
      "cell_type": "code",
      "source": [
        "col_mod_1_model.predict(col_mod_1)"
      ],
      "metadata": {
        "colab": {
          "base_uri": "https://localhost:8080/"
        },
        "id": "vZOq9sA4NSTb",
        "outputId": "8dedbc6e-362b-4dec-d599-22c98f0d7721"
      },
      "execution_count": 718,
      "outputs": [
        {
          "output_type": "stream",
          "name": "stdout",
          "text": [
            "56/56 [==============================] - 0s 1ms/step\n"
          ]
        },
        {
          "output_type": "execute_result",
          "data": {
            "text/plain": [
              "array([[-0.065],\n",
              "       [-0.967],\n",
              "       [ 0.437],\n",
              "       ...,\n",
              "       [-0.19 ],\n",
              "       [-0.585],\n",
              "       [-0.986]], dtype=float32)"
            ]
          },
          "metadata": {},
          "execution_count": 718
        }
      ]
    },
    {
      "cell_type": "code",
      "source": [
        "col_mod_1_model.layers[1].kernel"
      ],
      "metadata": {
        "colab": {
          "base_uri": "https://localhost:8080/"
        },
        "id": "p2cmOCcRZjv7",
        "outputId": "7b34824d-311b-4cb1-d9f1-25d4e156257c"
      },
      "execution_count": 719,
      "outputs": [
        {
          "output_type": "execute_result",
          "data": {
            "text/plain": [
              "<tf.Variable 'dense_88/kernel:0' shape=(5, 1) dtype=float32, numpy=\n",
              "array([[ 0.503],\n",
              "       [-0.006],\n",
              "       [ 0.087],\n",
              "       [-0.457],\n",
              "       [-0.648]], dtype=float32)>"
            ]
          },
          "metadata": {},
          "execution_count": 719
        }
      ]
    },
    {
      "cell_type": "markdown",
      "source": [
        "##### Configure Training Procedure"
      ],
      "metadata": {
        "id": "rnEjx4vl-M3-"
      }
    },
    {
      "cell_type": "code",
      "source": [
        "col_mod_1_model.compile(\n",
        "    optimizer = tf.keras.optimizers.Adam(learning_rate=0.1),\n",
        "    loss='mean_absolute_error')"
      ],
      "metadata": {
        "id": "xk6CffwsXOLl"
      },
      "execution_count": 720,
      "outputs": []
    },
    {
      "cell_type": "markdown",
      "source": [
        "##### Create Callback"
      ],
      "metadata": {
        "id": "R0P93vit-Pmv"
      }
    },
    {
      "cell_type": "code",
      "source": [
        "earlystopping = callbacks.EarlyStopping(monitor =\"val_loss\", \n",
        "                                        mode =\"min\", patience = 5, \n",
        "                                        restore_best_weights = True)"
      ],
      "metadata": {
        "id": "UVIyhctz-RRi"
      },
      "execution_count": 721,
      "outputs": []
    },
    {
      "cell_type": "markdown",
      "source": [
        "##### Execute Model"
      ],
      "metadata": {
        "id": "e1UAhtp_-zfU"
      }
    },
    {
      "cell_type": "code",
      "source": [
        "%%time\n",
        "history = col_mod_1_model.fit(\n",
        "    df_col_mod_train_1_feat,\n",
        "    df_col_mod_train_1_lab,\n",
        "    epochs=200,\n",
        "    # Suppress logging.\n",
        "    verbose=0,\n",
        "    # Calculate validation results on 20% of the training data.\n",
        "    validation_split = 0.2,\n",
        "    callbacks = [earlystopping])"
      ],
      "metadata": {
        "colab": {
          "base_uri": "https://localhost:8080/"
        },
        "id": "aqYO5uudXV_6",
        "outputId": "0462e3b8-66fe-4f98-a6b9-ed9cf218f3ae"
      },
      "execution_count": 722,
      "outputs": [
        {
          "output_type": "stream",
          "name": "stdout",
          "text": [
            "CPU times: user 16.1 s, sys: 931 ms, total: 17 s\n",
            "Wall time: 20.9 s\n"
          ]
        }
      ]
    },
    {
      "cell_type": "markdown",
      "source": [
        "##### Plot Loss"
      ],
      "metadata": {
        "id": "MW1hAQuV-eWP"
      }
    },
    {
      "cell_type": "code",
      "source": [
        "plot_loss(history)"
      ],
      "metadata": {
        "colab": {
          "base_uri": "https://localhost:8080/",
          "height": 283
        },
        "id": "0RhIiZ1EZ_2Z",
        "outputId": "3711cb4d-36b1-4457-c9e5-1353d20ffb63"
      },
      "execution_count": 723,
      "outputs": [
        {
          "output_type": "display_data",
          "data": {
            "text/plain": [
              "<Figure size 432x288 with 1 Axes>"
            ],
            "image/png": "[encoded data removed]"
          },
          "metadata": {
            "needs_background": "light"
          }
        }
      ]
    },
    {
      "cell_type": "markdown",
      "source": [
        "##### Collect Results"
      ],
      "metadata": {
        "id": "uircwmoq-gpY"
      }
    },
    {
      "cell_type": "code",
      "source": [
        "test_results['col_mod_1'] = col_mod_1_model.evaluate(\n",
        "    df_col_mod_test_1_feat,\n",
        "    df_col_mod_test_1_lab, verbose=0)"
      ],
      "metadata": {
        "id": "Pp5hGYazbH8U"
      },
      "execution_count": 724,
      "outputs": []
    },
    {
      "cell_type": "code",
      "source": [
        "for model in test_results:\n",
        "  print(\"Key : {} , Value : {}\".format(model, test_results[model]))"
      ],
      "metadata": {
        "colab": {
          "base_uri": "https://localhost:8080/"
        },
        "id": "vkcKSYMVbXig",
        "outputId": "6cf88b70-65e7-4e0b-96cc-1bd548095168"
      },
      "execution_count": 725,
      "outputs": [
        {
          "output_type": "stream",
          "name": "stdout",
          "text": [
            "Key : temp_model , Value : 73.28533172607422\n",
            "Key : col_mod_1 , Value : 66.53189086914062\n"
          ]
        }
      ]
    },
    {
      "cell_type": "markdown",
      "source": [
        "### With One-Hot Encoding"
      ],
      "metadata": {
        "id": "XZVba4eu9ugk"
      }
    },
    {
      "cell_type": "markdown",
      "source": [
        "#### Read Data"
      ],
      "metadata": {
        "id": "kmjLc1Op90Pe"
      }
    },
    {
      "cell_type": "markdown",
      "source": [
        "##### Training Data"
      ],
      "metadata": {
        "id": "5PqHZ6S592TQ"
      }
    },
    {
      "cell_type": "code",
      "source": [
        "url = \"https://raw.githubusercontent.com/AaronM44/DAOTW-Assignment-1/main/outputs/col_mod_2_train.csv\"\n",
        "\n",
        "raw_col_mod_train_2 = pd.read_csv(url)\n",
        "\n",
        "df_col_mod_train_2 = raw_col_mod_train_2.copy()\n",
        "\n",
        "df_col_mod_train_2 = df_col_mod_train_2.drop(df_col_mod_train_2.columns[[0, 1]], axis=1)\n",
        "\n",
        "df_col_mod_train_2.head()"
      ],
      "metadata": {
        "colab": {
          "base_uri": "https://localhost:8080/",
          "height": 236
        },
        "id": "9eXAjXxU94FX",
        "outputId": "1631aa34-b795-43fa-ba70-a08dd00580db"
      },
      "execution_count": 726,
      "outputs": [
        {
          "output_type": "execute_result",
          "data": {
            "text/plain": [
              "   year  jan  feb  mar  apr  may  jun  jul  aug  sep  ...  mon  tue  wed  thu  \\\n",
              "0  2017    0    0    0    1    0    0    0    0    0  ...    0    0    0    1   \n",
              "1  2017    0    0    0    0    0    0    0    0    0  ...    0    0    0    0   \n",
              "2  2014    0    0    0    0    0    0    0    0    0  ...    0    0    0    0   \n",
              "3  2018    0    0    0    0    0    0    0    0    0  ...    0    0    0    0   \n",
              "4  2016    0    0    0    0    1    0    0    0    0  ...    0    0    0    0   \n",
              "\n",
              "   fri  sat  sun  temp  visib  num_collisions  \n",
              "0    0    0    0   8.2    5.7             551  \n",
              "1    1    0    0  -6.1    4.9             462  \n",
              "2    0    0    1  11.2    6.5             666  \n",
              "3    1    0    0  18.0    8.0             529  \n",
              "4    0    0    1  15.2   10.0             652  \n",
              "\n",
              "[5 rows x 23 columns]"
            ],
            "text/html": [
              "\n",
              "  <div id=\"df-1eeded3f-2ccc-4fe0-b578-4d520a16b50d\">\n",
              "    <div class=\"colab-df-container\">\n",
              "      <div>\n",
              "<style scoped>\n",
              "    .dataframe tbody tr th:only-of-type {\n",
              "        vertical-align: middle;\n",
              "    }\n",
              "\n",
              "    .dataframe tbody tr th {\n",
              "        vertical-align: top;\n",
              "    }\n",
              "\n",
              "    .dataframe thead th {\n",
              "        text-align: right;\n",
              "    }\n",
              "</style>\n",
              "<table border=\"1\" class=\"dataframe\">\n",
              "  <thead>\n",
              "    <tr style=\"text-align: right;\">\n",
              "      <th></th>\n",
              "      <th>year</th>\n",
              "      <th>jan</th>\n",
              "      <th>feb</th>\n",
              "      <th>mar</th>\n",
              "      <th>apr</th>\n",
              "      <th>may</th>\n",
              "      <th>jun</th>\n",
              "      <th>jul</th>\n",
              "      <th>aug</th>\n",
              "      <th>sep</th>\n",
              "      <th>...</th>\n",
              "      <th>mon</th>\n",
              "      <th>tue</th>\n",
              "      <th>wed</th>\n",
              "      <th>thu</th>\n",
              "      <th>fri</th>\n",
              "      <th>sat</th>\n",
              "      <th>sun</th>\n",
              "      <th>temp</th>\n",
              "      <th>visib</th>\n",
              "      <th>num_collisions</th>\n",
              "    </tr>\n",
              "  </thead>\n",
              "  <tbody>\n",
              "    <tr>\n",
              "      <th>0</th>\n",
              "      <td>2017</td>\n",
              "      <td>0</td>\n",
              "      <td>0</td>\n",
              "      <td>0</td>\n",
              "      <td>1</td>\n",
              "      <td>0</td>\n",
              "      <td>0</td>\n",
              "      <td>0</td>\n",
              "      <td>0</td>\n",
              "      <td>0</td>\n",
              "      <td>...</td>\n",
              "      <td>0</td>\n",
              "      <td>0</td>\n",
              "      <td>0</td>\n",
              "      <td>1</td>\n",
              "      <td>0</td>\n",
              "      <td>0</td>\n",
              "      <td>0</td>\n",
              "      <td>8.2</td>\n",
              "      <td>5.7</td>\n",
              "      <td>551</td>\n",
              "    </tr>\n",
              "    <tr>\n",
              "      <th>1</th>\n",
              "      <td>2017</td>\n",
              "      <td>0</td>\n",
              "      <td>0</td>\n",
              "      <td>0</td>\n",
              "      <td>0</td>\n",
              "      <td>0</td>\n",
              "      <td>0</td>\n",
              "      <td>0</td>\n",
              "      <td>0</td>\n",
              "      <td>0</td>\n",
              "      <td>...</td>\n",
              "      <td>0</td>\n",
              "      <td>0</td>\n",
              "      <td>0</td>\n",
              "      <td>0</td>\n",
              "      <td>1</td>\n",
              "      <td>0</td>\n",
              "      <td>0</td>\n",
              "      <td>-6.1</td>\n",
              "      <td>4.9</td>\n",
              "      <td>462</td>\n",
              "    </tr>\n",
              "    <tr>\n",
              "      <th>2</th>\n",
              "      <td>2014</td>\n",
              "      <td>0</td>\n",
              "      <td>0</td>\n",
              "      <td>0</td>\n",
              "      <td>0</td>\n",
              "      <td>0</td>\n",
              "      <td>0</td>\n",
              "      <td>0</td>\n",
              "      <td>0</td>\n",
              "      <td>0</td>\n",
              "      <td>...</td>\n",
              "      <td>0</td>\n",
              "      <td>0</td>\n",
              "      <td>0</td>\n",
              "      <td>0</td>\n",
              "      <td>0</td>\n",
              "      <td>0</td>\n",
              "      <td>1</td>\n",
              "      <td>11.2</td>\n",
              "      <td>6.5</td>\n",
              "      <td>666</td>\n",
              "    </tr>\n",
              "    <tr>\n",
              "      <th>3</th>\n",
              "      <td>2018</td>\n",
              "      <td>0</td>\n",
              "      <td>0</td>\n",
              "      <td>0</td>\n",
              "      <td>0</td>\n",
              "      <td>0</td>\n",
              "      <td>0</td>\n",
              "      <td>0</td>\n",
              "      <td>0</td>\n",
              "      <td>0</td>\n",
              "      <td>...</td>\n",
              "      <td>0</td>\n",
              "      <td>0</td>\n",
              "      <td>0</td>\n",
              "      <td>0</td>\n",
              "      <td>1</td>\n",
              "      <td>0</td>\n",
              "      <td>0</td>\n",
              "      <td>18.0</td>\n",
              "      <td>8.0</td>\n",
              "      <td>529</td>\n",
              "    </tr>\n",
              "    <tr>\n",
              "      <th>4</th>\n",
              "      <td>2016</td>\n",
              "      <td>0</td>\n",
              "      <td>0</td>\n",
              "      <td>0</td>\n",
              "      <td>0</td>\n",
              "      <td>1</td>\n",
              "      <td>0</td>\n",
              "      <td>0</td>\n",
              "      <td>0</td>\n",
              "      <td>0</td>\n",
              "      <td>...</td>\n",
              "      <td>0</td>\n",
              "      <td>0</td>\n",
              "      <td>0</td>\n",
              "      <td>0</td>\n",
              "      <td>0</td>\n",
              "      <td>0</td>\n",
              "      <td>1</td>\n",
              "      <td>15.2</td>\n",
              "      <td>10.0</td>\n",
              "      <td>652</td>\n",
              "    </tr>\n",
              "  </tbody>\n",
              "</table>\n",
              "<p>5 rows × 23 columns</p>\n",
              "</div>\n",
              "      <button class=\"colab-df-convert\" onclick=\"convertToInteractive('df-1eeded3f-2ccc-4fe0-b578-4d520a16b50d')\"\n",
              "              title=\"Convert this dataframe to an interactive table.\"\n",
              "              style=\"display:none;\">\n",
              "        \n",
              "  <svg xmlns=\"http://www.w3.org/2000/svg\" height=\"24px\"viewBox=\"0 0 24 24\"\n",
              "       width=\"24px\">\n",
              "    <path d=\"M0 0h24v24H0V0z\" fill=\"none\"/>\n",
              "    <path d=\"M18.56 5.44l.94 2.06.94-2.06 2.06-.94-2.06-.94-.94-2.06-.94 2.06-2.06.94zm-11 1L8.5 8.5l.94-2.06 2.06-.94-2.06-.94L8.5 2.5l-.94 2.06-2.06.94zm10 10l.94 2.06.94-2.06 2.06-.94-2.06-.94-.94-2.06-.94 2.06-2.06.94z\"/><path d=\"M17.41 7.96l-1.37-1.37c-.4-.4-.92-.59-1.43-.59-.52 0-1.04.2-1.43.59L10.3 9.45l-7.72 7.72c-.78.78-.78 2.05 0 2.83L4 21.41c.39.39.9.59 1.41.59.51 0 1.02-.2 1.41-.59l7.78-7.78 2.81-2.81c.8-.78.8-2.07 0-2.86zM5.41 20L4 18.59l7.72-7.72 1.47 1.35L5.41 20z\"/>\n",
              "  </svg>\n",
              "      </button>\n",
              "      \n",
              "  <style>\n",
              "    .colab-df-container {\n",
              "      display:flex;\n",
              "      flex-wrap:wrap;\n",
              "      gap: 12px;\n",
              "    }\n",
              "\n",
              "    .colab-df-convert {\n",
              "      background-color: #E8F0FE;\n",
              "      border: none;\n",
              "      border-radius: 50%;\n",
              "      cursor: pointer;\n",
              "      display: none;\n",
              "      fill: #1967D2;\n",
              "      height: 32px;\n",
              "      padding: 0 0 0 0;\n",
              "      width: 32px;\n",
              "    }\n",
              "\n",
              "    .colab-df-convert:hover {\n",
              "      background-color: #E2EBFA;\n",
              "      box-shadow: 0px 1px 2px rgba(60, 64, 67, 0.3), 0px 1px 3px 1px rgba(60, 64, 67, 0.15);\n",
              "      fill: #174EA6;\n",
              "    }\n",
              "\n",
              "    [theme=dark] .colab-df-convert {\n",
              "      background-color: #3B4455;\n",
              "      fill: #D2E3FC;\n",
              "    }\n",
              "\n",
              "    [theme=dark] .colab-df-convert:hover {\n",
              "      background-color: #434B5C;\n",
              "      box-shadow: 0px 1px 3px 1px rgba(0, 0, 0, 0.15);\n",
              "      filter: drop-shadow(0px 1px 2px rgba(0, 0, 0, 0.3));\n",
              "      fill: #FFFFFF;\n",
              "    }\n",
              "  </style>\n",
              "\n",
              "      <script>\n",
              "        const buttonEl =\n",
              "          document.querySelector('#df-1eeded3f-2ccc-4fe0-b578-4d520a16b50d button.colab-df-convert');\n",
              "        buttonEl.style.display =\n",
              "          google.colab.kernel.accessAllowed ? 'block' : 'none';\n",
              "\n",
              "        async function convertToInteractive(key) {\n",
              "          const element = document.querySelector('#df-1eeded3f-2ccc-4fe0-b578-4d520a16b50d');\n",
              "          const dataTable =\n",
              "            await google.colab.kernel.invokeFunction('convertToInteractive',\n",
              "                                                     [key], {});\n",
              "          if (!dataTable) return;\n",
              "\n",
              "          const docLinkHtml = 'Like what you see? Visit the ' +\n",
              "            '<a target=\"_blank\" href=https://colab.research.google.com/notebooks/data_table.ipynb>data table notebook</a>'\n",
              "            + ' to learn more about interactive tables.';\n",
              "          element.innerHTML = '';\n",
              "          dataTable['output_type'] = 'display_data';\n",
              "          await google.colab.output.renderOutput(dataTable, element);\n",
              "          const docLink = document.createElement('div');\n",
              "          docLink.innerHTML = docLinkHtml;\n",
              "          element.appendChild(docLink);\n",
              "        }\n",
              "      </script>\n",
              "    </div>\n",
              "  </div>\n",
              "  "
            ]
          },
          "metadata": {},
          "execution_count": 726
        }
      ]
    },
    {
      "cell_type": "markdown",
      "source": [
        "##### Test Data"
      ],
      "metadata": {
        "id": "M3RavYJi-Klt"
      }
    },
    {
      "cell_type": "code",
      "source": [
        "url = \"https://raw.githubusercontent.com/AaronM44/DAOTW-Assignment-1/main/outputs/col_mod_2_test.csv\"\n",
        "\n",
        "raw_col_mod_test_2 = pd.read_csv(url)\n",
        "\n",
        "df_col_mod_test_2 = raw_col_mod_test_2.copy()\n",
        "\n",
        "df_col_mod_test_2 = df_col_mod_test_2.drop(df_col_mod_test_2.columns[[0, 1]], axis=1)\n",
        "\n",
        "df_col_mod_test_2.head()"
      ],
      "metadata": {
        "colab": {
          "base_uri": "https://localhost:8080/",
          "height": 236
        },
        "id": "Q6Pdix5u-OEG",
        "outputId": "f6594b92-a7aa-4d94-e60f-fd8ae83b3569"
      },
      "execution_count": 727,
      "outputs": [
        {
          "output_type": "execute_result",
          "data": {
            "text/plain": [
              "   year  jan  feb  mar  apr  may  jun  jul  aug  sep  ...  mon  tue  wed  thu  \\\n",
              "0  2013    1    0    0    0    0    0    0    0    0  ...    1    0    0    0   \n",
              "1  2013    1    0    0    0    0    0    0    0    0  ...    0    0    1    0   \n",
              "2  2013    1    0    0    0    0    0    0    0    0  ...    0    0    0    0   \n",
              "3  2013    1    0    0    0    0    0    0    0    0  ...    0    0    1    0   \n",
              "4  2013    1    0    0    0    0    0    0    0    0  ...    0    0    0    1   \n",
              "\n",
              "   fri  sat  sun  temp  visib  num_collisions  \n",
              "0    0    0    0  -2.5   10.0             480  \n",
              "1    0    0    0   0.1   10.0             505  \n",
              "2    0    0    1   2.2    8.8             521  \n",
              "3    0    0    0   3.3   10.0             660  \n",
              "4    0    0    0   5.9    7.1             475  \n",
              "\n",
              "[5 rows x 23 columns]"
            ],
            "text/html": [
              "\n",
              "  <div id=\"df-cbb0abf9-852b-44cc-ba30-e04dbaf61d8f\">\n",
              "    <div class=\"colab-df-container\">\n",
              "      <div>\n",
              "<style scoped>\n",
              "    .dataframe tbody tr th:only-of-type {\n",
              "        vertical-align: middle;\n",
              "    }\n",
              "\n",
              "    .dataframe tbody tr th {\n",
              "        vertical-align: top;\n",
              "    }\n",
              "\n",
              "    .dataframe thead th {\n",
              "        text-align: right;\n",
              "    }\n",
              "</style>\n",
              "<table border=\"1\" class=\"dataframe\">\n",
              "  <thead>\n",
              "    <tr style=\"text-align: right;\">\n",
              "      <th></th>\n",
              "      <th>year</th>\n",
              "      <th>jan</th>\n",
              "      <th>feb</th>\n",
              "      <th>mar</th>\n",
              "      <th>apr</th>\n",
              "      <th>may</th>\n",
              "      <th>jun</th>\n",
              "      <th>jul</th>\n",
              "      <th>aug</th>\n",
              "      <th>sep</th>\n",
              "      <th>...</th>\n",
              "      <th>mon</th>\n",
              "      <th>tue</th>\n",
              "      <th>wed</th>\n",
              "      <th>thu</th>\n",
              "      <th>fri</th>\n",
              "      <th>sat</th>\n",
              "      <th>sun</th>\n",
              "      <th>temp</th>\n",
              "      <th>visib</th>\n",
              "      <th>num_collisions</th>\n",
              "    </tr>\n",
              "  </thead>\n",
              "  <tbody>\n",
              "    <tr>\n",
              "      <th>0</th>\n",
              "      <td>2013</td>\n",
              "      <td>1</td>\n",
              "      <td>0</td>\n",
              "      <td>0</td>\n",
              "      <td>0</td>\n",
              "      <td>0</td>\n",
              "      <td>0</td>\n",
              "      <td>0</td>\n",
              "      <td>0</td>\n",
              "      <td>0</td>\n",
              "      <td>...</td>\n",
              "      <td>1</td>\n",
              "      <td>0</td>\n",
              "      <td>0</td>\n",
              "      <td>0</td>\n",
              "      <td>0</td>\n",
              "      <td>0</td>\n",
              "      <td>0</td>\n",
              "      <td>-2.5</td>\n",
              "      <td>10.0</td>\n",
              "      <td>480</td>\n",
              "    </tr>\n",
              "    <tr>\n",
              "      <th>1</th>\n",
              "      <td>2013</td>\n",
              "      <td>1</td>\n",
              "      <td>0</td>\n",
              "      <td>0</td>\n",
              "      <td>0</td>\n",
              "      <td>0</td>\n",
              "      <td>0</td>\n",
              "      <td>0</td>\n",
              "      <td>0</td>\n",
              "      <td>0</td>\n",
              "      <td>...</td>\n",
              "      <td>0</td>\n",
              "      <td>0</td>\n",
              "      <td>1</td>\n",
              "      <td>0</td>\n",
              "      <td>0</td>\n",
              "      <td>0</td>\n",
              "      <td>0</td>\n",
              "      <td>0.1</td>\n",
              "      <td>10.0</td>\n",
              "      <td>505</td>\n",
              "    </tr>\n",
              "    <tr>\n",
              "      <th>2</th>\n",
              "      <td>2013</td>\n",
              "      <td>1</td>\n",
              "      <td>0</td>\n",
              "      <td>0</td>\n",
              "      <td>0</td>\n",
              "      <td>0</td>\n",
              "      <td>0</td>\n",
              "      <td>0</td>\n",
              "      <td>0</td>\n",
              "      <td>0</td>\n",
              "      <td>...</td>\n",
              "      <td>0</td>\n",
              "      <td>0</td>\n",
              "      <td>0</td>\n",
              "      <td>0</td>\n",
              "      <td>0</td>\n",
              "      <td>0</td>\n",
              "      <td>1</td>\n",
              "      <td>2.2</td>\n",
              "      <td>8.8</td>\n",
              "      <td>521</td>\n",
              "    </tr>\n",
              "    <tr>\n",
              "      <th>3</th>\n",
              "      <td>2013</td>\n",
              "      <td>1</td>\n",
              "      <td>0</td>\n",
              "      <td>0</td>\n",
              "      <td>0</td>\n",
              "      <td>0</td>\n",
              "      <td>0</td>\n",
              "      <td>0</td>\n",
              "      <td>0</td>\n",
              "      <td>0</td>\n",
              "      <td>...</td>\n",
              "      <td>0</td>\n",
              "      <td>0</td>\n",
              "      <td>1</td>\n",
              "      <td>0</td>\n",
              "      <td>0</td>\n",
              "      <td>0</td>\n",
              "      <td>0</td>\n",
              "      <td>3.3</td>\n",
              "      <td>10.0</td>\n",
              "      <td>660</td>\n",
              "    </tr>\n",
              "    <tr>\n",
              "      <th>4</th>\n",
              "      <td>2013</td>\n",
              "      <td>1</td>\n",
              "      <td>0</td>\n",
              "      <td>0</td>\n",
              "      <td>0</td>\n",
              "      <td>0</td>\n",
              "      <td>0</td>\n",
              "      <td>0</td>\n",
              "      <td>0</td>\n",
              "      <td>0</td>\n",
              "      <td>...</td>\n",
              "      <td>0</td>\n",
              "      <td>0</td>\n",
              "      <td>0</td>\n",
              "      <td>1</td>\n",
              "      <td>0</td>\n",
              "      <td>0</td>\n",
              "      <td>0</td>\n",
              "      <td>5.9</td>\n",
              "      <td>7.1</td>\n",
              "      <td>475</td>\n",
              "    </tr>\n",
              "  </tbody>\n",
              "</table>\n",
              "<p>5 rows × 23 columns</p>\n",
              "</div>\n",
              "      <button class=\"colab-df-convert\" onclick=\"convertToInteractive('df-cbb0abf9-852b-44cc-ba30-e04dbaf61d8f')\"\n",
              "              title=\"Convert this dataframe to an interactive table.\"\n",
              "              style=\"display:none;\">\n",
              "        \n",
              "  <svg xmlns=\"http://www.w3.org/2000/svg\" height=\"24px\"viewBox=\"0 0 24 24\"\n",
              "       width=\"24px\">\n",
              "    <path d=\"M0 0h24v24H0V0z\" fill=\"none\"/>\n",
              "    <path d=\"M18.56 5.44l.94 2.06.94-2.06 2.06-.94-2.06-.94-.94-2.06-.94 2.06-2.06.94zm-11 1L8.5 8.5l.94-2.06 2.06-.94-2.06-.94L8.5 2.5l-.94 2.06-2.06.94zm10 10l.94 2.06.94-2.06 2.06-.94-2.06-.94-.94-2.06-.94 2.06-2.06.94z\"/><path d=\"M17.41 7.96l-1.37-1.37c-.4-.4-.92-.59-1.43-.59-.52 0-1.04.2-1.43.59L10.3 9.45l-7.72 7.72c-.78.78-.78 2.05 0 2.83L4 21.41c.39.39.9.59 1.41.59.51 0 1.02-.2 1.41-.59l7.78-7.78 2.81-2.81c.8-.78.8-2.07 0-2.86zM5.41 20L4 18.59l7.72-7.72 1.47 1.35L5.41 20z\"/>\n",
              "  </svg>\n",
              "      </button>\n",
              "      \n",
              "  <style>\n",
              "    .colab-df-container {\n",
              "      display:flex;\n",
              "      flex-wrap:wrap;\n",
              "      gap: 12px;\n",
              "    }\n",
              "\n",
              "    .colab-df-convert {\n",
              "      background-color: #E8F0FE;\n",
              "      border: none;\n",
              "      border-radius: 50%;\n",
              "      cursor: pointer;\n",
              "      display: none;\n",
              "      fill: #1967D2;\n",
              "      height: 32px;\n",
              "      padding: 0 0 0 0;\n",
              "      width: 32px;\n",
              "    }\n",
              "\n",
              "    .colab-df-convert:hover {\n",
              "      background-color: #E2EBFA;\n",
              "      box-shadow: 0px 1px 2px rgba(60, 64, 67, 0.3), 0px 1px 3px 1px rgba(60, 64, 67, 0.15);\n",
              "      fill: #174EA6;\n",
              "    }\n",
              "\n",
              "    [theme=dark] .colab-df-convert {\n",
              "      background-color: #3B4455;\n",
              "      fill: #D2E3FC;\n",
              "    }\n",
              "\n",
              "    [theme=dark] .colab-df-convert:hover {\n",
              "      background-color: #434B5C;\n",
              "      box-shadow: 0px 1px 3px 1px rgba(0, 0, 0, 0.15);\n",
              "      filter: drop-shadow(0px 1px 2px rgba(0, 0, 0, 0.3));\n",
              "      fill: #FFFFFF;\n",
              "    }\n",
              "  </style>\n",
              "\n",
              "      <script>\n",
              "        const buttonEl =\n",
              "          document.querySelector('#df-cbb0abf9-852b-44cc-ba30-e04dbaf61d8f button.colab-df-convert');\n",
              "        buttonEl.style.display =\n",
              "          google.colab.kernel.accessAllowed ? 'block' : 'none';\n",
              "\n",
              "        async function convertToInteractive(key) {\n",
              "          const element = document.querySelector('#df-cbb0abf9-852b-44cc-ba30-e04dbaf61d8f');\n",
              "          const dataTable =\n",
              "            await google.colab.kernel.invokeFunction('convertToInteractive',\n",
              "                                                     [key], {});\n",
              "          if (!dataTable) return;\n",
              "\n",
              "          const docLinkHtml = 'Like what you see? Visit the ' +\n",
              "            '<a target=\"_blank\" href=https://colab.research.google.com/notebooks/data_table.ipynb>data table notebook</a>'\n",
              "            + ' to learn more about interactive tables.';\n",
              "          element.innerHTML = '';\n",
              "          dataTable['output_type'] = 'display_data';\n",
              "          await google.colab.output.renderOutput(dataTable, element);\n",
              "          const docLink = document.createElement('div');\n",
              "          docLink.innerHTML = docLinkHtml;\n",
              "          element.appendChild(docLink);\n",
              "        }\n",
              "      </script>\n",
              "    </div>\n",
              "  </div>\n",
              "  "
            ]
          },
          "metadata": {},
          "execution_count": 727
        }
      ]
    },
    {
      "cell_type": "markdown",
      "source": [
        "#### Check for NAs"
      ],
      "metadata": {
        "id": "QgQQF8RG-oFc"
      }
    },
    {
      "cell_type": "code",
      "source": [
        "df_col_mod_train_2.isna().sum()"
      ],
      "metadata": {
        "colab": {
          "base_uri": "https://localhost:8080/"
        },
        "id": "yv79Rue7-qof",
        "outputId": "e84c8472-c795-4614-eb1a-40d5321f3c21"
      },
      "execution_count": 728,
      "outputs": [
        {
          "output_type": "execute_result",
          "data": {
            "text/plain": [
              "year              0\n",
              "jan               0\n",
              "feb               0\n",
              "mar               0\n",
              "apr               0\n",
              "may               0\n",
              "jun               0\n",
              "jul               0\n",
              "aug               0\n",
              "sep               0\n",
              "oct               0\n",
              "nov               0\n",
              "dec               0\n",
              "mon               0\n",
              "tue               0\n",
              "wed               0\n",
              "thu               0\n",
              "fri               0\n",
              "sat               0\n",
              "sun               0\n",
              "temp              0\n",
              "visib             0\n",
              "num_collisions    0\n",
              "dtype: int64"
            ]
          },
          "metadata": {},
          "execution_count": 728
        }
      ]
    },
    {
      "cell_type": "markdown",
      "source": [
        "#### Overview of Data"
      ],
      "metadata": {
        "id": "j8xVKo1x-yoa"
      }
    },
    {
      "cell_type": "code",
      "source": [
        "df_col_mod_train_2.describe().transpose()"
      ],
      "metadata": {
        "colab": {
          "base_uri": "https://localhost:8080/",
          "height": 771
        },
        "id": "1fdJTwU5-1I1",
        "outputId": "8b49dbd0-62c9-4711-a970-231be4cc24ac"
      },
      "execution_count": 729,
      "outputs": [
        {
          "output_type": "execute_result",
          "data": {
            "text/plain": [
              "                 count         mean        std     min      25%     50%  \\\n",
              "year            1766.0  2016.032843   2.003410  2013.0  2014.00  2016.0   \n",
              "jan             1766.0     0.082673   0.275465     0.0     0.00     0.0   \n",
              "feb             1766.0     0.080974   0.272872     0.0     0.00     0.0   \n",
              "mar             1766.0     0.082673   0.275465     0.0     0.00     0.0   \n",
              "apr             1766.0     0.087769   0.283039     0.0     0.00     0.0   \n",
              "may             1766.0     0.086636   0.281381     0.0     0.00     0.0   \n",
              "jun             1766.0     0.083805   0.277174     0.0     0.00     0.0   \n",
              "jul             1766.0     0.087203   0.282212     0.0     0.00     0.0   \n",
              "aug             1766.0     0.087769   0.283039     0.0     0.00     0.0   \n",
              "sep             1766.0     0.077576   0.267580     0.0     0.00     0.0   \n",
              "oct             1766.0     0.090034   0.286312     0.0     0.00     0.0   \n",
              "nov             1766.0     0.077576   0.267580     0.0     0.00     0.0   \n",
              "dec             1766.0     0.075311   0.263968     0.0     0.00     0.0   \n",
              "mon             1766.0     0.143262   0.350439     0.0     0.00     0.0   \n",
              "tue             1766.0     0.142695   0.349861     0.0     0.00     0.0   \n",
              "wed             1766.0     0.143262   0.350439     0.0     0.00     0.0   \n",
              "thu             1766.0     0.145527   0.352731     0.0     0.00     0.0   \n",
              "fri             1766.0     0.142129   0.349281     0.0     0.00     0.0   \n",
              "sat             1766.0     0.146093   0.353299     0.0     0.00     0.0   \n",
              "sun             1766.0     0.137033   0.343979     0.0     0.00     0.0   \n",
              "temp            1766.0    10.913703   7.820080   -12.5     4.80    11.2   \n",
              "visib           1766.0     8.303737   2.239192     0.2     7.10     9.4   \n",
              "num_collisions  1766.0   598.446206  94.435482   355.0   532.25   602.0   \n",
              "\n",
              "                   75%     max  \n",
              "year            2018.0  2019.0  \n",
              "jan                0.0     1.0  \n",
              "feb                0.0     1.0  \n",
              "mar                0.0     1.0  \n",
              "apr                0.0     1.0  \n",
              "may                0.0     1.0  \n",
              "jun                0.0     1.0  \n",
              "jul                0.0     1.0  \n",
              "aug                0.0     1.0  \n",
              "sep                0.0     1.0  \n",
              "oct                0.0     1.0  \n",
              "nov                0.0     1.0  \n",
              "dec                0.0     1.0  \n",
              "mon                0.0     1.0  \n",
              "tue                0.0     1.0  \n",
              "wed                0.0     1.0  \n",
              "thu                0.0     1.0  \n",
              "fri                0.0     1.0  \n",
              "sat                0.0     1.0  \n",
              "sun                0.0     1.0  \n",
              "temp              17.8    25.3  \n",
              "visib             10.0    10.0  \n",
              "num_collisions   666.0   845.0  "
            ],
            "text/html": [
              "\n",
              "  <div id=\"df-989ec961-7a5c-4edb-9560-069b62a44198\">\n",
              "    <div class=\"colab-df-container\">\n",
              "      <div>\n",
              "<style scoped>\n",
              "    .dataframe tbody tr th:only-of-type {\n",
              "        vertical-align: middle;\n",
              "    }\n",
              "\n",
              "    .dataframe tbody tr th {\n",
              "        vertical-align: top;\n",
              "    }\n",
              "\n",
              "    .dataframe thead th {\n",
              "        text-align: right;\n",
              "    }\n",
              "</style>\n",
              "<table border=\"1\" class=\"dataframe\">\n",
              "  <thead>\n",
              "    <tr style=\"text-align: right;\">\n",
              "      <th></th>\n",
              "      <th>count</th>\n",
              "      <th>mean</th>\n",
              "      <th>std</th>\n",
              "      <th>min</th>\n",
              "      <th>25%</th>\n",
              "      <th>50%</th>\n",
              "      <th>75%</th>\n",
              "      <th>max</th>\n",
              "    </tr>\n",
              "  </thead>\n",
              "  <tbody>\n",
              "    <tr>\n",
              "      <th>year</th>\n",
              "      <td>1766.0</td>\n",
              "      <td>2016.032843</td>\n",
              "      <td>2.003410</td>\n",
              "      <td>2013.0</td>\n",
              "      <td>2014.00</td>\n",
              "      <td>2016.0</td>\n",
              "      <td>2018.0</td>\n",
              "      <td>2019.0</td>\n",
              "    </tr>\n",
              "    <tr>\n",
              "      <th>jan</th>\n",
              "      <td>1766.0</td>\n",
              "      <td>0.082673</td>\n",
              "      <td>0.275465</td>\n",
              "      <td>0.0</td>\n",
              "      <td>0.00</td>\n",
              "      <td>0.0</td>\n",
              "      <td>0.0</td>\n",
              "      <td>1.0</td>\n",
              "    </tr>\n",
              "    <tr>\n",
              "      <th>feb</th>\n",
              "      <td>1766.0</td>\n",
              "      <td>0.080974</td>\n",
              "      <td>0.272872</td>\n",
              "      <td>0.0</td>\n",
              "      <td>0.00</td>\n",
              "      <td>0.0</td>\n",
              "      <td>0.0</td>\n",
              "      <td>1.0</td>\n",
              "    </tr>\n",
              "    <tr>\n",
              "      <th>mar</th>\n",
              "      <td>1766.0</td>\n",
              "      <td>0.082673</td>\n",
              "      <td>0.275465</td>\n",
              "      <td>0.0</td>\n",
              "      <td>0.00</td>\n",
              "      <td>0.0</td>\n",
              "      <td>0.0</td>\n",
              "      <td>1.0</td>\n",
              "    </tr>\n",
              "    <tr>\n",
              "      <th>apr</th>\n",
              "      <td>1766.0</td>\n",
              "      <td>0.087769</td>\n",
              "      <td>0.283039</td>\n",
              "      <td>0.0</td>\n",
              "      <td>0.00</td>\n",
              "      <td>0.0</td>\n",
              "      <td>0.0</td>\n",
              "      <td>1.0</td>\n",
              "    </tr>\n",
              "    <tr>\n",
              "      <th>may</th>\n",
              "      <td>1766.0</td>\n",
              "      <td>0.086636</td>\n",
              "      <td>0.281381</td>\n",
              "      <td>0.0</td>\n",
              "      <td>0.00</td>\n",
              "      <td>0.0</td>\n",
              "      <td>0.0</td>\n",
              "      <td>1.0</td>\n",
              "    </tr>\n",
              "    <tr>\n",
              "      <th>jun</th>\n",
              "      <td>1766.0</td>\n",
              "      <td>0.083805</td>\n",
              "      <td>0.277174</td>\n",
              "      <td>0.0</td>\n",
              "      <td>0.00</td>\n",
              "      <td>0.0</td>\n",
              "      <td>0.0</td>\n",
              "      <td>1.0</td>\n",
              "    </tr>\n",
              "    <tr>\n",
              "      <th>jul</th>\n",
              "      <td>1766.0</td>\n",
              "      <td>0.087203</td>\n",
              "      <td>0.282212</td>\n",
              "      <td>0.0</td>\n",
              "      <td>0.00</td>\n",
              "      <td>0.0</td>\n",
              "      <td>0.0</td>\n",
              "      <td>1.0</td>\n",
              "    </tr>\n",
              "    <tr>\n",
              "      <th>aug</th>\n",
              "      <td>1766.0</td>\n",
              "      <td>0.087769</td>\n",
              "      <td>0.283039</td>\n",
              "      <td>0.0</td>\n",
              "      <td>0.00</td>\n",
              "      <td>0.0</td>\n",
              "      <td>0.0</td>\n",
              "      <td>1.0</td>\n",
              "    </tr>\n",
              "    <tr>\n",
              "      <th>sep</th>\n",
              "      <td>1766.0</td>\n",
              "      <td>0.077576</td>\n",
              "      <td>0.267580</td>\n",
              "      <td>0.0</td>\n",
              "      <td>0.00</td>\n",
              "      <td>0.0</td>\n",
              "      <td>0.0</td>\n",
              "      <td>1.0</td>\n",
              "    </tr>\n",
              "    <tr>\n",
              "      <th>oct</th>\n",
              "      <td>1766.0</td>\n",
              "      <td>0.090034</td>\n",
              "      <td>0.286312</td>\n",
              "      <td>0.0</td>\n",
              "      <td>0.00</td>\n",
              "      <td>0.0</td>\n",
              "      <td>0.0</td>\n",
              "      <td>1.0</td>\n",
              "    </tr>\n",
              "    <tr>\n",
              "      <th>nov</th>\n",
              "      <td>1766.0</td>\n",
              "      <td>0.077576</td>\n",
              "      <td>0.267580</td>\n",
              "      <td>0.0</td>\n",
              "      <td>0.00</td>\n",
              "      <td>0.0</td>\n",
              "      <td>0.0</td>\n",
              "      <td>1.0</td>\n",
              "    </tr>\n",
              "    <tr>\n",
              "      <th>dec</th>\n",
              "      <td>1766.0</td>\n",
              "      <td>0.075311</td>\n",
              "      <td>0.263968</td>\n",
              "      <td>0.0</td>\n",
              "      <td>0.00</td>\n",
              "      <td>0.0</td>\n",
              "      <td>0.0</td>\n",
              "      <td>1.0</td>\n",
              "    </tr>\n",
              "    <tr>\n",
              "      <th>mon</th>\n",
              "      <td>1766.0</td>\n",
              "      <td>0.143262</td>\n",
              "      <td>0.350439</td>\n",
              "      <td>0.0</td>\n",
              "      <td>0.00</td>\n",
              "      <td>0.0</td>\n",
              "      <td>0.0</td>\n",
              "      <td>1.0</td>\n",
              "    </tr>\n",
              "    <tr>\n",
              "      <th>tue</th>\n",
              "      <td>1766.0</td>\n",
              "      <td>0.142695</td>\n",
              "      <td>0.349861</td>\n",
              "      <td>0.0</td>\n",
              "      <td>0.00</td>\n",
              "      <td>0.0</td>\n",
              "      <td>0.0</td>\n",
              "      <td>1.0</td>\n",
              "    </tr>\n",
              "    <tr>\n",
              "      <th>wed</th>\n",
              "      <td>1766.0</td>\n",
              "      <td>0.143262</td>\n",
              "      <td>0.350439</td>\n",
              "      <td>0.0</td>\n",
              "      <td>0.00</td>\n",
              "      <td>0.0</td>\n",
              "      <td>0.0</td>\n",
              "      <td>1.0</td>\n",
              "    </tr>\n",
              "    <tr>\n",
              "      <th>thu</th>\n",
              "      <td>1766.0</td>\n",
              "      <td>0.145527</td>\n",
              "      <td>0.352731</td>\n",
              "      <td>0.0</td>\n",
              "      <td>0.00</td>\n",
              "      <td>0.0</td>\n",
              "      <td>0.0</td>\n",
              "      <td>1.0</td>\n",
              "    </tr>\n",
              "    <tr>\n",
              "      <th>fri</th>\n",
              "      <td>1766.0</td>\n",
              "      <td>0.142129</td>\n",
              "      <td>0.349281</td>\n",
              "      <td>0.0</td>\n",
              "      <td>0.00</td>\n",
              "      <td>0.0</td>\n",
              "      <td>0.0</td>\n",
              "      <td>1.0</td>\n",
              "    </tr>\n",
              "    <tr>\n",
              "      <th>sat</th>\n",
              "      <td>1766.0</td>\n",
              "      <td>0.146093</td>\n",
              "      <td>0.353299</td>\n",
              "      <td>0.0</td>\n",
              "      <td>0.00</td>\n",
              "      <td>0.0</td>\n",
              "      <td>0.0</td>\n",
              "      <td>1.0</td>\n",
              "    </tr>\n",
              "    <tr>\n",
              "      <th>sun</th>\n",
              "      <td>1766.0</td>\n",
              "      <td>0.137033</td>\n",
              "      <td>0.343979</td>\n",
              "      <td>0.0</td>\n",
              "      <td>0.00</td>\n",
              "      <td>0.0</td>\n",
              "      <td>0.0</td>\n",
              "      <td>1.0</td>\n",
              "    </tr>\n",
              "    <tr>\n",
              "      <th>temp</th>\n",
              "      <td>1766.0</td>\n",
              "      <td>10.913703</td>\n",
              "      <td>7.820080</td>\n",
              "      <td>-12.5</td>\n",
              "      <td>4.80</td>\n",
              "      <td>11.2</td>\n",
              "      <td>17.8</td>\n",
              "      <td>25.3</td>\n",
              "    </tr>\n",
              "    <tr>\n",
              "      <th>visib</th>\n",
              "      <td>1766.0</td>\n",
              "      <td>8.303737</td>\n",
              "      <td>2.239192</td>\n",
              "      <td>0.2</td>\n",
              "      <td>7.10</td>\n",
              "      <td>9.4</td>\n",
              "      <td>10.0</td>\n",
              "      <td>10.0</td>\n",
              "    </tr>\n",
              "    <tr>\n",
              "      <th>num_collisions</th>\n",
              "      <td>1766.0</td>\n",
              "      <td>598.446206</td>\n",
              "      <td>94.435482</td>\n",
              "      <td>355.0</td>\n",
              "      <td>532.25</td>\n",
              "      <td>602.0</td>\n",
              "      <td>666.0</td>\n",
              "      <td>845.0</td>\n",
              "    </tr>\n",
              "  </tbody>\n",
              "</table>\n",
              "</div>\n",
              "      <button class=\"colab-df-convert\" onclick=\"convertToInteractive('df-989ec961-7a5c-4edb-9560-069b62a44198')\"\n",
              "              title=\"Convert this dataframe to an interactive table.\"\n",
              "              style=\"display:none;\">\n",
              "        \n",
              "  <svg xmlns=\"http://www.w3.org/2000/svg\" height=\"24px\"viewBox=\"0 0 24 24\"\n",
              "       width=\"24px\">\n",
              "    <path d=\"M0 0h24v24H0V0z\" fill=\"none\"/>\n",
              "    <path d=\"M18.56 5.44l.94 2.06.94-2.06 2.06-.94-2.06-.94-.94-2.06-.94 2.06-2.06.94zm-11 1L8.5 8.5l.94-2.06 2.06-.94-2.06-.94L8.5 2.5l-.94 2.06-2.06.94zm10 10l.94 2.06.94-2.06 2.06-.94-2.06-.94-.94-2.06-.94 2.06-2.06.94z\"/><path d=\"M17.41 7.96l-1.37-1.37c-.4-.4-.92-.59-1.43-.59-.52 0-1.04.2-1.43.59L10.3 9.45l-7.72 7.72c-.78.78-.78 2.05 0 2.83L4 21.41c.39.39.9.59 1.41.59.51 0 1.02-.2 1.41-.59l7.78-7.78 2.81-2.81c.8-.78.8-2.07 0-2.86zM5.41 20L4 18.59l7.72-7.72 1.47 1.35L5.41 20z\"/>\n",
              "  </svg>\n",
              "      </button>\n",
              "      \n",
              "  <style>\n",
              "    .colab-df-container {\n",
              "      display:flex;\n",
              "      flex-wrap:wrap;\n",
              "      gap: 12px;\n",
              "    }\n",
              "\n",
              "    .colab-df-convert {\n",
              "      background-color: #E8F0FE;\n",
              "      border: none;\n",
              "      border-radius: 50%;\n",
              "      cursor: pointer;\n",
              "      display: none;\n",
              "      fill: #1967D2;\n",
              "      height: 32px;\n",
              "      padding: 0 0 0 0;\n",
              "      width: 32px;\n",
              "    }\n",
              "\n",
              "    .colab-df-convert:hover {\n",
              "      background-color: #E2EBFA;\n",
              "      box-shadow: 0px 1px 2px rgba(60, 64, 67, 0.3), 0px 1px 3px 1px rgba(60, 64, 67, 0.15);\n",
              "      fill: #174EA6;\n",
              "    }\n",
              "\n",
              "    [theme=dark] .colab-df-convert {\n",
              "      background-color: #3B4455;\n",
              "      fill: #D2E3FC;\n",
              "    }\n",
              "\n",
              "    [theme=dark] .colab-df-convert:hover {\n",
              "      background-color: #434B5C;\n",
              "      box-shadow: 0px 1px 3px 1px rgba(0, 0, 0, 0.15);\n",
              "      filter: drop-shadow(0px 1px 2px rgba(0, 0, 0, 0.3));\n",
              "      fill: #FFFFFF;\n",
              "    }\n",
              "  </style>\n",
              "\n",
              "      <script>\n",
              "        const buttonEl =\n",
              "          document.querySelector('#df-989ec961-7a5c-4edb-9560-069b62a44198 button.colab-df-convert');\n",
              "        buttonEl.style.display =\n",
              "          google.colab.kernel.accessAllowed ? 'block' : 'none';\n",
              "\n",
              "        async function convertToInteractive(key) {\n",
              "          const element = document.querySelector('#df-989ec961-7a5c-4edb-9560-069b62a44198');\n",
              "          const dataTable =\n",
              "            await google.colab.kernel.invokeFunction('convertToInteractive',\n",
              "                                                     [key], {});\n",
              "          if (!dataTable) return;\n",
              "\n",
              "          const docLinkHtml = 'Like what you see? Visit the ' +\n",
              "            '<a target=\"_blank\" href=https://colab.research.google.com/notebooks/data_table.ipynb>data table notebook</a>'\n",
              "            + ' to learn more about interactive tables.';\n",
              "          element.innerHTML = '';\n",
              "          dataTable['output_type'] = 'display_data';\n",
              "          await google.colab.output.renderOutput(dataTable, element);\n",
              "          const docLink = document.createElement('div');\n",
              "          docLink.innerHTML = docLinkHtml;\n",
              "          element.appendChild(docLink);\n",
              "        }\n",
              "      </script>\n",
              "    </div>\n",
              "  </div>\n",
              "  "
            ]
          },
          "metadata": {},
          "execution_count": 729
        }
      ]
    },
    {
      "cell_type": "markdown",
      "source": [
        "#### Separate Features and Labels"
      ],
      "metadata": {
        "id": "gGu1zcSF-_80"
      }
    },
    {
      "cell_type": "code",
      "source": [
        "df_col_mod_train_2_feat = df_col_mod_train_2.copy()\n",
        "df_col_mod_test_2_feat = df_col_mod_test_2.copy()\n",
        "\n",
        "df_col_mod_train_2_lab = df_col_mod_train_2_feat.pop('num_collisions')\n",
        "df_col_mod_test_2_lab = df_col_mod_test_2_feat.pop('num_collisions')"
      ],
      "metadata": {
        "id": "TzD5cnvT_D3x"
      },
      "execution_count": 730,
      "outputs": []
    },
    {
      "cell_type": "markdown",
      "source": [
        "#### Model"
      ],
      "metadata": {
        "id": "Gwt_hZIp_Yoc"
      }
    },
    {
      "cell_type": "markdown",
      "source": [
        "##### Normaliser Layer"
      ],
      "metadata": {
        "id": "Zfz78HhI_aXZ"
      }
    },
    {
      "cell_type": "code",
      "source": [
        "normaliser = tf.keras.layers.Normalization(axis=-1)\n",
        "\n",
        "normaliser.adapt(np.array(df_col_mod_train_2_feat))\n",
        "\n",
        "print(normaliser.mean.numpy())"
      ],
      "metadata": {
        "colab": {
          "base_uri": "https://localhost:8080/"
        },
        "id": "-yftaTKz_d8R",
        "outputId": "bdbc0a6b-badf-4856-b5c5-3d20b7b4df83"
      },
      "execution_count": 731,
      "outputs": [
        {
          "output_type": "stream",
          "name": "stdout",
          "text": [
            "[[2016.033    0.083    0.081    0.083    0.088    0.087    0.084    0.087\n",
            "     0.088    0.078    0.09     0.078    0.075    0.143    0.143    0.143\n",
            "     0.146    0.142    0.146    0.137   10.914    8.304]]\n"
          ]
        }
      ]
    },
    {
      "cell_type": "markdown",
      "source": [
        "##### Create Sequential Model"
      ],
      "metadata": {
        "id": "G7n0b_wRAHSF"
      }
    },
    {
      "cell_type": "code",
      "source": [
        "col_mod_2 = np.array(df_col_mod_train_2_feat)\n",
        "\n",
        "col_mod_2_normaliser = layers.Normalization(axis=-1)\n",
        "col_mod_2_normaliser.adapt(np.array(df_col_mod_train_2_feat))"
      ],
      "metadata": {
        "id": "_dW0gG_9AI3Y"
      },
      "execution_count": 732,
      "outputs": []
    },
    {
      "cell_type": "code",
      "source": [
        "col_mod_2_model = tf.keras.Sequential([\n",
        "    col_mod_2_normaliser,\n",
        "    layers.Dense(units=1)\n",
        "])\n",
        "\n",
        "col_mod_2_model.summary()"
      ],
      "metadata": {
        "colab": {
          "base_uri": "https://localhost:8080/"
        },
        "id": "QL1EywyMAcIL",
        "outputId": "a1ff8e86-4e4d-4348-ff67-d4962761c81a"
      },
      "execution_count": 733,
      "outputs": [
        {
          "output_type": "stream",
          "name": "stdout",
          "text": [
            "Model: \"sequential_47\"\n",
            "_________________________________________________________________\n",
            " Layer (type)                Output Shape              Param #   \n",
            "=================================================================\n",
            " normalization_95 (Normaliza  (None, 22)               45        \n",
            " tion)                                                           \n",
            "                                                                 \n",
            " dense_89 (Dense)            (None, 1)                 23        \n",
            "                                                                 \n",
            "=================================================================\n",
            "Total params: 68\n",
            "Trainable params: 23\n",
            "Non-trainable params: 45\n",
            "_________________________________________________________________\n"
          ]
        }
      ]
    },
    {
      "cell_type": "code",
      "source": [
        "col_mod_2_model.predict(col_mod_2)"
      ],
      "metadata": {
        "colab": {
          "base_uri": "https://localhost:8080/"
        },
        "id": "id1FLlNIAjz3",
        "outputId": "ad31134f-79df-42d8-ca3d-7a65e77a13b0"
      },
      "execution_count": 734,
      "outputs": [
        {
          "output_type": "stream",
          "name": "stdout",
          "text": [
            "56/56 [==============================] - 0s 2ms/step\n"
          ]
        },
        {
          "output_type": "execute_result",
          "data": {
            "text/plain": [
              "array([[ 0.433],\n",
              "       [-1.88 ],\n",
              "       [ 0.806],\n",
              "       ...,\n",
              "       [-2.305],\n",
              "       [-0.294],\n",
              "       [-3.181]], dtype=float32)"
            ]
          },
          "metadata": {},
          "execution_count": 734
        }
      ]
    },
    {
      "cell_type": "code",
      "source": [
        "col_mod_2_model.layers[1].kernel"
      ],
      "metadata": {
        "colab": {
          "base_uri": "https://localhost:8080/"
        },
        "id": "OcP9BUsLA6eZ",
        "outputId": "ac2b07d0-6e32-451b-f7aa-726d3a2f8a6f"
      },
      "execution_count": 735,
      "outputs": [
        {
          "output_type": "execute_result",
          "data": {
            "text/plain": [
              "<tf.Variable 'dense_89/kernel:0' shape=(22, 1) dtype=float32, numpy=\n",
              "array([[-0.22 ],\n",
              "       [ 0.109],\n",
              "       [-0.466],\n",
              "       [ 0.36 ],\n",
              "       [-0.043],\n",
              "       [ 0.508],\n",
              "       [-0.495],\n",
              "       [ 0.063],\n",
              "       [-0.107],\n",
              "       [ 0.432],\n",
              "       [ 0.322],\n",
              "       [-0.133],\n",
              "       [-0.447],\n",
              "       [-0.424],\n",
              "       [ 0.371],\n",
              "       [-0.466],\n",
              "       [ 0.359],\n",
              "       [ 0.148],\n",
              "       [-0.328],\n",
              "       [ 0.453],\n",
              "       [ 0.059],\n",
              "       [ 0.192]], dtype=float32)>"
            ]
          },
          "metadata": {},
          "execution_count": 735
        }
      ]
    },
    {
      "cell_type": "markdown",
      "source": [
        "##### Configure Training Procedure"
      ],
      "metadata": {
        "id": "2R5bMk5M-qyj"
      }
    },
    {
      "cell_type": "code",
      "source": [
        "col_mod_2_model.compile(\n",
        "    optimizer = tf.keras.optimizers.Adam(learning_rate=0.1),\n",
        "    loss='mean_absolute_error')"
      ],
      "metadata": {
        "id": "aI_L2n4eBDVV"
      },
      "execution_count": 736,
      "outputs": []
    },
    {
      "cell_type": "markdown",
      "source": [
        "##### Create Callback"
      ],
      "metadata": {
        "id": "zYjAok_z-7qe"
      }
    },
    {
      "cell_type": "code",
      "source": [
        "earlystopping = callbacks.EarlyStopping(monitor =\"val_loss\", \n",
        "                                        mode =\"min\", patience = 5, \n",
        "                                        restore_best_weights = True)"
      ],
      "metadata": {
        "id": "Fs7OEuSM-9X3"
      },
      "execution_count": 737,
      "outputs": []
    },
    {
      "cell_type": "markdown",
      "source": [
        "##### Execute Model"
      ],
      "metadata": {
        "id": "FBNI-mrX-365"
      }
    },
    {
      "cell_type": "code",
      "source": [
        "%%time\n",
        "history = col_mod_2_model.fit(\n",
        "    df_col_mod_train_2_feat,\n",
        "    df_col_mod_train_2_lab,\n",
        "    epochs=200,\n",
        "    # Suppress logging.\n",
        "    verbose=0,\n",
        "    # Calculate validation results on 20% of the training data.\n",
        "    validation_split = 0.2,\n",
        "    callbacks = [earlystopping])"
      ],
      "metadata": {
        "colab": {
          "base_uri": "https://localhost:8080/"
        },
        "id": "y5O3OaHqBeJq",
        "outputId": "7a78193d-38b0-4608-874f-c29f09bce583"
      },
      "execution_count": 738,
      "outputs": [
        {
          "output_type": "stream",
          "name": "stdout",
          "text": [
            "CPU times: user 16.5 s, sys: 1.03 s, total: 17.6 s\n",
            "Wall time: 20.9 s\n"
          ]
        }
      ]
    },
    {
      "cell_type": "markdown",
      "source": [
        "##### Plot Loss"
      ],
      "metadata": {
        "id": "xQozVx2o_E0N"
      }
    },
    {
      "cell_type": "code",
      "source": [
        "plot_loss(history)"
      ],
      "metadata": {
        "colab": {
          "base_uri": "https://localhost:8080/",
          "height": 283
        },
        "id": "fB7DeBaFCjLo",
        "outputId": "0105e75f-ca97-4b92-b0ca-2275bfe886ab"
      },
      "execution_count": 739,
      "outputs": [
        {
          "output_type": "display_data",
          "data": {
            "text/plain": [
              "<Figure size 432x288 with 1 Axes>"
            ],
            "image/png": "[encoded data removed]"
          },
          "metadata": {
            "needs_background": "light"
          }
        }
      ]
    },
    {
      "cell_type": "markdown",
      "source": [
        "##### Collect Results"
      ],
      "metadata": {
        "id": "elUwj0Vl_Hic"
      }
    },
    {
      "cell_type": "code",
      "source": [
        "test_results['col_mod_2'] = col_mod_2_model.evaluate(\n",
        "    df_col_mod_test_2_feat,\n",
        "    df_col_mod_test_2_lab, verbose=0)"
      ],
      "metadata": {
        "id": "xhzlJGnUC0ng"
      },
      "execution_count": 740,
      "outputs": []
    },
    {
      "cell_type": "code",
      "source": [
        "for model in test_results:\n",
        "  print(\"Key : {} , Value : {}\".format(model, test_results[model]))"
      ],
      "metadata": {
        "colab": {
          "base_uri": "https://localhost:8080/"
        },
        "id": "WcD2pW7aDJQL",
        "outputId": "43bcbed9-16f3-41b5-f7dc-2521a6de4b9c"
      },
      "execution_count": 741,
      "outputs": [
        {
          "output_type": "stream",
          "name": "stdout",
          "text": [
            "Key : temp_model , Value : 73.28533172607422\n",
            "Key : col_mod_1 , Value : 66.53189086914062\n",
            "Key : col_mod_2 , Value : 53.8358154296875\n"
          ]
        }
      ]
    },
    {
      "cell_type": "markdown",
      "source": [
        "## Deep Neural Networks"
      ],
      "metadata": {
        "id": "o-yeqm4VBLKP"
      }
    },
    {
      "cell_type": "markdown",
      "source": [
        "Each of the deep neural networks had been one-hot encoded so the only differences here are the inputs."
      ],
      "metadata": {
        "id": "MbkUwIXfE0dN"
      }
    },
    {
      "cell_type": "markdown",
      "source": [
        "### Build and Compile Function"
      ],
      "metadata": {
        "id": "6t7lkksBFQ9F"
      }
    },
    {
      "cell_type": "markdown",
      "source": [
        "A function was created to build and compile the model as each of the deep neural networks used the same configuration of hidden layers. The function just helps to make the process more efficient."
      ],
      "metadata": {
        "id": "MLR2RbclE9up"
      }
    },
    {
      "cell_type": "code",
      "source": [
        "def build_and_compile_model(norm):\n",
        "  model = keras.Sequential([\n",
        "      norm,\n",
        "      layers.Dense(64, activation='relu'),\n",
        "      layers.Dense(64, activation='relu'),\n",
        "      layers.Dense(1)\n",
        "  ])\n",
        "\n",
        "  model.compile(loss='mean_absolute_error',\n",
        "                optimizer=tf.keras.optimizers.Adam(0.001))\n",
        "  return model"
      ],
      "metadata": {
        "id": "oTzgP9VXFUJK"
      },
      "execution_count": 742,
      "outputs": []
    },
    {
      "cell_type": "markdown",
      "source": [
        "### DNN 1"
      ],
      "metadata": {
        "id": "PhXS902yYF2s"
      }
    },
    {
      "cell_type": "markdown",
      "source": [
        "Predictors:\n",
        "\n",
        "* Year\n",
        "* Month\n",
        "* Day of Week\n",
        "* Temperature\n",
        "* Visibility\n",
        "* Wind Speed\n",
        "\n"
      ],
      "metadata": {
        "id": "9yIpMnkxFIdJ"
      }
    },
    {
      "cell_type": "markdown",
      "source": [
        "#### Read Data"
      ],
      "metadata": {
        "id": "UpkSSO_AYJ8_"
      }
    },
    {
      "cell_type": "markdown",
      "source": [
        "##### Training Data"
      ],
      "metadata": {
        "id": "YYRF54JBYMNw"
      }
    },
    {
      "cell_type": "code",
      "source": [
        "url = \"https://raw.githubusercontent.com/AaronM44/DAOTW-Assignment-1/main/outputs/col_dnn_1_train.csv\"\n",
        "\n",
        "raw_col_dnn_1_train = pd.read_csv(url)\n",
        "\n",
        "df_col_dnn_1_train = raw_col_dnn_1_train.copy()\n",
        "\n",
        "df_col_dnn_1_train = df_col_dnn_1_train.drop(df_col_dnn_1_train.columns[[0, 1]], axis=1)\n",
        "\n",
        "df_col_dnn_1_train.head()"
      ],
      "metadata": {
        "id": "_f9r0v_8YOde",
        "outputId": "900ba8b2-98b9-4828-f436-c0537970bc38",
        "colab": {
          "base_uri": "https://localhost:8080/",
          "height": 236
        }
      },
      "execution_count": 743,
      "outputs": [
        {
          "output_type": "execute_result",
          "data": {
            "text/plain": [
              "   year  jan  feb  mar  apr  may  jun  jul  aug  sep  ...  tue  wed  thu  fri  \\\n",
              "0  2016    1    0    0    0    0    0    0    0    0  ...    0    0    0    0   \n",
              "1  2016    0    0    0    0    0    0    0    1    0  ...    0    0    0    0   \n",
              "2  2014    0    0    0    0    0    0    1    0    0  ...    0    0    1    0   \n",
              "3  2013    0    0    0    0    0    0    1    0    0  ...    0    0    0    0   \n",
              "4  2013    0    0    0    0    0    0    1    0    0  ...    1    0    0    0   \n",
              "\n",
              "   sat  sun  temp  visib  wdsp  num_collisions  \n",
              "0    1    0   5.7    9.1  12.8             734  \n",
              "1    0    0  24.7    8.4  16.9             658  \n",
              "2    0    0  18.3   10.0   5.8             480  \n",
              "3    0    1  19.3    4.1  12.0             633  \n",
              "4    0    0  22.1    4.9  10.9             550  \n",
              "\n",
              "[5 rows x 24 columns]"
            ],
            "text/html": [
              "\n",
              "  <div id=\"df-2ce3f666-85b8-4b4a-84fa-81c43337c706\">\n",
              "    <div class=\"colab-df-container\">\n",
              "      <div>\n",
              "<style scoped>\n",
              "    .dataframe tbody tr th:only-of-type {\n",
              "        vertical-align: middle;\n",
              "    }\n",
              "\n",
              "    .dataframe tbody tr th {\n",
              "        vertical-align: top;\n",
              "    }\n",
              "\n",
              "    .dataframe thead th {\n",
              "        text-align: right;\n",
              "    }\n",
              "</style>\n",
              "<table border=\"1\" class=\"dataframe\">\n",
              "  <thead>\n",
              "    <tr style=\"text-align: right;\">\n",
              "      <th></th>\n",
              "      <th>year</th>\n",
              "      <th>jan</th>\n",
              "      <th>feb</th>\n",
              "      <th>mar</th>\n",
              "      <th>apr</th>\n",
              "      <th>may</th>\n",
              "      <th>jun</th>\n",
              "      <th>jul</th>\n",
              "      <th>aug</th>\n",
              "      <th>sep</th>\n",
              "      <th>...</th>\n",
              "      <th>tue</th>\n",
              "      <th>wed</th>\n",
              "      <th>thu</th>\n",
              "      <th>fri</th>\n",
              "      <th>sat</th>\n",
              "      <th>sun</th>\n",
              "      <th>temp</th>\n",
              "      <th>visib</th>\n",
              "      <th>wdsp</th>\n",
              "      <th>num_collisions</th>\n",
              "    </tr>\n",
              "  </thead>\n",
              "  <tbody>\n",
              "    <tr>\n",
              "      <th>0</th>\n",
              "      <td>2016</td>\n",
              "      <td>1</td>\n",
              "      <td>0</td>\n",
              "      <td>0</td>\n",
              "      <td>0</td>\n",
              "      <td>0</td>\n",
              "      <td>0</td>\n",
              "      <td>0</td>\n",
              "      <td>0</td>\n",
              "      <td>0</td>\n",
              "      <td>...</td>\n",
              "      <td>0</td>\n",
              "      <td>0</td>\n",
              "      <td>0</td>\n",
              "      <td>0</td>\n",
              "      <td>1</td>\n",
              "      <td>0</td>\n",
              "      <td>5.7</td>\n",
              "      <td>9.1</td>\n",
              "      <td>12.8</td>\n",
              "      <td>734</td>\n",
              "    </tr>\n",
              "    <tr>\n",
              "      <th>1</th>\n",
              "      <td>2016</td>\n",
              "      <td>0</td>\n",
              "      <td>0</td>\n",
              "      <td>0</td>\n",
              "      <td>0</td>\n",
              "      <td>0</td>\n",
              "      <td>0</td>\n",
              "      <td>0</td>\n",
              "      <td>1</td>\n",
              "      <td>0</td>\n",
              "      <td>...</td>\n",
              "      <td>0</td>\n",
              "      <td>0</td>\n",
              "      <td>0</td>\n",
              "      <td>0</td>\n",
              "      <td>0</td>\n",
              "      <td>0</td>\n",
              "      <td>24.7</td>\n",
              "      <td>8.4</td>\n",
              "      <td>16.9</td>\n",
              "      <td>658</td>\n",
              "    </tr>\n",
              "    <tr>\n",
              "      <th>2</th>\n",
              "      <td>2014</td>\n",
              "      <td>0</td>\n",
              "      <td>0</td>\n",
              "      <td>0</td>\n",
              "      <td>0</td>\n",
              "      <td>0</td>\n",
              "      <td>0</td>\n",
              "      <td>1</td>\n",
              "      <td>0</td>\n",
              "      <td>0</td>\n",
              "      <td>...</td>\n",
              "      <td>0</td>\n",
              "      <td>0</td>\n",
              "      <td>1</td>\n",
              "      <td>0</td>\n",
              "      <td>0</td>\n",
              "      <td>0</td>\n",
              "      <td>18.3</td>\n",
              "      <td>10.0</td>\n",
              "      <td>5.8</td>\n",
              "      <td>480</td>\n",
              "    </tr>\n",
              "    <tr>\n",
              "      <th>3</th>\n",
              "      <td>2013</td>\n",
              "      <td>0</td>\n",
              "      <td>0</td>\n",
              "      <td>0</td>\n",
              "      <td>0</td>\n",
              "      <td>0</td>\n",
              "      <td>0</td>\n",
              "      <td>1</td>\n",
              "      <td>0</td>\n",
              "      <td>0</td>\n",
              "      <td>...</td>\n",
              "      <td>0</td>\n",
              "      <td>0</td>\n",
              "      <td>0</td>\n",
              "      <td>0</td>\n",
              "      <td>0</td>\n",
              "      <td>1</td>\n",
              "      <td>19.3</td>\n",
              "      <td>4.1</td>\n",
              "      <td>12.0</td>\n",
              "      <td>633</td>\n",
              "    </tr>\n",
              "    <tr>\n",
              "      <th>4</th>\n",
              "      <td>2013</td>\n",
              "      <td>0</td>\n",
              "      <td>0</td>\n",
              "      <td>0</td>\n",
              "      <td>0</td>\n",
              "      <td>0</td>\n",
              "      <td>0</td>\n",
              "      <td>1</td>\n",
              "      <td>0</td>\n",
              "      <td>0</td>\n",
              "      <td>...</td>\n",
              "      <td>1</td>\n",
              "      <td>0</td>\n",
              "      <td>0</td>\n",
              "      <td>0</td>\n",
              "      <td>0</td>\n",
              "      <td>0</td>\n",
              "      <td>22.1</td>\n",
              "      <td>4.9</td>\n",
              "      <td>10.9</td>\n",
              "      <td>550</td>\n",
              "    </tr>\n",
              "  </tbody>\n",
              "</table>\n",
              "<p>5 rows × 24 columns</p>\n",
              "</div>\n",
              "      <button class=\"colab-df-convert\" onclick=\"convertToInteractive('df-2ce3f666-85b8-4b4a-84fa-81c43337c706')\"\n",
              "              title=\"Convert this dataframe to an interactive table.\"\n",
              "              style=\"display:none;\">\n",
              "        \n",
              "  <svg xmlns=\"http://www.w3.org/2000/svg\" height=\"24px\"viewBox=\"0 0 24 24\"\n",
              "       width=\"24px\">\n",
              "    <path d=\"M0 0h24v24H0V0z\" fill=\"none\"/>\n",
              "    <path d=\"M18.56 5.44l.94 2.06.94-2.06 2.06-.94-2.06-.94-.94-2.06-.94 2.06-2.06.94zm-11 1L8.5 8.5l.94-2.06 2.06-.94-2.06-.94L8.5 2.5l-.94 2.06-2.06.94zm10 10l.94 2.06.94-2.06 2.06-.94-2.06-.94-.94-2.06-.94 2.06-2.06.94z\"/><path d=\"M17.41 7.96l-1.37-1.37c-.4-.4-.92-.59-1.43-.59-.52 0-1.04.2-1.43.59L10.3 9.45l-7.72 7.72c-.78.78-.78 2.05 0 2.83L4 21.41c.39.39.9.59 1.41.59.51 0 1.02-.2 1.41-.59l7.78-7.78 2.81-2.81c.8-.78.8-2.07 0-2.86zM5.41 20L4 18.59l7.72-7.72 1.47 1.35L5.41 20z\"/>\n",
              "  </svg>\n",
              "      </button>\n",
              "      \n",
              "  <style>\n",
              "    .colab-df-container {\n",
              "      display:flex;\n",
              "      flex-wrap:wrap;\n",
              "      gap: 12px;\n",
              "    }\n",
              "\n",
              "    .colab-df-convert {\n",
              "      background-color: #E8F0FE;\n",
              "      border: none;\n",
              "      border-radius: 50%;\n",
              "      cursor: pointer;\n",
              "      display: none;\n",
              "      fill: #1967D2;\n",
              "      height: 32px;\n",
              "      padding: 0 0 0 0;\n",
              "      width: 32px;\n",
              "    }\n",
              "\n",
              "    .colab-df-convert:hover {\n",
              "      background-color: #E2EBFA;\n",
              "      box-shadow: 0px 1px 2px rgba(60, 64, 67, 0.3), 0px 1px 3px 1px rgba(60, 64, 67, 0.15);\n",
              "      fill: #174EA6;\n",
              "    }\n",
              "\n",
              "    [theme=dark] .colab-df-convert {\n",
              "      background-color: #3B4455;\n",
              "      fill: #D2E3FC;\n",
              "    }\n",
              "\n",
              "    [theme=dark] .colab-df-convert:hover {\n",
              "      background-color: #434B5C;\n",
              "      box-shadow: 0px 1px 3px 1px rgba(0, 0, 0, 0.15);\n",
              "      filter: drop-shadow(0px 1px 2px rgba(0, 0, 0, 0.3));\n",
              "      fill: #FFFFFF;\n",
              "    }\n",
              "  </style>\n",
              "\n",
              "      <script>\n",
              "        const buttonEl =\n",
              "          document.querySelector('#df-2ce3f666-85b8-4b4a-84fa-81c43337c706 button.colab-df-convert');\n",
              "        buttonEl.style.display =\n",
              "          google.colab.kernel.accessAllowed ? 'block' : 'none';\n",
              "\n",
              "        async function convertToInteractive(key) {\n",
              "          const element = document.querySelector('#df-2ce3f666-85b8-4b4a-84fa-81c43337c706');\n",
              "          const dataTable =\n",
              "            await google.colab.kernel.invokeFunction('convertToInteractive',\n",
              "                                                     [key], {});\n",
              "          if (!dataTable) return;\n",
              "\n",
              "          const docLinkHtml = 'Like what you see? Visit the ' +\n",
              "            '<a target=\"_blank\" href=https://colab.research.google.com/notebooks/data_table.ipynb>data table notebook</a>'\n",
              "            + ' to learn more about interactive tables.';\n",
              "          element.innerHTML = '';\n",
              "          dataTable['output_type'] = 'display_data';\n",
              "          await google.colab.output.renderOutput(dataTable, element);\n",
              "          const docLink = document.createElement('div');\n",
              "          docLink.innerHTML = docLinkHtml;\n",
              "          element.appendChild(docLink);\n",
              "        }\n",
              "      </script>\n",
              "    </div>\n",
              "  </div>\n",
              "  "
            ]
          },
          "metadata": {},
          "execution_count": 743
        }
      ]
    },
    {
      "cell_type": "markdown",
      "source": [
        "##### Test Data"
      ],
      "metadata": {
        "id": "osDYqfvLZgjM"
      }
    },
    {
      "cell_type": "code",
      "source": [
        "url = \"https://raw.githubusercontent.com/AaronM44/DAOTW-Assignment-1/main/outputs/col_dnn_1_test.csv\"\n",
        "\n",
        "raw_col_dnn_1_test = pd.read_csv(url)\n",
        "\n",
        "df_col_dnn_1_test = raw_col_dnn_1_test.copy()\n",
        "\n",
        "df_col_dnn_1_test = df_col_dnn_1_test.drop(df_col_dnn_1_test.columns[[0, 1]], axis=1)\n",
        "\n",
        "df_col_dnn_1_test.head()"
      ],
      "metadata": {
        "id": "YUkqR7M-Zh8L",
        "outputId": "69feed86-d79e-461b-afb7-078c88365dc8",
        "colab": {
          "base_uri": "https://localhost:8080/",
          "height": 236
        }
      },
      "execution_count": 744,
      "outputs": [
        {
          "output_type": "execute_result",
          "data": {
            "text/plain": [
              "   year  jan  feb  mar  apr  may  jun  jul  aug  sep  ...  tue  wed  thu  fri  \\\n",
              "0  2013    1    0    0    0    0    0    0    0    0  ...    0    0    0    0   \n",
              "1  2013    1    0    0    0    0    0    0    0    0  ...    0    0    0    1   \n",
              "2  2013    1    0    0    0    0    0    0    0    0  ...    0    0    0    0   \n",
              "3  2013    1    0    0    0    0    0    0    0    0  ...    0    0    0    0   \n",
              "4  2013    1    0    0    0    0    0    0    0    0  ...    0    0    0    0   \n",
              "\n",
              "   sat  sun  temp  visib  wdsp  num_collisions  \n",
              "0    1    0   3.3   10.0  17.3             381  \n",
              "1    0    0   2.1    9.8   6.8             393  \n",
              "2    0    1   2.2    8.8   9.8             521  \n",
              "3    1    0   4.3    9.8  12.0             513  \n",
              "4    1    0   5.7    9.5   9.2             516  \n",
              "\n",
              "[5 rows x 24 columns]"
            ],
            "text/html": [
              "\n",
              "  <div id=\"df-457a5731-162c-457c-84be-62e7dbf78c8a\">\n",
              "    <div class=\"colab-df-container\">\n",
              "      <div>\n",
              "<style scoped>\n",
              "    .dataframe tbody tr th:only-of-type {\n",
              "        vertical-align: middle;\n",
              "    }\n",
              "\n",
              "    .dataframe tbody tr th {\n",
              "        vertical-align: top;\n",
              "    }\n",
              "\n",
              "    .dataframe thead th {\n",
              "        text-align: right;\n",
              "    }\n",
              "</style>\n",
              "<table border=\"1\" class=\"dataframe\">\n",
              "  <thead>\n",
              "    <tr style=\"text-align: right;\">\n",
              "      <th></th>\n",
              "      <th>year</th>\n",
              "      <th>jan</th>\n",
              "      <th>feb</th>\n",
              "      <th>mar</th>\n",
              "      <th>apr</th>\n",
              "      <th>may</th>\n",
              "      <th>jun</th>\n",
              "      <th>jul</th>\n",
              "      <th>aug</th>\n",
              "      <th>sep</th>\n",
              "      <th>...</th>\n",
              "      <th>tue</th>\n",
              "      <th>wed</th>\n",
              "      <th>thu</th>\n",
              "      <th>fri</th>\n",
              "      <th>sat</th>\n",
              "      <th>sun</th>\n",
              "      <th>temp</th>\n",
              "      <th>visib</th>\n",
              "      <th>wdsp</th>\n",
              "      <th>num_collisions</th>\n",
              "    </tr>\n",
              "  </thead>\n",
              "  <tbody>\n",
              "    <tr>\n",
              "      <th>0</th>\n",
              "      <td>2013</td>\n",
              "      <td>1</td>\n",
              "      <td>0</td>\n",
              "      <td>0</td>\n",
              "      <td>0</td>\n",
              "      <td>0</td>\n",
              "      <td>0</td>\n",
              "      <td>0</td>\n",
              "      <td>0</td>\n",
              "      <td>0</td>\n",
              "      <td>...</td>\n",
              "      <td>0</td>\n",
              "      <td>0</td>\n",
              "      <td>0</td>\n",
              "      <td>0</td>\n",
              "      <td>1</td>\n",
              "      <td>0</td>\n",
              "      <td>3.3</td>\n",
              "      <td>10.0</td>\n",
              "      <td>17.3</td>\n",
              "      <td>381</td>\n",
              "    </tr>\n",
              "    <tr>\n",
              "      <th>1</th>\n",
              "      <td>2013</td>\n",
              "      <td>1</td>\n",
              "      <td>0</td>\n",
              "      <td>0</td>\n",
              "      <td>0</td>\n",
              "      <td>0</td>\n",
              "      <td>0</td>\n",
              "      <td>0</td>\n",
              "      <td>0</td>\n",
              "      <td>0</td>\n",
              "      <td>...</td>\n",
              "      <td>0</td>\n",
              "      <td>0</td>\n",
              "      <td>0</td>\n",
              "      <td>1</td>\n",
              "      <td>0</td>\n",
              "      <td>0</td>\n",
              "      <td>2.1</td>\n",
              "      <td>9.8</td>\n",
              "      <td>6.8</td>\n",
              "      <td>393</td>\n",
              "    </tr>\n",
              "    <tr>\n",
              "      <th>2</th>\n",
              "      <td>2013</td>\n",
              "      <td>1</td>\n",
              "      <td>0</td>\n",
              "      <td>0</td>\n",
              "      <td>0</td>\n",
              "      <td>0</td>\n",
              "      <td>0</td>\n",
              "      <td>0</td>\n",
              "      <td>0</td>\n",
              "      <td>0</td>\n",
              "      <td>...</td>\n",
              "      <td>0</td>\n",
              "      <td>0</td>\n",
              "      <td>0</td>\n",
              "      <td>0</td>\n",
              "      <td>0</td>\n",
              "      <td>1</td>\n",
              "      <td>2.2</td>\n",
              "      <td>8.8</td>\n",
              "      <td>9.8</td>\n",
              "      <td>521</td>\n",
              "    </tr>\n",
              "    <tr>\n",
              "      <th>3</th>\n",
              "      <td>2013</td>\n",
              "      <td>1</td>\n",
              "      <td>0</td>\n",
              "      <td>0</td>\n",
              "      <td>0</td>\n",
              "      <td>0</td>\n",
              "      <td>0</td>\n",
              "      <td>0</td>\n",
              "      <td>0</td>\n",
              "      <td>0</td>\n",
              "      <td>...</td>\n",
              "      <td>0</td>\n",
              "      <td>0</td>\n",
              "      <td>0</td>\n",
              "      <td>0</td>\n",
              "      <td>1</td>\n",
              "      <td>0</td>\n",
              "      <td>4.3</td>\n",
              "      <td>9.8</td>\n",
              "      <td>12.0</td>\n",
              "      <td>513</td>\n",
              "    </tr>\n",
              "    <tr>\n",
              "      <th>4</th>\n",
              "      <td>2013</td>\n",
              "      <td>1</td>\n",
              "      <td>0</td>\n",
              "      <td>0</td>\n",
              "      <td>0</td>\n",
              "      <td>0</td>\n",
              "      <td>0</td>\n",
              "      <td>0</td>\n",
              "      <td>0</td>\n",
              "      <td>0</td>\n",
              "      <td>...</td>\n",
              "      <td>0</td>\n",
              "      <td>0</td>\n",
              "      <td>0</td>\n",
              "      <td>0</td>\n",
              "      <td>1</td>\n",
              "      <td>0</td>\n",
              "      <td>5.7</td>\n",
              "      <td>9.5</td>\n",
              "      <td>9.2</td>\n",
              "      <td>516</td>\n",
              "    </tr>\n",
              "  </tbody>\n",
              "</table>\n",
              "<p>5 rows × 24 columns</p>\n",
              "</div>\n",
              "      <button class=\"colab-df-convert\" onclick=\"convertToInteractive('df-457a5731-162c-457c-84be-62e7dbf78c8a')\"\n",
              "              title=\"Convert this dataframe to an interactive table.\"\n",
              "              style=\"display:none;\">\n",
              "        \n",
              "  <svg xmlns=\"http://www.w3.org/2000/svg\" height=\"24px\"viewBox=\"0 0 24 24\"\n",
              "       width=\"24px\">\n",
              "    <path d=\"M0 0h24v24H0V0z\" fill=\"none\"/>\n",
              "    <path d=\"M18.56 5.44l.94 2.06.94-2.06 2.06-.94-2.06-.94-.94-2.06-.94 2.06-2.06.94zm-11 1L8.5 8.5l.94-2.06 2.06-.94-2.06-.94L8.5 2.5l-.94 2.06-2.06.94zm10 10l.94 2.06.94-2.06 2.06-.94-2.06-.94-.94-2.06-.94 2.06-2.06.94z\"/><path d=\"M17.41 7.96l-1.37-1.37c-.4-.4-.92-.59-1.43-.59-.52 0-1.04.2-1.43.59L10.3 9.45l-7.72 7.72c-.78.78-.78 2.05 0 2.83L4 21.41c.39.39.9.59 1.41.59.51 0 1.02-.2 1.41-.59l7.78-7.78 2.81-2.81c.8-.78.8-2.07 0-2.86zM5.41 20L4 18.59l7.72-7.72 1.47 1.35L5.41 20z\"/>\n",
              "  </svg>\n",
              "      </button>\n",
              "      \n",
              "  <style>\n",
              "    .colab-df-container {\n",
              "      display:flex;\n",
              "      flex-wrap:wrap;\n",
              "      gap: 12px;\n",
              "    }\n",
              "\n",
              "    .colab-df-convert {\n",
              "      background-color: #E8F0FE;\n",
              "      border: none;\n",
              "      border-radius: 50%;\n",
              "      cursor: pointer;\n",
              "      display: none;\n",
              "      fill: #1967D2;\n",
              "      height: 32px;\n",
              "      padding: 0 0 0 0;\n",
              "      width: 32px;\n",
              "    }\n",
              "\n",
              "    .colab-df-convert:hover {\n",
              "      background-color: #E2EBFA;\n",
              "      box-shadow: 0px 1px 2px rgba(60, 64, 67, 0.3), 0px 1px 3px 1px rgba(60, 64, 67, 0.15);\n",
              "      fill: #174EA6;\n",
              "    }\n",
              "\n",
              "    [theme=dark] .colab-df-convert {\n",
              "      background-color: #3B4455;\n",
              "      fill: #D2E3FC;\n",
              "    }\n",
              "\n",
              "    [theme=dark] .colab-df-convert:hover {\n",
              "      background-color: #434B5C;\n",
              "      box-shadow: 0px 1px 3px 1px rgba(0, 0, 0, 0.15);\n",
              "      filter: drop-shadow(0px 1px 2px rgba(0, 0, 0, 0.3));\n",
              "      fill: #FFFFFF;\n",
              "    }\n",
              "  </style>\n",
              "\n",
              "      <script>\n",
              "        const buttonEl =\n",
              "          document.querySelector('#df-457a5731-162c-457c-84be-62e7dbf78c8a button.colab-df-convert');\n",
              "        buttonEl.style.display =\n",
              "          google.colab.kernel.accessAllowed ? 'block' : 'none';\n",
              "\n",
              "        async function convertToInteractive(key) {\n",
              "          const element = document.querySelector('#df-457a5731-162c-457c-84be-62e7dbf78c8a');\n",
              "          const dataTable =\n",
              "            await google.colab.kernel.invokeFunction('convertToInteractive',\n",
              "                                                     [key], {});\n",
              "          if (!dataTable) return;\n",
              "\n",
              "          const docLinkHtml = 'Like what you see? Visit the ' +\n",
              "            '<a target=\"_blank\" href=https://colab.research.google.com/notebooks/data_table.ipynb>data table notebook</a>'\n",
              "            + ' to learn more about interactive tables.';\n",
              "          element.innerHTML = '';\n",
              "          dataTable['output_type'] = 'display_data';\n",
              "          await google.colab.output.renderOutput(dataTable, element);\n",
              "          const docLink = document.createElement('div');\n",
              "          docLink.innerHTML = docLinkHtml;\n",
              "          element.appendChild(docLink);\n",
              "        }\n",
              "      </script>\n",
              "    </div>\n",
              "  </div>\n",
              "  "
            ]
          },
          "metadata": {},
          "execution_count": 744
        }
      ]
    },
    {
      "cell_type": "markdown",
      "source": [
        "#### Check for NAs"
      ],
      "metadata": {
        "id": "7eL9T0JNaCW0"
      }
    },
    {
      "cell_type": "code",
      "source": [
        "df_col_dnn_1_train.isna().sum()"
      ],
      "metadata": {
        "id": "b3Zozd34aA-v",
        "outputId": "6e1679ff-1bec-4544-ff88-2e2ac1e561ae",
        "colab": {
          "base_uri": "https://localhost:8080/"
        }
      },
      "execution_count": 745,
      "outputs": [
        {
          "output_type": "execute_result",
          "data": {
            "text/plain": [
              "year              0\n",
              "jan               0\n",
              "feb               0\n",
              "mar               0\n",
              "apr               0\n",
              "may               0\n",
              "jun               0\n",
              "jul               0\n",
              "aug               0\n",
              "sep               0\n",
              "oct               0\n",
              "nov               0\n",
              "dec               0\n",
              "mon               0\n",
              "tue               0\n",
              "wed               0\n",
              "thu               0\n",
              "fri               0\n",
              "sat               0\n",
              "sun               0\n",
              "temp              0\n",
              "visib             0\n",
              "wdsp              0\n",
              "num_collisions    0\n",
              "dtype: int64"
            ]
          },
          "metadata": {},
          "execution_count": 745
        }
      ]
    },
    {
      "cell_type": "markdown",
      "source": [
        "#### Overview of Data"
      ],
      "metadata": {
        "id": "CMX-07gcaLvT"
      }
    },
    {
      "cell_type": "code",
      "source": [
        "df_col_dnn_1_train.describe().transpose()"
      ],
      "metadata": {
        "id": "IkX_aKOmaOEd",
        "outputId": "2f7f3952-9a69-4a1f-fb47-3f1df386907a",
        "colab": {
          "base_uri": "https://localhost:8080/",
          "height": 802
        }
      },
      "execution_count": 746,
      "outputs": [
        {
          "output_type": "execute_result",
          "data": {
            "text/plain": [
              "                 count         mean        std     min      25%     50%  \\\n",
              "year            1766.0  2015.976784   2.006229  2013.0  2014.00  2016.0   \n",
              "jan             1766.0     0.088335   0.283862     0.0     0.00     0.0   \n",
              "feb             1766.0     0.068516   0.252702     0.0     0.00     0.0   \n",
              "mar             1766.0     0.083805   0.277174     0.0     0.00     0.0   \n",
              "apr             1766.0     0.090600   0.287121     0.0     0.00     0.0   \n",
              "may             1766.0     0.078143   0.268472     0.0     0.00     0.0   \n",
              "jun             1766.0     0.088335   0.283862     0.0     0.00     0.0   \n",
              "jul             1766.0     0.083239   0.276321     0.0     0.00     0.0   \n",
              "aug             1766.0     0.087769   0.283039     0.0     0.00     0.0   \n",
              "sep             1766.0     0.079841   0.271124     0.0     0.00     0.0   \n",
              "oct             1766.0     0.083805   0.277174     0.0     0.00     0.0   \n",
              "nov             1766.0     0.081540   0.273740     0.0     0.00     0.0   \n",
              "dec             1766.0     0.086070   0.280547     0.0     0.00     0.0   \n",
              "mon             1766.0     0.145527   0.352731     0.0     0.00     0.0   \n",
              "tue             1766.0     0.142695   0.349861     0.0     0.00     0.0   \n",
              "wed             1766.0     0.147225   0.354431     0.0     0.00     0.0   \n",
              "thu             1766.0     0.146659   0.353866     0.0     0.00     0.0   \n",
              "fri             1766.0     0.144960   0.352161     0.0     0.00     0.0   \n",
              "sat             1766.0     0.134202   0.340965     0.0     0.00     0.0   \n",
              "sun             1766.0     0.138732   0.345764     0.0     0.00     0.0   \n",
              "temp            1766.0    10.829502   7.917274   -12.5     4.70    11.1   \n",
              "visib           1766.0     8.259343   2.253413     0.2     7.00     9.4   \n",
              "wdsp            1766.0    12.363590   4.824102     3.2     8.90    11.6   \n",
              "num_collisions  1766.0   599.031144  92.936133   355.0   535.25   601.0   \n",
              "\n",
              "                   75%     max  \n",
              "year            2018.0  2019.0  \n",
              "jan                0.0     1.0  \n",
              "feb                0.0     1.0  \n",
              "mar                0.0     1.0  \n",
              "apr                0.0     1.0  \n",
              "may                0.0     1.0  \n",
              "jun                0.0     1.0  \n",
              "jul                0.0     1.0  \n",
              "aug                0.0     1.0  \n",
              "sep                0.0     1.0  \n",
              "oct                0.0     1.0  \n",
              "nov                0.0     1.0  \n",
              "dec                0.0     1.0  \n",
              "mon                0.0     1.0  \n",
              "tue                0.0     1.0  \n",
              "wed                0.0     1.0  \n",
              "thu                0.0     1.0  \n",
              "fri                0.0     1.0  \n",
              "sat                0.0     1.0  \n",
              "sun                0.0     1.0  \n",
              "temp              17.8    25.3  \n",
              "visib             10.0    10.0  \n",
              "wdsp              15.0    37.7  \n",
              "num_collisions   661.0   845.0  "
            ],
            "text/html": [
              "\n",
              "  <div id=\"df-bc608f24-1320-499c-8dcf-8b509ebfbdd1\">\n",
              "    <div class=\"colab-df-container\">\n",
              "      <div>\n",
              "<style scoped>\n",
              "    .dataframe tbody tr th:only-of-type {\n",
              "        vertical-align: middle;\n",
              "    }\n",
              "\n",
              "    .dataframe tbody tr th {\n",
              "        vertical-align: top;\n",
              "    }\n",
              "\n",
              "    .dataframe thead th {\n",
              "        text-align: right;\n",
              "    }\n",
              "</style>\n",
              "<table border=\"1\" class=\"dataframe\">\n",
              "  <thead>\n",
              "    <tr style=\"text-align: right;\">\n",
              "      <th></th>\n",
              "      <th>count</th>\n",
              "      <th>mean</th>\n",
              "      <th>std</th>\n",
              "      <th>min</th>\n",
              "      <th>25%</th>\n",
              "      <th>50%</th>\n",
              "      <th>75%</th>\n",
              "      <th>max</th>\n",
              "    </tr>\n",
              "  </thead>\n",
              "  <tbody>\n",
              "    <tr>\n",
              "      <th>year</th>\n",
              "      <td>1766.0</td>\n",
              "      <td>2015.976784</td>\n",
              "      <td>2.006229</td>\n",
              "      <td>2013.0</td>\n",
              "      <td>2014.00</td>\n",
              "      <td>2016.0</td>\n",
              "      <td>2018.0</td>\n",
              "      <td>2019.0</td>\n",
              "    </tr>\n",
              "    <tr>\n",
              "      <th>jan</th>\n",
              "      <td>1766.0</td>\n",
              "      <td>0.088335</td>\n",
              "      <td>0.283862</td>\n",
              "      <td>0.0</td>\n",
              "      <td>0.00</td>\n",
              "      <td>0.0</td>\n",
              "      <td>0.0</td>\n",
              "      <td>1.0</td>\n",
              "    </tr>\n",
              "    <tr>\n",
              "      <th>feb</th>\n",
              "      <td>1766.0</td>\n",
              "      <td>0.068516</td>\n",
              "      <td>0.252702</td>\n",
              "      <td>0.0</td>\n",
              "      <td>0.00</td>\n",
              "      <td>0.0</td>\n",
              "      <td>0.0</td>\n",
              "      <td>1.0</td>\n",
              "    </tr>\n",
              "    <tr>\n",
              "      <th>mar</th>\n",
              "      <td>1766.0</td>\n",
              "      <td>0.083805</td>\n",
              "      <td>0.277174</td>\n",
              "      <td>0.0</td>\n",
              "      <td>0.00</td>\n",
              "      <td>0.0</td>\n",
              "      <td>0.0</td>\n",
              "      <td>1.0</td>\n",
              "    </tr>\n",
              "    <tr>\n",
              "      <th>apr</th>\n",
              "      <td>1766.0</td>\n",
              "      <td>0.090600</td>\n",
              "      <td>0.287121</td>\n",
              "      <td>0.0</td>\n",
              "      <td>0.00</td>\n",
              "      <td>0.0</td>\n",
              "      <td>0.0</td>\n",
              "      <td>1.0</td>\n",
              "    </tr>\n",
              "    <tr>\n",
              "      <th>may</th>\n",
              "      <td>1766.0</td>\n",
              "      <td>0.078143</td>\n",
              "      <td>0.268472</td>\n",
              "      <td>0.0</td>\n",
              "      <td>0.00</td>\n",
              "      <td>0.0</td>\n",
              "      <td>0.0</td>\n",
              "      <td>1.0</td>\n",
              "    </tr>\n",
              "    <tr>\n",
              "      <th>jun</th>\n",
              "      <td>1766.0</td>\n",
              "      <td>0.088335</td>\n",
              "      <td>0.283862</td>\n",
              "      <td>0.0</td>\n",
              "      <td>0.00</td>\n",
              "      <td>0.0</td>\n",
              "      <td>0.0</td>\n",
              "      <td>1.0</td>\n",
              "    </tr>\n",
              "    <tr>\n",
              "      <th>jul</th>\n",
              "      <td>1766.0</td>\n",
              "      <td>0.083239</td>\n",
              "      <td>0.276321</td>\n",
              "      <td>0.0</td>\n",
              "      <td>0.00</td>\n",
              "      <td>0.0</td>\n",
              "      <td>0.0</td>\n",
              "      <td>1.0</td>\n",
              "    </tr>\n",
              "    <tr>\n",
              "      <th>aug</th>\n",
              "      <td>1766.0</td>\n",
              "      <td>0.087769</td>\n",
              "      <td>0.283039</td>\n",
              "      <td>0.0</td>\n",
              "      <td>0.00</td>\n",
              "      <td>0.0</td>\n",
              "      <td>0.0</td>\n",
              "      <td>1.0</td>\n",
              "    </tr>\n",
              "    <tr>\n",
              "      <th>sep</th>\n",
              "      <td>1766.0</td>\n",
              "      <td>0.079841</td>\n",
              "      <td>0.271124</td>\n",
              "      <td>0.0</td>\n",
              "      <td>0.00</td>\n",
              "      <td>0.0</td>\n",
              "      <td>0.0</td>\n",
              "      <td>1.0</td>\n",
              "    </tr>\n",
              "    <tr>\n",
              "      <th>oct</th>\n",
              "      <td>1766.0</td>\n",
              "      <td>0.083805</td>\n",
              "      <td>0.277174</td>\n",
              "      <td>0.0</td>\n",
              "      <td>0.00</td>\n",
              "      <td>0.0</td>\n",
              "      <td>0.0</td>\n",
              "      <td>1.0</td>\n",
              "    </tr>\n",
              "    <tr>\n",
              "      <th>nov</th>\n",
              "      <td>1766.0</td>\n",
              "      <td>0.081540</td>\n",
              "      <td>0.273740</td>\n",
              "      <td>0.0</td>\n",
              "      <td>0.00</td>\n",
              "      <td>0.0</td>\n",
              "      <td>0.0</td>\n",
              "      <td>1.0</td>\n",
              "    </tr>\n",
              "    <tr>\n",
              "      <th>dec</th>\n",
              "      <td>1766.0</td>\n",
              "      <td>0.086070</td>\n",
              "      <td>0.280547</td>\n",
              "      <td>0.0</td>\n",
              "      <td>0.00</td>\n",
              "      <td>0.0</td>\n",
              "      <td>0.0</td>\n",
              "      <td>1.0</td>\n",
              "    </tr>\n",
              "    <tr>\n",
              "      <th>mon</th>\n",
              "      <td>1766.0</td>\n",
              "      <td>0.145527</td>\n",
              "      <td>0.352731</td>\n",
              "      <td>0.0</td>\n",
              "      <td>0.00</td>\n",
              "      <td>0.0</td>\n",
              "      <td>0.0</td>\n",
              "      <td>1.0</td>\n",
              "    </tr>\n",
              "    <tr>\n",
              "      <th>tue</th>\n",
              "      <td>1766.0</td>\n",
              "      <td>0.142695</td>\n",
              "      <td>0.349861</td>\n",
              "      <td>0.0</td>\n",
              "      <td>0.00</td>\n",
              "      <td>0.0</td>\n",
              "      <td>0.0</td>\n",
              "      <td>1.0</td>\n",
              "    </tr>\n",
              "    <tr>\n",
              "      <th>wed</th>\n",
              "      <td>1766.0</td>\n",
              "      <td>0.147225</td>\n",
              "      <td>0.354431</td>\n",
              "      <td>0.0</td>\n",
              "      <td>0.00</td>\n",
              "      <td>0.0</td>\n",
              "      <td>0.0</td>\n",
              "      <td>1.0</td>\n",
              "    </tr>\n",
              "    <tr>\n",
              "      <th>thu</th>\n",
              "      <td>1766.0</td>\n",
              "      <td>0.146659</td>\n",
              "      <td>0.353866</td>\n",
              "      <td>0.0</td>\n",
              "      <td>0.00</td>\n",
              "      <td>0.0</td>\n",
              "      <td>0.0</td>\n",
              "      <td>1.0</td>\n",
              "    </tr>\n",
              "    <tr>\n",
              "      <th>fri</th>\n",
              "      <td>1766.0</td>\n",
              "      <td>0.144960</td>\n",
              "      <td>0.352161</td>\n",
              "      <td>0.0</td>\n",
              "      <td>0.00</td>\n",
              "      <td>0.0</td>\n",
              "      <td>0.0</td>\n",
              "      <td>1.0</td>\n",
              "    </tr>\n",
              "    <tr>\n",
              "      <th>sat</th>\n",
              "      <td>1766.0</td>\n",
              "      <td>0.134202</td>\n",
              "      <td>0.340965</td>\n",
              "      <td>0.0</td>\n",
              "      <td>0.00</td>\n",
              "      <td>0.0</td>\n",
              "      <td>0.0</td>\n",
              "      <td>1.0</td>\n",
              "    </tr>\n",
              "    <tr>\n",
              "      <th>sun</th>\n",
              "      <td>1766.0</td>\n",
              "      <td>0.138732</td>\n",
              "      <td>0.345764</td>\n",
              "      <td>0.0</td>\n",
              "      <td>0.00</td>\n",
              "      <td>0.0</td>\n",
              "      <td>0.0</td>\n",
              "      <td>1.0</td>\n",
              "    </tr>\n",
              "    <tr>\n",
              "      <th>temp</th>\n",
              "      <td>1766.0</td>\n",
              "      <td>10.829502</td>\n",
              "      <td>7.917274</td>\n",
              "      <td>-12.5</td>\n",
              "      <td>4.70</td>\n",
              "      <td>11.1</td>\n",
              "      <td>17.8</td>\n",
              "      <td>25.3</td>\n",
              "    </tr>\n",
              "    <tr>\n",
              "      <th>visib</th>\n",
              "      <td>1766.0</td>\n",
              "      <td>8.259343</td>\n",
              "      <td>2.253413</td>\n",
              "      <td>0.2</td>\n",
              "      <td>7.00</td>\n",
              "      <td>9.4</td>\n",
              "      <td>10.0</td>\n",
              "      <td>10.0</td>\n",
              "    </tr>\n",
              "    <tr>\n",
              "      <th>wdsp</th>\n",
              "      <td>1766.0</td>\n",
              "      <td>12.363590</td>\n",
              "      <td>4.824102</td>\n",
              "      <td>3.2</td>\n",
              "      <td>8.90</td>\n",
              "      <td>11.6</td>\n",
              "      <td>15.0</td>\n",
              "      <td>37.7</td>\n",
              "    </tr>\n",
              "    <tr>\n",
              "      <th>num_collisions</th>\n",
              "      <td>1766.0</td>\n",
              "      <td>599.031144</td>\n",
              "      <td>92.936133</td>\n",
              "      <td>355.0</td>\n",
              "      <td>535.25</td>\n",
              "      <td>601.0</td>\n",
              "      <td>661.0</td>\n",
              "      <td>845.0</td>\n",
              "    </tr>\n",
              "  </tbody>\n",
              "</table>\n",
              "</div>\n",
              "      <button class=\"colab-df-convert\" onclick=\"convertToInteractive('df-bc608f24-1320-499c-8dcf-8b509ebfbdd1')\"\n",
              "              title=\"Convert this dataframe to an interactive table.\"\n",
              "              style=\"display:none;\">\n",
              "        \n",
              "  <svg xmlns=\"http://www.w3.org/2000/svg\" height=\"24px\"viewBox=\"0 0 24 24\"\n",
              "       width=\"24px\">\n",
              "    <path d=\"M0 0h24v24H0V0z\" fill=\"none\"/>\n",
              "    <path d=\"M18.56 5.44l.94 2.06.94-2.06 2.06-.94-2.06-.94-.94-2.06-.94 2.06-2.06.94zm-11 1L8.5 8.5l.94-2.06 2.06-.94-2.06-.94L8.5 2.5l-.94 2.06-2.06.94zm10 10l.94 2.06.94-2.06 2.06-.94-2.06-.94-.94-2.06-.94 2.06-2.06.94z\"/><path d=\"M17.41 7.96l-1.37-1.37c-.4-.4-.92-.59-1.43-.59-.52 0-1.04.2-1.43.59L10.3 9.45l-7.72 7.72c-.78.78-.78 2.05 0 2.83L4 21.41c.39.39.9.59 1.41.59.51 0 1.02-.2 1.41-.59l7.78-7.78 2.81-2.81c.8-.78.8-2.07 0-2.86zM5.41 20L4 18.59l7.72-7.72 1.47 1.35L5.41 20z\"/>\n",
              "  </svg>\n",
              "      </button>\n",
              "      \n",
              "  <style>\n",
              "    .colab-df-container {\n",
              "      display:flex;\n",
              "      flex-wrap:wrap;\n",
              "      gap: 12px;\n",
              "    }\n",
              "\n",
              "    .colab-df-convert {\n",
              "      background-color: #E8F0FE;\n",
              "      border: none;\n",
              "      border-radius: 50%;\n",
              "      cursor: pointer;\n",
              "      display: none;\n",
              "      fill: #1967D2;\n",
              "      height: 32px;\n",
              "      padding: 0 0 0 0;\n",
              "      width: 32px;\n",
              "    }\n",
              "\n",
              "    .colab-df-convert:hover {\n",
              "      background-color: #E2EBFA;\n",
              "      box-shadow: 0px 1px 2px rgba(60, 64, 67, 0.3), 0px 1px 3px 1px rgba(60, 64, 67, 0.15);\n",
              "      fill: #174EA6;\n",
              "    }\n",
              "\n",
              "    [theme=dark] .colab-df-convert {\n",
              "      background-color: #3B4455;\n",
              "      fill: #D2E3FC;\n",
              "    }\n",
              "\n",
              "    [theme=dark] .colab-df-convert:hover {\n",
              "      background-color: #434B5C;\n",
              "      box-shadow: 0px 1px 3px 1px rgba(0, 0, 0, 0.15);\n",
              "      filter: drop-shadow(0px 1px 2px rgba(0, 0, 0, 0.3));\n",
              "      fill: #FFFFFF;\n",
              "    }\n",
              "  </style>\n",
              "\n",
              "      <script>\n",
              "        const buttonEl =\n",
              "          document.querySelector('#df-bc608f24-1320-499c-8dcf-8b509ebfbdd1 button.colab-df-convert');\n",
              "        buttonEl.style.display =\n",
              "          google.colab.kernel.accessAllowed ? 'block' : 'none';\n",
              "\n",
              "        async function convertToInteractive(key) {\n",
              "          const element = document.querySelector('#df-bc608f24-1320-499c-8dcf-8b509ebfbdd1');\n",
              "          const dataTable =\n",
              "            await google.colab.kernel.invokeFunction('convertToInteractive',\n",
              "                                                     [key], {});\n",
              "          if (!dataTable) return;\n",
              "\n",
              "          const docLinkHtml = 'Like what you see? Visit the ' +\n",
              "            '<a target=\"_blank\" href=https://colab.research.google.com/notebooks/data_table.ipynb>data table notebook</a>'\n",
              "            + ' to learn more about interactive tables.';\n",
              "          element.innerHTML = '';\n",
              "          dataTable['output_type'] = 'display_data';\n",
              "          await google.colab.output.renderOutput(dataTable, element);\n",
              "          const docLink = document.createElement('div');\n",
              "          docLink.innerHTML = docLinkHtml;\n",
              "          element.appendChild(docLink);\n",
              "        }\n",
              "      </script>\n",
              "    </div>\n",
              "  </div>\n",
              "  "
            ]
          },
          "metadata": {},
          "execution_count": 746
        }
      ]
    },
    {
      "cell_type": "markdown",
      "source": [
        "#### Separate Features and Labels"
      ],
      "metadata": {
        "id": "o59wfD1fakaC"
      }
    },
    {
      "cell_type": "code",
      "source": [
        "df_col_dnn_1_train_feat = df_col_dnn_1_train.copy()\n",
        "df_col_dnn_1_test_feat = df_col_dnn_1_test.copy()\n",
        "\n",
        "df_col_dnn_1_train_lab = df_col_dnn_1_train_feat.pop('num_collisions')\n",
        "df_col_dnn_1_test_lab = df_col_dnn_1_test_feat.pop('num_collisions')"
      ],
      "metadata": {
        "id": "CWHp3qWHanrk"
      },
      "execution_count": 747,
      "outputs": []
    },
    {
      "cell_type": "markdown",
      "source": [
        "#### Model"
      ],
      "metadata": {
        "id": "SxyRXc-zbczA"
      }
    },
    {
      "cell_type": "markdown",
      "source": [
        "##### Normaliser Layer"
      ],
      "metadata": {
        "id": "ff2uQ4EHbfTj"
      }
    },
    {
      "cell_type": "code",
      "source": [
        "normaliser = tf.keras.layers.Normalization(axis=-1)\n",
        "\n",
        "normaliser.adapt(np.array(df_col_dnn_1_train_feat))\n",
        "\n",
        "print(normaliser.mean.numpy())"
      ],
      "metadata": {
        "id": "J-A4EfOwbhDJ",
        "outputId": "8d81b78e-f040-42a1-c939-c4e37d794f72",
        "colab": {
          "base_uri": "https://localhost:8080/"
        }
      },
      "execution_count": 748,
      "outputs": [
        {
          "output_type": "stream",
          "name": "stdout",
          "text": [
            "[[2015.976    0.088    0.069    0.084    0.091    0.078    0.088    0.083\n",
            "     0.088    0.08     0.084    0.082    0.086    0.146    0.143    0.147\n",
            "     0.147    0.145    0.134    0.139   10.83     8.259   12.364]]\n"
          ]
        }
      ]
    },
    {
      "cell_type": "markdown",
      "source": [
        "##### Build Model"
      ],
      "metadata": {
        "id": "BlG4lJPRbuTn"
      }
    },
    {
      "cell_type": "code",
      "source": [
        "col_dnn_1 = np.array(df_col_dnn_1_train_feat)\n",
        "col_dnn_1_normaliser = layers.Normalization(axis=-1)\n",
        "col_dnn_1_normaliser.adapt(np.array(df_col_dnn_1_train_feat))"
      ],
      "metadata": {
        "id": "OOWLdHGQbwft"
      },
      "execution_count": 749,
      "outputs": []
    },
    {
      "cell_type": "code",
      "source": [
        "col_dnn_1_model = build_and_compile_model(col_dnn_1_normaliser)\n",
        "\n",
        "col_dnn_1_model.summary()"
      ],
      "metadata": {
        "id": "oB_sfzgMcEfc",
        "outputId": "f2fac3f5-b6e2-454f-e764-0f21327a3e0d",
        "colab": {
          "base_uri": "https://localhost:8080/"
        }
      },
      "execution_count": 750,
      "outputs": [
        {
          "output_type": "stream",
          "name": "stdout",
          "text": [
            "Model: \"sequential_48\"\n",
            "_________________________________________________________________\n",
            " Layer (type)                Output Shape              Param #   \n",
            "=================================================================\n",
            " normalization_97 (Normaliza  (None, 23)               47        \n",
            " tion)                                                           \n",
            "                                                                 \n",
            " dense_90 (Dense)            (None, 64)                1536      \n",
            "                                                                 \n",
            " dense_91 (Dense)            (None, 64)                4160      \n",
            "                                                                 \n",
            " dense_92 (Dense)            (None, 1)                 65        \n",
            "                                                                 \n",
            "=================================================================\n",
            "Total params: 5,808\n",
            "Trainable params: 5,761\n",
            "Non-trainable params: 47\n",
            "_________________________________________________________________\n"
          ]
        }
      ]
    },
    {
      "cell_type": "markdown",
      "source": [
        "##### Create Callback"
      ],
      "metadata": {
        "id": "MmqY906M_SfL"
      }
    },
    {
      "cell_type": "code",
      "source": [
        "earlystopping = callbacks.EarlyStopping(monitor =\"val_loss\", \n",
        "                                        mode =\"min\", patience = 5, \n",
        "                                        restore_best_weights = True)"
      ],
      "metadata": {
        "id": "KJO0Gj4V_UmG"
      },
      "execution_count": 751,
      "outputs": []
    },
    {
      "cell_type": "markdown",
      "source": [
        "##### Execute Model"
      ],
      "metadata": {
        "id": "1OEI_2hS_0hn"
      }
    },
    {
      "cell_type": "code",
      "source": [
        "%%time\n",
        "history = col_dnn_1_model.fit(\n",
        "    df_col_dnn_1_train_feat,\n",
        "    df_col_dnn_1_train_lab,\n",
        "    validation_split=0.2,\n",
        "    verbose=0, \n",
        "    epochs=100,\n",
        "    callbacks = [earlystopping])"
      ],
      "metadata": {
        "id": "3TXzmm5Kcvp3",
        "outputId": "bc340a1e-777f-4a89-b446-9eac20e41d33",
        "colab": {
          "base_uri": "https://localhost:8080/"
        }
      },
      "execution_count": 752,
      "outputs": [
        {
          "output_type": "stream",
          "name": "stdout",
          "text": [
            "CPU times: user 4.82 s, sys: 273 ms, total: 5.09 s\n",
            "Wall time: 5.23 s\n"
          ]
        }
      ]
    },
    {
      "cell_type": "markdown",
      "source": [
        "##### Plot Loss"
      ],
      "metadata": {
        "id": "MChOVOLH_bk-"
      }
    },
    {
      "cell_type": "code",
      "source": [
        "plot_loss(history)"
      ],
      "metadata": {
        "id": "SwYkUQ1pdP0r",
        "outputId": "71e347ed-2509-424c-dfbb-6f3767a190cd",
        "colab": {
          "base_uri": "https://localhost:8080/",
          "height": 283
        }
      },
      "execution_count": 753,
      "outputs": [
        {
          "output_type": "display_data",
          "data": {
            "text/plain": [
              "<Figure size 432x288 with 1 Axes>"
            ],
            "image/png": "[encoded data removed]"
          },
          "metadata": {
            "needs_background": "light"
          }
        }
      ]
    },
    {
      "cell_type": "markdown",
      "source": [
        "##### Collect Results"
      ],
      "metadata": {
        "id": "GpDzEQlj_eGK"
      }
    },
    {
      "cell_type": "code",
      "source": [
        "test_results['col_dnn_1'] = col_dnn_1_model.evaluate(\n",
        "    df_col_dnn_1_test_feat, \n",
        "    df_col_dnn_1_test_lab, verbose=0)"
      ],
      "metadata": {
        "id": "JagW_rz8dGGj"
      },
      "execution_count": 754,
      "outputs": []
    },
    {
      "cell_type": "code",
      "source": [
        "for model in test_results:\n",
        "  print(\"Key : {} , Value : {}\".format(model, test_results[model]))"
      ],
      "metadata": {
        "id": "W6YPQOx5dTyd",
        "outputId": "dab40d44-4eaa-47fd-a14f-c4a776ed05b0",
        "colab": {
          "base_uri": "https://localhost:8080/"
        }
      },
      "execution_count": 755,
      "outputs": [
        {
          "output_type": "stream",
          "name": "stdout",
          "text": [
            "Key : temp_model , Value : 73.28533172607422\n",
            "Key : col_mod_1 , Value : 66.53189086914062\n",
            "Key : col_mod_2 , Value : 53.8358154296875\n",
            "Key : col_dnn_1 , Value : 56.14476776123047\n"
          ]
        }
      ]
    },
    {
      "cell_type": "markdown",
      "source": [
        "### DNN 2"
      ],
      "metadata": {
        "id": "mORz8ZFAhN05"
      }
    },
    {
      "cell_type": "markdown",
      "source": [
        "Predictors:\n",
        "\n",
        "* Year\n",
        "* Month\n",
        "* Day of Week\n",
        "* Temperature\n",
        "* Visibility\n",
        "* Wind Speed\n",
        "* Surface Level Pressure\n",
        "* Dew Point Temperature\n",
        "\n"
      ],
      "metadata": {
        "id": "PnWp6e6KFe4g"
      }
    },
    {
      "cell_type": "markdown",
      "source": [
        "#### Read Data"
      ],
      "metadata": {
        "id": "2K56tRG3hdSw"
      }
    },
    {
      "cell_type": "markdown",
      "source": [
        "##### Training Data"
      ],
      "metadata": {
        "id": "BwR_Ue4Rhe4v"
      }
    },
    {
      "cell_type": "code",
      "source": [
        "url = \"https://raw.githubusercontent.com/AaronM44/DAOTW-Assignment-1/main/outputs/col_dnn_2_train.csv\"\n",
        "\n",
        "raw_col_dnn_2_train = pd.read_csv(url)\n",
        "\n",
        "df_col_dnn_2_train = raw_col_dnn_2_train.copy()\n",
        "\n",
        "df_col_dnn_2_train = df_col_dnn_2_train.drop(df_col_dnn_2_train.columns[[0, 1]], axis=1)\n",
        "\n",
        "df_col_dnn_2_train.head()"
      ],
      "metadata": {
        "id": "JaIRROlwhgVO",
        "outputId": "dee03ee5-3b4c-4412-9fba-06e88f489614",
        "colab": {
          "base_uri": "https://localhost:8080/",
          "height": 236
        }
      },
      "execution_count": 756,
      "outputs": [
        {
          "output_type": "execute_result",
          "data": {
            "text/plain": [
              "   year  jan  feb  mar  apr  may  jun  jul  aug  sep  ...  thu  fri  sat  sun  \\\n",
              "0  2016    0    0    0    0    0    0    0    0    0  ...    0    0    1    0   \n",
              "1  2018    1    0    0    0    0    0    0    0    0  ...    0    0    0    0   \n",
              "2  2017    0    0    0    0    0    0    1    0    0  ...    0    0    0    0   \n",
              "3  2019    1    0    0    0    0    0    0    0    0  ...    0    0    0    0   \n",
              "4  2016    0    0    0    0    0    0    0    1    0  ...    0    0    0    0   \n",
              "\n",
              "   temp  visib  wdsp     slp  dewp  num_collisions  \n",
              "0  15.8    9.7  14.3  1023.5  12.3             523  \n",
              "1  -3.7   10.0  16.6  1035.0 -13.9             677  \n",
              "2  24.2    5.7   9.0  1010.4  20.9             733  \n",
              "3   6.9    5.6  15.4   997.6   4.2             514  \n",
              "4  23.1    4.7  12.8  1018.5  22.1             672  \n",
              "\n",
              "[5 rows x 26 columns]"
            ],
            "text/html": [
              "\n",
              "  <div id=\"df-f7cf8a15-56e7-44b0-995b-d388d46b05b1\">\n",
              "    <div class=\"colab-df-container\">\n",
              "      <div>\n",
              "<style scoped>\n",
              "    .dataframe tbody tr th:only-of-type {\n",
              "        vertical-align: middle;\n",
              "    }\n",
              "\n",
              "    .dataframe tbody tr th {\n",
              "        vertical-align: top;\n",
              "    }\n",
              "\n",
              "    .dataframe thead th {\n",
              "        text-align: right;\n",
              "    }\n",
              "</style>\n",
              "<table border=\"1\" class=\"dataframe\">\n",
              "  <thead>\n",
              "    <tr style=\"text-align: right;\">\n",
              "      <th></th>\n",
              "      <th>year</th>\n",
              "      <th>jan</th>\n",
              "      <th>feb</th>\n",
              "      <th>mar</th>\n",
              "      <th>apr</th>\n",
              "      <th>may</th>\n",
              "      <th>jun</th>\n",
              "      <th>jul</th>\n",
              "      <th>aug</th>\n",
              "      <th>sep</th>\n",
              "      <th>...</th>\n",
              "      <th>thu</th>\n",
              "      <th>fri</th>\n",
              "      <th>sat</th>\n",
              "      <th>sun</th>\n",
              "      <th>temp</th>\n",
              "      <th>visib</th>\n",
              "      <th>wdsp</th>\n",
              "      <th>slp</th>\n",
              "      <th>dewp</th>\n",
              "      <th>num_collisions</th>\n",
              "    </tr>\n",
              "  </thead>\n",
              "  <tbody>\n",
              "    <tr>\n",
              "      <th>0</th>\n",
              "      <td>2016</td>\n",
              "      <td>0</td>\n",
              "      <td>0</td>\n",
              "      <td>0</td>\n",
              "      <td>0</td>\n",
              "      <td>0</td>\n",
              "      <td>0</td>\n",
              "      <td>0</td>\n",
              "      <td>0</td>\n",
              "      <td>0</td>\n",
              "      <td>...</td>\n",
              "      <td>0</td>\n",
              "      <td>0</td>\n",
              "      <td>1</td>\n",
              "      <td>0</td>\n",
              "      <td>15.8</td>\n",
              "      <td>9.7</td>\n",
              "      <td>14.3</td>\n",
              "      <td>1023.5</td>\n",
              "      <td>12.3</td>\n",
              "      <td>523</td>\n",
              "    </tr>\n",
              "    <tr>\n",
              "      <th>1</th>\n",
              "      <td>2018</td>\n",
              "      <td>1</td>\n",
              "      <td>0</td>\n",
              "      <td>0</td>\n",
              "      <td>0</td>\n",
              "      <td>0</td>\n",
              "      <td>0</td>\n",
              "      <td>0</td>\n",
              "      <td>0</td>\n",
              "      <td>0</td>\n",
              "      <td>...</td>\n",
              "      <td>0</td>\n",
              "      <td>0</td>\n",
              "      <td>0</td>\n",
              "      <td>0</td>\n",
              "      <td>-3.7</td>\n",
              "      <td>10.0</td>\n",
              "      <td>16.6</td>\n",
              "      <td>1035.0</td>\n",
              "      <td>-13.9</td>\n",
              "      <td>677</td>\n",
              "    </tr>\n",
              "    <tr>\n",
              "      <th>2</th>\n",
              "      <td>2017</td>\n",
              "      <td>0</td>\n",
              "      <td>0</td>\n",
              "      <td>0</td>\n",
              "      <td>0</td>\n",
              "      <td>0</td>\n",
              "      <td>0</td>\n",
              "      <td>1</td>\n",
              "      <td>0</td>\n",
              "      <td>0</td>\n",
              "      <td>...</td>\n",
              "      <td>0</td>\n",
              "      <td>0</td>\n",
              "      <td>0</td>\n",
              "      <td>0</td>\n",
              "      <td>24.2</td>\n",
              "      <td>5.7</td>\n",
              "      <td>9.0</td>\n",
              "      <td>1010.4</td>\n",
              "      <td>20.9</td>\n",
              "      <td>733</td>\n",
              "    </tr>\n",
              "    <tr>\n",
              "      <th>3</th>\n",
              "      <td>2019</td>\n",
              "      <td>1</td>\n",
              "      <td>0</td>\n",
              "      <td>0</td>\n",
              "      <td>0</td>\n",
              "      <td>0</td>\n",
              "      <td>0</td>\n",
              "      <td>0</td>\n",
              "      <td>0</td>\n",
              "      <td>0</td>\n",
              "      <td>...</td>\n",
              "      <td>0</td>\n",
              "      <td>0</td>\n",
              "      <td>0</td>\n",
              "      <td>0</td>\n",
              "      <td>6.9</td>\n",
              "      <td>5.6</td>\n",
              "      <td>15.4</td>\n",
              "      <td>997.6</td>\n",
              "      <td>4.2</td>\n",
              "      <td>514</td>\n",
              "    </tr>\n",
              "    <tr>\n",
              "      <th>4</th>\n",
              "      <td>2016</td>\n",
              "      <td>0</td>\n",
              "      <td>0</td>\n",
              "      <td>0</td>\n",
              "      <td>0</td>\n",
              "      <td>0</td>\n",
              "      <td>0</td>\n",
              "      <td>0</td>\n",
              "      <td>1</td>\n",
              "      <td>0</td>\n",
              "      <td>...</td>\n",
              "      <td>0</td>\n",
              "      <td>0</td>\n",
              "      <td>0</td>\n",
              "      <td>0</td>\n",
              "      <td>23.1</td>\n",
              "      <td>4.7</td>\n",
              "      <td>12.8</td>\n",
              "      <td>1018.5</td>\n",
              "      <td>22.1</td>\n",
              "      <td>672</td>\n",
              "    </tr>\n",
              "  </tbody>\n",
              "</table>\n",
              "<p>5 rows × 26 columns</p>\n",
              "</div>\n",
              "      <button class=\"colab-df-convert\" onclick=\"convertToInteractive('df-f7cf8a15-56e7-44b0-995b-d388d46b05b1')\"\n",
              "              title=\"Convert this dataframe to an interactive table.\"\n",
              "              style=\"display:none;\">\n",
              "        \n",
              "  <svg xmlns=\"http://www.w3.org/2000/svg\" height=\"24px\"viewBox=\"0 0 24 24\"\n",
              "       width=\"24px\">\n",
              "    <path d=\"M0 0h24v24H0V0z\" fill=\"none\"/>\n",
              "    <path d=\"M18.56 5.44l.94 2.06.94-2.06 2.06-.94-2.06-.94-.94-2.06-.94 2.06-2.06.94zm-11 1L8.5 8.5l.94-2.06 2.06-.94-2.06-.94L8.5 2.5l-.94 2.06-2.06.94zm10 10l.94 2.06.94-2.06 2.06-.94-2.06-.94-.94-2.06-.94 2.06-2.06.94z\"/><path d=\"M17.41 7.96l-1.37-1.37c-.4-.4-.92-.59-1.43-.59-.52 0-1.04.2-1.43.59L10.3 9.45l-7.72 7.72c-.78.78-.78 2.05 0 2.83L4 21.41c.39.39.9.59 1.41.59.51 0 1.02-.2 1.41-.59l7.78-7.78 2.81-2.81c.8-.78.8-2.07 0-2.86zM5.41 20L4 18.59l7.72-7.72 1.47 1.35L5.41 20z\"/>\n",
              "  </svg>\n",
              "      </button>\n",
              "      \n",
              "  <style>\n",
              "    .colab-df-container {\n",
              "      display:flex;\n",
              "      flex-wrap:wrap;\n",
              "      gap: 12px;\n",
              "    }\n",
              "\n",
              "    .colab-df-convert {\n",
              "      background-color: #E8F0FE;\n",
              "      border: none;\n",
              "      border-radius: 50%;\n",
              "      cursor: pointer;\n",
              "      display: none;\n",
              "      fill: #1967D2;\n",
              "      height: 32px;\n",
              "      padding: 0 0 0 0;\n",
              "      width: 32px;\n",
              "    }\n",
              "\n",
              "    .colab-df-convert:hover {\n",
              "      background-color: #E2EBFA;\n",
              "      box-shadow: 0px 1px 2px rgba(60, 64, 67, 0.3), 0px 1px 3px 1px rgba(60, 64, 67, 0.15);\n",
              "      fill: #174EA6;\n",
              "    }\n",
              "\n",
              "    [theme=dark] .colab-df-convert {\n",
              "      background-color: #3B4455;\n",
              "      fill: #D2E3FC;\n",
              "    }\n",
              "\n",
              "    [theme=dark] .colab-df-convert:hover {\n",
              "      background-color: #434B5C;\n",
              "      box-shadow: 0px 1px 3px 1px rgba(0, 0, 0, 0.15);\n",
              "      filter: drop-shadow(0px 1px 2px rgba(0, 0, 0, 0.3));\n",
              "      fill: #FFFFFF;\n",
              "    }\n",
              "  </style>\n",
              "\n",
              "      <script>\n",
              "        const buttonEl =\n",
              "          document.querySelector('#df-f7cf8a15-56e7-44b0-995b-d388d46b05b1 button.colab-df-convert');\n",
              "        buttonEl.style.display =\n",
              "          google.colab.kernel.accessAllowed ? 'block' : 'none';\n",
              "\n",
              "        async function convertToInteractive(key) {\n",
              "          const element = document.querySelector('#df-f7cf8a15-56e7-44b0-995b-d388d46b05b1');\n",
              "          const dataTable =\n",
              "            await google.colab.kernel.invokeFunction('convertToInteractive',\n",
              "                                                     [key], {});\n",
              "          if (!dataTable) return;\n",
              "\n",
              "          const docLinkHtml = 'Like what you see? Visit the ' +\n",
              "            '<a target=\"_blank\" href=https://colab.research.google.com/notebooks/data_table.ipynb>data table notebook</a>'\n",
              "            + ' to learn more about interactive tables.';\n",
              "          element.innerHTML = '';\n",
              "          dataTable['output_type'] = 'display_data';\n",
              "          await google.colab.output.renderOutput(dataTable, element);\n",
              "          const docLink = document.createElement('div');\n",
              "          docLink.innerHTML = docLinkHtml;\n",
              "          element.appendChild(docLink);\n",
              "        }\n",
              "      </script>\n",
              "    </div>\n",
              "  </div>\n",
              "  "
            ]
          },
          "metadata": {},
          "execution_count": 756
        }
      ]
    },
    {
      "cell_type": "markdown",
      "source": [
        "##### Test Data"
      ],
      "metadata": {
        "id": "edtmJzMPhtOe"
      }
    },
    {
      "cell_type": "code",
      "source": [
        "url = \"https://raw.githubusercontent.com/AaronM44/DAOTW-Assignment-1/main/outputs/col_dnn_2_test.csv\"\n",
        "\n",
        "raw_col_dnn_2_test = pd.read_csv(url)\n",
        "\n",
        "df_col_dnn_2_test = raw_col_dnn_2_test.copy()\n",
        "\n",
        "df_col_dnn_2_test = df_col_dnn_2_test.drop(df_col_dnn_2_test.columns[[0, 1]], axis=1)\n",
        "\n",
        "df_col_dnn_2_test.head()"
      ],
      "metadata": {
        "id": "iRem23lHhYCK",
        "outputId": "cac4e4a8-67bb-419c-e41a-9ca245281ae2",
        "colab": {
          "base_uri": "https://localhost:8080/",
          "height": 236
        }
      },
      "execution_count": 757,
      "outputs": [
        {
          "output_type": "execute_result",
          "data": {
            "text/plain": [
              "   year  jan  feb  mar  apr  may  jun  jul  aug  sep  ...  thu  fri  sat  sun  \\\n",
              "0  2013    1    0    0    0    0    0    0    0    0  ...    0    0    0    0   \n",
              "1  2013    1    0    0    0    0    0    0    0    0  ...    0    0    0    0   \n",
              "2  2013    1    0    0    0    0    0    0    0    0  ...    0    0    0    0   \n",
              "3  2013    1    0    0    0    0    0    0    0    0  ...    0    1    0    0   \n",
              "4  2013    1    0    0    0    0    0    0    0    0  ...    0    0    0    0   \n",
              "\n",
              "   temp  visib  wdsp     slp  dewp  num_collisions  \n",
              "0  -2.5   10.0  14.3  1013.4 -11.1             480  \n",
              "1  -5.7   10.0  11.3  1018.1 -13.4             549  \n",
              "2   0.1   10.0  13.0  1015.2  -6.1             505  \n",
              "3   2.1    9.8   6.8  1019.7  -0.4             393  \n",
              "4   4.4    6.8   6.1  1026.2   3.1             487  \n",
              "\n",
              "[5 rows x 26 columns]"
            ],
            "text/html": [
              "\n",
              "  <div id=\"df-07a046ea-3e96-4bbe-ad8a-b7d53cefe0d0\">\n",
              "    <div class=\"colab-df-container\">\n",
              "      <div>\n",
              "<style scoped>\n",
              "    .dataframe tbody tr th:only-of-type {\n",
              "        vertical-align: middle;\n",
              "    }\n",
              "\n",
              "    .dataframe tbody tr th {\n",
              "        vertical-align: top;\n",
              "    }\n",
              "\n",
              "    .dataframe thead th {\n",
              "        text-align: right;\n",
              "    }\n",
              "</style>\n",
              "<table border=\"1\" class=\"dataframe\">\n",
              "  <thead>\n",
              "    <tr style=\"text-align: right;\">\n",
              "      <th></th>\n",
              "      <th>year</th>\n",
              "      <th>jan</th>\n",
              "      <th>feb</th>\n",
              "      <th>mar</th>\n",
              "      <th>apr</th>\n",
              "      <th>may</th>\n",
              "      <th>jun</th>\n",
              "      <th>jul</th>\n",
              "      <th>aug</th>\n",
              "      <th>sep</th>\n",
              "      <th>...</th>\n",
              "      <th>thu</th>\n",
              "      <th>fri</th>\n",
              "      <th>sat</th>\n",
              "      <th>sun</th>\n",
              "      <th>temp</th>\n",
              "      <th>visib</th>\n",
              "      <th>wdsp</th>\n",
              "      <th>slp</th>\n",
              "      <th>dewp</th>\n",
              "      <th>num_collisions</th>\n",
              "    </tr>\n",
              "  </thead>\n",
              "  <tbody>\n",
              "    <tr>\n",
              "      <th>0</th>\n",
              "      <td>2013</td>\n",
              "      <td>1</td>\n",
              "      <td>0</td>\n",
              "      <td>0</td>\n",
              "      <td>0</td>\n",
              "      <td>0</td>\n",
              "      <td>0</td>\n",
              "      <td>0</td>\n",
              "      <td>0</td>\n",
              "      <td>0</td>\n",
              "      <td>...</td>\n",
              "      <td>0</td>\n",
              "      <td>0</td>\n",
              "      <td>0</td>\n",
              "      <td>0</td>\n",
              "      <td>-2.5</td>\n",
              "      <td>10.0</td>\n",
              "      <td>14.3</td>\n",
              "      <td>1013.4</td>\n",
              "      <td>-11.1</td>\n",
              "      <td>480</td>\n",
              "    </tr>\n",
              "    <tr>\n",
              "      <th>1</th>\n",
              "      <td>2013</td>\n",
              "      <td>1</td>\n",
              "      <td>0</td>\n",
              "      <td>0</td>\n",
              "      <td>0</td>\n",
              "      <td>0</td>\n",
              "      <td>0</td>\n",
              "      <td>0</td>\n",
              "      <td>0</td>\n",
              "      <td>0</td>\n",
              "      <td>...</td>\n",
              "      <td>0</td>\n",
              "      <td>0</td>\n",
              "      <td>0</td>\n",
              "      <td>0</td>\n",
              "      <td>-5.7</td>\n",
              "      <td>10.0</td>\n",
              "      <td>11.3</td>\n",
              "      <td>1018.1</td>\n",
              "      <td>-13.4</td>\n",
              "      <td>549</td>\n",
              "    </tr>\n",
              "    <tr>\n",
              "      <th>2</th>\n",
              "      <td>2013</td>\n",
              "      <td>1</td>\n",
              "      <td>0</td>\n",
              "      <td>0</td>\n",
              "      <td>0</td>\n",
              "      <td>0</td>\n",
              "      <td>0</td>\n",
              "      <td>0</td>\n",
              "      <td>0</td>\n",
              "      <td>0</td>\n",
              "      <td>...</td>\n",
              "      <td>0</td>\n",
              "      <td>0</td>\n",
              "      <td>0</td>\n",
              "      <td>0</td>\n",
              "      <td>0.1</td>\n",
              "      <td>10.0</td>\n",
              "      <td>13.0</td>\n",
              "      <td>1015.2</td>\n",
              "      <td>-6.1</td>\n",
              "      <td>505</td>\n",
              "    </tr>\n",
              "    <tr>\n",
              "      <th>3</th>\n",
              "      <td>2013</td>\n",
              "      <td>1</td>\n",
              "      <td>0</td>\n",
              "      <td>0</td>\n",
              "      <td>0</td>\n",
              "      <td>0</td>\n",
              "      <td>0</td>\n",
              "      <td>0</td>\n",
              "      <td>0</td>\n",
              "      <td>0</td>\n",
              "      <td>...</td>\n",
              "      <td>0</td>\n",
              "      <td>1</td>\n",
              "      <td>0</td>\n",
              "      <td>0</td>\n",
              "      <td>2.1</td>\n",
              "      <td>9.8</td>\n",
              "      <td>6.8</td>\n",
              "      <td>1019.7</td>\n",
              "      <td>-0.4</td>\n",
              "      <td>393</td>\n",
              "    </tr>\n",
              "    <tr>\n",
              "      <th>4</th>\n",
              "      <td>2013</td>\n",
              "      <td>1</td>\n",
              "      <td>0</td>\n",
              "      <td>0</td>\n",
              "      <td>0</td>\n",
              "      <td>0</td>\n",
              "      <td>0</td>\n",
              "      <td>0</td>\n",
              "      <td>0</td>\n",
              "      <td>0</td>\n",
              "      <td>...</td>\n",
              "      <td>0</td>\n",
              "      <td>0</td>\n",
              "      <td>0</td>\n",
              "      <td>0</td>\n",
              "      <td>4.4</td>\n",
              "      <td>6.8</td>\n",
              "      <td>6.1</td>\n",
              "      <td>1026.2</td>\n",
              "      <td>3.1</td>\n",
              "      <td>487</td>\n",
              "    </tr>\n",
              "  </tbody>\n",
              "</table>\n",
              "<p>5 rows × 26 columns</p>\n",
              "</div>\n",
              "      <button class=\"colab-df-convert\" onclick=\"convertToInteractive('df-07a046ea-3e96-4bbe-ad8a-b7d53cefe0d0')\"\n",
              "              title=\"Convert this dataframe to an interactive table.\"\n",
              "              style=\"display:none;\">\n",
              "        \n",
              "  <svg xmlns=\"http://www.w3.org/2000/svg\" height=\"24px\"viewBox=\"0 0 24 24\"\n",
              "       width=\"24px\">\n",
              "    <path d=\"M0 0h24v24H0V0z\" fill=\"none\"/>\n",
              "    <path d=\"M18.56 5.44l.94 2.06.94-2.06 2.06-.94-2.06-.94-.94-2.06-.94 2.06-2.06.94zm-11 1L8.5 8.5l.94-2.06 2.06-.94-2.06-.94L8.5 2.5l-.94 2.06-2.06.94zm10 10l.94 2.06.94-2.06 2.06-.94-2.06-.94-.94-2.06-.94 2.06-2.06.94z\"/><path d=\"M17.41 7.96l-1.37-1.37c-.4-.4-.92-.59-1.43-.59-.52 0-1.04.2-1.43.59L10.3 9.45l-7.72 7.72c-.78.78-.78 2.05 0 2.83L4 21.41c.39.39.9.59 1.41.59.51 0 1.02-.2 1.41-.59l7.78-7.78 2.81-2.81c.8-.78.8-2.07 0-2.86zM5.41 20L4 18.59l7.72-7.72 1.47 1.35L5.41 20z\"/>\n",
              "  </svg>\n",
              "      </button>\n",
              "      \n",
              "  <style>\n",
              "    .colab-df-container {\n",
              "      display:flex;\n",
              "      flex-wrap:wrap;\n",
              "      gap: 12px;\n",
              "    }\n",
              "\n",
              "    .colab-df-convert {\n",
              "      background-color: #E8F0FE;\n",
              "      border: none;\n",
              "      border-radius: 50%;\n",
              "      cursor: pointer;\n",
              "      display: none;\n",
              "      fill: #1967D2;\n",
              "      height: 32px;\n",
              "      padding: 0 0 0 0;\n",
              "      width: 32px;\n",
              "    }\n",
              "\n",
              "    .colab-df-convert:hover {\n",
              "      background-color: #E2EBFA;\n",
              "      box-shadow: 0px 1px 2px rgba(60, 64, 67, 0.3), 0px 1px 3px 1px rgba(60, 64, 67, 0.15);\n",
              "      fill: #174EA6;\n",
              "    }\n",
              "\n",
              "    [theme=dark] .colab-df-convert {\n",
              "      background-color: #3B4455;\n",
              "      fill: #D2E3FC;\n",
              "    }\n",
              "\n",
              "    [theme=dark] .colab-df-convert:hover {\n",
              "      background-color: #434B5C;\n",
              "      box-shadow: 0px 1px 3px 1px rgba(0, 0, 0, 0.15);\n",
              "      filter: drop-shadow(0px 1px 2px rgba(0, 0, 0, 0.3));\n",
              "      fill: #FFFFFF;\n",
              "    }\n",
              "  </style>\n",
              "\n",
              "      <script>\n",
              "        const buttonEl =\n",
              "          document.querySelector('#df-07a046ea-3e96-4bbe-ad8a-b7d53cefe0d0 button.colab-df-convert');\n",
              "        buttonEl.style.display =\n",
              "          google.colab.kernel.accessAllowed ? 'block' : 'none';\n",
              "\n",
              "        async function convertToInteractive(key) {\n",
              "          const element = document.querySelector('#df-07a046ea-3e96-4bbe-ad8a-b7d53cefe0d0');\n",
              "          const dataTable =\n",
              "            await google.colab.kernel.invokeFunction('convertToInteractive',\n",
              "                                                     [key], {});\n",
              "          if (!dataTable) return;\n",
              "\n",
              "          const docLinkHtml = 'Like what you see? Visit the ' +\n",
              "            '<a target=\"_blank\" href=https://colab.research.google.com/notebooks/data_table.ipynb>data table notebook</a>'\n",
              "            + ' to learn more about interactive tables.';\n",
              "          element.innerHTML = '';\n",
              "          dataTable['output_type'] = 'display_data';\n",
              "          await google.colab.output.renderOutput(dataTable, element);\n",
              "          const docLink = document.createElement('div');\n",
              "          docLink.innerHTML = docLinkHtml;\n",
              "          element.appendChild(docLink);\n",
              "        }\n",
              "      </script>\n",
              "    </div>\n",
              "  </div>\n",
              "  "
            ]
          },
          "metadata": {},
          "execution_count": 757
        }
      ]
    },
    {
      "cell_type": "markdown",
      "source": [
        "#### Check for NAs"
      ],
      "metadata": {
        "id": "vbz7IIqliDyO"
      }
    },
    {
      "cell_type": "code",
      "source": [
        "df_col_dnn_2_train.isna().sum()"
      ],
      "metadata": {
        "id": "Xc6GDa7biS_J",
        "outputId": "5144f8d0-bb38-4d3f-b57a-c1a5d82350c0",
        "colab": {
          "base_uri": "https://localhost:8080/"
        }
      },
      "execution_count": 758,
      "outputs": [
        {
          "output_type": "execute_result",
          "data": {
            "text/plain": [
              "year              0\n",
              "jan               0\n",
              "feb               0\n",
              "mar               0\n",
              "apr               0\n",
              "may               0\n",
              "jun               0\n",
              "jul               0\n",
              "aug               0\n",
              "sep               0\n",
              "oct               0\n",
              "nov               0\n",
              "dec               0\n",
              "mon               0\n",
              "tue               0\n",
              "wed               0\n",
              "thu               0\n",
              "fri               0\n",
              "sat               0\n",
              "sun               0\n",
              "temp              0\n",
              "visib             0\n",
              "wdsp              0\n",
              "slp               0\n",
              "dewp              0\n",
              "num_collisions    0\n",
              "dtype: int64"
            ]
          },
          "metadata": {},
          "execution_count": 758
        }
      ]
    },
    {
      "cell_type": "markdown",
      "source": [
        "#### Overview of Data"
      ],
      "metadata": {
        "id": "eG4UHvSNig64"
      }
    },
    {
      "cell_type": "code",
      "source": [
        "df_col_dnn_2_train.describe().transpose()"
      ],
      "metadata": {
        "id": "m35VmuI4iinL",
        "outputId": "debd3aa0-b633-4e9a-e292-21b91218ad5d",
        "colab": {
          "base_uri": "https://localhost:8080/",
          "height": 865
        }
      },
      "execution_count": 759,
      "outputs": [
        {
          "output_type": "execute_result",
          "data": {
            "text/plain": [
              "                 count         mean        std     min     25%      50%  \\\n",
              "year            1766.0  2015.983012   1.996809  2013.0  2014.0  2016.00   \n",
              "jan             1766.0     0.082673   0.275465     0.0     0.0     0.00   \n",
              "feb             1766.0     0.070781   0.256532     0.0     0.0     0.00   \n",
              "mar             1766.0     0.087769   0.283039     0.0     0.0     0.00   \n",
              "apr             1766.0     0.078143   0.268472     0.0     0.0     0.00   \n",
              "may             1766.0     0.083805   0.277174     0.0     0.0     0.00   \n",
              "jun             1766.0     0.080408   0.272000     0.0     0.0     0.00   \n",
              "jul             1766.0     0.090600   0.287121     0.0     0.0     0.00   \n",
              "aug             1766.0     0.087203   0.282212     0.0     0.0     0.00   \n",
              "sep             1766.0     0.084938   0.278868     0.0     0.0     0.00   \n",
              "oct             1766.0     0.091166   0.287927     0.0     0.0     0.00   \n",
              "nov             1766.0     0.083805   0.277174     0.0     0.0     0.00   \n",
              "dec             1766.0     0.078709   0.269360     0.0     0.0     0.00   \n",
              "mon             1766.0     0.143828   0.351014     0.0     0.0     0.00   \n",
              "tue             1766.0     0.145527   0.352731     0.0     0.0     0.00   \n",
              "wed             1766.0     0.135334   0.342177     0.0     0.0     0.00   \n",
              "thu             1766.0     0.144394   0.351588     0.0     0.0     0.00   \n",
              "fri             1766.0     0.135900   0.342780     0.0     0.0     0.00   \n",
              "sat             1766.0     0.146659   0.353866     0.0     0.0     0.00   \n",
              "sun             1766.0     0.148358   0.355555     0.0     0.0     0.00   \n",
              "temp            1766.0    10.968403   7.813704   -12.6     4.8    11.30   \n",
              "visib           1766.0     8.337203   2.171782     0.2     7.1     9.40   \n",
              "wdsp            1766.0    12.244960   4.799106     3.2     8.9    11.60   \n",
              "slp             1766.0  1016.919989   7.468446   990.4  1012.4  1016.85   \n",
              "dewp            1766.0     6.892129   9.429073   -20.3     0.1     7.70   \n",
              "num_collisions  1766.0   599.720838  93.405684   355.0   534.0   603.00   \n",
              "\n",
              "                   75%     max  \n",
              "year            2018.0  2019.0  \n",
              "jan                0.0     1.0  \n",
              "feb                0.0     1.0  \n",
              "mar                0.0     1.0  \n",
              "apr                0.0     1.0  \n",
              "may                0.0     1.0  \n",
              "jun                0.0     1.0  \n",
              "jul                0.0     1.0  \n",
              "aug                0.0     1.0  \n",
              "sep                0.0     1.0  \n",
              "oct                0.0     1.0  \n",
              "nov                0.0     1.0  \n",
              "dec                0.0     1.0  \n",
              "mon                0.0     1.0  \n",
              "tue                0.0     1.0  \n",
              "wed                0.0     1.0  \n",
              "thu                0.0     1.0  \n",
              "fri                0.0     1.0  \n",
              "sat                0.0     1.0  \n",
              "sun                0.0     1.0  \n",
              "temp              17.9    25.3  \n",
              "visib             10.0    10.0  \n",
              "wdsp              15.0    40.6  \n",
              "slp             1021.8  1039.1  \n",
              "dewp              14.8    22.9  \n",
              "num_collisions   662.0   845.0  "
            ],
            "text/html": [
              "\n",
              "  <div id=\"df-4238820c-63fc-42c3-8359-da1f79b7ab58\">\n",
              "    <div class=\"colab-df-container\">\n",
              "      <div>\n",
              "<style scoped>\n",
              "    .dataframe tbody tr th:only-of-type {\n",
              "        vertical-align: middle;\n",
              "    }\n",
              "\n",
              "    .dataframe tbody tr th {\n",
              "        vertical-align: top;\n",
              "    }\n",
              "\n",
              "    .dataframe thead th {\n",
              "        text-align: right;\n",
              "    }\n",
              "</style>\n",
              "<table border=\"1\" class=\"dataframe\">\n",
              "  <thead>\n",
              "    <tr style=\"text-align: right;\">\n",
              "      <th></th>\n",
              "      <th>count</th>\n",
              "      <th>mean</th>\n",
              "      <th>std</th>\n",
              "      <th>min</th>\n",
              "      <th>25%</th>\n",
              "      <th>50%</th>\n",
              "      <th>75%</th>\n",
              "      <th>max</th>\n",
              "    </tr>\n",
              "  </thead>\n",
              "  <tbody>\n",
              "    <tr>\n",
              "      <th>year</th>\n",
              "      <td>1766.0</td>\n",
              "      <td>2015.983012</td>\n",
              "      <td>1.996809</td>\n",
              "      <td>2013.0</td>\n",
              "      <td>2014.0</td>\n",
              "      <td>2016.00</td>\n",
              "      <td>2018.0</td>\n",
              "      <td>2019.0</td>\n",
              "    </tr>\n",
              "    <tr>\n",
              "      <th>jan</th>\n",
              "      <td>1766.0</td>\n",
              "      <td>0.082673</td>\n",
              "      <td>0.275465</td>\n",
              "      <td>0.0</td>\n",
              "      <td>0.0</td>\n",
              "      <td>0.00</td>\n",
              "      <td>0.0</td>\n",
              "      <td>1.0</td>\n",
              "    </tr>\n",
              "    <tr>\n",
              "      <th>feb</th>\n",
              "      <td>1766.0</td>\n",
              "      <td>0.070781</td>\n",
              "      <td>0.256532</td>\n",
              "      <td>0.0</td>\n",
              "      <td>0.0</td>\n",
              "      <td>0.00</td>\n",
              "      <td>0.0</td>\n",
              "      <td>1.0</td>\n",
              "    </tr>\n",
              "    <tr>\n",
              "      <th>mar</th>\n",
              "      <td>1766.0</td>\n",
              "      <td>0.087769</td>\n",
              "      <td>0.283039</td>\n",
              "      <td>0.0</td>\n",
              "      <td>0.0</td>\n",
              "      <td>0.00</td>\n",
              "      <td>0.0</td>\n",
              "      <td>1.0</td>\n",
              "    </tr>\n",
              "    <tr>\n",
              "      <th>apr</th>\n",
              "      <td>1766.0</td>\n",
              "      <td>0.078143</td>\n",
              "      <td>0.268472</td>\n",
              "      <td>0.0</td>\n",
              "      <td>0.0</td>\n",
              "      <td>0.00</td>\n",
              "      <td>0.0</td>\n",
              "      <td>1.0</td>\n",
              "    </tr>\n",
              "    <tr>\n",
              "      <th>may</th>\n",
              "      <td>1766.0</td>\n",
              "      <td>0.083805</td>\n",
              "      <td>0.277174</td>\n",
              "      <td>0.0</td>\n",
              "      <td>0.0</td>\n",
              "      <td>0.00</td>\n",
              "      <td>0.0</td>\n",
              "      <td>1.0</td>\n",
              "    </tr>\n",
              "    <tr>\n",
              "      <th>jun</th>\n",
              "      <td>1766.0</td>\n",
              "      <td>0.080408</td>\n",
              "      <td>0.272000</td>\n",
              "      <td>0.0</td>\n",
              "      <td>0.0</td>\n",
              "      <td>0.00</td>\n",
              "      <td>0.0</td>\n",
              "      <td>1.0</td>\n",
              "    </tr>\n",
              "    <tr>\n",
              "      <th>jul</th>\n",
              "      <td>1766.0</td>\n",
              "      <td>0.090600</td>\n",
              "      <td>0.287121</td>\n",
              "      <td>0.0</td>\n",
              "      <td>0.0</td>\n",
              "      <td>0.00</td>\n",
              "      <td>0.0</td>\n",
              "      <td>1.0</td>\n",
              "    </tr>\n",
              "    <tr>\n",
              "      <th>aug</th>\n",
              "      <td>1766.0</td>\n",
              "      <td>0.087203</td>\n",
              "      <td>0.282212</td>\n",
              "      <td>0.0</td>\n",
              "      <td>0.0</td>\n",
              "      <td>0.00</td>\n",
              "      <td>0.0</td>\n",
              "      <td>1.0</td>\n",
              "    </tr>\n",
              "    <tr>\n",
              "      <th>sep</th>\n",
              "      <td>1766.0</td>\n",
              "      <td>0.084938</td>\n",
              "      <td>0.278868</td>\n",
              "      <td>0.0</td>\n",
              "      <td>0.0</td>\n",
              "      <td>0.00</td>\n",
              "      <td>0.0</td>\n",
              "      <td>1.0</td>\n",
              "    </tr>\n",
              "    <tr>\n",
              "      <th>oct</th>\n",
              "      <td>1766.0</td>\n",
              "      <td>0.091166</td>\n",
              "      <td>0.287927</td>\n",
              "      <td>0.0</td>\n",
              "      <td>0.0</td>\n",
              "      <td>0.00</td>\n",
              "      <td>0.0</td>\n",
              "      <td>1.0</td>\n",
              "    </tr>\n",
              "    <tr>\n",
              "      <th>nov</th>\n",
              "      <td>1766.0</td>\n",
              "      <td>0.083805</td>\n",
              "      <td>0.277174</td>\n",
              "      <td>0.0</td>\n",
              "      <td>0.0</td>\n",
              "      <td>0.00</td>\n",
              "      <td>0.0</td>\n",
              "      <td>1.0</td>\n",
              "    </tr>\n",
              "    <tr>\n",
              "      <th>dec</th>\n",
              "      <td>1766.0</td>\n",
              "      <td>0.078709</td>\n",
              "      <td>0.269360</td>\n",
              "      <td>0.0</td>\n",
              "      <td>0.0</td>\n",
              "      <td>0.00</td>\n",
              "      <td>0.0</td>\n",
              "      <td>1.0</td>\n",
              "    </tr>\n",
              "    <tr>\n",
              "      <th>mon</th>\n",
              "      <td>1766.0</td>\n",
              "      <td>0.143828</td>\n",
              "      <td>0.351014</td>\n",
              "      <td>0.0</td>\n",
              "      <td>0.0</td>\n",
              "      <td>0.00</td>\n",
              "      <td>0.0</td>\n",
              "      <td>1.0</td>\n",
              "    </tr>\n",
              "    <tr>\n",
              "      <th>tue</th>\n",
              "      <td>1766.0</td>\n",
              "      <td>0.145527</td>\n",
              "      <td>0.352731</td>\n",
              "      <td>0.0</td>\n",
              "      <td>0.0</td>\n",
              "      <td>0.00</td>\n",
              "      <td>0.0</td>\n",
              "      <td>1.0</td>\n",
              "    </tr>\n",
              "    <tr>\n",
              "      <th>wed</th>\n",
              "      <td>1766.0</td>\n",
              "      <td>0.135334</td>\n",
              "      <td>0.342177</td>\n",
              "      <td>0.0</td>\n",
              "      <td>0.0</td>\n",
              "      <td>0.00</td>\n",
              "      <td>0.0</td>\n",
              "      <td>1.0</td>\n",
              "    </tr>\n",
              "    <tr>\n",
              "      <th>thu</th>\n",
              "      <td>1766.0</td>\n",
              "      <td>0.144394</td>\n",
              "      <td>0.351588</td>\n",
              "      <td>0.0</td>\n",
              "      <td>0.0</td>\n",
              "      <td>0.00</td>\n",
              "      <td>0.0</td>\n",
              "      <td>1.0</td>\n",
              "    </tr>\n",
              "    <tr>\n",
              "      <th>fri</th>\n",
              "      <td>1766.0</td>\n",
              "      <td>0.135900</td>\n",
              "      <td>0.342780</td>\n",
              "      <td>0.0</td>\n",
              "      <td>0.0</td>\n",
              "      <td>0.00</td>\n",
              "      <td>0.0</td>\n",
              "      <td>1.0</td>\n",
              "    </tr>\n",
              "    <tr>\n",
              "      <th>sat</th>\n",
              "      <td>1766.0</td>\n",
              "      <td>0.146659</td>\n",
              "      <td>0.353866</td>\n",
              "      <td>0.0</td>\n",
              "      <td>0.0</td>\n",
              "      <td>0.00</td>\n",
              "      <td>0.0</td>\n",
              "      <td>1.0</td>\n",
              "    </tr>\n",
              "    <tr>\n",
              "      <th>sun</th>\n",
              "      <td>1766.0</td>\n",
              "      <td>0.148358</td>\n",
              "      <td>0.355555</td>\n",
              "      <td>0.0</td>\n",
              "      <td>0.0</td>\n",
              "      <td>0.00</td>\n",
              "      <td>0.0</td>\n",
              "      <td>1.0</td>\n",
              "    </tr>\n",
              "    <tr>\n",
              "      <th>temp</th>\n",
              "      <td>1766.0</td>\n",
              "      <td>10.968403</td>\n",
              "      <td>7.813704</td>\n",
              "      <td>-12.6</td>\n",
              "      <td>4.8</td>\n",
              "      <td>11.30</td>\n",
              "      <td>17.9</td>\n",
              "      <td>25.3</td>\n",
              "    </tr>\n",
              "    <tr>\n",
              "      <th>visib</th>\n",
              "      <td>1766.0</td>\n",
              "      <td>8.337203</td>\n",
              "      <td>2.171782</td>\n",
              "      <td>0.2</td>\n",
              "      <td>7.1</td>\n",
              "      <td>9.40</td>\n",
              "      <td>10.0</td>\n",
              "      <td>10.0</td>\n",
              "    </tr>\n",
              "    <tr>\n",
              "      <th>wdsp</th>\n",
              "      <td>1766.0</td>\n",
              "      <td>12.244960</td>\n",
              "      <td>4.799106</td>\n",
              "      <td>3.2</td>\n",
              "      <td>8.9</td>\n",
              "      <td>11.60</td>\n",
              "      <td>15.0</td>\n",
              "      <td>40.6</td>\n",
              "    </tr>\n",
              "    <tr>\n",
              "      <th>slp</th>\n",
              "      <td>1766.0</td>\n",
              "      <td>1016.919989</td>\n",
              "      <td>7.468446</td>\n",
              "      <td>990.4</td>\n",
              "      <td>1012.4</td>\n",
              "      <td>1016.85</td>\n",
              "      <td>1021.8</td>\n",
              "      <td>1039.1</td>\n",
              "    </tr>\n",
              "    <tr>\n",
              "      <th>dewp</th>\n",
              "      <td>1766.0</td>\n",
              "      <td>6.892129</td>\n",
              "      <td>9.429073</td>\n",
              "      <td>-20.3</td>\n",
              "      <td>0.1</td>\n",
              "      <td>7.70</td>\n",
              "      <td>14.8</td>\n",
              "      <td>22.9</td>\n",
              "    </tr>\n",
              "    <tr>\n",
              "      <th>num_collisions</th>\n",
              "      <td>1766.0</td>\n",
              "      <td>599.720838</td>\n",
              "      <td>93.405684</td>\n",
              "      <td>355.0</td>\n",
              "      <td>534.0</td>\n",
              "      <td>603.00</td>\n",
              "      <td>662.0</td>\n",
              "      <td>845.0</td>\n",
              "    </tr>\n",
              "  </tbody>\n",
              "</table>\n",
              "</div>\n",
              "      <button class=\"colab-df-convert\" onclick=\"convertToInteractive('df-4238820c-63fc-42c3-8359-da1f79b7ab58')\"\n",
              "              title=\"Convert this dataframe to an interactive table.\"\n",
              "              style=\"display:none;\">\n",
              "        \n",
              "  <svg xmlns=\"http://www.w3.org/2000/svg\" height=\"24px\"viewBox=\"0 0 24 24\"\n",
              "       width=\"24px\">\n",
              "    <path d=\"M0 0h24v24H0V0z\" fill=\"none\"/>\n",
              "    <path d=\"M18.56 5.44l.94 2.06.94-2.06 2.06-.94-2.06-.94-.94-2.06-.94 2.06-2.06.94zm-11 1L8.5 8.5l.94-2.06 2.06-.94-2.06-.94L8.5 2.5l-.94 2.06-2.06.94zm10 10l.94 2.06.94-2.06 2.06-.94-2.06-.94-.94-2.06-.94 2.06-2.06.94z\"/><path d=\"M17.41 7.96l-1.37-1.37c-.4-.4-.92-.59-1.43-.59-.52 0-1.04.2-1.43.59L10.3 9.45l-7.72 7.72c-.78.78-.78 2.05 0 2.83L4 21.41c.39.39.9.59 1.41.59.51 0 1.02-.2 1.41-.59l7.78-7.78 2.81-2.81c.8-.78.8-2.07 0-2.86zM5.41 20L4 18.59l7.72-7.72 1.47 1.35L5.41 20z\"/>\n",
              "  </svg>\n",
              "      </button>\n",
              "      \n",
              "  <style>\n",
              "    .colab-df-container {\n",
              "      display:flex;\n",
              "      flex-wrap:wrap;\n",
              "      gap: 12px;\n",
              "    }\n",
              "\n",
              "    .colab-df-convert {\n",
              "      background-color: #E8F0FE;\n",
              "      border: none;\n",
              "      border-radius: 50%;\n",
              "      cursor: pointer;\n",
              "      display: none;\n",
              "      fill: #1967D2;\n",
              "      height: 32px;\n",
              "      padding: 0 0 0 0;\n",
              "      width: 32px;\n",
              "    }\n",
              "\n",
              "    .colab-df-convert:hover {\n",
              "      background-color: #E2EBFA;\n",
              "      box-shadow: 0px 1px 2px rgba(60, 64, 67, 0.3), 0px 1px 3px 1px rgba(60, 64, 67, 0.15);\n",
              "      fill: #174EA6;\n",
              "    }\n",
              "\n",
              "    [theme=dark] .colab-df-convert {\n",
              "      background-color: #3B4455;\n",
              "      fill: #D2E3FC;\n",
              "    }\n",
              "\n",
              "    [theme=dark] .colab-df-convert:hover {\n",
              "      background-color: #434B5C;\n",
              "      box-shadow: 0px 1px 3px 1px rgba(0, 0, 0, 0.15);\n",
              "      filter: drop-shadow(0px 1px 2px rgba(0, 0, 0, 0.3));\n",
              "      fill: #FFFFFF;\n",
              "    }\n",
              "  </style>\n",
              "\n",
              "      <script>\n",
              "        const buttonEl =\n",
              "          document.querySelector('#df-4238820c-63fc-42c3-8359-da1f79b7ab58 button.colab-df-convert');\n",
              "        buttonEl.style.display =\n",
              "          google.colab.kernel.accessAllowed ? 'block' : 'none';\n",
              "\n",
              "        async function convertToInteractive(key) {\n",
              "          const element = document.querySelector('#df-4238820c-63fc-42c3-8359-da1f79b7ab58');\n",
              "          const dataTable =\n",
              "            await google.colab.kernel.invokeFunction('convertToInteractive',\n",
              "                                                     [key], {});\n",
              "          if (!dataTable) return;\n",
              "\n",
              "          const docLinkHtml = 'Like what you see? Visit the ' +\n",
              "            '<a target=\"_blank\" href=https://colab.research.google.com/notebooks/data_table.ipynb>data table notebook</a>'\n",
              "            + ' to learn more about interactive tables.';\n",
              "          element.innerHTML = '';\n",
              "          dataTable['output_type'] = 'display_data';\n",
              "          await google.colab.output.renderOutput(dataTable, element);\n",
              "          const docLink = document.createElement('div');\n",
              "          docLink.innerHTML = docLinkHtml;\n",
              "          element.appendChild(docLink);\n",
              "        }\n",
              "      </script>\n",
              "    </div>\n",
              "  </div>\n",
              "  "
            ]
          },
          "metadata": {},
          "execution_count": 759
        }
      ]
    },
    {
      "cell_type": "markdown",
      "source": [
        "#### Separate Features and Labels"
      ],
      "metadata": {
        "id": "ZMxxnQRoixTg"
      }
    },
    {
      "cell_type": "code",
      "source": [
        "df_col_dnn_2_train_feat = df_col_dnn_2_train.copy()\n",
        "df_col_dnn_2_test_feat = df_col_dnn_2_test.copy()\n",
        "\n",
        "df_col_dnn_2_train_lab = df_col_dnn_2_train_feat.pop('num_collisions')\n",
        "df_col_dnn_2_test_lab = df_col_dnn_2_test_feat.pop('num_collisions')"
      ],
      "metadata": {
        "id": "69QMlWPPiz0s"
      },
      "execution_count": 760,
      "outputs": []
    },
    {
      "cell_type": "markdown",
      "source": [
        "#### Model"
      ],
      "metadata": {
        "id": "NId5YV1njGwc"
      }
    },
    {
      "cell_type": "markdown",
      "source": [
        "##### Normaliser Layer"
      ],
      "metadata": {
        "id": "XtAWSfLCjOFt"
      }
    },
    {
      "cell_type": "code",
      "source": [
        "normaliser = tf.keras.layers.Normalization(axis=-1)\n",
        "\n",
        "normaliser.adapt(np.array(df_col_dnn_2_train_feat))\n",
        "\n",
        "print(normaliser.mean.numpy())"
      ],
      "metadata": {
        "id": "e2Elm6GYjMHF",
        "outputId": "6c2fc61d-94db-4fee-879a-af84d8351aaf",
        "colab": {
          "base_uri": "https://localhost:8080/"
        }
      },
      "execution_count": 761,
      "outputs": [
        {
          "output_type": "stream",
          "name": "stdout",
          "text": [
            "[[2015.983    0.083    0.071    0.088    0.078    0.084    0.08     0.091\n",
            "     0.087    0.085    0.091    0.084    0.079    0.144    0.146    0.135\n",
            "     0.144    0.136    0.147    0.148   10.968    8.337   12.245 1016.92\n",
            "     6.892]]\n"
          ]
        }
      ]
    },
    {
      "cell_type": "markdown",
      "source": [
        "##### Build Model"
      ],
      "metadata": {
        "id": "KMphbvajjb6m"
      }
    },
    {
      "cell_type": "code",
      "source": [
        "col_dnn_2 = np.array(df_col_dnn_2_train_feat)\n",
        "col_dnn_2_normaliser = layers.Normalization(axis=-1)\n",
        "col_dnn_2_normaliser.adapt(np.array(df_col_dnn_2_train_feat))"
      ],
      "metadata": {
        "id": "1o91XQOBjdrJ"
      },
      "execution_count": 762,
      "outputs": []
    },
    {
      "cell_type": "code",
      "source": [
        "col_dnn_2_model = build_and_compile_model(col_dnn_2_normaliser)\n",
        "\n",
        "col_dnn_2_model.summary()"
      ],
      "metadata": {
        "id": "OJEhqEw8joC_",
        "outputId": "f5bb60ee-fbe4-4998-dcc7-8e3802b9cbe8",
        "colab": {
          "base_uri": "https://localhost:8080/"
        }
      },
      "execution_count": 763,
      "outputs": [
        {
          "output_type": "stream",
          "name": "stdout",
          "text": [
            "Model: \"sequential_49\"\n",
            "_________________________________________________________________\n",
            " Layer (type)                Output Shape              Param #   \n",
            "=================================================================\n",
            " normalization_99 (Normaliza  (None, 25)               51        \n",
            " tion)                                                           \n",
            "                                                                 \n",
            " dense_93 (Dense)            (None, 64)                1664      \n",
            "                                                                 \n",
            " dense_94 (Dense)            (None, 64)                4160      \n",
            "                                                                 \n",
            " dense_95 (Dense)            (None, 1)                 65        \n",
            "                                                                 \n",
            "=================================================================\n",
            "Total params: 5,940\n",
            "Trainable params: 5,889\n",
            "Non-trainable params: 51\n",
            "_________________________________________________________________\n"
          ]
        }
      ]
    },
    {
      "cell_type": "markdown",
      "source": [
        "##### Create Callback"
      ],
      "metadata": {
        "id": "opiROVl8_okb"
      }
    },
    {
      "cell_type": "code",
      "source": [
        "earlystopping = callbacks.EarlyStopping(monitor =\"val_loss\", \n",
        "                                        mode =\"min\", patience = 5, \n",
        "                                        restore_best_weights = True)"
      ],
      "metadata": {
        "id": "ytue9eh7_qgJ"
      },
      "execution_count": 764,
      "outputs": []
    },
    {
      "cell_type": "markdown",
      "source": [
        "##### Execute Model"
      ],
      "metadata": {
        "id": "ELp_OYWt_rWC"
      }
    },
    {
      "cell_type": "code",
      "source": [
        "%%time\n",
        "history = col_dnn_2_model.fit(\n",
        "    df_col_dnn_2_train_feat,\n",
        "    df_col_dnn_2_train_lab,\n",
        "    validation_split=0.2,\n",
        "    verbose=0, \n",
        "    epochs=100,\n",
        "    callbacks = [earlystopping])"
      ],
      "metadata": {
        "id": "1cLAHE-FjwSt",
        "outputId": "e0f3ab50-afe4-41ff-8f58-3eb91e3ba64d",
        "colab": {
          "base_uri": "https://localhost:8080/"
        }
      },
      "execution_count": 765,
      "outputs": [
        {
          "output_type": "stream",
          "name": "stdout",
          "text": [
            "CPU times: user 6.66 s, sys: 361 ms, total: 7.02 s\n",
            "Wall time: 6.16 s\n"
          ]
        }
      ]
    },
    {
      "cell_type": "markdown",
      "source": [
        "##### Plot Loss"
      ],
      "metadata": {
        "id": "mPtYj9uR_51L"
      }
    },
    {
      "cell_type": "code",
      "source": [
        "plot_loss(history)"
      ],
      "metadata": {
        "id": "1LITO-R-j7pK",
        "outputId": "22565a22-0624-4d91-8ed3-ceee29486c1d",
        "colab": {
          "base_uri": "https://localhost:8080/",
          "height": 283
        }
      },
      "execution_count": 766,
      "outputs": [
        {
          "output_type": "display_data",
          "data": {
            "text/plain": [
              "<Figure size 432x288 with 1 Axes>"
            ],
            "image/png": "[encoded data removed]"
          },
          "metadata": {
            "needs_background": "light"
          }
        }
      ]
    },
    {
      "cell_type": "markdown",
      "source": [
        "##### Collect Results"
      ],
      "metadata": {
        "id": "-VKyJCbB_7pg"
      }
    },
    {
      "cell_type": "code",
      "source": [
        "test_results['col_dnn_2'] = col_dnn_2_model.evaluate(\n",
        "    df_col_dnn_2_test_feat, \n",
        "    df_col_dnn_2_test_lab, verbose=0)"
      ],
      "metadata": {
        "id": "1bQBhDKikCEV"
      },
      "execution_count": 767,
      "outputs": []
    },
    {
      "cell_type": "code",
      "source": [
        "for model in test_results:\n",
        "  print(\"Key : {} , Value : {}\".format(model, test_results[model]))"
      ],
      "metadata": {
        "id": "E2YAZ7WgkHeo",
        "outputId": "47792bcd-0664-4cf1-b3d8-cc246e06e19e",
        "colab": {
          "base_uri": "https://localhost:8080/"
        }
      },
      "execution_count": 768,
      "outputs": [
        {
          "output_type": "stream",
          "name": "stdout",
          "text": [
            "Key : temp_model , Value : 73.28533172607422\n",
            "Key : col_mod_1 , Value : 66.53189086914062\n",
            "Key : col_mod_2 , Value : 53.8358154296875\n",
            "Key : col_dnn_1 , Value : 56.14476776123047\n",
            "Key : col_dnn_2 , Value : 56.92817687988281\n"
          ]
        }
      ]
    },
    {
      "cell_type": "markdown",
      "source": [
        "### DNN 3"
      ],
      "metadata": {
        "id": "ikT5rL3Ilbcx"
      }
    },
    {
      "cell_type": "markdown",
      "source": [
        "Predictors:\n",
        "\n",
        "* Year\n",
        "* Month\n",
        "* Day of Week\n",
        "* Temperature\n",
        "* Visibility\n",
        "* Wind Speed\n",
        "* Surface Level Pressure\n",
        "* Dew Point Temperature\n",
        "* Max. Temperature\n",
        "* Min. Temperature\n",
        "* Max. Wind Speed\n",
        "* Fog\n",
        "* Precipitation\n",
        "\n"
      ],
      "metadata": {
        "id": "mZDpPHziF1mQ"
      }
    },
    {
      "cell_type": "markdown",
      "source": [
        "#### Read Data"
      ],
      "metadata": {
        "id": "w31ycqO4le4y"
      }
    },
    {
      "cell_type": "markdown",
      "source": [
        "##### Training Data"
      ],
      "metadata": {
        "id": "ofp5haf7lvUT"
      }
    },
    {
      "cell_type": "code",
      "source": [
        "url = \"https://raw.githubusercontent.com/AaronM44/DAOTW-Assignment-1/main/outputs/col_dnn_3_train.csv\"\n",
        "\n",
        "raw_col_dnn_3_train = pd.read_csv(url)\n",
        "\n",
        "df_col_dnn_3_train = raw_col_dnn_3_train.copy()\n",
        "\n",
        "df_col_dnn_3_train = df_col_dnn_3_train.drop(df_col_dnn_3_train.columns[[0, 1]], axis=1)\n",
        "\n",
        "df_col_dnn_3_train.head()"
      ],
      "metadata": {
        "id": "Lenh4C1-lw73",
        "outputId": "c9b3913e-8939-4c88-96ed-7b29d3eca6fc",
        "colab": {
          "base_uri": "https://localhost:8080/",
          "height": 236
        }
      },
      "execution_count": 769,
      "outputs": [
        {
          "output_type": "execute_result",
          "data": {
            "text/plain": [
              "   year  jan  feb  mar  apr  may  jun  jul  aug  sep  ...  visib  wdsp  \\\n",
              "0  2016    0    0    0    0    0    1    0    0    0  ...   10.0   7.6   \n",
              "1  2015    0    0    0    0    0    0    0    0    0  ...   10.0  13.5   \n",
              "2  2019    0    0    0    1    0    0    0    0    0  ...   10.0   9.7   \n",
              "3  2016    0    0    0    0    0    0    0    0    0  ...   10.0   8.2   \n",
              "4  2014    0    0    0    0    0    0    0    0    1  ...    8.6  10.2   \n",
              "\n",
              "      slp  dewp   max   min  mxpsd  fog  prcp  num_collisions  \n",
              "0  1009.1  13.5  23.3  12.8   16.1    0  0.00             689  \n",
              "1  1024.6  -8.3   8.9  -0.6   23.0    0  0.25             733  \n",
              "2  1027.0   1.8   8.9   1.7   15.0    0  0.00             688  \n",
              "3  1020.5   3.4  13.9   3.9   12.8    0  0.00             620  \n",
              "4  1031.0  12.9  20.0   9.4   17.3    0  0.00             491  \n",
              "\n",
              "[5 rows x 31 columns]"
            ],
            "text/html": [
              "\n",
              "  <div id=\"df-f8e10449-d7ee-4eb9-92f9-bd24cd5e2e8d\">\n",
              "    <div class=\"colab-df-container\">\n",
              "      <div>\n",
              "<style scoped>\n",
              "    .dataframe tbody tr th:only-of-type {\n",
              "        vertical-align: middle;\n",
              "    }\n",
              "\n",
              "    .dataframe tbody tr th {\n",
              "        vertical-align: top;\n",
              "    }\n",
              "\n",
              "    .dataframe thead th {\n",
              "        text-align: right;\n",
              "    }\n",
              "</style>\n",
              "<table border=\"1\" class=\"dataframe\">\n",
              "  <thead>\n",
              "    <tr style=\"text-align: right;\">\n",
              "      <th></th>\n",
              "      <th>year</th>\n",
              "      <th>jan</th>\n",
              "      <th>feb</th>\n",
              "      <th>mar</th>\n",
              "      <th>apr</th>\n",
              "      <th>may</th>\n",
              "      <th>jun</th>\n",
              "      <th>jul</th>\n",
              "      <th>aug</th>\n",
              "      <th>sep</th>\n",
              "      <th>...</th>\n",
              "      <th>visib</th>\n",
              "      <th>wdsp</th>\n",
              "      <th>slp</th>\n",
              "      <th>dewp</th>\n",
              "      <th>max</th>\n",
              "      <th>min</th>\n",
              "      <th>mxpsd</th>\n",
              "      <th>fog</th>\n",
              "      <th>prcp</th>\n",
              "      <th>num_collisions</th>\n",
              "    </tr>\n",
              "  </thead>\n",
              "  <tbody>\n",
              "    <tr>\n",
              "      <th>0</th>\n",
              "      <td>2016</td>\n",
              "      <td>0</td>\n",
              "      <td>0</td>\n",
              "      <td>0</td>\n",
              "      <td>0</td>\n",
              "      <td>0</td>\n",
              "      <td>1</td>\n",
              "      <td>0</td>\n",
              "      <td>0</td>\n",
              "      <td>0</td>\n",
              "      <td>...</td>\n",
              "      <td>10.0</td>\n",
              "      <td>7.6</td>\n",
              "      <td>1009.1</td>\n",
              "      <td>13.5</td>\n",
              "      <td>23.3</td>\n",
              "      <td>12.8</td>\n",
              "      <td>16.1</td>\n",
              "      <td>0</td>\n",
              "      <td>0.00</td>\n",
              "      <td>689</td>\n",
              "    </tr>\n",
              "    <tr>\n",
              "      <th>1</th>\n",
              "      <td>2015</td>\n",
              "      <td>0</td>\n",
              "      <td>0</td>\n",
              "      <td>0</td>\n",
              "      <td>0</td>\n",
              "      <td>0</td>\n",
              "      <td>0</td>\n",
              "      <td>0</td>\n",
              "      <td>0</td>\n",
              "      <td>0</td>\n",
              "      <td>...</td>\n",
              "      <td>10.0</td>\n",
              "      <td>13.5</td>\n",
              "      <td>1024.6</td>\n",
              "      <td>-8.3</td>\n",
              "      <td>8.9</td>\n",
              "      <td>-0.6</td>\n",
              "      <td>23.0</td>\n",
              "      <td>0</td>\n",
              "      <td>0.25</td>\n",
              "      <td>733</td>\n",
              "    </tr>\n",
              "    <tr>\n",
              "      <th>2</th>\n",
              "      <td>2019</td>\n",
              "      <td>0</td>\n",
              "      <td>0</td>\n",
              "      <td>0</td>\n",
              "      <td>1</td>\n",
              "      <td>0</td>\n",
              "      <td>0</td>\n",
              "      <td>0</td>\n",
              "      <td>0</td>\n",
              "      <td>0</td>\n",
              "      <td>...</td>\n",
              "      <td>10.0</td>\n",
              "      <td>9.7</td>\n",
              "      <td>1027.0</td>\n",
              "      <td>1.8</td>\n",
              "      <td>8.9</td>\n",
              "      <td>1.7</td>\n",
              "      <td>15.0</td>\n",
              "      <td>0</td>\n",
              "      <td>0.00</td>\n",
              "      <td>688</td>\n",
              "    </tr>\n",
              "    <tr>\n",
              "      <th>3</th>\n",
              "      <td>2016</td>\n",
              "      <td>0</td>\n",
              "      <td>0</td>\n",
              "      <td>0</td>\n",
              "      <td>0</td>\n",
              "      <td>0</td>\n",
              "      <td>0</td>\n",
              "      <td>0</td>\n",
              "      <td>0</td>\n",
              "      <td>0</td>\n",
              "      <td>...</td>\n",
              "      <td>10.0</td>\n",
              "      <td>8.2</td>\n",
              "      <td>1020.5</td>\n",
              "      <td>3.4</td>\n",
              "      <td>13.9</td>\n",
              "      <td>3.9</td>\n",
              "      <td>12.8</td>\n",
              "      <td>0</td>\n",
              "      <td>0.00</td>\n",
              "      <td>620</td>\n",
              "    </tr>\n",
              "    <tr>\n",
              "      <th>4</th>\n",
              "      <td>2014</td>\n",
              "      <td>0</td>\n",
              "      <td>0</td>\n",
              "      <td>0</td>\n",
              "      <td>0</td>\n",
              "      <td>0</td>\n",
              "      <td>0</td>\n",
              "      <td>0</td>\n",
              "      <td>0</td>\n",
              "      <td>1</td>\n",
              "      <td>...</td>\n",
              "      <td>8.6</td>\n",
              "      <td>10.2</td>\n",
              "      <td>1031.0</td>\n",
              "      <td>12.9</td>\n",
              "      <td>20.0</td>\n",
              "      <td>9.4</td>\n",
              "      <td>17.3</td>\n",
              "      <td>0</td>\n",
              "      <td>0.00</td>\n",
              "      <td>491</td>\n",
              "    </tr>\n",
              "  </tbody>\n",
              "</table>\n",
              "<p>5 rows × 31 columns</p>\n",
              "</div>\n",
              "      <button class=\"colab-df-convert\" onclick=\"convertToInteractive('df-f8e10449-d7ee-4eb9-92f9-bd24cd5e2e8d')\"\n",
              "              title=\"Convert this dataframe to an interactive table.\"\n",
              "              style=\"display:none;\">\n",
              "        \n",
              "  <svg xmlns=\"http://www.w3.org/2000/svg\" height=\"24px\"viewBox=\"0 0 24 24\"\n",
              "       width=\"24px\">\n",
              "    <path d=\"M0 0h24v24H0V0z\" fill=\"none\"/>\n",
              "    <path d=\"M18.56 5.44l.94 2.06.94-2.06 2.06-.94-2.06-.94-.94-2.06-.94 2.06-2.06.94zm-11 1L8.5 8.5l.94-2.06 2.06-.94-2.06-.94L8.5 2.5l-.94 2.06-2.06.94zm10 10l.94 2.06.94-2.06 2.06-.94-2.06-.94-.94-2.06-.94 2.06-2.06.94z\"/><path d=\"M17.41 7.96l-1.37-1.37c-.4-.4-.92-.59-1.43-.59-.52 0-1.04.2-1.43.59L10.3 9.45l-7.72 7.72c-.78.78-.78 2.05 0 2.83L4 21.41c.39.39.9.59 1.41.59.51 0 1.02-.2 1.41-.59l7.78-7.78 2.81-2.81c.8-.78.8-2.07 0-2.86zM5.41 20L4 18.59l7.72-7.72 1.47 1.35L5.41 20z\"/>\n",
              "  </svg>\n",
              "      </button>\n",
              "      \n",
              "  <style>\n",
              "    .colab-df-container {\n",
              "      display:flex;\n",
              "      flex-wrap:wrap;\n",
              "      gap: 12px;\n",
              "    }\n",
              "\n",
              "    .colab-df-convert {\n",
              "      background-color: #E8F0FE;\n",
              "      border: none;\n",
              "      border-radius: 50%;\n",
              "      cursor: pointer;\n",
              "      display: none;\n",
              "      fill: #1967D2;\n",
              "      height: 32px;\n",
              "      padding: 0 0 0 0;\n",
              "      width: 32px;\n",
              "    }\n",
              "\n",
              "    .colab-df-convert:hover {\n",
              "      background-color: #E2EBFA;\n",
              "      box-shadow: 0px 1px 2px rgba(60, 64, 67, 0.3), 0px 1px 3px 1px rgba(60, 64, 67, 0.15);\n",
              "      fill: #174EA6;\n",
              "    }\n",
              "\n",
              "    [theme=dark] .colab-df-convert {\n",
              "      background-color: #3B4455;\n",
              "      fill: #D2E3FC;\n",
              "    }\n",
              "\n",
              "    [theme=dark] .colab-df-convert:hover {\n",
              "      background-color: #434B5C;\n",
              "      box-shadow: 0px 1px 3px 1px rgba(0, 0, 0, 0.15);\n",
              "      filter: drop-shadow(0px 1px 2px rgba(0, 0, 0, 0.3));\n",
              "      fill: #FFFFFF;\n",
              "    }\n",
              "  </style>\n",
              "\n",
              "      <script>\n",
              "        const buttonEl =\n",
              "          document.querySelector('#df-f8e10449-d7ee-4eb9-92f9-bd24cd5e2e8d button.colab-df-convert');\n",
              "        buttonEl.style.display =\n",
              "          google.colab.kernel.accessAllowed ? 'block' : 'none';\n",
              "\n",
              "        async function convertToInteractive(key) {\n",
              "          const element = document.querySelector('#df-f8e10449-d7ee-4eb9-92f9-bd24cd5e2e8d');\n",
              "          const dataTable =\n",
              "            await google.colab.kernel.invokeFunction('convertToInteractive',\n",
              "                                                     [key], {});\n",
              "          if (!dataTable) return;\n",
              "\n",
              "          const docLinkHtml = 'Like what you see? Visit the ' +\n",
              "            '<a target=\"_blank\" href=https://colab.research.google.com/notebooks/data_table.ipynb>data table notebook</a>'\n",
              "            + ' to learn more about interactive tables.';\n",
              "          element.innerHTML = '';\n",
              "          dataTable['output_type'] = 'display_data';\n",
              "          await google.colab.output.renderOutput(dataTable, element);\n",
              "          const docLink = document.createElement('div');\n",
              "          docLink.innerHTML = docLinkHtml;\n",
              "          element.appendChild(docLink);\n",
              "        }\n",
              "      </script>\n",
              "    </div>\n",
              "  </div>\n",
              "  "
            ]
          },
          "metadata": {},
          "execution_count": 769
        }
      ]
    },
    {
      "cell_type": "markdown",
      "source": [
        "##### Test Data"
      ],
      "metadata": {
        "id": "Qtfefh12l9xG"
      }
    },
    {
      "cell_type": "code",
      "source": [
        "url = \"https://raw.githubusercontent.com/AaronM44/DAOTW-Assignment-1/main/outputs/col_dnn_3_test.csv\"\n",
        "\n",
        "raw_col_dnn_3_test = pd.read_csv(url)\n",
        "\n",
        "df_col_dnn_3_test = raw_col_dnn_3_test.copy()\n",
        "\n",
        "df_col_dnn_3_test = df_col_dnn_3_test.drop(df_col_dnn_3_test.columns[[0, 1]], axis=1)\n",
        "\n",
        "df_col_dnn_3_test.head()"
      ],
      "metadata": {
        "id": "HsCpCYHCmBOx",
        "outputId": "471cf881-2ffb-4ac9-f152-40638c8d8688",
        "colab": {
          "base_uri": "https://localhost:8080/",
          "height": 236
        }
      },
      "execution_count": 770,
      "outputs": [
        {
          "output_type": "execute_result",
          "data": {
            "text/plain": [
              "   year  jan  feb  mar  apr  may  jun  jul  aug  sep  ...  visib  wdsp  \\\n",
              "0  2013    1    0    0    0    0    0    0    0    0  ...   10.0  14.3   \n",
              "1  2013    1    0    0    0    0    0    0    0    0  ...    9.8  12.0   \n",
              "2  2013    1    0    0    0    0    0    0    0    0  ...    6.8   6.1   \n",
              "3  2013    1    0    0    0    0    0    0    0    0  ...    9.5   9.2   \n",
              "4  2013    1    0    0    0    0    0    0    0    0  ...    7.0  10.1   \n",
              "\n",
              "      slp  dewp  max  min  mxpsd  fog  prcp  num_collisions  \n",
              "0  1013.4 -11.1  0.6 -5.6   18.3    0  0.00             480  \n",
              "1  1028.8   1.2  8.9 -3.9   19.7    0  0.00             513  \n",
              "2  1026.2   3.1  7.8 -2.2   12.8    1  0.00             487  \n",
              "3  1023.1   3.5  9.4  3.9   17.3    0  0.24             516  \n",
              "4  1018.3   4.4  7.2  4.0   24.2    0  0.35             578  \n",
              "\n",
              "[5 rows x 31 columns]"
            ],
            "text/html": [
              "\n",
              "  <div id=\"df-3df217bf-862d-408d-8307-4afe9752411a\">\n",
              "    <div class=\"colab-df-container\">\n",
              "      <div>\n",
              "<style scoped>\n",
              "    .dataframe tbody tr th:only-of-type {\n",
              "        vertical-align: middle;\n",
              "    }\n",
              "\n",
              "    .dataframe tbody tr th {\n",
              "        vertical-align: top;\n",
              "    }\n",
              "\n",
              "    .dataframe thead th {\n",
              "        text-align: right;\n",
              "    }\n",
              "</style>\n",
              "<table border=\"1\" class=\"dataframe\">\n",
              "  <thead>\n",
              "    <tr style=\"text-align: right;\">\n",
              "      <th></th>\n",
              "      <th>year</th>\n",
              "      <th>jan</th>\n",
              "      <th>feb</th>\n",
              "      <th>mar</th>\n",
              "      <th>apr</th>\n",
              "      <th>may</th>\n",
              "      <th>jun</th>\n",
              "      <th>jul</th>\n",
              "      <th>aug</th>\n",
              "      <th>sep</th>\n",
              "      <th>...</th>\n",
              "      <th>visib</th>\n",
              "      <th>wdsp</th>\n",
              "      <th>slp</th>\n",
              "      <th>dewp</th>\n",
              "      <th>max</th>\n",
              "      <th>min</th>\n",
              "      <th>mxpsd</th>\n",
              "      <th>fog</th>\n",
              "      <th>prcp</th>\n",
              "      <th>num_collisions</th>\n",
              "    </tr>\n",
              "  </thead>\n",
              "  <tbody>\n",
              "    <tr>\n",
              "      <th>0</th>\n",
              "      <td>2013</td>\n",
              "      <td>1</td>\n",
              "      <td>0</td>\n",
              "      <td>0</td>\n",
              "      <td>0</td>\n",
              "      <td>0</td>\n",
              "      <td>0</td>\n",
              "      <td>0</td>\n",
              "      <td>0</td>\n",
              "      <td>0</td>\n",
              "      <td>...</td>\n",
              "      <td>10.0</td>\n",
              "      <td>14.3</td>\n",
              "      <td>1013.4</td>\n",
              "      <td>-11.1</td>\n",
              "      <td>0.6</td>\n",
              "      <td>-5.6</td>\n",
              "      <td>18.3</td>\n",
              "      <td>0</td>\n",
              "      <td>0.00</td>\n",
              "      <td>480</td>\n",
              "    </tr>\n",
              "    <tr>\n",
              "      <th>1</th>\n",
              "      <td>2013</td>\n",
              "      <td>1</td>\n",
              "      <td>0</td>\n",
              "      <td>0</td>\n",
              "      <td>0</td>\n",
              "      <td>0</td>\n",
              "      <td>0</td>\n",
              "      <td>0</td>\n",
              "      <td>0</td>\n",
              "      <td>0</td>\n",
              "      <td>...</td>\n",
              "      <td>9.8</td>\n",
              "      <td>12.0</td>\n",
              "      <td>1028.8</td>\n",
              "      <td>1.2</td>\n",
              "      <td>8.9</td>\n",
              "      <td>-3.9</td>\n",
              "      <td>19.7</td>\n",
              "      <td>0</td>\n",
              "      <td>0.00</td>\n",
              "      <td>513</td>\n",
              "    </tr>\n",
              "    <tr>\n",
              "      <th>2</th>\n",
              "      <td>2013</td>\n",
              "      <td>1</td>\n",
              "      <td>0</td>\n",
              "      <td>0</td>\n",
              "      <td>0</td>\n",
              "      <td>0</td>\n",
              "      <td>0</td>\n",
              "      <td>0</td>\n",
              "      <td>0</td>\n",
              "      <td>0</td>\n",
              "      <td>...</td>\n",
              "      <td>6.8</td>\n",
              "      <td>6.1</td>\n",
              "      <td>1026.2</td>\n",
              "      <td>3.1</td>\n",
              "      <td>7.8</td>\n",
              "      <td>-2.2</td>\n",
              "      <td>12.8</td>\n",
              "      <td>1</td>\n",
              "      <td>0.00</td>\n",
              "      <td>487</td>\n",
              "    </tr>\n",
              "    <tr>\n",
              "      <th>3</th>\n",
              "      <td>2013</td>\n",
              "      <td>1</td>\n",
              "      <td>0</td>\n",
              "      <td>0</td>\n",
              "      <td>0</td>\n",
              "      <td>0</td>\n",
              "      <td>0</td>\n",
              "      <td>0</td>\n",
              "      <td>0</td>\n",
              "      <td>0</td>\n",
              "      <td>...</td>\n",
              "      <td>9.5</td>\n",
              "      <td>9.2</td>\n",
              "      <td>1023.1</td>\n",
              "      <td>3.5</td>\n",
              "      <td>9.4</td>\n",
              "      <td>3.9</td>\n",
              "      <td>17.3</td>\n",
              "      <td>0</td>\n",
              "      <td>0.24</td>\n",
              "      <td>516</td>\n",
              "    </tr>\n",
              "    <tr>\n",
              "      <th>4</th>\n",
              "      <td>2013</td>\n",
              "      <td>1</td>\n",
              "      <td>0</td>\n",
              "      <td>0</td>\n",
              "      <td>0</td>\n",
              "      <td>0</td>\n",
              "      <td>0</td>\n",
              "      <td>0</td>\n",
              "      <td>0</td>\n",
              "      <td>0</td>\n",
              "      <td>...</td>\n",
              "      <td>7.0</td>\n",
              "      <td>10.1</td>\n",
              "      <td>1018.3</td>\n",
              "      <td>4.4</td>\n",
              "      <td>7.2</td>\n",
              "      <td>4.0</td>\n",
              "      <td>24.2</td>\n",
              "      <td>0</td>\n",
              "      <td>0.35</td>\n",
              "      <td>578</td>\n",
              "    </tr>\n",
              "  </tbody>\n",
              "</table>\n",
              "<p>5 rows × 31 columns</p>\n",
              "</div>\n",
              "      <button class=\"colab-df-convert\" onclick=\"convertToInteractive('df-3df217bf-862d-408d-8307-4afe9752411a')\"\n",
              "              title=\"Convert this dataframe to an interactive table.\"\n",
              "              style=\"display:none;\">\n",
              "        \n",
              "  <svg xmlns=\"http://www.w3.org/2000/svg\" height=\"24px\"viewBox=\"0 0 24 24\"\n",
              "       width=\"24px\">\n",
              "    <path d=\"M0 0h24v24H0V0z\" fill=\"none\"/>\n",
              "    <path d=\"M18.56 5.44l.94 2.06.94-2.06 2.06-.94-2.06-.94-.94-2.06-.94 2.06-2.06.94zm-11 1L8.5 8.5l.94-2.06 2.06-.94-2.06-.94L8.5 2.5l-.94 2.06-2.06.94zm10 10l.94 2.06.94-2.06 2.06-.94-2.06-.94-.94-2.06-.94 2.06-2.06.94z\"/><path d=\"M17.41 7.96l-1.37-1.37c-.4-.4-.92-.59-1.43-.59-.52 0-1.04.2-1.43.59L10.3 9.45l-7.72 7.72c-.78.78-.78 2.05 0 2.83L4 21.41c.39.39.9.59 1.41.59.51 0 1.02-.2 1.41-.59l7.78-7.78 2.81-2.81c.8-.78.8-2.07 0-2.86zM5.41 20L4 18.59l7.72-7.72 1.47 1.35L5.41 20z\"/>\n",
              "  </svg>\n",
              "      </button>\n",
              "      \n",
              "  <style>\n",
              "    .colab-df-container {\n",
              "      display:flex;\n",
              "      flex-wrap:wrap;\n",
              "      gap: 12px;\n",
              "    }\n",
              "\n",
              "    .colab-df-convert {\n",
              "      background-color: #E8F0FE;\n",
              "      border: none;\n",
              "      border-radius: 50%;\n",
              "      cursor: pointer;\n",
              "      display: none;\n",
              "      fill: #1967D2;\n",
              "      height: 32px;\n",
              "      padding: 0 0 0 0;\n",
              "      width: 32px;\n",
              "    }\n",
              "\n",
              "    .colab-df-convert:hover {\n",
              "      background-color: #E2EBFA;\n",
              "      box-shadow: 0px 1px 2px rgba(60, 64, 67, 0.3), 0px 1px 3px 1px rgba(60, 64, 67, 0.15);\n",
              "      fill: #174EA6;\n",
              "    }\n",
              "\n",
              "    [theme=dark] .colab-df-convert {\n",
              "      background-color: #3B4455;\n",
              "      fill: #D2E3FC;\n",
              "    }\n",
              "\n",
              "    [theme=dark] .colab-df-convert:hover {\n",
              "      background-color: #434B5C;\n",
              "      box-shadow: 0px 1px 3px 1px rgba(0, 0, 0, 0.15);\n",
              "      filter: drop-shadow(0px 1px 2px rgba(0, 0, 0, 0.3));\n",
              "      fill: #FFFFFF;\n",
              "    }\n",
              "  </style>\n",
              "\n",
              "      <script>\n",
              "        const buttonEl =\n",
              "          document.querySelector('#df-3df217bf-862d-408d-8307-4afe9752411a button.colab-df-convert');\n",
              "        buttonEl.style.display =\n",
              "          google.colab.kernel.accessAllowed ? 'block' : 'none';\n",
              "\n",
              "        async function convertToInteractive(key) {\n",
              "          const element = document.querySelector('#df-3df217bf-862d-408d-8307-4afe9752411a');\n",
              "          const dataTable =\n",
              "            await google.colab.kernel.invokeFunction('convertToInteractive',\n",
              "                                                     [key], {});\n",
              "          if (!dataTable) return;\n",
              "\n",
              "          const docLinkHtml = 'Like what you see? Visit the ' +\n",
              "            '<a target=\"_blank\" href=https://colab.research.google.com/notebooks/data_table.ipynb>data table notebook</a>'\n",
              "            + ' to learn more about interactive tables.';\n",
              "          element.innerHTML = '';\n",
              "          dataTable['output_type'] = 'display_data';\n",
              "          await google.colab.output.renderOutput(dataTable, element);\n",
              "          const docLink = document.createElement('div');\n",
              "          docLink.innerHTML = docLinkHtml;\n",
              "          element.appendChild(docLink);\n",
              "        }\n",
              "      </script>\n",
              "    </div>\n",
              "  </div>\n",
              "  "
            ]
          },
          "metadata": {},
          "execution_count": 770
        }
      ]
    },
    {
      "cell_type": "markdown",
      "source": [
        "#### Check for NAs"
      ],
      "metadata": {
        "id": "52pYlBzkmUYa"
      }
    },
    {
      "cell_type": "code",
      "source": [
        "df_col_dnn_3_train.isna().sum()"
      ],
      "metadata": {
        "id": "uAn4PKH6mWQq",
        "outputId": "621f59a5-f13e-4367-8622-766fc440a460",
        "colab": {
          "base_uri": "https://localhost:8080/"
        }
      },
      "execution_count": 771,
      "outputs": [
        {
          "output_type": "execute_result",
          "data": {
            "text/plain": [
              "year              0\n",
              "jan               0\n",
              "feb               0\n",
              "mar               0\n",
              "apr               0\n",
              "may               0\n",
              "jun               0\n",
              "jul               0\n",
              "aug               0\n",
              "sep               0\n",
              "oct               0\n",
              "nov               0\n",
              "dec               0\n",
              "mon               0\n",
              "tue               0\n",
              "wed               0\n",
              "thu               0\n",
              "fri               0\n",
              "sat               0\n",
              "sun               0\n",
              "temp              0\n",
              "visib             0\n",
              "wdsp              0\n",
              "slp               0\n",
              "dewp              0\n",
              "max               0\n",
              "min               0\n",
              "mxpsd             0\n",
              "fog               0\n",
              "prcp              0\n",
              "num_collisions    0\n",
              "dtype: int64"
            ]
          },
          "metadata": {},
          "execution_count": 771
        }
      ]
    },
    {
      "cell_type": "markdown",
      "source": [
        "#### Overview of Data"
      ],
      "metadata": {
        "id": "6mNeWXjFmbl6"
      }
    },
    {
      "cell_type": "code",
      "source": [
        "df_col_dnn_3_train.describe().transpose()"
      ],
      "metadata": {
        "id": "L5SOJ_KRmdTY",
        "outputId": "7981ee2c-9917-4c81-ae9e-b3667ee576a6",
        "colab": {
          "base_uri": "https://localhost:8080/",
          "height": 1000
        }
      },
      "execution_count": 772,
      "outputs": [
        {
          "output_type": "execute_result",
          "data": {
            "text/plain": [
              "                 count         mean        std     min     25%      50%  \\\n",
              "year            1766.0  2015.995470   2.029522  2013.0  2014.0  2016.00   \n",
              "jan             1766.0     0.081540   0.273740     0.0     0.0     0.00   \n",
              "feb             1766.0     0.073613   0.261214     0.0     0.0     0.00   \n",
              "mar             1766.0     0.087203   0.282212     0.0     0.0     0.00   \n",
              "apr             1766.0     0.079275   0.270244     0.0     0.0     0.00   \n",
              "may             1766.0     0.082673   0.275465     0.0     0.0     0.00   \n",
              "jun             1766.0     0.087769   0.283039     0.0     0.0     0.00   \n",
              "jul             1766.0     0.082106   0.274605     0.0     0.0     0.00   \n",
              "aug             1766.0     0.084371   0.278023     0.0     0.0     0.00   \n",
              "sep             1766.0     0.084371   0.278023     0.0     0.0     0.00   \n",
              "oct             1766.0     0.083239   0.276321     0.0     0.0     0.00   \n",
              "nov             1766.0     0.088335   0.283862     0.0     0.0     0.00   \n",
              "dec             1766.0     0.085504   0.279709     0.0     0.0     0.00   \n",
              "mon             1766.0     0.143828   0.351014     0.0     0.0     0.00   \n",
              "tue             1766.0     0.148358   0.355555     0.0     0.0     0.00   \n",
              "wed             1766.0     0.139298   0.346355     0.0     0.0     0.00   \n",
              "thu             1766.0     0.143828   0.351014     0.0     0.0     0.00   \n",
              "fri             1766.0     0.141563   0.348700     0.0     0.0     0.00   \n",
              "sat             1766.0     0.139864   0.346944     0.0     0.0     0.00   \n",
              "sun             1766.0     0.143262   0.350439     0.0     0.0     0.00   \n",
              "temp            1766.0    10.815402   7.896149   -12.6     4.6    11.10   \n",
              "visib           1766.0     8.347282   2.172859     0.8     7.2     9.40   \n",
              "wdsp            1766.0    12.339807   4.817919     3.1     8.9    11.70   \n",
              "slp             1766.0  1016.705096   7.546484   989.5  1012.2  1016.65   \n",
              "dewp            1766.0     6.652265   9.508389   -20.3    -0.2     7.35   \n",
              "max             1766.0    15.334881   7.940576    -7.8     8.9    15.60   \n",
              "min             1766.0     6.575878   8.149087   -16.7     0.6     6.70   \n",
              "mxpsd           1766.0    19.932673   6.697399     6.1    15.0    19.70   \n",
              "fog             1766.0     0.250849   0.433625     0.0     0.0     0.00   \n",
              "prcp            1766.0     0.125798   0.323156     0.0     0.0     0.00   \n",
              "num_collisions  1766.0   599.582673  95.693750   355.0   532.0   603.00   \n",
              "\n",
              "                     75%      max  \n",
              "year            2018.000  2019.00  \n",
              "jan                0.000     1.00  \n",
              "feb                0.000     1.00  \n",
              "mar                0.000     1.00  \n",
              "apr                0.000     1.00  \n",
              "may                0.000     1.00  \n",
              "jun                0.000     1.00  \n",
              "jul                0.000     1.00  \n",
              "aug                0.000     1.00  \n",
              "sep                0.000     1.00  \n",
              "oct                0.000     1.00  \n",
              "nov                0.000     1.00  \n",
              "dec                0.000     1.00  \n",
              "mon                0.000     1.00  \n",
              "tue                0.000     1.00  \n",
              "wed                0.000     1.00  \n",
              "thu                0.000     1.00  \n",
              "fri                0.000     1.00  \n",
              "sat                0.000     1.00  \n",
              "sun                0.000     1.00  \n",
              "temp              17.800    24.90  \n",
              "visib             10.000    10.00  \n",
              "wdsp              15.000    40.60  \n",
              "slp             1021.775  1044.20  \n",
              "dewp              14.700    23.10  \n",
              "max               22.200    32.20  \n",
              "min               13.300    22.00  \n",
              "mxpsd             24.200    56.40  \n",
              "fog                1.000     1.00  \n",
              "prcp               0.070     2.91  \n",
              "num_collisions   666.750   845.00  "
            ],
            "text/html": [
              "\n",
              "  <div id=\"df-a141e26b-d409-4fc1-84f6-1feee16b4ac0\">\n",
              "    <div class=\"colab-df-container\">\n",
              "      <div>\n",
              "<style scoped>\n",
              "    .dataframe tbody tr th:only-of-type {\n",
              "        vertical-align: middle;\n",
              "    }\n",
              "\n",
              "    .dataframe tbody tr th {\n",
              "        vertical-align: top;\n",
              "    }\n",
              "\n",
              "    .dataframe thead th {\n",
              "        text-align: right;\n",
              "    }\n",
              "</style>\n",
              "<table border=\"1\" class=\"dataframe\">\n",
              "  <thead>\n",
              "    <tr style=\"text-align: right;\">\n",
              "      <th></th>\n",
              "      <th>count</th>\n",
              "      <th>mean</th>\n",
              "      <th>std</th>\n",
              "      <th>min</th>\n",
              "      <th>25%</th>\n",
              "      <th>50%</th>\n",
              "      <th>75%</th>\n",
              "      <th>max</th>\n",
              "    </tr>\n",
              "  </thead>\n",
              "  <tbody>\n",
              "    <tr>\n",
              "      <th>year</th>\n",
              "      <td>1766.0</td>\n",
              "      <td>2015.995470</td>\n",
              "      <td>2.029522</td>\n",
              "      <td>2013.0</td>\n",
              "      <td>2014.0</td>\n",
              "      <td>2016.00</td>\n",
              "      <td>2018.000</td>\n",
              "      <td>2019.00</td>\n",
              "    </tr>\n",
              "    <tr>\n",
              "      <th>jan</th>\n",
              "      <td>1766.0</td>\n",
              "      <td>0.081540</td>\n",
              "      <td>0.273740</td>\n",
              "      <td>0.0</td>\n",
              "      <td>0.0</td>\n",
              "      <td>0.00</td>\n",
              "      <td>0.000</td>\n",
              "      <td>1.00</td>\n",
              "    </tr>\n",
              "    <tr>\n",
              "      <th>feb</th>\n",
              "      <td>1766.0</td>\n",
              "      <td>0.073613</td>\n",
              "      <td>0.261214</td>\n",
              "      <td>0.0</td>\n",
              "      <td>0.0</td>\n",
              "      <td>0.00</td>\n",
              "      <td>0.000</td>\n",
              "      <td>1.00</td>\n",
              "    </tr>\n",
              "    <tr>\n",
              "      <th>mar</th>\n",
              "      <td>1766.0</td>\n",
              "      <td>0.087203</td>\n",
              "      <td>0.282212</td>\n",
              "      <td>0.0</td>\n",
              "      <td>0.0</td>\n",
              "      <td>0.00</td>\n",
              "      <td>0.000</td>\n",
              "      <td>1.00</td>\n",
              "    </tr>\n",
              "    <tr>\n",
              "      <th>apr</th>\n",
              "      <td>1766.0</td>\n",
              "      <td>0.079275</td>\n",
              "      <td>0.270244</td>\n",
              "      <td>0.0</td>\n",
              "      <td>0.0</td>\n",
              "      <td>0.00</td>\n",
              "      <td>0.000</td>\n",
              "      <td>1.00</td>\n",
              "    </tr>\n",
              "    <tr>\n",
              "      <th>may</th>\n",
              "      <td>1766.0</td>\n",
              "      <td>0.082673</td>\n",
              "      <td>0.275465</td>\n",
              "      <td>0.0</td>\n",
              "      <td>0.0</td>\n",
              "      <td>0.00</td>\n",
              "      <td>0.000</td>\n",
              "      <td>1.00</td>\n",
              "    </tr>\n",
              "    <tr>\n",
              "      <th>jun</th>\n",
              "      <td>1766.0</td>\n",
              "      <td>0.087769</td>\n",
              "      <td>0.283039</td>\n",
              "      <td>0.0</td>\n",
              "      <td>0.0</td>\n",
              "      <td>0.00</td>\n",
              "      <td>0.000</td>\n",
              "      <td>1.00</td>\n",
              "    </tr>\n",
              "    <tr>\n",
              "      <th>jul</th>\n",
              "      <td>1766.0</td>\n",
              "      <td>0.082106</td>\n",
              "      <td>0.274605</td>\n",
              "      <td>0.0</td>\n",
              "      <td>0.0</td>\n",
              "      <td>0.00</td>\n",
              "      <td>0.000</td>\n",
              "      <td>1.00</td>\n",
              "    </tr>\n",
              "    <tr>\n",
              "      <th>aug</th>\n",
              "      <td>1766.0</td>\n",
              "      <td>0.084371</td>\n",
              "      <td>0.278023</td>\n",
              "      <td>0.0</td>\n",
              "      <td>0.0</td>\n",
              "      <td>0.00</td>\n",
              "      <td>0.000</td>\n",
              "      <td>1.00</td>\n",
              "    </tr>\n",
              "    <tr>\n",
              "      <th>sep</th>\n",
              "      <td>1766.0</td>\n",
              "      <td>0.084371</td>\n",
              "      <td>0.278023</td>\n",
              "      <td>0.0</td>\n",
              "      <td>0.0</td>\n",
              "      <td>0.00</td>\n",
              "      <td>0.000</td>\n",
              "      <td>1.00</td>\n",
              "    </tr>\n",
              "    <tr>\n",
              "      <th>oct</th>\n",
              "      <td>1766.0</td>\n",
              "      <td>0.083239</td>\n",
              "      <td>0.276321</td>\n",
              "      <td>0.0</td>\n",
              "      <td>0.0</td>\n",
              "      <td>0.00</td>\n",
              "      <td>0.000</td>\n",
              "      <td>1.00</td>\n",
              "    </tr>\n",
              "    <tr>\n",
              "      <th>nov</th>\n",
              "      <td>1766.0</td>\n",
              "      <td>0.088335</td>\n",
              "      <td>0.283862</td>\n",
              "      <td>0.0</td>\n",
              "      <td>0.0</td>\n",
              "      <td>0.00</td>\n",
              "      <td>0.000</td>\n",
              "      <td>1.00</td>\n",
              "    </tr>\n",
              "    <tr>\n",
              "      <th>dec</th>\n",
              "      <td>1766.0</td>\n",
              "      <td>0.085504</td>\n",
              "      <td>0.279709</td>\n",
              "      <td>0.0</td>\n",
              "      <td>0.0</td>\n",
              "      <td>0.00</td>\n",
              "      <td>0.000</td>\n",
              "      <td>1.00</td>\n",
              "    </tr>\n",
              "    <tr>\n",
              "      <th>mon</th>\n",
              "      <td>1766.0</td>\n",
              "      <td>0.143828</td>\n",
              "      <td>0.351014</td>\n",
              "      <td>0.0</td>\n",
              "      <td>0.0</td>\n",
              "      <td>0.00</td>\n",
              "      <td>0.000</td>\n",
              "      <td>1.00</td>\n",
              "    </tr>\n",
              "    <tr>\n",
              "      <th>tue</th>\n",
              "      <td>1766.0</td>\n",
              "      <td>0.148358</td>\n",
              "      <td>0.355555</td>\n",
              "      <td>0.0</td>\n",
              "      <td>0.0</td>\n",
              "      <td>0.00</td>\n",
              "      <td>0.000</td>\n",
              "      <td>1.00</td>\n",
              "    </tr>\n",
              "    <tr>\n",
              "      <th>wed</th>\n",
              "      <td>1766.0</td>\n",
              "      <td>0.139298</td>\n",
              "      <td>0.346355</td>\n",
              "      <td>0.0</td>\n",
              "      <td>0.0</td>\n",
              "      <td>0.00</td>\n",
              "      <td>0.000</td>\n",
              "      <td>1.00</td>\n",
              "    </tr>\n",
              "    <tr>\n",
              "      <th>thu</th>\n",
              "      <td>1766.0</td>\n",
              "      <td>0.143828</td>\n",
              "      <td>0.351014</td>\n",
              "      <td>0.0</td>\n",
              "      <td>0.0</td>\n",
              "      <td>0.00</td>\n",
              "      <td>0.000</td>\n",
              "      <td>1.00</td>\n",
              "    </tr>\n",
              "    <tr>\n",
              "      <th>fri</th>\n",
              "      <td>1766.0</td>\n",
              "      <td>0.141563</td>\n",
              "      <td>0.348700</td>\n",
              "      <td>0.0</td>\n",
              "      <td>0.0</td>\n",
              "      <td>0.00</td>\n",
              "      <td>0.000</td>\n",
              "      <td>1.00</td>\n",
              "    </tr>\n",
              "    <tr>\n",
              "      <th>sat</th>\n",
              "      <td>1766.0</td>\n",
              "      <td>0.139864</td>\n",
              "      <td>0.346944</td>\n",
              "      <td>0.0</td>\n",
              "      <td>0.0</td>\n",
              "      <td>0.00</td>\n",
              "      <td>0.000</td>\n",
              "      <td>1.00</td>\n",
              "    </tr>\n",
              "    <tr>\n",
              "      <th>sun</th>\n",
              "      <td>1766.0</td>\n",
              "      <td>0.143262</td>\n",
              "      <td>0.350439</td>\n",
              "      <td>0.0</td>\n",
              "      <td>0.0</td>\n",
              "      <td>0.00</td>\n",
              "      <td>0.000</td>\n",
              "      <td>1.00</td>\n",
              "    </tr>\n",
              "    <tr>\n",
              "      <th>temp</th>\n",
              "      <td>1766.0</td>\n",
              "      <td>10.815402</td>\n",
              "      <td>7.896149</td>\n",
              "      <td>-12.6</td>\n",
              "      <td>4.6</td>\n",
              "      <td>11.10</td>\n",
              "      <td>17.800</td>\n",
              "      <td>24.90</td>\n",
              "    </tr>\n",
              "    <tr>\n",
              "      <th>visib</th>\n",
              "      <td>1766.0</td>\n",
              "      <td>8.347282</td>\n",
              "      <td>2.172859</td>\n",
              "      <td>0.8</td>\n",
              "      <td>7.2</td>\n",
              "      <td>9.40</td>\n",
              "      <td>10.000</td>\n",
              "      <td>10.00</td>\n",
              "    </tr>\n",
              "    <tr>\n",
              "      <th>wdsp</th>\n",
              "      <td>1766.0</td>\n",
              "      <td>12.339807</td>\n",
              "      <td>4.817919</td>\n",
              "      <td>3.1</td>\n",
              "      <td>8.9</td>\n",
              "      <td>11.70</td>\n",
              "      <td>15.000</td>\n",
              "      <td>40.60</td>\n",
              "    </tr>\n",
              "    <tr>\n",
              "      <th>slp</th>\n",
              "      <td>1766.0</td>\n",
              "      <td>1016.705096</td>\n",
              "      <td>7.546484</td>\n",
              "      <td>989.5</td>\n",
              "      <td>1012.2</td>\n",
              "      <td>1016.65</td>\n",
              "      <td>1021.775</td>\n",
              "      <td>1044.20</td>\n",
              "    </tr>\n",
              "    <tr>\n",
              "      <th>dewp</th>\n",
              "      <td>1766.0</td>\n",
              "      <td>6.652265</td>\n",
              "      <td>9.508389</td>\n",
              "      <td>-20.3</td>\n",
              "      <td>-0.2</td>\n",
              "      <td>7.35</td>\n",
              "      <td>14.700</td>\n",
              "      <td>23.10</td>\n",
              "    </tr>\n",
              "    <tr>\n",
              "      <th>max</th>\n",
              "      <td>1766.0</td>\n",
              "      <td>15.334881</td>\n",
              "      <td>7.940576</td>\n",
              "      <td>-7.8</td>\n",
              "      <td>8.9</td>\n",
              "      <td>15.60</td>\n",
              "      <td>22.200</td>\n",
              "      <td>32.20</td>\n",
              "    </tr>\n",
              "    <tr>\n",
              "      <th>min</th>\n",
              "      <td>1766.0</td>\n",
              "      <td>6.575878</td>\n",
              "      <td>8.149087</td>\n",
              "      <td>-16.7</td>\n",
              "      <td>0.6</td>\n",
              "      <td>6.70</td>\n",
              "      <td>13.300</td>\n",
              "      <td>22.00</td>\n",
              "    </tr>\n",
              "    <tr>\n",
              "      <th>mxpsd</th>\n",
              "      <td>1766.0</td>\n",
              "      <td>19.932673</td>\n",
              "      <td>6.697399</td>\n",
              "      <td>6.1</td>\n",
              "      <td>15.0</td>\n",
              "      <td>19.70</td>\n",
              "      <td>24.200</td>\n",
              "      <td>56.40</td>\n",
              "    </tr>\n",
              "    <tr>\n",
              "      <th>fog</th>\n",
              "      <td>1766.0</td>\n",
              "      <td>0.250849</td>\n",
              "      <td>0.433625</td>\n",
              "      <td>0.0</td>\n",
              "      <td>0.0</td>\n",
              "      <td>0.00</td>\n",
              "      <td>1.000</td>\n",
              "      <td>1.00</td>\n",
              "    </tr>\n",
              "    <tr>\n",
              "      <th>prcp</th>\n",
              "      <td>1766.0</td>\n",
              "      <td>0.125798</td>\n",
              "      <td>0.323156</td>\n",
              "      <td>0.0</td>\n",
              "      <td>0.0</td>\n",
              "      <td>0.00</td>\n",
              "      <td>0.070</td>\n",
              "      <td>2.91</td>\n",
              "    </tr>\n",
              "    <tr>\n",
              "      <th>num_collisions</th>\n",
              "      <td>1766.0</td>\n",
              "      <td>599.582673</td>\n",
              "      <td>95.693750</td>\n",
              "      <td>355.0</td>\n",
              "      <td>532.0</td>\n",
              "      <td>603.00</td>\n",
              "      <td>666.750</td>\n",
              "      <td>845.00</td>\n",
              "    </tr>\n",
              "  </tbody>\n",
              "</table>\n",
              "</div>\n",
              "      <button class=\"colab-df-convert\" onclick=\"convertToInteractive('df-a141e26b-d409-4fc1-84f6-1feee16b4ac0')\"\n",
              "              title=\"Convert this dataframe to an interactive table.\"\n",
              "              style=\"display:none;\">\n",
              "        \n",
              "  <svg xmlns=\"http://www.w3.org/2000/svg\" height=\"24px\"viewBox=\"0 0 24 24\"\n",
              "       width=\"24px\">\n",
              "    <path d=\"M0 0h24v24H0V0z\" fill=\"none\"/>\n",
              "    <path d=\"M18.56 5.44l.94 2.06.94-2.06 2.06-.94-2.06-.94-.94-2.06-.94 2.06-2.06.94zm-11 1L8.5 8.5l.94-2.06 2.06-.94-2.06-.94L8.5 2.5l-.94 2.06-2.06.94zm10 10l.94 2.06.94-2.06 2.06-.94-2.06-.94-.94-2.06-.94 2.06-2.06.94z\"/><path d=\"M17.41 7.96l-1.37-1.37c-.4-.4-.92-.59-1.43-.59-.52 0-1.04.2-1.43.59L10.3 9.45l-7.72 7.72c-.78.78-.78 2.05 0 2.83L4 21.41c.39.39.9.59 1.41.59.51 0 1.02-.2 1.41-.59l7.78-7.78 2.81-2.81c.8-.78.8-2.07 0-2.86zM5.41 20L4 18.59l7.72-7.72 1.47 1.35L5.41 20z\"/>\n",
              "  </svg>\n",
              "      </button>\n",
              "      \n",
              "  <style>\n",
              "    .colab-df-container {\n",
              "      display:flex;\n",
              "      flex-wrap:wrap;\n",
              "      gap: 12px;\n",
              "    }\n",
              "\n",
              "    .colab-df-convert {\n",
              "      background-color: #E8F0FE;\n",
              "      border: none;\n",
              "      border-radius: 50%;\n",
              "      cursor: pointer;\n",
              "      display: none;\n",
              "      fill: #1967D2;\n",
              "      height: 32px;\n",
              "      padding: 0 0 0 0;\n",
              "      width: 32px;\n",
              "    }\n",
              "\n",
              "    .colab-df-convert:hover {\n",
              "      background-color: #E2EBFA;\n",
              "      box-shadow: 0px 1px 2px rgba(60, 64, 67, 0.3), 0px 1px 3px 1px rgba(60, 64, 67, 0.15);\n",
              "      fill: #174EA6;\n",
              "    }\n",
              "\n",
              "    [theme=dark] .colab-df-convert {\n",
              "      background-color: #3B4455;\n",
              "      fill: #D2E3FC;\n",
              "    }\n",
              "\n",
              "    [theme=dark] .colab-df-convert:hover {\n",
              "      background-color: #434B5C;\n",
              "      box-shadow: 0px 1px 3px 1px rgba(0, 0, 0, 0.15);\n",
              "      filter: drop-shadow(0px 1px 2px rgba(0, 0, 0, 0.3));\n",
              "      fill: #FFFFFF;\n",
              "    }\n",
              "  </style>\n",
              "\n",
              "      <script>\n",
              "        const buttonEl =\n",
              "          document.querySelector('#df-a141e26b-d409-4fc1-84f6-1feee16b4ac0 button.colab-df-convert');\n",
              "        buttonEl.style.display =\n",
              "          google.colab.kernel.accessAllowed ? 'block' : 'none';\n",
              "\n",
              "        async function convertToInteractive(key) {\n",
              "          const element = document.querySelector('#df-a141e26b-d409-4fc1-84f6-1feee16b4ac0');\n",
              "          const dataTable =\n",
              "            await google.colab.kernel.invokeFunction('convertToInteractive',\n",
              "                                                     [key], {});\n",
              "          if (!dataTable) return;\n",
              "\n",
              "          const docLinkHtml = 'Like what you see? Visit the ' +\n",
              "            '<a target=\"_blank\" href=https://colab.research.google.com/notebooks/data_table.ipynb>data table notebook</a>'\n",
              "            + ' to learn more about interactive tables.';\n",
              "          element.innerHTML = '';\n",
              "          dataTable['output_type'] = 'display_data';\n",
              "          await google.colab.output.renderOutput(dataTable, element);\n",
              "          const docLink = document.createElement('div');\n",
              "          docLink.innerHTML = docLinkHtml;\n",
              "          element.appendChild(docLink);\n",
              "        }\n",
              "      </script>\n",
              "    </div>\n",
              "  </div>\n",
              "  "
            ]
          },
          "metadata": {},
          "execution_count": 772
        }
      ]
    },
    {
      "cell_type": "markdown",
      "source": [
        "#### Separate Features and Labels"
      ],
      "metadata": {
        "id": "IHW8sSpJmjlb"
      }
    },
    {
      "cell_type": "code",
      "source": [
        "df_col_dnn_3_train_feat = df_col_dnn_3_train.copy()\n",
        "df_col_dnn_3_test_feat = df_col_dnn_3_test.copy()\n",
        "\n",
        "df_col_dnn_3_train_lab = df_col_dnn_3_train_feat.pop('num_collisions')\n",
        "df_col_dnn_3_test_lab = df_col_dnn_3_test_feat.pop('num_collisions')"
      ],
      "metadata": {
        "id": "g2tdcRsJmjOO"
      },
      "execution_count": 773,
      "outputs": []
    },
    {
      "cell_type": "markdown",
      "source": [
        "#### Model"
      ],
      "metadata": {
        "id": "K7My8pxOmxfo"
      }
    },
    {
      "cell_type": "markdown",
      "source": [
        "##### Normaliser Layer"
      ],
      "metadata": {
        "id": "EB7mqqSimzGS"
      }
    },
    {
      "cell_type": "code",
      "source": [
        "normaliser = tf.keras.layers.Normalization(axis=-1)\n",
        "\n",
        "normaliser.adapt(np.array(df_col_dnn_3_train_feat))\n",
        "\n",
        "print(normaliser.mean.numpy())"
      ],
      "metadata": {
        "id": "aJQJ9grzm1Qj",
        "outputId": "e290834f-24de-40be-c451-639c5542bc28",
        "colab": {
          "base_uri": "https://localhost:8080/"
        }
      },
      "execution_count": 774,
      "outputs": [
        {
          "output_type": "stream",
          "name": "stdout",
          "text": [
            "[[2015.996    0.082    0.074    0.087    0.079    0.083    0.088    0.082\n",
            "     0.084    0.084    0.083    0.088    0.086    0.144    0.148    0.139\n",
            "     0.144    0.142    0.14     0.143   10.815    8.347   12.34  1016.705\n",
            "     6.652   15.335    6.576   19.933    0.251    0.126]]\n"
          ]
        }
      ]
    },
    {
      "cell_type": "markdown",
      "source": [
        "##### Build Model"
      ],
      "metadata": {
        "id": "vMljFcRdm-ij"
      }
    },
    {
      "cell_type": "code",
      "source": [
        "col_dnn_3 = np.array(df_col_dnn_3_train_feat)\n",
        "col_dnn_3_normaliser = layers.Normalization(axis=-1)\n",
        "col_dnn_3_normaliser.adapt(np.array(df_col_dnn_3_train_feat))"
      ],
      "metadata": {
        "id": "0NlSUf62nBEO"
      },
      "execution_count": 775,
      "outputs": []
    },
    {
      "cell_type": "code",
      "source": [
        "col_dnn_3_model = build_and_compile_model(col_dnn_3_normaliser)\n",
        "\n",
        "col_dnn_3_model.summary()"
      ],
      "metadata": {
        "id": "d-DMy-WTnL5k",
        "outputId": "0a3550d5-d1f0-464b-e928-e0adff192aa0",
        "colab": {
          "base_uri": "https://localhost:8080/"
        }
      },
      "execution_count": 776,
      "outputs": [
        {
          "output_type": "stream",
          "name": "stdout",
          "text": [
            "Model: \"sequential_50\"\n",
            "_________________________________________________________________\n",
            " Layer (type)                Output Shape              Param #   \n",
            "=================================================================\n",
            " normalization_101 (Normaliz  (None, 30)               61        \n",
            " ation)                                                          \n",
            "                                                                 \n",
            " dense_96 (Dense)            (None, 64)                1984      \n",
            "                                                                 \n",
            " dense_97 (Dense)            (None, 64)                4160      \n",
            "                                                                 \n",
            " dense_98 (Dense)            (None, 1)                 65        \n",
            "                                                                 \n",
            "=================================================================\n",
            "Total params: 6,270\n",
            "Trainable params: 6,209\n",
            "Non-trainable params: 61\n",
            "_________________________________________________________________\n"
          ]
        }
      ]
    },
    {
      "cell_type": "markdown",
      "source": [
        "##### Create Callback"
      ],
      "metadata": {
        "id": "kHhjtVBTADr2"
      }
    },
    {
      "cell_type": "code",
      "source": [
        "earlystopping = callbacks.EarlyStopping(monitor =\"val_loss\", \n",
        "                                        mode =\"min\", patience = 5, \n",
        "                                        restore_best_weights = True)"
      ],
      "metadata": {
        "id": "4aOjVqFRAFYt"
      },
      "execution_count": 777,
      "outputs": []
    },
    {
      "cell_type": "markdown",
      "source": [
        "##### Execute Model"
      ],
      "metadata": {
        "id": "Etvvm0cmAGSh"
      }
    },
    {
      "cell_type": "code",
      "source": [
        "%%time\n",
        "history = col_dnn_3_model.fit(\n",
        "    df_col_dnn_3_train_feat,\n",
        "    df_col_dnn_3_train_lab,\n",
        "    validation_split=0.2,\n",
        "    verbose=0, \n",
        "    epochs=100,\n",
        "    callbacks = [earlystopping])"
      ],
      "metadata": {
        "id": "-j68CHiQnTYn",
        "outputId": "47544524-c3d8-4240-d8e4-5e4a9f5f1ca4",
        "colab": {
          "base_uri": "https://localhost:8080/"
        }
      },
      "execution_count": 778,
      "outputs": [
        {
          "output_type": "stream",
          "name": "stdout",
          "text": [
            "CPU times: user 11.7 s, sys: 670 ms, total: 12.3 s\n",
            "Wall time: 10.6 s\n"
          ]
        }
      ]
    },
    {
      "cell_type": "markdown",
      "source": [
        "##### Plot Loss"
      ],
      "metadata": {
        "id": "88u-g0RlAMoS"
      }
    },
    {
      "cell_type": "code",
      "source": [
        "plot_loss(history)"
      ],
      "metadata": {
        "id": "JU9uMtIhn0PL",
        "outputId": "269e1ec5-0843-421c-c972-20a2c1c80ca0",
        "colab": {
          "base_uri": "https://localhost:8080/",
          "height": 283
        }
      },
      "execution_count": 779,
      "outputs": [
        {
          "output_type": "display_data",
          "data": {
            "text/plain": [
              "<Figure size 432x288 with 1 Axes>"
            ],
            "image/png": "[encoded data removed]"
          },
          "metadata": {
            "needs_background": "light"
          }
        }
      ]
    },
    {
      "cell_type": "markdown",
      "source": [
        "##### Collect Results"
      ],
      "metadata": {
        "id": "1NhOyuJdAPRi"
      }
    },
    {
      "cell_type": "code",
      "source": [
        "test_results['col_dnn_3'] = col_dnn_3_model.evaluate(\n",
        "    df_col_dnn_3_test_feat, \n",
        "    df_col_dnn_3_test_lab, verbose=0)"
      ],
      "metadata": {
        "id": "akxHFfKon4l9"
      },
      "execution_count": 780,
      "outputs": []
    },
    {
      "cell_type": "code",
      "source": [
        "for model in test_results:\n",
        "  print(\"Key : {} , Value : {}\".format(model, test_results[model]))"
      ],
      "metadata": {
        "id": "wU5vmnAGo2w3",
        "outputId": "72f86899-36b8-4ac9-db74-108ef1e3d987",
        "colab": {
          "base_uri": "https://localhost:8080/"
        }
      },
      "execution_count": 781,
      "outputs": [
        {
          "output_type": "stream",
          "name": "stdout",
          "text": [
            "Key : temp_model , Value : 73.28533172607422\n",
            "Key : col_mod_1 , Value : 66.53189086914062\n",
            "Key : col_mod_2 , Value : 53.8358154296875\n",
            "Key : col_dnn_1 , Value : 56.14476776123047\n",
            "Key : col_dnn_2 , Value : 56.92817687988281\n",
            "Key : col_dnn_3 , Value : 55.673789978027344\n"
          ]
        }
      ]
    },
    {
      "cell_type": "markdown",
      "source": [
        "## Evaluation"
      ],
      "metadata": {
        "id": "Jn_nS4uA0L0V"
      }
    },
    {
      "cell_type": "markdown",
      "source": [
        "The models were evaluated mainly using the mean absolute error but also by looking at plots comparing the actual values versus the predicted values and the distribution of error.\n",
        "\n",
        "When comparing the actual values against the predicted, most of the models performed quite well with the exception of col_mod_1 which was the first multiple regression model created. This model was not one-hot encoded and the chart shows the actual number of collisions per day fell between a range of roughly 400-800 but this model predicted results ranging from 500-700.\n",
        "\n",
        "The distribution of errors for each model followed a normal distribution for the most part, if not slightly skewed to the right."
      ],
      "metadata": {
        "id": "JjOU_76lLnaA"
      }
    },
    {
      "cell_type": "code",
      "source": [
        "pd.DataFrame(test_results, index=['Mean absolute error [num_collisions]']).T"
      ],
      "metadata": {
        "id": "gvxDPodY0N2G",
        "outputId": "b96790e8-9b02-4ce3-8acf-8c63e2b05f0e",
        "colab": {
          "base_uri": "https://localhost:8080/",
          "height": 238
        }
      },
      "execution_count": 782,
      "outputs": [
        {
          "output_type": "execute_result",
          "data": {
            "text/plain": [
              "            Mean absolute error [num_collisions]\n",
              "temp_model                             73.285332\n",
              "col_mod_1                              66.531891\n",
              "col_mod_2                              53.835815\n",
              "col_dnn_1                              56.144768\n",
              "col_dnn_2                              56.928177\n",
              "col_dnn_3                              55.673790"
            ],
            "text/html": [
              "\n",
              "  <div id=\"df-4a54bcc8-ec30-471f-84a5-dbd610c0bdaa\">\n",
              "    <div class=\"colab-df-container\">\n",
              "      <div>\n",
              "<style scoped>\n",
              "    .dataframe tbody tr th:only-of-type {\n",
              "        vertical-align: middle;\n",
              "    }\n",
              "\n",
              "    .dataframe tbody tr th {\n",
              "        vertical-align: top;\n",
              "    }\n",
              "\n",
              "    .dataframe thead th {\n",
              "        text-align: right;\n",
              "    }\n",
              "</style>\n",
              "<table border=\"1\" class=\"dataframe\">\n",
              "  <thead>\n",
              "    <tr style=\"text-align: right;\">\n",
              "      <th></th>\n",
              "      <th>Mean absolute error [num_collisions]</th>\n",
              "    </tr>\n",
              "  </thead>\n",
              "  <tbody>\n",
              "    <tr>\n",
              "      <th>temp_model</th>\n",
              "      <td>73.285332</td>\n",
              "    </tr>\n",
              "    <tr>\n",
              "      <th>col_mod_1</th>\n",
              "      <td>66.531891</td>\n",
              "    </tr>\n",
              "    <tr>\n",
              "      <th>col_mod_2</th>\n",
              "      <td>53.835815</td>\n",
              "    </tr>\n",
              "    <tr>\n",
              "      <th>col_dnn_1</th>\n",
              "      <td>56.144768</td>\n",
              "    </tr>\n",
              "    <tr>\n",
              "      <th>col_dnn_2</th>\n",
              "      <td>56.928177</td>\n",
              "    </tr>\n",
              "    <tr>\n",
              "      <th>col_dnn_3</th>\n",
              "      <td>55.673790</td>\n",
              "    </tr>\n",
              "  </tbody>\n",
              "</table>\n",
              "</div>\n",
              "      <button class=\"colab-df-convert\" onclick=\"convertToInteractive('df-4a54bcc8-ec30-471f-84a5-dbd610c0bdaa')\"\n",
              "              title=\"Convert this dataframe to an interactive table.\"\n",
              "              style=\"display:none;\">\n",
              "        \n",
              "  <svg xmlns=\"http://www.w3.org/2000/svg\" height=\"24px\"viewBox=\"0 0 24 24\"\n",
              "       width=\"24px\">\n",
              "    <path d=\"M0 0h24v24H0V0z\" fill=\"none\"/>\n",
              "    <path d=\"M18.56 5.44l.94 2.06.94-2.06 2.06-.94-2.06-.94-.94-2.06-.94 2.06-2.06.94zm-11 1L8.5 8.5l.94-2.06 2.06-.94-2.06-.94L8.5 2.5l-.94 2.06-2.06.94zm10 10l.94 2.06.94-2.06 2.06-.94-2.06-.94-.94-2.06-.94 2.06-2.06.94z\"/><path d=\"M17.41 7.96l-1.37-1.37c-.4-.4-.92-.59-1.43-.59-.52 0-1.04.2-1.43.59L10.3 9.45l-7.72 7.72c-.78.78-.78 2.05 0 2.83L4 21.41c.39.39.9.59 1.41.59.51 0 1.02-.2 1.41-.59l7.78-7.78 2.81-2.81c.8-.78.8-2.07 0-2.86zM5.41 20L4 18.59l7.72-7.72 1.47 1.35L5.41 20z\"/>\n",
              "  </svg>\n",
              "      </button>\n",
              "      \n",
              "  <style>\n",
              "    .colab-df-container {\n",
              "      display:flex;\n",
              "      flex-wrap:wrap;\n",
              "      gap: 12px;\n",
              "    }\n",
              "\n",
              "    .colab-df-convert {\n",
              "      background-color: #E8F0FE;\n",
              "      border: none;\n",
              "      border-radius: 50%;\n",
              "      cursor: pointer;\n",
              "      display: none;\n",
              "      fill: #1967D2;\n",
              "      height: 32px;\n",
              "      padding: 0 0 0 0;\n",
              "      width: 32px;\n",
              "    }\n",
              "\n",
              "    .colab-df-convert:hover {\n",
              "      background-color: #E2EBFA;\n",
              "      box-shadow: 0px 1px 2px rgba(60, 64, 67, 0.3), 0px 1px 3px 1px rgba(60, 64, 67, 0.15);\n",
              "      fill: #174EA6;\n",
              "    }\n",
              "\n",
              "    [theme=dark] .colab-df-convert {\n",
              "      background-color: #3B4455;\n",
              "      fill: #D2E3FC;\n",
              "    }\n",
              "\n",
              "    [theme=dark] .colab-df-convert:hover {\n",
              "      background-color: #434B5C;\n",
              "      box-shadow: 0px 1px 3px 1px rgba(0, 0, 0, 0.15);\n",
              "      filter: drop-shadow(0px 1px 2px rgba(0, 0, 0, 0.3));\n",
              "      fill: #FFFFFF;\n",
              "    }\n",
              "  </style>\n",
              "\n",
              "      <script>\n",
              "        const buttonEl =\n",
              "          document.querySelector('#df-4a54bcc8-ec30-471f-84a5-dbd610c0bdaa button.colab-df-convert');\n",
              "        buttonEl.style.display =\n",
              "          google.colab.kernel.accessAllowed ? 'block' : 'none';\n",
              "\n",
              "        async function convertToInteractive(key) {\n",
              "          const element = document.querySelector('#df-4a54bcc8-ec30-471f-84a5-dbd610c0bdaa');\n",
              "          const dataTable =\n",
              "            await google.colab.kernel.invokeFunction('convertToInteractive',\n",
              "                                                     [key], {});\n",
              "          if (!dataTable) return;\n",
              "\n",
              "          const docLinkHtml = 'Like what you see? Visit the ' +\n",
              "            '<a target=\"_blank\" href=https://colab.research.google.com/notebooks/data_table.ipynb>data table notebook</a>'\n",
              "            + ' to learn more about interactive tables.';\n",
              "          element.innerHTML = '';\n",
              "          dataTable['output_type'] = 'display_data';\n",
              "          await google.colab.output.renderOutput(dataTable, element);\n",
              "          const docLink = document.createElement('div');\n",
              "          docLink.innerHTML = docLinkHtml;\n",
              "          element.appendChild(docLink);\n",
              "        }\n",
              "      </script>\n",
              "    </div>\n",
              "  </div>\n",
              "  "
            ]
          },
          "metadata": {},
          "execution_count": 782
        }
      ]
    },
    {
      "cell_type": "markdown",
      "source": [
        "The best model in terms of mean absolute error was col_mod_2 which was a linear regression model which was one-hot encoded and contained Year, Month, Day of Week, Temperature and Visibility as predictors."
      ],
      "metadata": {
        "id": "6KdG6X93Dc3T"
      }
    },
    {
      "cell_type": "markdown",
      "source": [
        "### Predictions and Error Distributions"
      ],
      "metadata": {
        "id": "M6PYM8qX0fT9"
      }
    },
    {
      "cell_type": "markdown",
      "source": [
        "#### Linear Regression"
      ],
      "metadata": {
        "id": "QRyHXTH_1tpG"
      }
    },
    {
      "cell_type": "markdown",
      "source": [
        "##### Without One-Hot Encoding"
      ],
      "metadata": {
        "id": "E6J0gOko1yOv"
      }
    },
    {
      "cell_type": "code",
      "source": [
        "col_mod_1_pred = col_mod_1_model.predict(df_col_mod_test_1_feat).flatten()\n",
        "\n",
        "a = plt.axes(aspect='equal')\n",
        "plt.scatter(df_col_mod_test_1_lab, col_mod_1_pred, marker='o', facecolors='none', edgecolors='orange')\n",
        "plt.xlabel('True Values [num_collisions]')\n",
        "plt.ylabel('Predictions [num_collisions]')\n",
        "lims = [0, 1000]\n",
        "plt.xlim(lims)\n",
        "plt.ylim(lims)\n",
        "_ = plt.plot(lims, lims)"
      ],
      "metadata": {
        "id": "TbGjZJc70hEF",
        "outputId": "e64e6783-f097-45b3-8198-83215fa68761",
        "colab": {
          "base_uri": "https://localhost:8080/",
          "height": 302
        }
      },
      "execution_count": 783,
      "outputs": [
        {
          "output_type": "stream",
          "name": "stdout",
          "text": [
            "24/24 [==============================] - 0s 2ms/step\n"
          ]
        },
        {
          "output_type": "display_data",
          "data": {
            "text/plain": [
              "<Figure size 432x288 with 1 Axes>"
            ],
            "image/png": "[encoded data removed]"
          },
          "metadata": {
            "needs_background": "light"
          }
        }
      ]
    },
    {
      "cell_type": "code",
      "source": [
        "col_mod_1_err = col_mod_1_pred - df_col_mod_test_1_lab\n",
        "plt.hist(col_mod_1_err, bins=25)\n",
        "plt.xlabel('Prediction Error [num_collisions]')\n",
        "_ = plt.ylabel('Count')"
      ],
      "metadata": {
        "id": "_CCjrVCU5E3n",
        "outputId": "943d848f-7074-449d-9584-f02197c07830",
        "colab": {
          "base_uri": "https://localhost:8080/",
          "height": 280
        }
      },
      "execution_count": 784,
      "outputs": [
        {
          "output_type": "display_data",
          "data": {
            "text/plain": [
              "<Figure size 432x288 with 1 Axes>"
            ],
            "image/png": "[encoded data removed]"
          },
          "metadata": {
            "needs_background": "light"
          }
        }
      ]
    },
    {
      "cell_type": "markdown",
      "source": [
        "##### With One-Hot Encoding"
      ],
      "metadata": {
        "id": "V5eWiPw62Gqi"
      }
    },
    {
      "cell_type": "code",
      "source": [
        "col_mod_2_pred = col_mod_2_model.predict(df_col_mod_test_2_feat).flatten()\n",
        "\n",
        "a = plt.axes(aspect='equal')\n",
        "plt.scatter(df_col_mod_test_2_lab, col_mod_2_pred, marker='o', facecolors='none', edgecolors='orange')\n",
        "plt.xlabel('True Values [num_collisions]')\n",
        "plt.ylabel('Predictions [num_collisions]')\n",
        "lims = [0, 1000]\n",
        "plt.xlim(lims)\n",
        "plt.ylim(lims)\n",
        "_ = plt.plot(lims, lims)"
      ],
      "metadata": {
        "id": "_y-KAS8s2KX4",
        "outputId": "6cffce20-2ad5-491f-aee7-6678b944d80c",
        "colab": {
          "base_uri": "https://localhost:8080/",
          "height": 302
        }
      },
      "execution_count": 785,
      "outputs": [
        {
          "output_type": "stream",
          "name": "stdout",
          "text": [
            "24/24 [==============================] - 0s 2ms/step\n"
          ]
        },
        {
          "output_type": "display_data",
          "data": {
            "text/plain": [
              "<Figure size 432x288 with 1 Axes>"
            ],
            "image/png": "[encoded data removed]"
          },
          "metadata": {
            "needs_background": "light"
          }
        }
      ]
    },
    {
      "cell_type": "code",
      "source": [
        "col_mod_2_err = col_mod_2_pred - df_col_mod_test_2_lab\n",
        "plt.hist(col_mod_2_err, bins=25)\n",
        "plt.xlabel('Prediction Error [num_collisions]')\n",
        "_ = plt.ylabel('Count')"
      ],
      "metadata": {
        "id": "sYjm_CFY5XQa",
        "outputId": "399a7c3a-ff65-40a7-fa73-1adb7715f4ee",
        "colab": {
          "base_uri": "https://localhost:8080/",
          "height": 280
        }
      },
      "execution_count": 786,
      "outputs": [
        {
          "output_type": "display_data",
          "data": {
            "text/plain": [
              "<Figure size 432x288 with 1 Axes>"
            ],
            "image/png": "[encoded data removed]"
          },
          "metadata": {
            "needs_background": "light"
          }
        }
      ]
    },
    {
      "cell_type": "markdown",
      "source": [
        "#### Deep Neural Networks"
      ],
      "metadata": {
        "id": "8zkrBx3x2pQJ"
      }
    },
    {
      "cell_type": "markdown",
      "source": [
        "##### DNN 1"
      ],
      "metadata": {
        "id": "ySAFbKyw2s_l"
      }
    },
    {
      "cell_type": "code",
      "source": [
        "col_dnn_1_pred = col_dnn_1_model.predict(df_col_dnn_1_test_feat).flatten()\n",
        "\n",
        "a = plt.axes(aspect='equal')\n",
        "plt.scatter(df_col_dnn_1_test_lab, col_dnn_1_pred, marker='o', facecolors='none', edgecolors='orange')\n",
        "plt.xlabel('True Values [num_collisions]')\n",
        "plt.ylabel('Predictions [num_collisions]')\n",
        "lims = [0, 1000]\n",
        "plt.xlim(lims)\n",
        "plt.ylim(lims)\n",
        "_ = plt.plot(lims, lims)"
      ],
      "metadata": {
        "id": "y_ZGQDfU2vMe",
        "outputId": "3250981b-5566-4179-dab2-9c5cc07ad86b",
        "colab": {
          "base_uri": "https://localhost:8080/",
          "height": 302
        }
      },
      "execution_count": 787,
      "outputs": [
        {
          "output_type": "stream",
          "name": "stdout",
          "text": [
            "24/24 [==============================] - 0s 2ms/step\n"
          ]
        },
        {
          "output_type": "display_data",
          "data": {
            "text/plain": [
              "<Figure size 432x288 with 1 Axes>"
            ],
            "image/png": "[encoded data removed]"
          },
          "metadata": {
            "needs_background": "light"
          }
        }
      ]
    },
    {
      "cell_type": "code",
      "source": [
        "col_dnn_1_err = col_dnn_1_pred - df_col_dnn_1_test_lab\n",
        "plt.hist(col_dnn_1_err, bins=25)\n",
        "plt.xlabel('Prediction Error [num_collisions]')\n",
        "_ = plt.ylabel('Count')"
      ],
      "metadata": {
        "id": "SL_x7JTV5dE4",
        "outputId": "ba630644-67cb-4d8f-a846-9f918260acf4",
        "colab": {
          "base_uri": "https://localhost:8080/",
          "height": 280
        }
      },
      "execution_count": 788,
      "outputs": [
        {
          "output_type": "display_data",
          "data": {
            "text/plain": [
              "<Figure size 432x288 with 1 Axes>"
            ],
            "image/png": "[encoded data removed]"
          },
          "metadata": {
            "needs_background": "light"
          }
        }
      ]
    },
    {
      "cell_type": "markdown",
      "source": [
        "##### DNN 2"
      ],
      "metadata": {
        "id": "rFJn2Twz4ang"
      }
    },
    {
      "cell_type": "code",
      "source": [
        "col_dnn_2_pred = col_dnn_2_model.predict(df_col_dnn_2_test_feat).flatten()\n",
        "\n",
        "a = plt.axes(aspect='equal')\n",
        "plt.scatter(df_col_dnn_2_test_lab, col_dnn_2_pred, marker='o', facecolors='none', edgecolors='orange')\n",
        "plt.xlabel('True Values [num_collisions]')\n",
        "plt.ylabel('Predictions [num_collisions]')\n",
        "lims = [0, 1000]\n",
        "plt.xlim(lims)\n",
        "plt.ylim(lims)\n",
        "_ = plt.plot(lims, lims)"
      ],
      "metadata": {
        "id": "cEFchu7y4c1a",
        "outputId": "7170859e-527c-4206-a6c2-cae9de3f7a74",
        "colab": {
          "base_uri": "https://localhost:8080/",
          "height": 302
        }
      },
      "execution_count": 789,
      "outputs": [
        {
          "output_type": "stream",
          "name": "stdout",
          "text": [
            "24/24 [==============================] - 0s 3ms/step\n"
          ]
        },
        {
          "output_type": "display_data",
          "data": {
            "text/plain": [
              "<Figure size 432x288 with 1 Axes>"
            ],
            "image/png": "[encoded data removed]"
          },
          "metadata": {
            "needs_background": "light"
          }
        }
      ]
    },
    {
      "cell_type": "code",
      "source": [
        "col_dnn_2_err = col_dnn_2_pred - df_col_dnn_2_test_lab\n",
        "plt.hist(col_dnn_2_err, bins=25)\n",
        "plt.xlabel('Prediction Error [num_collisions]')\n",
        "_ = plt.ylabel('Count')"
      ],
      "metadata": {
        "id": "fpaxDQnM5ugr",
        "outputId": "0ce348c3-12b3-413b-8f67-93e89034890b",
        "colab": {
          "base_uri": "https://localhost:8080/",
          "height": 280
        }
      },
      "execution_count": 790,
      "outputs": [
        {
          "output_type": "display_data",
          "data": {
            "text/plain": [
              "<Figure size 432x288 with 1 Axes>"
            ],
            "image/png": "[encoded data removed]"
          },
          "metadata": {
            "needs_background": "light"
          }
        }
      ]
    },
    {
      "cell_type": "markdown",
      "source": [
        "##### DNN 3"
      ],
      "metadata": {
        "id": "2gNaYHin4lSE"
      }
    },
    {
      "cell_type": "code",
      "source": [
        "col_dnn_3_pred = col_dnn_3_model.predict(df_col_dnn_3_test_feat).flatten()\n",
        "\n",
        "a = plt.axes(aspect='equal')\n",
        "plt.scatter(df_col_dnn_3_test_lab, col_dnn_3_pred, marker = 'o', facecolors='none', edgecolors='orange')\n",
        "plt.xlabel('True Values [num_collisions]')\n",
        "plt.ylabel('Predictions [num_collisions]')\n",
        "lims = [0, 1000]\n",
        "plt.xlim(lims)\n",
        "plt.ylim(lims)\n",
        "_ = plt.plot(lims, lims)"
      ],
      "metadata": {
        "id": "Eu6My09D4nM5",
        "outputId": "46f4ae76-043c-4ed1-ce75-a03a7c3fd019",
        "colab": {
          "base_uri": "https://localhost:8080/",
          "height": 302
        }
      },
      "execution_count": 791,
      "outputs": [
        {
          "output_type": "stream",
          "name": "stdout",
          "text": [
            "24/24 [==============================] - 0s 2ms/step\n"
          ]
        },
        {
          "output_type": "display_data",
          "data": {
            "text/plain": [
              "<Figure size 432x288 with 1 Axes>"
            ],
            "image/png": "[encoded data removed]"
          },
          "metadata": {
            "needs_background": "light"
          }
        }
      ]
    },
    {
      "cell_type": "code",
      "source": [
        "col_dnn_3_err = col_dnn_3_pred - df_col_dnn_3_test_lab\n",
        "plt.hist(col_dnn_3_err, bins=25)\n",
        "plt.xlabel('Prediction Error [num_collisions]')\n",
        "_ = plt.ylabel('Count')"
      ],
      "metadata": {
        "id": "Ki8JsZQb53Bu",
        "outputId": "6fc53b4b-1e35-465d-90c6-ecc8849d33b1",
        "colab": {
          "base_uri": "https://localhost:8080/",
          "height": 280
        }
      },
      "execution_count": 792,
      "outputs": [
        {
          "output_type": "display_data",
          "data": {
            "text/plain": [
              "<Figure size 432x288 with 1 Axes>"
            ],
            "image/png": "[encoded data removed]"
          },
          "metadata": {
            "needs_background": "light"
          }
        }
      ]
    },
    {
      "cell_type": "markdown",
      "source": [
        "## Conclusion"
      ],
      "metadata": {
        "id": "wN6aQsNSS3iG"
      }
    },
    {
      "cell_type": "markdown",
      "source": [
        "Overall the best model was the second linear regression model which used Year, Month, Day of Week, Temperature and Visibility as predictor variables. This model had the lowest mean absolute error of ~54. The deep neural networks were all very close to this with a range of mean absolute error values from ~56-57. \n",
        "\n",
        "Each of the models using multiple variables were a significant improvement over the simple linear regression model which just used temperature as the predictor.\n",
        "\n",
        "However, if we were looking for the best combination of accuracy and performance we might consider using one of the deep neural networks. These models were very close in accuracy to the best linear regression models however were significantly faster at reaching convergence. The training time for the linear regression models took around 20 seconds compared to between 5 and 10 seconds for the DNNs depending on the number of inputs. "
      ],
      "metadata": {
        "id": "NJyKVG84S3fR"
      }
    },
    {
      "cell_type": "markdown",
      "source": [
        "## References\n",
        "\n",
        "Chen, B. (2020). Early Stopping in Practice: an example with Keras and TensorFlow 2.0 [online]. Available at https://towardsdatascience.com/a-practical-introduction-to-early-stopping-in-machine-learning-550ac88bc8fd [12th Jan 2023]"
      ],
      "metadata": {
        "id": "4bcHRyvSK0gQ"
      }
    }
  ]
}