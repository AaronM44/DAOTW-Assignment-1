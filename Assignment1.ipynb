{
  "nbformat": 4,
  "nbformat_minor": 0,
  "metadata": {
    "colab": {
      "provenance": [],
      "include_colab_link": true
    },
    "kernelspec": {
      "name": "ir",
      "display_name": "R"
    },
    "language_info": {
      "name": "R"
    }
  },
  "cells": [
    {
      "cell_type": "markdown",
      "metadata": {
        "id": "view-in-github",
        "colab_type": "text"
      },
      "source": [
        "<a href=\"https://colab.research.google.com/github/AaronM44/DAOTW-Assignment-1/blob/main/Assignment1.ipynb\" target=\"_parent\"><img src=\"https://colab.research.google.com/assets/colab-badge.svg\" alt=\"Open In Colab\"/></a>"
      ]
    },
    {
      "cell_type": "markdown",
      "source": [
        "# DAOTW - Assignment 1"
      ],
      "metadata": {
        "id": "TOXavNczPPR2"
      }
    },
    {
      "cell_type": "markdown",
      "source": [
        "## Packages"
      ],
      "metadata": {
        "id": "h6dN9EnsUidO"
      }
    },
    {
      "cell_type": "markdown",
      "source": [
        "### Install Packages"
      ],
      "metadata": {
        "id": "YR7d0YGIUoXn"
      }
    },
    {
      "cell_type": "code",
      "source": [
        "install.packages(\"patchwork\")\n",
        "install.packages(\"ggfortify\")\n",
        "install.packages(\"tidymodels\")"
      ],
      "metadata": {
        "id": "vMKi6CstUqa0",
        "outputId": "1b81a327-fbcd-4e38-ce7b-8d018ba50d1d",
        "colab": {
          "base_uri": "https://localhost:8080/"
        }
      },
      "execution_count": 19,
      "outputs": [
        {
          "output_type": "stream",
          "name": "stderr",
          "text": [
            "Installing package into ‘/usr/local/lib/R/site-library’\n",
            "(as ‘lib’ is unspecified)\n",
            "\n",
            "Installing package into ‘/usr/local/lib/R/site-library’\n",
            "(as ‘lib’ is unspecified)\n",
            "\n",
            "Installing package into ‘/usr/local/lib/R/site-library’\n",
            "(as ‘lib’ is unspecified)\n",
            "\n",
            "also installing the dependencies ‘future.apply’, ‘numDeriv’, ‘progressr’, ‘SQUAREM’, ‘Rcpp’, ‘lava’, ‘listenv’, ‘parallelly’, ‘prodlim’, ‘future’, ‘warp’, ‘iterators’, ‘lhs’, ‘DiceDesign’, ‘globals’, ‘clock’, ‘gower’, ‘ipred’, ‘timeDate’, ‘furrr’, ‘slider’, ‘foreach’, ‘GPfit’, ‘modelenv’, ‘conflicted’, ‘dials’, ‘hardhat’, ‘infer’, ‘modeldata’, ‘parsnip’, ‘recipes’, ‘rsample’, ‘tune’, ‘workflows’, ‘workflowsets’, ‘yardstick’\n",
            "\n",
            "\n"
          ]
        }
      ]
    },
    {
      "cell_type": "markdown",
      "source": [
        "### Import Packages"
      ],
      "metadata": {
        "id": "vSAaQajmPWjQ"
      }
    },
    {
      "cell_type": "code",
      "execution_count": 20,
      "metadata": {
        "colab": {
          "base_uri": "https://localhost:8080/"
        },
        "id": "MUp7Y-zv-XMm",
        "outputId": "ef4d021a-1cc1-47ea-e34f-65c9dd23f450"
      },
      "outputs": [
        {
          "output_type": "stream",
          "name": "stderr",
          "text": [
            "── \u001b[1mAttaching packages\u001b[22m ────────────────────────────────────── tidymodels 1.0.0 ──\n",
            "\n",
            "\u001b[32m✔\u001b[39m \u001b[34mdials       \u001b[39m 1.1.0     \u001b[32m✔\u001b[39m \u001b[34mrsample     \u001b[39m 1.1.1\n",
            "\u001b[32m✔\u001b[39m \u001b[34minfer       \u001b[39m 1.0.4     \u001b[32m✔\u001b[39m \u001b[34mtune        \u001b[39m 1.0.1\n",
            "\u001b[32m✔\u001b[39m \u001b[34mmodeldata   \u001b[39m 1.0.1     \u001b[32m✔\u001b[39m \u001b[34mworkflows   \u001b[39m 1.1.2\n",
            "\u001b[32m✔\u001b[39m \u001b[34mparsnip     \u001b[39m 1.0.3     \u001b[32m✔\u001b[39m \u001b[34mworkflowsets\u001b[39m 1.0.0\n",
            "\u001b[32m✔\u001b[39m \u001b[34mrecipes     \u001b[39m 1.0.3     \u001b[32m✔\u001b[39m \u001b[34myardstick   \u001b[39m 1.1.0\n",
            "\n",
            "── \u001b[1mConflicts\u001b[22m ───────────────────────────────────────── tidymodels_conflicts() ──\n",
            "\u001b[31m✖\u001b[39m \u001b[34mscales\u001b[39m::\u001b[32mdiscard()\u001b[39m masks \u001b[34mpurrr\u001b[39m::discard()\n",
            "\u001b[31m✖\u001b[39m \u001b[34mdplyr\u001b[39m::\u001b[32mfilter()\u001b[39m   masks \u001b[34mstats\u001b[39m::filter()\n",
            "\u001b[31m✖\u001b[39m \u001b[34mrecipes\u001b[39m::\u001b[32mfixed()\u001b[39m  masks \u001b[34mstringr\u001b[39m::fixed()\n",
            "\u001b[31m✖\u001b[39m \u001b[34mdplyr\u001b[39m::\u001b[32mlag()\u001b[39m      masks \u001b[34mstats\u001b[39m::lag()\n",
            "\u001b[31m✖\u001b[39m \u001b[34myardstick\u001b[39m::\u001b[32mspec()\u001b[39m masks \u001b[34mreadr\u001b[39m::spec()\n",
            "\u001b[31m✖\u001b[39m \u001b[34mrecipes\u001b[39m::\u001b[32mstep()\u001b[39m   masks \u001b[34mstats\u001b[39m::step()\n",
            "\u001b[34m•\u001b[39m Search for functions across packages at \u001b[32mhttps://www.tidymodels.org/find/\u001b[39m\n",
            "\n"
          ]
        }
      ],
      "source": [
        "library(tidyverse)\n",
        "library(broom)\n",
        "library(patchwork)\n",
        "library(scales)\n",
        "library(ggfortify)\n",
        "library(tidymodels)"
      ]
    },
    {
      "cell_type": "markdown",
      "source": [
        "## Import Data"
      ],
      "metadata": {
        "id": "5YSftEsLPcoP"
      }
    },
    {
      "cell_type": "code",
      "source": [
        "weather <- read.csv(\"https://raw.githubusercontent.com/AaronM44/DAOTW-Assignment-1/main/data/weather.csv\")"
      ],
      "metadata": {
        "id": "fQ-wi37tORx-"
      },
      "execution_count": 10,
      "outputs": []
    },
    {
      "cell_type": "code",
      "source": [
        "collated <- read.csv(\"https://raw.githubusercontent.com/AaronM44/DAOTW-Assignment-1/main/data/collated_collision_data.csv\")"
      ],
      "metadata": {
        "id": "m7PWSfJ7OXGH"
      },
      "execution_count": 11,
      "outputs": []
    },
    {
      "cell_type": "code",
      "source": [
        "contributing_factors <- read.csv(\"https://raw.githubusercontent.com/AaronM44/DAOTW-Assignment-1/main/data/contributing_factors.csv\")"
      ],
      "metadata": {
        "id": "QLdsk7YsPpal"
      },
      "execution_count": 12,
      "outputs": []
    },
    {
      "cell_type": "markdown",
      "source": [
        "### SQL Used To Create Datasets"
      ],
      "metadata": {
        "id": "J1QaYD9yQOcY"
      }
    },
    {
      "cell_type": "markdown",
      "source": [
        "#### Weather"
      ],
      "metadata": {
        "id": "HaixmHrvQUl5"
      }
    },
    {
      "cell_type": "markdown",
      "source": [
        "#### Collated Collisions"
      ],
      "metadata": {
        "id": "qnE_gncxQWzw"
      }
    },
    {
      "cell_type": "markdown",
      "source": [
        "#### Contributing Factors"
      ],
      "metadata": {
        "id": "jJFdsqYZQasL"
      }
    },
    {
      "cell_type": "markdown",
      "source": [
        "## Dataset Transformations"
      ],
      "metadata": {
        "id": "yeEbqRY2P1Cj"
      }
    },
    {
      "cell_type": "markdown",
      "source": [
        "### Contributing Factors"
      ],
      "metadata": {
        "id": "GV7RT8UUQAqC"
      }
    },
    {
      "cell_type": "markdown",
      "source": [
        "### Collisions"
      ],
      "metadata": {
        "id": "_dGj-zZiawr7"
      }
    },
    {
      "cell_type": "markdown",
      "source": [
        "Remove missing values as per the key in the below section (Field Descriptions)"
      ],
      "metadata": {
        "id": "SfJgOvEUbCEa"
      }
    },
    {
      "cell_type": "code",
      "source": [
        "collated_clean <- collated %>%\n",
        "  mutate(across(c(dewp, slp, max, min), na_if, 9999.9))\n",
        "\n",
        "collated_clean <- collated_clean %>%\n",
        "  mutate(across(c(visib, wdsp, mxpsd, gust, sndp), na_if, 999.9))\n",
        "\n",
        "collated_clean <- collated_clean %>%\n",
        "  mutate(prcp = na_if(prcp, 99.99))"
      ],
      "metadata": {
        "id": "y8wtKTqPbL7q"
      },
      "execution_count": 36,
      "outputs": []
    },
    {
      "cell_type": "markdown",
      "source": [
        "## Dataset Summaries"
      ],
      "metadata": {
        "id": "g9JuQlT_Sckv"
      }
    },
    {
      "cell_type": "markdown",
      "source": [
        "### Collisions"
      ],
      "metadata": {
        "id": "PlXk4lE_S5V9"
      }
    },
    {
      "cell_type": "markdown",
      "source": [
        "#### Field Descriptions\n",
        "\n",
        "[Information on these descriptions was found on the noaa site](https://www.ncei.noaa.gov/data/global-summary-of-the-day/doc/readme.txt)\n",
        "\n",
        "\n",
        "*   DEWP - Mean dew point for the day in degrees Fahrenheit to tenths. Missing = 9999.9\n",
        "*   SLP - Mean sea level pressure for the day in millibars to tenths. Missing = 9999.9\n",
        "* VISIB - Mean visibility for the day in miles to tenths. Missing = 999.9\n",
        "* WDSP - Mean wind speed for the day in knots to tenths.  Missing = 999.9\n",
        "* MXSPD - Maximum sustained wind speed reported for the day in knots to tenths. Missing = 999.9\n",
        "* GUST - Maximum wind gust reported for the day in knots to tenths.  Missing = 999.9\n",
        "* MAX - Maximum temperature reported during the day in Fahrenheit to tenths. Missing = 9999.9\n",
        "* PRCP - Total precipitation (rain and/or melted snow) reported during the day in inches\n",
        " and hundredths; will usually not end with the midnight observation (i.e. may include\n",
        "latter part of previous day). “0” indicates no measurable precipitation (includes a trace).   \n",
        "Missing = 99.99\n",
        "* SNDP - Snow depth in inches to tenths. It is the last report for the day if reported more than once. Missing = 999.9\n",
        "\n"
      ],
      "metadata": {
        "id": "aFHHrTcnYAVG"
      }
    },
    {
      "cell_type": "code",
      "source": [
        "head(collated)"
      ],
      "metadata": {
        "id": "XxKW0SpKX5Nd",
        "outputId": "952e4e44-c8bf-44d0-f1ed-f56748df8874",
        "colab": {
          "base_uri": "https://localhost:8080/",
          "height": 286
        }
      },
      "execution_count": 21,
      "outputs": [
        {
          "output_type": "display_data",
          "data": {
            "text/html": [
              "<table class=\"dataframe\">\n",
              "<caption>A data.frame: 6 × 18</caption>\n",
              "<thead>\n",
              "\t<tr><th></th><th scope=col>day</th><th scope=col>year</th><th scope=col>mo</th><th scope=col>da</th><th scope=col>collision_date</th><th scope=col>temp</th><th scope=col>dewp</th><th scope=col>slp</th><th scope=col>visib</th><th scope=col>wdsp</th><th scope=col>mxpsd</th><th scope=col>gust</th><th scope=col>max</th><th scope=col>min</th><th scope=col>prcp</th><th scope=col>sndp</th><th scope=col>fog</th><th scope=col>num_collisions</th></tr>\n",
              "\t<tr><th></th><th scope=col>&lt;int&gt;</th><th scope=col>&lt;int&gt;</th><th scope=col>&lt;int&gt;</th><th scope=col>&lt;int&gt;</th><th scope=col>&lt;chr&gt;</th><th scope=col>&lt;dbl&gt;</th><th scope=col>&lt;dbl&gt;</th><th scope=col>&lt;dbl&gt;</th><th scope=col>&lt;dbl&gt;</th><th scope=col>&lt;dbl&gt;</th><th scope=col>&lt;dbl&gt;</th><th scope=col>&lt;dbl&gt;</th><th scope=col>&lt;dbl&gt;</th><th scope=col>&lt;dbl&gt;</th><th scope=col>&lt;dbl&gt;</th><th scope=col>&lt;dbl&gt;</th><th scope=col>&lt;int&gt;</th><th scope=col>&lt;int&gt;</th></tr>\n",
              "</thead>\n",
              "<tbody>\n",
              "\t<tr><th scope=row>1</th><td>2</td><td>2018</td><td>1</td><td> 2</td><td>2018-01-02</td><td>14.7</td><td> 2.0</td><td>1024.9</td><td>10.0</td><td>12.9</td><td>20.0</td><td>31.1</td><td>18</td><td> 5.0</td><td>0.00</td><td>999.9</td><td>0</td><td>654</td></tr>\n",
              "\t<tr><th scope=row>2</th><td>1</td><td>2018</td><td>1</td><td> 1</td><td>2018-01-01</td><td> 9.5</td><td>-0.5</td><td>1022.2</td><td>10.0</td><td>15.0</td><td>18.1</td><td>25.1</td><td>21</td><td> 5.0</td><td>0.00</td><td>999.9</td><td>0</td><td>453</td></tr>\n",
              "\t<tr><th scope=row>3</th><td>5</td><td>2014</td><td>1</td><td>24</td><td>2014-01-24</td><td>14.8</td><td>-0.5</td><td>1022.4</td><td>10.0</td><td>11.8</td><td>15.9</td><td>22.9</td><td>23</td><td> 9.0</td><td>0.00</td><td>999.9</td><td>0</td><td>705</td></tr>\n",
              "\t<tr><th scope=row>4</th><td>4</td><td>2015</td><td>1</td><td> 8</td><td>2015-01-08</td><td>13.1</td><td>-2.4</td><td>1022.7</td><td> 9.9</td><td>14.8</td><td>21.0</td><td>29.9</td><td>27</td><td> 6.1</td><td>0.00</td><td>999.9</td><td>0</td><td>573</td></tr>\n",
              "\t<tr><th scope=row>5</th><td>6</td><td>2018</td><td>1</td><td> 6</td><td>2018-01-06</td><td>13.2</td><td>-0.2</td><td>1013.5</td><td>10.0</td><td>22.4</td><td>28.0</td><td>39.0</td><td>27</td><td>10.9</td><td>0.00</td><td>999.9</td><td>0</td><td>599</td></tr>\n",
              "\t<tr><th scope=row>6</th><td>4</td><td>2014</td><td>1</td><td>30</td><td>2014-01-30</td><td>22.0</td><td> 5.8</td><td>1027.2</td><td>10.0</td><td> 8.1</td><td>15.9</td><td>24.1</td><td>27</td><td>12.9</td><td>0.01</td><td>999.9</td><td>0</td><td>657</td></tr>\n",
              "</tbody>\n",
              "</table>\n"
            ],
            "text/markdown": "\nA data.frame: 6 × 18\n\n| <!--/--> | day &lt;int&gt; | year &lt;int&gt; | mo &lt;int&gt; | da &lt;int&gt; | collision_date &lt;chr&gt; | temp &lt;dbl&gt; | dewp &lt;dbl&gt; | slp &lt;dbl&gt; | visib &lt;dbl&gt; | wdsp &lt;dbl&gt; | mxpsd &lt;dbl&gt; | gust &lt;dbl&gt; | max &lt;dbl&gt; | min &lt;dbl&gt; | prcp &lt;dbl&gt; | sndp &lt;dbl&gt; | fog &lt;int&gt; | num_collisions &lt;int&gt; |\n|---|---|---|---|---|---|---|---|---|---|---|---|---|---|---|---|---|---|---|\n| 1 | 2 | 2018 | 1 |  2 | 2018-01-02 | 14.7 |  2.0 | 1024.9 | 10.0 | 12.9 | 20.0 | 31.1 | 18 |  5.0 | 0.00 | 999.9 | 0 | 654 |\n| 2 | 1 | 2018 | 1 |  1 | 2018-01-01 |  9.5 | -0.5 | 1022.2 | 10.0 | 15.0 | 18.1 | 25.1 | 21 |  5.0 | 0.00 | 999.9 | 0 | 453 |\n| 3 | 5 | 2014 | 1 | 24 | 2014-01-24 | 14.8 | -0.5 | 1022.4 | 10.0 | 11.8 | 15.9 | 22.9 | 23 |  9.0 | 0.00 | 999.9 | 0 | 705 |\n| 4 | 4 | 2015 | 1 |  8 | 2015-01-08 | 13.1 | -2.4 | 1022.7 |  9.9 | 14.8 | 21.0 | 29.9 | 27 |  6.1 | 0.00 | 999.9 | 0 | 573 |\n| 5 | 6 | 2018 | 1 |  6 | 2018-01-06 | 13.2 | -0.2 | 1013.5 | 10.0 | 22.4 | 28.0 | 39.0 | 27 | 10.9 | 0.00 | 999.9 | 0 | 599 |\n| 6 | 4 | 2014 | 1 | 30 | 2014-01-30 | 22.0 |  5.8 | 1027.2 | 10.0 |  8.1 | 15.9 | 24.1 | 27 | 12.9 | 0.01 | 999.9 | 0 | 657 |\n\n",
            "text/latex": "A data.frame: 6 × 18\n\\begin{tabular}{r|llllllllllllllllll}\n  & day & year & mo & da & collision\\_date & temp & dewp & slp & visib & wdsp & mxpsd & gust & max & min & prcp & sndp & fog & num\\_collisions\\\\\n  & <int> & <int> & <int> & <int> & <chr> & <dbl> & <dbl> & <dbl> & <dbl> & <dbl> & <dbl> & <dbl> & <dbl> & <dbl> & <dbl> & <dbl> & <int> & <int>\\\\\n\\hline\n\t1 & 2 & 2018 & 1 &  2 & 2018-01-02 & 14.7 &  2.0 & 1024.9 & 10.0 & 12.9 & 20.0 & 31.1 & 18 &  5.0 & 0.00 & 999.9 & 0 & 654\\\\\n\t2 & 1 & 2018 & 1 &  1 & 2018-01-01 &  9.5 & -0.5 & 1022.2 & 10.0 & 15.0 & 18.1 & 25.1 & 21 &  5.0 & 0.00 & 999.9 & 0 & 453\\\\\n\t3 & 5 & 2014 & 1 & 24 & 2014-01-24 & 14.8 & -0.5 & 1022.4 & 10.0 & 11.8 & 15.9 & 22.9 & 23 &  9.0 & 0.00 & 999.9 & 0 & 705\\\\\n\t4 & 4 & 2015 & 1 &  8 & 2015-01-08 & 13.1 & -2.4 & 1022.7 &  9.9 & 14.8 & 21.0 & 29.9 & 27 &  6.1 & 0.00 & 999.9 & 0 & 573\\\\\n\t5 & 6 & 2018 & 1 &  6 & 2018-01-06 & 13.2 & -0.2 & 1013.5 & 10.0 & 22.4 & 28.0 & 39.0 & 27 & 10.9 & 0.00 & 999.9 & 0 & 599\\\\\n\t6 & 4 & 2014 & 1 & 30 & 2014-01-30 & 22.0 &  5.8 & 1027.2 & 10.0 &  8.1 & 15.9 & 24.1 & 27 & 12.9 & 0.01 & 999.9 & 0 & 657\\\\\n\\end{tabular}\n",
            "text/plain": [
              "  day year mo da collision_date temp dewp slp    visib wdsp mxpsd gust max min \n",
              "1 2   2018 1   2 2018-01-02     14.7  2.0 1024.9 10.0  12.9 20.0  31.1 18   5.0\n",
              "2 1   2018 1   1 2018-01-01      9.5 -0.5 1022.2 10.0  15.0 18.1  25.1 21   5.0\n",
              "3 5   2014 1  24 2014-01-24     14.8 -0.5 1022.4 10.0  11.8 15.9  22.9 23   9.0\n",
              "4 4   2015 1   8 2015-01-08     13.1 -2.4 1022.7  9.9  14.8 21.0  29.9 27   6.1\n",
              "5 6   2018 1   6 2018-01-06     13.2 -0.2 1013.5 10.0  22.4 28.0  39.0 27  10.9\n",
              "6 4   2014 1  30 2014-01-30     22.0  5.8 1027.2 10.0   8.1 15.9  24.1 27  12.9\n",
              "  prcp sndp  fog num_collisions\n",
              "1 0.00 999.9 0   654           \n",
              "2 0.00 999.9 0   453           \n",
              "3 0.00 999.9 0   705           \n",
              "4 0.00 999.9 0   573           \n",
              "5 0.00 999.9 0   599           \n",
              "6 0.01 999.9 0   657           "
            ]
          },
          "metadata": {}
        }
      ]
    },
    {
      "cell_type": "code",
      "source": [
        "summary(collated_clean)"
      ],
      "metadata": {
        "id": "DeF8tmMNSeZ9",
        "outputId": "049747df-1656-4c65-f50c-07f281cbc2e9",
        "colab": {
          "base_uri": "https://localhost:8080/",
          "height": 731
        }
      },
      "execution_count": 37,
      "outputs": [
        {
          "output_type": "display_data",
          "data": {
            "text/plain": [
              "      day             year            mo               da       \n",
              " Min.   :1.000   Min.   :2012   Min.   : 1.000   Min.   : 1.00  \n",
              " 1st Qu.:2.000   1st Qu.:2014   1st Qu.: 4.000   1st Qu.: 8.00  \n",
              " Median :4.000   Median :2016   Median : 7.000   Median :16.00  \n",
              " Mean   :3.999   Mean   :2016   Mean   : 6.699   Mean   :15.74  \n",
              " 3rd Qu.:6.000   3rd Qu.:2018   3rd Qu.:10.000   3rd Qu.:23.00  \n",
              " Max.   :7.000   Max.   :2020   Max.   :12.000   Max.   :31.00  \n",
              "                                                                \n",
              " collision_date          temp            dewp            slp      \n",
              " Length:3106        Min.   : 5.80   Min.   :-6.70   Min.   : 989  \n",
              " Class :character   1st Qu.:41.20   1st Qu.:32.60   1st Qu.:1012  \n",
              " Mode  :character   Median :52.50   Median :45.70   Median :1017  \n",
              "                    Mean   :52.25   Mean   :44.67   Mean   :1017  \n",
              "                    3rd Qu.:64.70   3rd Qu.:59.10   3rd Qu.:1022  \n",
              "                    Max.   :86.70   Max.   :74.10   Max.   :1044  \n",
              "                                    NA's   :1       NA's   :2     \n",
              "     visib             wdsp           mxpsd            gust      \n",
              " Min.   : 0.200   Min.   : 0.80   Min.   : 5.10   Min.   :14.00  \n",
              " 1st Qu.: 7.100   1st Qu.: 7.20   1st Qu.:13.00   1st Qu.:22.00  \n",
              " Median : 9.400   Median : 9.80   Median :15.90   Median :26.00  \n",
              " Mean   : 8.313   Mean   :10.33   Mean   :17.12   Mean   :27.44  \n",
              " 3rd Qu.:10.000   3rd Qu.:12.80   3rd Qu.:20.00   3rd Qu.:31.10  \n",
              " Max.   :10.000   Max.   :39.30   Max.   :49.00   Max.   :71.10  \n",
              "                                  NA's   :3       NA's   :1137   \n",
              "      max              min            prcp             sndp     \n",
              " Min.   : 18.00   Min.   :-2.0   Min.   :0.0000   Min.   :3.9   \n",
              " 1st Qu.: 48.90   1st Qu.:33.1   1st Qu.:0.0000   1st Qu.:3.9   \n",
              " Median : 60.80   Median :45.0   Median :0.0000   Median :3.9   \n",
              " Mean   : 60.27   Mean   :44.6   Mean   :0.1213   Mean   :3.9   \n",
              " 3rd Qu.: 73.00   3rd Qu.:57.0   3rd Qu.:0.0600   3rd Qu.:3.9   \n",
              " Max.   :100.00   Max.   :73.0   Max.   :3.7600   Max.   :3.9   \n",
              "                                 NA's   :24       NA's   :3105  \n",
              "      fog         num_collisions  \n",
              " Min.   :0.0000   Min.   :  94.0  \n",
              " 1st Qu.:0.0000   1st Qu.: 498.0  \n",
              " Median :0.0000   Median : 580.0  \n",
              " Mean   :0.2563   Mean   : 561.8  \n",
              " 3rd Qu.:1.0000   3rd Qu.: 651.0  \n",
              " Max.   :1.0000   Max.   :1161.0  \n",
              "                                  "
            ]
          },
          "metadata": {}
        }
      ]
    },
    {
      "cell_type": "markdown",
      "source": [
        "#### Num. Collisions\n",
        "Min: 94  \n",
        "Max: 1161  \n",
        "Mean: 561.8  \n",
        "Median: 580"
      ],
      "metadata": {
        "id": "bYX1wKZpSnfK"
      }
    }
  ]
}